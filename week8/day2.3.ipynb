{
 "cells": [
  {
   "cell_type": "markdown",
   "id": "2a0f44a9-37cd-4aa5-9b20-cfc0dc8dfc0a",
   "metadata": {},
   "source": [
    "# The Price is Right\n",
    "\n",
    "Today we build a more complex solution for estimating prices of goods.\n",
    "\n",
    "1. Day 2.0 notebook: create a RAG database with our 400,000 training data\n",
    "2. Day 2.1 notebook: visualize in 2D\n",
    "3. Day 2.2 notebook: visualize in 3D\n",
    "4. Day 2.3 notebook: build and test a RAG pipeline with GPT-4o-mini\n",
    "5. Day 2.4 notebook: (a) bring back our Random Forest pricer (b) Create a Ensemble pricer that allows contributions from all the pricers\n",
    "\n",
    "Phew! That's a lot to get through in one day!\n",
    "\n",
    "## PLEASE NOTE:\n",
    "\n",
    "We already have a very powerful product estimator with our proprietary, fine-tuned LLM. Most people would be very satisfied with that! The main reason we're adding these extra steps is to deepen your expertise with RAG and with Agentic workflows.\n",
    "\n",
    "## We will go fast today! Hold on to your hat.."
   ]
  },
  {
   "cell_type": "code",
   "execution_count": 1,
   "id": "fbcdfea8-7241-46d7-a771-c0381a3e7063",
   "metadata": {},
   "outputs": [],
   "source": [
    "# imports\n",
    "\n",
    "import os\n",
    "import re\n",
    "import math\n",
    "import json\n",
    "from tqdm import tqdm\n",
    "import random\n",
    "from dotenv import load_dotenv\n",
    "from huggingface_hub import login\n",
    "import matplotlib.pyplot as plt\n",
    "import numpy as np\n",
    "import pickle\n",
    "from openai import OpenAI\n",
    "from sentence_transformers import SentenceTransformer\n",
    "from datasets import load_dataset\n",
    "import chromadb\n",
    "from testing import Tester"
   ]
  },
  {
   "cell_type": "code",
   "execution_count": 2,
   "id": "98666e73-938e-469d-8987-e6e55ba5e034",
   "metadata": {},
   "outputs": [],
   "source": [
    "# environment\n",
    "\n",
    "load_dotenv(override=True)\n",
    "os.environ['OPENAI_API_KEY'] = os.getenv('OPENAI_API_KEY', 'your-key-if-not-using-env')\n",
    "os.environ['HF_TOKEN'] = os.getenv('HF_TOKEN', 'your-key-if-not-using-env')"
   ]
  },
  {
   "cell_type": "code",
   "execution_count": 3,
   "id": "ce73b034-9ec1-4533-ba41-3e57c7878b61",
   "metadata": {},
   "outputs": [
    {
     "name": "stderr",
     "output_type": "stream",
     "text": [
      "Note: Environment variable`HF_TOKEN` is set and is the current active token independently from the token you've just configured.\n"
     ]
    }
   ],
   "source": [
    "# Log in to HuggingFace\n",
    "\n",
    "hf_token = os.environ['HF_TOKEN']\n",
    "login(hf_token, add_to_git_credential=True)"
   ]
  },
  {
   "cell_type": "code",
   "execution_count": 4,
   "id": "4c01daad-86b0-4bc0-91ba-20a64df043ed",
   "metadata": {},
   "outputs": [],
   "source": [
    "# Another import after Logging in to Hugging Face - thank you Trung N.!\n",
    "\n",
    "from items import Item"
   ]
  },
  {
   "cell_type": "code",
   "execution_count": 5,
   "id": "9a25a5cf-8f6c-4b5d-ad98-fdd096f5adf8",
   "metadata": {},
   "outputs": [],
   "source": [
    "openai = OpenAI()"
   ]
  },
  {
   "cell_type": "code",
   "execution_count": 7,
   "id": "dc696493-0b6f-48aa-9fa8-b1ae0ecaf3cd",
   "metadata": {},
   "outputs": [],
   "source": [
    "# Load in the test pickle file\n",
    "# See the section \"Back to the PKL files\" in the day2.0 notebook\n",
    "# for instructions on obtaining this test.pkl file\n",
    "\n",
    "with open('../week6/test_lite.pkl', 'rb') as file:\n",
    "    test = pickle.load(file)"
   ]
  },
  {
   "cell_type": "code",
   "execution_count": 8,
   "id": "33d38a06-0c0d-4e96-94d1-35ee183416ce",
   "metadata": {},
   "outputs": [],
   "source": [
    "def make_context(similars, prices):\n",
    "    message = \"To provide some context, here are some other items that might be similar to the item you need to estimate.\\n\\n\"\n",
    "    for similar, price in zip(similars, prices):\n",
    "        message += f\"Potentially related product:\\n{similar}\\nPrice is ${price:.2f}\\n\\n\"\n",
    "    return message"
   ]
  },
  {
   "cell_type": "code",
   "execution_count": 9,
   "id": "61f203b7-63b6-48ed-869b-e393b5bfcad3",
   "metadata": {},
   "outputs": [],
   "source": [
    "def messages_for(item, similars, prices):\n",
    "    system_message = \"You estimate prices of items. Reply only with the price, no explanation\"\n",
    "    user_prompt = make_context(similars, prices)\n",
    "    user_prompt += \"And now the question for you:\\n\\n\"\n",
    "    user_prompt += item.test_prompt().replace(\" to the nearest dollar\",\"\").replace(\"\\n\\nPrice is $\",\"\")\n",
    "    return [\n",
    "        {\"role\": \"system\", \"content\": system_message},\n",
    "        {\"role\": \"user\", \"content\": user_prompt},\n",
    "        {\"role\": \"assistant\", \"content\": \"Price is $\"}\n",
    "    ]"
   ]
  },
  {
   "cell_type": "code",
   "execution_count": 10,
   "id": "b26f405d-6e1f-4caa-b97f-1f62cd9d1ebc",
   "metadata": {},
   "outputs": [],
   "source": [
    "DB = \"products_vectorstore\""
   ]
  },
  {
   "cell_type": "code",
   "execution_count": 11,
   "id": "d26a1104-cd11-4361-ab25-85fb576e0582",
   "metadata": {},
   "outputs": [],
   "source": [
    "client = chromadb.PersistentClient(path=DB)\n",
    "collection = client.get_or_create_collection('products')"
   ]
  },
  {
   "cell_type": "code",
   "execution_count": 12,
   "id": "1e339760-96d8-4485-bec7-43fadcd30c4d",
   "metadata": {},
   "outputs": [],
   "source": [
    "def description(item):\n",
    "    text = item.prompt.replace(\"How much does this cost to the nearest dollar?\\n\\n\", \"\")\n",
    "    return text.split(\"\\n\\nPrice is $\")[0]"
   ]
  },
  {
   "cell_type": "code",
   "execution_count": 13,
   "id": "a1bd0c87-8bad-43d9-9461-bb69a9e0e22c",
   "metadata": {},
   "outputs": [
    {
     "data": {
      "text/plain": [
       "\"Setpower Insulated Protective Cover for AJ30 Portable Refrigerator Freezer, suitable for AJ30 Only\\nInsulation & Waterproof well-made insulation could save battery power and improve cooling efficiency by preventing cold air from flowing away. Durable and Foldable with its oxford cloth outer layer, it's durable and protects your portable refrigerator from scratches and dust. Expanded Bag for Accessories two expanded bags on its side, expand space to store the other accessories. Great Ventilation a hollowed design for positions of vents doesn't affect the ventilation. Attention this insulated cover is ONLY suitable for SetPower AJ30 portable refrigerator. FIT TO AJ30 ONLY. Brand Name Setpower, Model Info AJ30 COVER, model number AJ30 COVER, Installation Type Freestanding, Part AJ30 cover, Special Features Portable, Color\""
      ]
     },
     "execution_count": 13,
     "metadata": {},
     "output_type": "execute_result"
    }
   ],
   "source": [
    "description(test[0])"
   ]
  },
  {
   "cell_type": "code",
   "execution_count": 14,
   "id": "9f759bd2-7a7e-4c1a-80a0-e12470feca89",
   "metadata": {},
   "outputs": [],
   "source": [
    "model = SentenceTransformer('sentence-transformers/all-MiniLM-L6-v2')"
   ]
  },
  {
   "cell_type": "code",
   "execution_count": 15,
   "id": "e44dbd25-fb95-4b6b-bbbb-8da5fc817105",
   "metadata": {},
   "outputs": [],
   "source": [
    "def vector(item):\n",
    "    return model.encode([description(item)])"
   ]
  },
  {
   "cell_type": "code",
   "execution_count": 16,
   "id": "ffd5ee47-db5d-4263-b0d9-80d568c91341",
   "metadata": {},
   "outputs": [],
   "source": [
    "def find_similars(item):\n",
    "    results = collection.query(query_embeddings=vector(item).astype(float).tolist(), n_results=5)\n",
    "    documents = results['documents'][0][:]\n",
    "    prices = [m['price'] for m in results['metadatas'][0][:]]\n",
    "    return documents, prices"
   ]
  },
  {
   "cell_type": "code",
   "execution_count": 17,
   "id": "6f7b9ff9-fd90-4627-bb17-7c2f7bbd21f3",
   "metadata": {},
   "outputs": [
    {
     "name": "stdout",
     "output_type": "stream",
     "text": [
      "How much does this cost to the nearest dollar?\n",
      "\n",
      "TUAIC Refrigerator Door Light Switch 2 Feet for GE Whirlpool, Maytag, Admiral, Amana, Crosley, Jenn-Air, Kenmore, KitchenAid, Magic Chef\n",
      "Production Name TUAIC Refrigerator Door Light Switch 2 Feet. Rated Voltage AC, Rated Current 2.5A 125V, Work Temperature Control Type NC(normally close, most refrigerator control type),Connect Pin Size Universal and compatible design, replace for most Whirlpool, Maytag,Admiral, Amana, Crosley, Jenn-Air, Kenmore, KitchenAid, Magic Chef refrigerators' door light switch. Production Name TUAIC Refrigerator Door Light Switch 2 Feet. Rated Voltage AC, Rated Current 2.5A 125\n",
      "\n",
      "Price is $10.00\n"
     ]
    }
   ],
   "source": [
    "print(test[1].prompt)"
   ]
  },
  {
   "cell_type": "code",
   "execution_count": 18,
   "id": "ff1b2659-cc6b-47aa-a797-dd1cd3d1d6c3",
   "metadata": {},
   "outputs": [],
   "source": [
    "documents, prices = find_similars(test[1])"
   ]
  },
  {
   "cell_type": "code",
   "execution_count": 19,
   "id": "24756d4d-edac-41ce-bb80-c3b6f1cea7ee",
   "metadata": {},
   "outputs": [
    {
     "name": "stdout",
     "output_type": "stream",
     "text": [
      "To provide some context, here are some other items that might be similar to the item you need to estimate.\n",
      "\n",
      "Potentially related product:\n",
      "TUAIC Refrigerator Door Light Switch 2 Feet For GE Whirlpool, Maytag, Admiral, Amana, Crosley, Jenn-Air, Kenmore, KitchenAid, Magic Chef\n",
      "Production Name Refrigerator Door Light Switch, Rated Voltage AC, Rated Current 2.5A 125V, Work Temperature Type NC(normally close, most refrigerator control type),Connect Pin Size Universal and compatible design, replace for most Whirlpool, Maytag,Admiral, Amana, Crosley, Jenn-Air, Kenmore, KitchenAid, Magic Chef refrigerators' door light switch. ✅Production Name Refrigerator Door Light Switch, Rated Voltage AC, Rated Current 2.5A 125V, Work Temperature Type NC(normally close, most\n",
      "Price is $9.68\n",
      "\n",
      "Potentially related product:\n",
      "Refrigerator Door Light Switch 2 Feet For GE Whirlpool, Maytag, Admiral, Amana, Crosley, Jenn-Air, Kenmore, KitchenAid, Magic Chef\n",
      "Production Name TUAIC Refrigerator Door Light Switch, Rated Voltage AC, Rated Current 2.5A 125V, Work Temperature Type NC(normally close, most refrigerator control type),Connect Pin Size Universal and compatible design, replace for most Whirlpool, Maytag,Admiral, Amana, Crosley, Jenn-Air, Kenmore, KitchenAid, Magic Chef refrigerators' door light switch. Production Name Refrigerator Door Light Switch, Rated Voltage AC, Rated Current 2.5A 125V, Work Temperature Type NC(normally close, most\n",
      "Price is $9.98\n",
      "\n",
      "Potentially related product:\n",
      "2PCS White Refrigerator Door Light Switch 2 Feet for GE Whirlpool, Jenn-Air, Kenmore, Maytag, Crosley, Admiral, Amana, KitchenAid, Magic Chef\n",
      "Module Type Voltage ACRated Current 2.5A Temperature Type NC(normally close, most refrigerator control type)Connect Pin Size Size(Not Include Pressing Tongue) Module type Rated Voltage AC, Rated Current 2.5A 125V, Temperature Connect Pin Size 4.8 x 0.5 x 0.02 inch Fits for This generic refrigerator door light switch replace for most Whirlpool, Maytag, Admiral, Amana, Crosley, Jenn-Air, Kenmore, KitchenAid, Magic Chef refrigerators' door light switch Control\n",
      "Price is $10.89\n",
      "\n",
      "Potentially related product:\n",
      "JIAN Refrigerator Door Light Switch 2 Feet For GE Whirlpool, Maytag, Admiral, Amana, Crosley, Jenn-Air\n",
      "Production Name Refrigerator Door Light Switch, Rated Voltage AC, Rated Current 2.5A 125V, Work Temperature Type NC(normally close, most refrigerator control type),Connect Pin Size and compatible design, replace for most Whirlpool, Maytag,Admiral, Amana, Crosley, Jenn-Air, Kenmore, KitchenAid, Magic Chef refrigerators' door light switch Operating Voltage 250 Volts, Brand JIAN, International Protection Rating IP00, Positions 2, Connectivity Protocol Wi-Fi, Color Onecolor, Unit Count 1.0 Count, Switch Type Temperature Switch, Mounting Type\n",
      "Price is $9.99\n",
      "\n",
      "Potentially related product:\n",
      "Refrigerator Door Light Switch 2 Feet for GE Whirlpool, Maytag, Admiral, Amana（Please Pay Attention to The Pictures Before Placing an Order）\n",
      "FIT MODELS It fits for most Whirlpool, GE, Kenmore, Maytag, KitchenAid, Admiral, Amana, Crosley, Jenn-Air, Magic Chef refrigerators' door light switch. FIT MODELS It fits for most Whirlpool, GE, Kenmore, Maytag, KitchenAid, Admiral, Amana, Crosley, Jenn-Air, Magic Chef refrigerators' door light switch. FUNCTION Normally closed switch(when refrigerator's door open it is close and light will be on) SPECIFICATION 2.5A 125V, T85, Connect Pin Size\n",
      "Price is $9.25\n",
      "\n",
      "\n"
     ]
    }
   ],
   "source": [
    "print(make_context(documents, prices))"
   ]
  },
  {
   "cell_type": "code",
   "execution_count": null,
   "id": "0b81eca2-0b58-4fe8-9dd6-47f13ba5f8ee",
   "metadata": {},
   "outputs": [
    {
     "name": "stdout",
     "output_type": "stream",
     "text": [
      "[{'role': 'system', 'content': 'You estimate prices of items. Reply only with the price, no explanation'}, {'role': 'user', 'content': \"To provide some context, here are some other items that might be similar to the item you need to estimate.\\n\\nPotentially related product:\\nTUAIC Refrigerator Door Light Switch 2 Feet For GE Whirlpool, Maytag, Admiral, Amana, Crosley, Jenn-Air, Kenmore, KitchenAid, Magic Chef\\nProduction Name Refrigerator Door Light Switch, Rated Voltage AC, Rated Current 2.5A 125V, Work Temperature Type NC(normally close, most refrigerator control type),Connect Pin Size Universal and compatible design, replace for most Whirlpool, Maytag,Admiral, Amana, Crosley, Jenn-Air, Kenmore, KitchenAid, Magic Chef refrigerators' door light switch. ✅Production Name Refrigerator Door Light Switch, Rated Voltage AC, Rated Current 2.5A 125V, Work Temperature Type NC(normally close, most\\nPrice is $9.68\\n\\nPotentially related product:\\nRefrigerator Door Light Switch 2 Feet For GE Whirlpool, Maytag, Admiral, Amana, Crosley, Jenn-Air, Kenmore, KitchenAid, Magic Chef\\nProduction Name TUAIC Refrigerator Door Light Switch, Rated Voltage AC, Rated Current 2.5A 125V, Work Temperature Type NC(normally close, most refrigerator control type),Connect Pin Size Universal and compatible design, replace for most Whirlpool, Maytag,Admiral, Amana, Crosley, Jenn-Air, Kenmore, KitchenAid, Magic Chef refrigerators' door light switch. Production Name Refrigerator Door Light Switch, Rated Voltage AC, Rated Current 2.5A 125V, Work Temperature Type NC(normally close, most\\nPrice is $9.98\\n\\nPotentially related product:\\n2PCS White Refrigerator Door Light Switch 2 Feet for GE Whirlpool, Jenn-Air, Kenmore, Maytag, Crosley, Admiral, Amana, KitchenAid, Magic Chef\\nModule Type Voltage ACRated Current 2.5A Temperature Type NC(normally close, most refrigerator control type)Connect Pin Size Size(Not Include Pressing Tongue) Module type Rated Voltage AC, Rated Current 2.5A 125V, Temperature Connect Pin Size 4.8 x 0.5 x 0.02 inch Fits for This generic refrigerator door light switch replace for most Whirlpool, Maytag, Admiral, Amana, Crosley, Jenn-Air, Kenmore, KitchenAid, Magic Chef refrigerators' door light switch Control\\nPrice is $10.89\\n\\nPotentially related product:\\nJIAN Refrigerator Door Light Switch 2 Feet For GE Whirlpool, Maytag, Admiral, Amana, Crosley, Jenn-Air\\nProduction Name Refrigerator Door Light Switch, Rated Voltage AC, Rated Current 2.5A 125V, Work Temperature Type NC(normally close, most refrigerator control type),Connect Pin Size and compatible design, replace for most Whirlpool, Maytag,Admiral, Amana, Crosley, Jenn-Air, Kenmore, KitchenAid, Magic Chef refrigerators' door light switch Operating Voltage 250 Volts, Brand JIAN, International Protection Rating IP00, Positions 2, Connectivity Protocol Wi-Fi, Color Onecolor, Unit Count 1.0 Count, Switch Type Temperature Switch, Mounting Type\\nPrice is $9.99\\n\\nPotentially related product:\\nRefrigerator Door Light Switch 2 Feet for GE Whirlpool, Maytag, Admiral, Amana（Please Pay Attention to The Pictures Before Placing an Order）\\nFIT MODELS It fits for most Whirlpool, GE, Kenmore, Maytag, KitchenAid, Admiral, Amana, Crosley, Jenn-Air, Magic Chef refrigerators' door light switch. FIT MODELS It fits for most Whirlpool, GE, Kenmore, Maytag, KitchenAid, Admiral, Amana, Crosley, Jenn-Air, Magic Chef refrigerators' door light switch. FUNCTION Normally closed switch(when refrigerator's door open it is close and light will be on) SPECIFICATION 2.5A 125V, T85, Connect Pin Size\\nPrice is $9.25\\n\\nAnd now the question for you:\\n\\nHow much does this cost?\\n\\nTUAIC Refrigerator Door Light Switch 2 Feet for GE Whirlpool, Maytag, Admiral, Amana, Crosley, Jenn-Air, Kenmore, KitchenAid, Magic Chef\\nProduction Name TUAIC Refrigerator Door Light Switch 2 Feet. Rated Voltage AC, Rated Current 2.5A 125V, Work Temperature Control Type NC(normally close, most refrigerator control type),Connect Pin Size Universal and compatible design, replace for most Whirlpool, Maytag,Admiral, Amana, Crosley, Jenn-Air, Kenmore, KitchenAid, Magic Chef refrigerators' door light switch. Production Name TUAIC Refrigerator Door Light Switch 2 Feet. Rated Voltage AC, Rated Current 2.5A 125\"}, {'role': 'assistant', 'content': 'Price is $'}]\n"
     ]
    }
   ],
   "source": [
    "print(messages_for(test[1], documents, prices))"
   ]
  },
  {
   "cell_type": "code",
   "execution_count": null,
   "id": "d11f1c8d-7480-4d64-a274-b030d701f1b8",
   "metadata": {},
   "outputs": [],
   "source": [
    "def get_price(s):\n",
    "    s = s.replace('$','').replace(',','')\n",
    "    match = re.search(r\"[-+]?\\d*\\.\\d+|\\d+\", s)\n",
    "    return float(match.group()) if match else 0"
   ]
  },
  {
   "cell_type": "code",
   "execution_count": null,
   "id": "06743833-c362-47f8-b02a-139be2cd52ab",
   "metadata": {},
   "outputs": [
    {
     "data": {
      "text/plain": [
       "99.99"
      ]
     },
     "execution_count": 22,
     "metadata": {},
     "output_type": "execute_result"
    }
   ],
   "source": [
    "get_price(\"The price for this is $99.99\")"
   ]
  },
  {
   "cell_type": "code",
   "execution_count": null,
   "id": "a919cf7d-b3d3-4968-8c96-54a0da0b0219",
   "metadata": {},
   "outputs": [],
   "source": [
    "# The function for gpt-4o-mini\n",
    "\n",
    "def gpt_4o_mini_rag(item):\n",
    "    documents, prices = find_similars(item)\n",
    "    response = openai.chat.completions.create(\n",
    "        model=\"gpt-4o-mini\", \n",
    "        messages=messages_for(item, documents, prices),\n",
    "        seed=42,\n",
    "        max_tokens=5\n",
    "    )\n",
    "    reply = response.choices[0].message.content\n",
    "    return get_price(reply)"
   ]
  },
  {
   "cell_type": "code",
   "execution_count": null,
   "id": "3e519e26-ff15-4425-90bb-bfbf55deb39b",
   "metadata": {},
   "outputs": [
    {
     "data": {
      "text/plain": [
       "9.68"
      ]
     },
     "execution_count": 24,
     "metadata": {},
     "output_type": "execute_result"
    }
   ],
   "source": [
    "gpt_4o_mini_rag(test[1])"
   ]
  },
  {
   "cell_type": "code",
   "execution_count": null,
   "id": "ce78741b-2966-41d2-9831-cbf8f8d176be",
   "metadata": {},
   "outputs": [
    {
     "data": {
      "text/plain": [
       "9.68"
      ]
     },
     "execution_count": 25,
     "metadata": {},
     "output_type": "execute_result"
    }
   ],
   "source": [
    "test[1].price"
   ]
  },
  {
   "cell_type": "code",
   "execution_count": 26,
   "id": "16d90455-ff7d-4f5f-8b8c-8e061263d1c7",
   "metadata": {},
   "outputs": [
    {
     "name": "stdout",
     "output_type": "stream",
     "text": [
      "\u001b[92m1: Guess: $59.99 Truth: $65.99 Error: $6.00 SLE: 0.01 Item: Setpower Insulated Protective Cover for ...\u001b[0m\n",
      "\u001b[92m2: Guess: $9.68 Truth: $9.68 Error: $0.00 SLE: 0.00 Item: TUAIC Refrigerator Door Light Switch 2 F...\u001b[0m\n",
      "\u001b[91m3: Guess: $312.99 Truth: $155.98 Error: $157.01 SLE: 0.48 Item: Kegco Secondary Regulator, 3 Product, Ch...\u001b[0m\n",
      "\u001b[92m4: Guess: $5.99 Truth: $5.59 Error: $0.40 SLE: 0.00 Item: MHY62044106 Refrigerator Door Spring 2Pc...\u001b[0m\n",
      "\u001b[92m5: Guess: $74.99 Truth: $98.40 Error: $23.41 SLE: 0.07 Item: Ice-O-Matic 9131111-01 Float Valve\u001b[0m\n",
      "\u001b[92m6: Guess: $29.99 Truth: $54.99 Error: $25.00 SLE: 0.35 Item: Wireless Temperature & Humidity Bluetoot...\u001b[0m\n",
      "\u001b[92m7: Guess: $8.99 Truth: $5.71 Error: $3.28 SLE: 0.16 Item: 3Inch Thermometer Hygrometer for Indoor ...\u001b[0m\n",
      "\u001b[92m8: Guess: $14.99 Truth: $9.53 Error: $5.46 SLE: 0.17 Item: GE WH1X2754 GE Timer Knob Assembly,white\u001b[0m\n",
      "\u001b[92m9: Guess: $12.95 Truth: $11.24 Error: $1.71 SLE: 0.02 Item: newlifeapp 33001003 Dryer Lint Screen Fi...\u001b[0m\n",
      "\u001b[92m10: Guess: $16.95 Truth: $12.88 Error: $4.07 SLE: 0.07 Item: Away NV350 NV351 NV352 NV355 NV356 NV357...\u001b[0m\n",
      "\u001b[93m11: Guess: $150.00 Truth: $99.99 Error: $50.01 SLE: 0.16 Item: IM116000 Refrigerator Ice Maker Genuine ...\u001b[0m\n",
      "\u001b[92m12: Guess: $16.99 Truth: $16.99 Error: $0.00 SLE: 0.00 Item: 2 PACKS DLSC002 Water Filter Compatible ...\u001b[0m\n",
      "\u001b[92m13: Guess: $10.10 Truth: $12.74 Error: $2.64 SLE: 0.05 Item: STANCO METAL PROD 410-8 8\"Elec NonstickS...\u001b[0m\n",
      "\u001b[92m14: Guess: $10.95 Truth: $10.95 Error: $0.00 SLE: 0.00 Item: GE WB32X10012 6-Inch Drip Pan\u001b[0m\n",
      "\u001b[92m15: Guess: $49.95 Truth: $66.50 Error: $16.55 SLE: 0.08 Item: Edgewater Parts WH23X10016 Drain Pump Co...\u001b[0m\n",
      "\u001b[92m16: Guess: $8.99 Truth: $11.99 Error: $3.00 SLE: 0.07 Item: Elyum Size 04 Cone Coffee Filters, Natur...\u001b[0m\n",
      "\u001b[92m17: Guess: $53.99 Truth: $49.95 Error: $4.04 SLE: 0.01 Item: Everydrop by Whirlpool Ice and Water Ref...\u001b[0m\n",
      "\u001b[92m18: Guess: $43.24 Truth: $26.92 Error: $16.32 SLE: 0.21 Item: Beverage Air 703-587C Door Gasket\u001b[0m\n",
      "\u001b[92m19: Guess: $109.00 Truth: $89.98 Error: $19.02 SLE: 0.04 Item: Frigidaire EFIC123-SS Counter Top Maker,...\u001b[0m\n",
      "\u001b[92m20: Guess: $38.99 Truth: $25.99 Error: $13.00 SLE: 0.15 Item: Supplying Demand 316203200 316199900 Ele...\u001b[0m\n",
      "\u001b[92m21: Guess: $16.99 Truth: $17.99 Error: $1.00 SLE: 0.00 Item: 2-Pack 37001142 Dryer Lint Filter Replac...\u001b[0m\n",
      "\u001b[92m22: Guess: $19.99 Truth: $6.99 Error: $13.00 SLE: 0.93 Item: Qlear-CLWT Premium Replacement Coffee Ma...\u001b[0m\n",
      "\u001b[92m23: Guess: $27.95 Truth: $39.99 Error: $12.04 SLE: 0.12 Item: HUBBELL HBL5666CA AC Plug NEMA 6-15 Male...\u001b[0m\n",
      "\u001b[92m24: Guess: $14.99 Truth: $13.99 Error: $1.00 SLE: 0.00 Item: Refrigerator Egg Holder With Lid - Super...\u001b[0m\n",
      "\u001b[92m25: Guess: $299.00 Truth: $339.95 Error: $40.95 SLE: 0.02 Item: ZLINE 20.5\" Ducted Wall Mount Range Hood...\u001b[0m\n",
      "\u001b[92m26: Guess: $39.99 Truth: $67.99 Error: $28.00 SLE: 0.27 Item: Supplying Demand W10919003 W10775446 Top...\u001b[0m\n",
      "\u001b[93m27: Guess: $95.00 Truth: $139.00 Error: $44.00 SLE: 0.14 Item: Compatible Ice Maker for Whirlpool GZ25F...\u001b[0m\n",
      "\u001b[92m28: Guess: $10.99 Truth: $8.97 Error: $2.02 SLE: 0.03 Item: Blutoget 6\" Louvered Vent Cover for Exte...\u001b[0m\n",
      "\u001b[92m29: Guess: $22.99 Truth: $39.65 Error: $16.66 SLE: 0.28 Item: Edgewater Parts WR60X23584, AP5955766, P...\u001b[0m\n",
      "\u001b[93m30: Guess: $299.99 Truth: $229.98 Error: $70.01 SLE: 0.07 Item: Winflo 30 In. Convertible Stainless Stee...\u001b[0m\n",
      "\u001b[92m31: Guess: $54.99 Truth: $25.80 Error: $29.19 SLE: 0.54 Item: 383EER3001G 4901ER2003A 383EER3001J 383E...\u001b[0m\n",
      "\u001b[92m32: Guess: $11.49 Truth: $11.99 Error: $0.50 SLE: 0.00 Item: 2 PACK AF Compatible Replacement For Sam...\u001b[0m\n",
      "\u001b[92m33: Guess: $10.99 Truth: $9.99 Error: $1.00 SLE: 0.01 Item: Poweka Refillable Coffee Capsules Pods R...\u001b[0m\n",
      "\u001b[92m34: Guess: $21.99 Truth: $21.99 Error: $0.00 SLE: 0.00 Item: 2-Pack Replacement for Jenn-Air JCD2297K...\u001b[0m\n",
      "\u001b[92m35: Guess: $35.00 Truth: $17.90 Error: $17.10 SLE: 0.42 Item: Supco DE019AC Dryer Heating Element Rest...\u001b[0m\n",
      "\u001b[91m36: Guess: $187.50 Truth: $84.00 Error: $103.50 SLE: 0.63 Item: Frymaster 826-1526 Common Electric Repla...\u001b[0m\n",
      "\u001b[92m37: Guess: $19.99 Truth: $16.24 Error: $3.75 SLE: 0.04 Item: Plumb Craft 7508800N 5-Foot Washing Mach...\u001b[0m\n",
      "\u001b[92m38: Guess: $24.99 Truth: $23.99 Error: $1.00 SLE: 0.00 Item: Overbest DA97-17376B Replacement for Sam...\u001b[0m\n",
      "\u001b[92m39: Guess: $9.99 Truth: $6.99 Error: $3.00 SLE: 0.10 Item: Fill 'n Brew Individual Disposable Coffe...\u001b[0m\n",
      "\u001b[92m40: Guess: $37.99 Truth: $24.99 Error: $13.00 SLE: 0.16 Item: Maytag UKF7003 EDR7D1 Comparable Refrige...\u001b[0m\n",
      "\u001b[92m41: Guess: $12.99 Truth: $11.61 Error: $1.38 SLE: 0.01 Item: Coffee Filters - Natural Unbleached Brow...\u001b[0m\n",
      "\u001b[91m42: Guess: $549.00 Truth: $949.00 Error: $400.00 SLE: 0.30 Item: EdgeStar 20 Inch Wide 4.3 Cu. Ft. Medica...\u001b[0m\n",
      "\u001b[92m43: Guess: $42.99 Truth: $74.00 Error: $31.01 SLE: 0.28 Item: Bosch 00677095 Door Lower Bin, Clear\u001b[0m\n",
      "\u001b[92m44: Guess: $28.50 Truth: $22.05 Error: $6.45 SLE: 0.06 Item: Samsung DA34-10120E Switch Door-F\u001b[0m\n",
      "\u001b[92m45: Guess: $287.19 Truth: $284.00 Error: $3.19 SLE: 0.00 Item: Jenn air JGA8100ADB Stove Cartridge Asse...\u001b[0m\n",
      "\u001b[93m46: Guess: $49.99 Truth: $91.78 Error: $41.79 SLE: 0.36 Item: Whole Parts Burner Grate (Black) Part # ...\u001b[0m\n",
      "\u001b[92m47: Guess: $21.99 Truth: $45.20 Error: $23.21 SLE: 0.49 Item: DEFLECTO SK8WF Supurr-Flex(R) 8ft Dryer ...\u001b[0m\n",
      "\u001b[92m48: Guess: $8.69 Truth: $8.69 Error: $0.00 SLE: 0.00 Item: Supco RR109 Receptacle Kit\u001b[0m\n",
      "\u001b[92m49: Guess: $14.99 Truth: $16.18 Error: $1.19 SLE: 0.01 Item: 33001003 Dryer Lint Screen Filter Replac...\u001b[0m\n",
      "\u001b[92m50: Guess: $6.25 Truth: $6.50 Error: $0.25 SLE: 0.00 Item: W10194422 Replacement Light Bulb 40 Watt...\u001b[0m\n",
      "\u001b[92m51: Guess: $13.71 Truth: $32.21 Error: $18.50 SLE: 0.66 Item: ForeverPRO 8532165 Drum Light Lens for W...\u001b[0m\n",
      "\u001b[92m52: Guess: $19.99 Truth: $15.39 Error: $4.60 SLE: 0.06 Item: Highcraft Dishwasher Water Supply Line, ...\u001b[0m\n",
      "\u001b[92m53: Guess: $19.99 Truth: $17.99 Error: $2.00 SLE: 0.01 Item: 316048413 and 316048414 Stove Burner Dri...\u001b[0m\n",
      "\u001b[92m54: Guess: $29.99 Truth: $26.99 Error: $3.00 SLE: 0.01 Item: ReplacementBrand 8171413 Comparable Repl...\u001b[0m\n",
      "\u001b[92m55: Guess: $11.99 Truth: $11.99 Error: $0.00 SLE: 0.00 Item: 2-Pack 341241 Dryer Drum Belt Replacemen...\u001b[0m\n",
      "\u001b[92m56: Guess: $15.99 Truth: $44.46 Error: $28.47 SLE: 0.97 Item: WP9870163 9870163 Power Nut Kit - Compat...\u001b[0m\n",
      "\u001b[92m57: Guess: $18.99 Truth: $15.99 Error: $3.00 SLE: 0.03 Item: Stovetop Extender SE23WHI Oven Gap Guard...\u001b[0m\n",
      "\u001b[92m58: Guess: $99.99 Truth: $129.99 Error: $30.00 SLE: 0.07 Item: COSVALVE Portable Washing Machine 17lbs ...\u001b[0m\n",
      "\u001b[92m59: Guess: $24.99 Truth: $24.99 Error: $0.00 SLE: 0.00 Item: AlaSou Washer Dustproof Cover Front Load...\u001b[0m\n",
      "\u001b[92m60: Guess: $25.99 Truth: $27.38 Error: $1.39 SLE: 0.00 Item: Honeywell HC26E1004/U Pad for He200, He2...\u001b[0m\n",
      "\u001b[92m61: Guess: $18.91 Truth: $16.95 Error: $1.96 SLE: 0.01 Item: HQRP 2-Pack Wick Filter Compatible with ...\u001b[0m\n",
      "\u001b[92m62: Guess: $10.99 Truth: $10.82 Error: $0.17 SLE: 0.00 Item: Whirlpool 8537982 Pad Washer\u001b[0m\n",
      "\u001b[92m63: Guess: $25.00 Truth: $19.00 Error: $6.00 SLE: 0.07 Item: Durable Disposable Electric Burner Bibs-...\u001b[0m\n",
      "\u001b[92m64: Guess: $19.99 Truth: $12.98 Error: $7.01 SLE: 0.17 Item: Anti Vibration Pads for Washing Machine,...\u001b[0m\n",
      "\u001b[92m65: Guess: $18.98 Truth: $16.99 Error: $1.99 SLE: 0.01 Item: Reusable K Cups for Keurig, Reusable Cof...\u001b[0m\n",
      "\u001b[92m66: Guess: $24.99 Truth: $24.97 Error: $0.02 SLE: 0.00 Item: Apace Living Pour Over Coffee Filter - W...\u001b[0m\n",
      "\u001b[92m67: Guess: $12.99 Truth: $10.91 Error: $2.08 SLE: 0.03 Item: Kitchen Basics 101 2 Pack ES18806 Refrig...\u001b[0m\n",
      "\u001b[92m68: Guess: $14.99 Truth: $14.98 Error: $0.01 SLE: 0.00 Item: Mist LT1000P Water Filter Replacement, C...\u001b[0m\n",
      "\u001b[92m69: Guess: $18.99 Truth: $7.90 Error: $11.09 SLE: 0.65 Item: NEW Dryer Drum Felt Replacement for Whir...\u001b[0m\n",
      "\u001b[92m70: Guess: $24.99 Truth: $25.75 Error: $0.76 SLE: 0.00 Item: Cobectal 4581EL2002C Dryer Drum Roller A...\u001b[0m\n",
      "\u001b[92m71: Guess: $43.59 Truth: $41.77 Error: $1.82 SLE: 0.00 Item: WH01X10343 Washer Shock Absorber 4 Pack ...\u001b[0m\n",
      "\u001b[92m72: Guess: $14.99 Truth: $20.68 Error: $5.69 SLE: 0.09 Item: Fafeicy WT2000 110-220V Digital Humidity...\u001b[0m\n",
      "\u001b[92m73: Guess: $69.99 Truth: $69.99 Error: $0.00 SLE: 0.00 Item: TJ. Clothes Dryer, 110V 600W Portable Dr...\u001b[0m\n",
      "\u001b[92m74: Guess: $30.99 Truth: $23.99 Error: $7.00 SLE: 0.06 Item: DC97-16350C Suspension Support Rod and A...\u001b[0m\n",
      "\u001b[92m75: Guess: $38.99 Truth: $28.69 Error: $10.30 SLE: 0.09 Item: Supplying Demand WB24X22341 WB24X40331 E...\u001b[0m\n",
      "\u001b[92m76: Guess: $29.99 Truth: $42.00 Error: $12.01 SLE: 0.11 Item: General Electric WB03X24360 Knob Assembl...\u001b[0m\n",
      "\u001b[92m77: Guess: $130.56 Truth: $123.57 Error: $6.99 SLE: 0.00 Item: Frigidaire 5304445529 Oven Door Hinge, G...\u001b[0m\n",
      "\u001b[92m78: Guess: $8.99 Truth: $8.99 Error: $0.00 SLE: 0.00 Item: Waytiffer Gas Burner Liners (50 Pack) 8....\u001b[0m\n",
      "\u001b[92m79: Guess: $36.95 Truth: $36.95 Error: $0.00 SLE: 0.00 Item: USA Made MSWF Compatible by Instapure NS...\u001b[0m\n",
      "\u001b[92m80: Guess: $11.99 Truth: $11.99 Error: $0.00 SLE: 0.00 Item: 2-Pack 341241 Dryer Drum Belt Replacemen...\u001b[0m\n",
      "\u001b[92m81: Guess: $35.19 Truth: $41.30 Error: $6.11 SLE: 0.02 Item: Washing Machine Hoses and Steam Dryer In...\u001b[0m\n",
      "\u001b[92m82: Guess: $19.99 Truth: $35.61 Error: $15.62 SLE: 0.31 Item: Bosch 12004119 Dishwasher Door Spring an...\u001b[0m\n",
      "\u001b[91m83: Guess: $399.00 Truth: $169.99 Error: $229.01 SLE: 0.72 Item: Broan QS336AA QS3 Series Range Hood, 36-...\u001b[0m\n",
      "\u001b[92m84: Guess: $29.99 Truth: $19.91 Error: $10.08 SLE: 0.15 Item: Bosch 00631633 Range Surface Burner Igni...\u001b[0m\n",
      "\u001b[92m85: Guess: $24.99 Truth: $9.57 Error: $15.42 SLE: 0.81 Item: LONYE 9759242 Oven Thermal Fuse Replacem...\u001b[0m\n",
      "\u001b[92m86: Guess: $24.99 Truth: $29.69 Error: $4.70 SLE: 0.03 Item: Upgrade W10594481 Stainless Steel Cooker...\u001b[0m\n",
      "\u001b[92m87: Guess: $34.99 Truth: $21.93 Error: $13.06 SLE: 0.20 Item: Supco IMM8366 Icemaker Control Module, R...\u001b[0m\n",
      "\u001b[92m88: Guess: $27.99 Truth: $32.56 Error: $4.57 SLE: 0.02 Item: DA31-00334C (AP6803162) Evaporator Fan M...\u001b[0m\n",
      "\u001b[92m89: Guess: $24.99 Truth: $22.78 Error: $2.21 SLE: 0.01 Item: UPGRADE 240363702 Refrigerator Door Bin ...\u001b[0m\n",
      "\u001b[92m90: Guess: $24.79 Truth: $24.79 Error: $0.00 SLE: 0.00 Item: Supreme Covers Portable Washing Machine ...\u001b[0m\n",
      "\u001b[92m91: Guess: $35.99 Truth: $33.69 Error: $2.30 SLE: 0.00 Item: Frigidaire 316206401 Surface Burner Base...\u001b[0m\n",
      "\u001b[92m92: Guess: $17.99 Truth: $12.99 Error: $5.00 SLE: 0.09 Item: TooCust Milk Frothing Pitcher 20 OZ/600M...\u001b[0m\n",
      "\u001b[92m93: Guess: $9.99 Truth: $12.99 Error: $3.00 SLE: 0.06 Item: Premium Vials 38-28SWB-ZT 38 x 28 mm Cle...\u001b[0m\n",
      "\u001b[92m94: Guess: $8.99 Truth: $10.98 Error: $1.99 SLE: 0.03 Item: 8318084 AP3180933 PS886960 Washer Door L...\u001b[0m\n",
      "\u001b[92m95: Guess: $29.44 Truth: $26.44 Error: $3.00 SLE: 0.01 Item: Aqua Fresh 4396508 Replacement Water Fil...\u001b[0m\n",
      "\u001b[92m96: Guess: $14.99 Truth: $16.99 Error: $2.00 SLE: 0.01 Item: InterDesign Covered Egg Holder - Refrige...\u001b[0m\n",
      "\u001b[92m97: Guess: $24.99 Truth: $25.25 Error: $0.26 SLE: 0.00 Item: Upgrade DG94-00520A Gas Range Oven Flat ...\u001b[0m\n",
      "\u001b[92m98: Guess: $12.99 Truth: $11.88 Error: $1.11 SLE: 0.01 Item: 383EER4001A Washing Machine Inner/Outer ...\u001b[0m\n",
      "\u001b[92m99: Guess: $21.99 Truth: $28.99 Error: $7.00 SLE: 0.07 Item: Maxmartt 100mm Vent Cover Stainless Stee...\u001b[0m\n",
      "\u001b[92m100: Guess: $18.95 Truth: $23.12 Error: $4.17 SLE: 0.04 Item: Upgraded Lifetime Appliance WR72X239 Cri...\u001b[0m\n",
      "\u001b[92m101: Guess: $52.97 Truth: $52.97 Error: $0.00 SLE: 0.00 Item: Whirlpool W10181986 Sensor for Range, Si...\u001b[0m\n",
      "\u001b[92m102: Guess: $34.99 Truth: $25.99 Error: $9.00 SLE: 0.08 Item: Wintact Digital Temperature and Humidity...\u001b[0m\n",
      "\u001b[92m103: Guess: $17.99 Truth: $17.99 Error: $0.00 SLE: 0.00 Item: BOTNA 97006931 Range Hood Grease Filter ...\u001b[0m\n",
      "\u001b[92m104: Guess: $9.99 Truth: $7.99 Error: $2.00 SLE: 0.04 Item: Milk Frothing Pitcher 12oz, Espresso Cap...\u001b[0m\n",
      "\u001b[92m105: Guess: $48.99 Truth: $28.99 Error: $20.00 SLE: 0.26 Item: 1040 Replacement Wick for AIRCARE, Essic...\u001b[0m\n",
      "\u001b[92m106: Guess: $24.20 Truth: $12.07 Error: $12.13 SLE: 0.43 Item: Stanco Gas Range Drip Pan For Gas Ranges...\u001b[0m\n",
      "\u001b[92m107: Guess: $29.94 Truth: $18.99 Error: $10.95 SLE: 0.19 Item: Dampp Chaser Piano Humidifier Pad Treatm...\u001b[0m\n",
      "\u001b[92m108: Guess: $11.69 Truth: $9.99 Error: $1.70 SLE: 0.02 Item: Gardens 216822900 Light Switch Fits Frig...\u001b[0m\n",
      "\u001b[92m109: Guess: $29.99 Truth: $29.99 Error: $0.00 SLE: 0.00 Item: Waterspecialist DA97-17376B Replacement ...\u001b[0m\n",
      "\u001b[92m110: Guess: $11.29 Truth: $9.99 Error: $1.30 SLE: 0.01 Item: Upgraded WB03X24818 Stove Knob, Stainles...\u001b[0m\n",
      "\u001b[92m111: Guess: $28.99 Truth: $31.69 Error: $2.70 SLE: 0.01 Item: 5-PACK Top Burner Control Dial Knob Rang...\u001b[0m\n",
      "\u001b[92m112: Guess: $20.99 Truth: $24.99 Error: $4.00 SLE: 0.03 Item: Large Capacity Egg Holder for Refrigerat...\u001b[0m\n",
      "\u001b[92m113: Guess: $25.99 Truth: $25.99 Error: $0.00 SLE: 0.00 Item: FireFly Home Stove Top Protector for LG ...\u001b[0m\n",
      "\u001b[92m114: Guess: $19.99 Truth: $18.99 Error: $1.00 SLE: 0.00 Item: Annbully Cartoon USB Mini Mushroom Light...\u001b[0m\n",
      "\u001b[92m115: Guess: $8.99 Truth: $9.99 Error: $1.00 SLE: 0.01 Item: Goldenvalueable 6 x Single Coffee Pod Fi...\u001b[0m\n",
      "\u001b[92m116: Guess: $22.99 Truth: $22.99 Error: $0.00 SLE: 0.00 Item: Blueangle Pink Hibiscus Dishwasher Magne...\u001b[0m\n",
      "\u001b[92m117: Guess: $179.99 Truth: $169.99 Error: $10.00 SLE: 0.00 Item: ROVSUN 13LBS Portable Washing Machine, 1...\u001b[0m\n",
      "\u001b[92m118: Guess: $37.99 Truth: $36.99 Error: $1.00 SLE: 0.00 Item: 1-Year Warranty 137114000 Dryer Heating ...\u001b[0m\n",
      "\u001b[92m119: Guess: $24.99 Truth: $33.99 Error: $9.00 SLE: 0.09 Item: ICEPURE 46-9690 ADQ36006101 Replacement ...\u001b[0m\n",
      "\u001b[93m120: Guess: $46.80 Truth: $104.89 Error: $58.09 SLE: 0.63 Item: Whirlpool W10833899 Water Inlet Valve, W...\u001b[0m\n",
      "\u001b[92m121: Guess: $26.99 Truth: $19.98 Error: $7.01 SLE: 0.08 Item: W11036930 Washing Machine Water Valve FO...\u001b[0m\n",
      "\u001b[92m122: Guess: $12.99 Truth: $9.99 Error: $3.00 SLE: 0.06 Item: Sunflowers Refrigerator Door Handle Cove...\u001b[0m\n",
      "\u001b[92m123: Guess: $21.99 Truth: $28.10 Error: $6.11 SLE: 0.06 Item: General Electric WR17X3880 Front Shelf R...\u001b[0m\n",
      "\u001b[92m124: Guess: $27.50 Truth: $27.50 Error: $0.00 SLE: 0.00 Item: Supco Refrigerator Water Valve for Whirl...\u001b[0m\n",
      "\u001b[92m125: Guess: $34.99 Truth: $36.99 Error: $2.00 SLE: 0.00 Item: HASMX 6-918873 Dishwasher Cutlery Silver...\u001b[0m\n",
      "\u001b[92m126: Guess: $14.63 Truth: $19.84 Error: $5.21 SLE: 0.08 Item: Whirlpool W10437088 Range Surface Burner...\u001b[0m\n",
      "\u001b[92m127: Guess: $19.99 Truth: $24.99 Error: $5.00 SLE: 0.05 Item: 950S - Compatible with GE Square Gas Ran...\u001b[0m\n",
      "\u001b[92m128: Guess: $139.99 Truth: $169.99 Error: $30.00 SLE: 0.04 Item: WAFIET 12 Inch Gas Cooktop with 2 Italy ...\u001b[0m\n",
      "\u001b[92m129: Guess: $19.99 Truth: $19.99 Error: $0.00 SLE: 0.00 Item: Reusable Vertuo Capsule Cap + Coffee Pod...\u001b[0m\n",
      "\u001b[92m130: Guess: $18.99 Truth: $25.95 Error: $6.96 SLE: 0.09 Item: Coffee Filter Holder - Coffee Filter Sto...\u001b[0m\n",
      "\u001b[91m131: Guess: $135.00 Truth: $39.96 Error: $95.04 SLE: 1.44 Item: Star 2F-Z3036 Deflector-Burner Cast\u001b[0m\n",
      "\u001b[92m132: Guess: $15.90 Truth: $15.99 Error: $0.09 SLE: 0.00 Item: General Electric WB17T10006 Range Surfac...\u001b[0m\n",
      "\u001b[92m133: Guess: $26.99 Truth: $39.99 Error: $13.00 SLE: 0.15 Item: WiFi Temperature Sensor with Waterproof ...\u001b[0m\n",
      "\u001b[92m134: Guess: $29.99 Truth: $21.53 Error: $8.46 SLE: 0.10 Item: KITCHEN BASICS 101: 1 Piece 5304439835 F...\u001b[0m\n",
      "\u001b[92m135: Guess: $29.99 Truth: $26.99 Error: $3.00 SLE: 0.01 Item: Dryer Heating Element for Samsung，DC47-0...\u001b[0m\n",
      "\u001b[92m136: Guess: $27.99 Truth: $43.99 Error: $16.00 SLE: 0.19 Item: Samsung DA29-00020B, DA29-00020A, HAF-CI...\u001b[0m\n",
      "\u001b[92m137: Guess: $9.41 Truth: $9.41 Error: $0.00 SLE: 0.00 Item: HQRP 3-Pack Wick Filter Compatible with ...\u001b[0m\n",
      "\u001b[92m138: Guess: $8.99 Truth: $8.99 Error: $0.00 SLE: 0.00 Item: Reusable K Cups For Keurig K-Latte 1.0 C...\u001b[0m\n",
      "\u001b[92m139: Guess: $69.99 Truth: $61.51 Error: $8.48 SLE: 0.02 Item: IM10093 for WR30X10093 GE Icemaker Refri...\u001b[0m\n",
      "\u001b[92m140: Guess: $122.30 Truth: $122.30 Error: $0.00 SLE: 0.00 Item: Whirlpool W10159839 Inlet Valve\u001b[0m\n",
      "\u001b[92m141: Guess: $22.99 Truth: $14.89 Error: $8.10 SLE: 0.17 Item: 100 UNIVERSAL Round Aluminum Foil Gas Bu...\u001b[0m\n",
      "\u001b[92m142: Guess: $22.47 Truth: $39.99 Error: $17.52 SLE: 0.31 Item: TRUE 811502 Nozzle and Screw Set\u001b[0m\n",
      "\u001b[92m143: Guess: $15.99 Truth: $17.90 Error: $1.91 SLE: 0.01 Item: Dianoo Espresso Steaming Pitcher, Espres...\u001b[0m\n",
      "\u001b[92m144: Guess: $16.77 Truth: $16.77 Error: $0.00 SLE: 0.00 Item: Air Filter Factory Replacement For Lenno...\u001b[0m\n",
      "\u001b[93m145: Guess: $79.99 Truth: $23.99 Error: $56.00 SLE: 1.38 Item: EvertechPRO Washer Drain Pump Assembly R...\u001b[0m\n",
      "\u001b[92m146: Guess: $49.99 Truth: $35.00 Error: $14.99 SLE: 0.12 Item: Cheftek CT1010 Portable 2 Burner Electri...\u001b[0m\n",
      "\u001b[92m147: Guess: $9.99 Truth: $4.95 Error: $5.04 SLE: 0.38 Item: HQRP 4 Pin Universal Refrigerator Freeze...\u001b[0m\n",
      "\u001b[92m148: Guess: $29.99 Truth: $18.89 Error: $11.10 SLE: 0.20 Item: 2-Pack W10189190 TSD2 Start Device & W10...\u001b[0m\n",
      "\u001b[92m149: Guess: $11.97 Truth: $8.77 Error: $3.20 SLE: 0.08 Item: Air Filter Factory Replacement For Whirl...\u001b[0m\n",
      "\u001b[92m150: Guess: $17.49 Truth: $17.22 Error: $0.27 SLE: 0.00 Item: Plumb Pak Braided Washing Machine Hose, ...\u001b[0m\n",
      "\u001b[92m151: Guess: $19.99 Truth: $20.98 Error: $0.99 SLE: 0.00 Item: Bosch 00424673 Button, Silver\u001b[0m\n",
      "\u001b[92m152: Guess: $29.99 Truth: $37.37 Error: $7.38 SLE: 0.05 Item: Siwdoy 4391960 279816 3392519 Dryer Heat...\u001b[0m\n",
      "\u001b[92m153: Guess: $11.90 Truth: $11.99 Error: $0.09 SLE: 0.00 Item: OUGAR8 Refrigerator Door Handle Covers H...\u001b[0m\n",
      "\u001b[91m154: Guess: $15.99 Truth: $119.95 Error: $103.96 SLE: 3.85 Item: Bosch 00414750 Range Hood Fan Switch Gen...\u001b[0m\n",
      "\u001b[93m155: Guess: $95.00 Truth: $31.00 Error: $64.00 SLE: 1.21 Item: Replacement Filter Compatible with HG Ty...\u001b[0m\n",
      "\u001b[92m156: Guess: $39.46 Truth: $31.00 Error: $8.46 SLE: 0.06 Item: Aprilaire Humidifier Part # 10 for Model...\u001b[0m\n",
      "\u001b[92m157: Guess: $17.99 Truth: $7.97 Error: $10.02 SLE: 0.56 Item: Technivorm Moccamaster 85090 Cup-One Pap...\u001b[0m\n",
      "\u001b[92m158: Guess: $34.00 Truth: $51.50 Error: $17.50 SLE: 0.16 Item: LG Electronics 4681EA1007D 4681EA2001T W...\u001b[0m\n",
      "\u001b[92m159: Guess: $29.99 Truth: $27.99 Error: $2.00 SLE: 0.00 Item: ALAZA Flower on Marble Art Large Dishwas...\u001b[0m\n",
      "\u001b[92m160: Guess: $472.99 Truth: $466.24 Error: $6.75 SLE: 0.00 Item: Frigidaire FFEC3025UB 30 Inch Electric S...\u001b[0m\n",
      "\u001b[92m161: Guess: $30.00 Truth: $50.36 Error: $20.36 SLE: 0.25 Item: General Electric WR8X122 Refrigerator Ov...\u001b[0m\n",
      "\u001b[92m162: Guess: $13.99 Truth: $19.97 Error: $5.98 SLE: 0.11 Item: Small Size Pour Over Coffee filter Paper...\u001b[0m\n",
      "\u001b[92m163: Guess: $29.99 Truth: $29.95 Error: $0.04 SLE: 0.00 Item: Sealegend 6-Pieces Dryer Vent Cleaner Ki...\u001b[0m\n",
      "\u001b[92m164: Guess: $23.99 Truth: $23.99 Error: $0.00 SLE: 0.00 Item: Waterspecialist XWF NSF Certified Refrig...\u001b[0m\n",
      "\u001b[92m165: Guess: $12.73 Truth: $12.74 Error: $0.01 SLE: 0.00 Item: GARP 279816 Compatible Replacement for D...\u001b[0m\n",
      "\u001b[92m166: Guess: $10.99 Truth: $8.99 Error: $2.00 SLE: 0.03 Item: Premium W10258275 Dishwasher Bimetal The...\u001b[0m\n",
      "\u001b[92m167: Guess: $24.99 Truth: $24.99 Error: $0.00 SLE: 0.00 Item: UpStart Components Replacement for Gener...\u001b[0m\n",
      "\u001b[92m168: Guess: $19.99 Truth: $17.99 Error: $2.00 SLE: 0.01 Item: Chef's Star Stainless Steel Milk Frothin...\u001b[0m\n",
      "\u001b[92m169: Guess: $22.99 Truth: $19.99 Error: $3.00 SLE: 0.02 Item: Egg Container for Refrigerator 2 Layer E...\u001b[0m\n",
      "\u001b[92m170: Guess: $17.99 Truth: $18.77 Error: $0.78 SLE: 0.00 Item: AMI PARTS DC97-16742A Dryer Lint Filter ...\u001b[0m\n",
      "\u001b[92m171: Guess: $59.99 Truth: $47.86 Error: $12.13 SLE: 0.05 Item: GE WB2X9154 Igniter for Gas Broiler or O...\u001b[0m\n",
      "\u001b[92m172: Guess: $29.95 Truth: $34.45 Error: $4.50 SLE: 0.02 Item: General Electric WE25X218 Dryer Conversi...\u001b[0m\n",
      "\u001b[92m173: Guess: $7.99 Truth: $7.99 Error: $0.00 SLE: 0.00 Item: 312959 Dryer Belt Replacement for Maytag...\u001b[0m\n",
      "\u001b[92m174: Guess: $14.99 Truth: $27.99 Error: $13.00 SLE: 0.35 Item: 5-Pack Replacement EF-1 Filter for Kenmo...\u001b[0m\n",
      "\u001b[92m175: Guess: $117.99 Truth: $117.99 Error: $0.00 SLE: 0.00 Item: OEM Samsung Refrigerator Door Bin Basket...\u001b[0m\n",
      "\u001b[91m176: Guess: $459.99 Truth: $989.99 Error: $530.00 SLE: 0.59 Item: vevor 24\" Undercounter Built-in Refriger...\u001b[0m\n",
      "\u001b[92m177: Guess: $19.99 Truth: $18.99 Error: $1.00 SLE: 0.00 Item: Reusable Vertuo Capsule Kit for Nespress...\u001b[0m\n",
      "\u001b[92m178: Guess: $149.99 Truth: $164.98 Error: $14.99 SLE: 0.01 Item: 32\" x 30\" 2.5\" Heavy Duty Washer Machine...\u001b[0m\n",
      "\u001b[92m179: Guess: $19.76 Truth: $19.36 Error: $0.40 SLE: 0.00 Item: Fluidmaster 9WM60 \"No Burst\" Washing Mac...\u001b[0m\n",
      "\u001b[92m180: Guess: $15.99 Truth: $16.00 Error: $0.01 SLE: 0.00 Item: AYZE 5300622034 AP2135128 Electric Restr...\u001b[0m\n",
      "\u001b[92m181: Guess: $21.40 Truth: $21.40 Error: $0.00 SLE: 0.00 Item: Whirlpool 8559751 Door Handle, Black\u001b[0m\n",
      "\u001b[92m182: Guess: $39.99 Truth: $46.99 Error: $7.00 SLE: 0.02 Item: Upgraded Dryer Repair Kit Compatible wit...\u001b[0m\n",
      "\u001b[92m183: Guess: $11.88 Truth: $13.69 Error: $1.81 SLE: 0.02 Item: Camco 00553 8\" GE/Hotpoint Hinge Reflect...\u001b[0m\n",
      "\u001b[92m184: Guess: $29.99 Truth: $22.72 Error: $7.27 SLE: 0.07 Item: GE Part Number WB03T10272 KNOB SELECTOR ...\u001b[0m\n",
      "\u001b[92m185: Guess: $100.19 Truth: $105.13 Error: $4.94 SLE: 0.00 Item: Manitowoc Ice 4304643 Curtain, Water\u001b[0m\n",
      "\u001b[92m186: Guess: $21.99 Truth: $32.50 Error: $10.51 SLE: 0.14 Item: EXP279838 Heating Element ( Replaces 279...\u001b[0m\n",
      "\u001b[92m187: Guess: $89.99 Truth: $114.60 Error: $24.61 SLE: 0.06 Item: Vulcan Hart 346357-1 Thermo\u001b[0m\n",
      "\u001b[92m188: Guess: $69.99 Truth: $84.96 Error: $14.97 SLE: 0.04 Item: Turbo Air 30283N0100 Thermostat\u001b[0m\n",
      "\u001b[92m189: Guess: $72.50 Truth: $83.40 Error: $10.90 SLE: 0.02 Item: Frigidaire 241679003 Dispenser Trim Refr...\u001b[0m\n",
      "\u001b[92m190: Guess: $24.99 Truth: $9.99 Error: $15.00 SLE: 0.74 Item: W10721967 Splutch Cam Kit Replacement fo...\u001b[0m\n",
      "\u001b[92m191: Guess: $7.99 Truth: $9.49 Error: $1.50 SLE: 0.02 Item: newlifeapp 40113801 Dryer Thermal Cut of...\u001b[0m\n",
      "\u001b[92m192: Guess: $25.99 Truth: $29.99 Error: $4.00 SLE: 0.02 Item: Upgraded W10612022 Dryer Rear Drum Felt ...\u001b[0m\n",
      "\u001b[92m193: Guess: $19.99 Truth: $13.57 Error: $6.42 SLE: 0.13 Item: 2 Pack Top Burner Spark Igniter Range Re...\u001b[0m\n",
      "\u001b[92m194: Guess: $23.99 Truth: $19.96 Error: $4.03 SLE: 0.03 Item: 8540024 Washer Drain Pump Motor by Seent...\u001b[0m\n",
      "\u001b[92m195: Guess: $32.65 Truth: $56.99 Error: $24.34 SLE: 0.30 Item: New-Refrigerator Icemaker Module Compati...\u001b[0m\n",
      "\u001b[92m196: Guess: $17.05 Truth: $16.37 Error: $0.68 SLE: 0.00 Item: Whirlpool W10195839 Adjuster\u001b[0m\n",
      "\u001b[92m197: Guess: $29.99 Truth: $19.99 Error: $10.00 SLE: 0.15 Item: Nispira Replacement Range Hood Grease Fi...\u001b[0m\n",
      "\u001b[92m198: Guess: $29.99 Truth: $37.98 Error: $7.99 SLE: 0.05 Item: Mist Water Filter Replacement, Compatibl...\u001b[0m\n",
      "\u001b[92m199: Guess: $34.97 Truth: $34.79 Error: $0.18 SLE: 0.00 Item: (2-Pack) UPGRADE 240356402 Refrigerator ...\u001b[0m\n",
      "\u001b[92m200: Guess: $10.99 Truth: $8.39 Error: $2.60 SLE: 0.06 Item: DPD 3949238 Washer Lid Switch Assembly R...\u001b[0m\n",
      "\u001b[92m201: Guess: $87.45 Truth: $117.86 Error: $30.41 SLE: 0.09 Item: GENUINE Frigidaire 318050800 Bake Elemen...\u001b[0m\n",
      "\u001b[92m202: Guess: $19.99 Truth: $15.99 Error: $4.00 SLE: 0.04 Item: Anti Vibration Pads for Washing Machine,...\u001b[0m\n",
      "\u001b[92m203: Guess: $12.99 Truth: $10.99 Error: $2.00 SLE: 0.02 Item: 8536974 Dryer Drum Support Roller Kit, R...\u001b[0m\n",
      "\u001b[92m204: Guess: $19.99 Truth: $24.43 Error: $4.44 SLE: 0.04 Item: Whirlpool 279816 Dryer Thermal Fuse Kit\u001b[0m\n",
      "\u001b[93m205: Guess: $565.00 Truth: $426.98 Error: $138.02 SLE: 0.08 Item: Empava 36 500 CFM Island Range Hood Duct...\u001b[0m\n",
      "\u001b[92m206: Guess: $39.99 Truth: $39.99 Error: $0.00 SLE: 0.00 Item: SpiroPure SP-LE700 NSF Certified Refrige...\u001b[0m\n",
      "\u001b[92m207: Guess: $35.99 Truth: $26.99 Error: $9.00 SLE: 0.08 Item: Replacement for Jenn-Air A100W 8 inch 5 ...\u001b[0m\n",
      "\u001b[93m208: Guess: $72.99 Truth: $138.69 Error: $65.70 SLE: 0.40 Item: GE WR49X10091 Genuine OEM Damper Control...\u001b[0m\n",
      "\u001b[92m209: Guess: $12.99 Truth: $13.97 Error: $0.98 SLE: 0.00 Item: DC47-00016A Dryer Thermal Fuse Thermosta...\u001b[0m\n",
      "\u001b[92m210: Guess: $21.99 Truth: $21.99 Error: $0.00 SLE: 0.00 Item: 2-Pack Replacement for JFD2589KEP Refrig...\u001b[0m\n",
      "\u001b[92m211: Guess: $18.99 Truth: $18.88 Error: $0.11 SLE: 0.00 Item: WP33001244 33001244 Terminal Block Assem...\u001b[0m\n",
      "\u001b[92m212: Guess: $30.71 Truth: $18.41 Error: $12.30 SLE: 0.24 Item: Whirlpool 308180 Bake, Black\u001b[0m\n",
      "\u001b[92m213: Guess: $9.99 Truth: $9.95 Error: $0.04 SLE: 0.00 Item: LG 6501KW2001B 6501KW2001A Sensor Kenmor...\u001b[0m\n",
      "\u001b[92m214: Guess: $17.09 Truth: $18.00 Error: $0.91 SLE: 0.00 Item: Compatible Drum Belt for Maytag MDE2500A...\u001b[0m\n",
      "\u001b[92m215: Guess: $19.99 Truth: $33.95 Error: $13.96 SLE: 0.26 Item: Whirlpool MAL9000AXX Dryer Liquid Propan...\u001b[0m\n",
      "\u001b[92m216: Guess: $42.95 Truth: $42.95 Error: $0.00 SLE: 0.00 Item: MCGILL Replacement Black Fan Rocker Swit...\u001b[0m\n",
      "\u001b[92m217: Guess: $69.99 Truth: $59.99 Error: $10.00 SLE: 0.02 Item: New Upgraded 5304507199 Refrigerator Doo...\u001b[0m\n",
      "\u001b[92m218: Guess: $64.50 Truth: $55.58 Error: $8.92 SLE: 0.02 Item: TRUE 810719 Black Gasket For Gdm-19/23/4...\u001b[0m\n",
      "\u001b[92m219: Guess: $24.99 Truth: $15.10 Error: $9.89 SLE: 0.23 Item: LG 5215EA3003A Genuine OEM Drain Hose As...\u001b[0m\n",
      "\u001b[92m220: Guess: $39.99 Truth: $45.99 Error: $6.00 SLE: 0.02 Item: Waterspecialist DA29-00020B Refrigerator...\u001b[0m\n",
      "\u001b[92m221: Guess: $45.14 Truth: $60.14 Error: $15.00 SLE: 0.08 Item: GlobPro W10321032 1876931 Washer Water D...\u001b[0m\n",
      "\u001b[92m222: Guess: $27.99 Truth: $45.99 Error: $18.00 SLE: 0.23 Item: AQUA CREST 847200 Refrigerator Water Fil...\u001b[0m\n",
      "\u001b[92m223: Guess: $17.95 Truth: $16.24 Error: $1.71 SLE: 0.01 Item: Frigidaire 297216600 Frigidare Thermosta...\u001b[0m\n",
      "\u001b[92m224: Guess: $19.99 Truth: $31.99 Error: $12.00 SLE: 0.20 Item: Supplying Demand 8557884 W10874409 Cloth...\u001b[0m\n",
      "\u001b[92m225: Guess: $24.99 Truth: $34.00 Error: $9.01 SLE: 0.09 Item: Whole Parts 3398095 Dryer Push To Start ...\u001b[0m\n",
      "\u001b[92m226: Guess: $24.99 Truth: $26.99 Error: $2.00 SLE: 0.01 Item: i Cafillas Refillable Stainless Steel Co...\u001b[0m\n",
      "\u001b[92m227: Guess: $16.99 Truth: $15.39 Error: $1.60 SLE: 0.01 Item: er2198202 Thermostat\u001b[0m\n",
      "\u001b[92m228: Guess: $27.99 Truth: $27.77 Error: $0.22 SLE: 0.00 Item: Beaquicy WB44X5082 Oven Bake Element - R...\u001b[0m\n",
      "\u001b[92m229: Guess: $26.08 Truth: $26.08 Error: $0.00 SLE: 0.00 Item: Whirlpool 661570 Belt\u001b[0m\n",
      "\u001b[92m230: Guess: $24.99 Truth: $18.99 Error: $6.00 SLE: 0.07 Item: iFillMug 33 Pack for K Cup and Keurig Br...\u001b[0m\n",
      "\u001b[92m231: Guess: $159.00 Truth: $159.18 Error: $0.18 SLE: 0.00 Item: Frigidaire 5304506131 Freezer Door Gaske...\u001b[0m\n",
      "\u001b[92m232: Guess: $29.99 Truth: $34.95 Error: $4.96 SLE: 0.02 Item: New York Air 737-300 Airplane Miniature ...\u001b[0m\n",
      "\u001b[92m233: Guess: $24.99 Truth: $25.19 Error: $0.20 SLE: 0.00 Item: Amazon Basics Replacement GE XWF Refrige...\u001b[0m\n",
      "\u001b[92m234: Guess: $8.99 Truth: $19.51 Error: $10.52 SLE: 0.52 Item: Upgraded 5304506510 Dishrack Stop Clip -...\u001b[0m\n",
      "\u001b[92m235: Guess: $35.95 Truth: $37.45 Error: $1.50 SLE: 0.00 Item: Sportman Pastoral Style Vase Flower Kitc...\u001b[0m\n",
      "\u001b[92m236: Guess: $29.99 Truth: $29.99 Error: $0.00 SLE: 0.00 Item: [4680JB1026H Motor OEM Mania] 4680JB1026...\u001b[0m\n",
      "\u001b[91m237: Guess: $72.00 Truth: $163.56 Error: $91.56 SLE: 0.66 Item: 5304458371 Refrigerator Ice Maker Assemb...\u001b[0m\n",
      "\u001b[92m238: Guess: $19.99 Truth: $27.00 Error: $7.01 SLE: 0.08 Item: WE01X25915 Appliance Slide for General E...\u001b[0m\n",
      "\u001b[92m239: Guess: $5.99 Truth: $5.99 Error: $0.00 SLE: 0.00 Item: W10195416 Lower Dishwasher Wheel Replace...\u001b[0m\n",
      "\u001b[92m240: Guess: $10.99 Truth: $6.64 Error: $4.35 SLE: 0.20 Item: Gas Female Cap ORIFICE 1/8\" NPT # .75 (....\u001b[0m\n",
      "\u001b[92m241: Guess: $12.50 Truth: $26.04 Error: $13.54 SLE: 0.48 Item: 9pcs Silicon Rubber Pad for Bottle Cappi...\u001b[0m\n",
      "\u001b[92m242: Guess: $12.99 Truth: $13.79 Error: $0.80 SLE: 0.00 Item: Supplying Demand 6601EL3001A EBF61496101...\u001b[0m\n",
      "\u001b[93m243: Guess: $120.99 Truth: $78.98 Error: $42.01 SLE: 0.18 Item: General Electric WR24X10184 Refrigerator...\u001b[0m\n",
      "\u001b[92m244: Guess: $22.99 Truth: $27.99 Error: $5.00 SLE: 0.04 Item: i Cafilas New Lid Stainless Steel Refill...\u001b[0m\n",
      "\u001b[92m245: Guess: $29.99 Truth: $14.99 Error: $15.00 SLE: 0.44 Item: GHM Humidifier Replacement Filter E HC14...\u001b[0m\n",
      "\u001b[91m246: Guess: $145.61 Truth: $50.25 Error: $95.36 SLE: 1.10 Item: Manitowoc Ice 000009123 Water Inlet Valv...\u001b[0m\n",
      "\u001b[92m247: Guess: $138.00 Truth: $101.36 Error: $36.64 SLE: 0.09 Item: General Electric WH08X10049 Door Boot Se...\u001b[0m\n",
      "\u001b[92m248: Guess: $7.99 Truth: $4.98 Error: $3.01 SLE: 0.17 Item: Kitchen Stove Gap Cover Stove Count Gap ...\u001b[0m\n",
      "\u001b[92m249: Guess: $12.99 Truth: $9.89 Error: $3.10 SLE: 0.06 Item: W11457841 Washer & Dryer Lid Strike - fo...\u001b[0m\n",
      "\u001b[92m250: Guess: $31.99 Truth: $27.99 Error: $4.00 SLE: 0.02 Item: Nispira Humidifier Wick Filter Replaceme...\u001b[0m\n"
     ]
    },
    {
     "data": {
      "image/png": "[encoded data removed]",
      "text/plain": [
       "<Figure size 1200x800 with 1 Axes>"
      ]
     },
     "metadata": {},
     "output_type": "display_data"
    }
   ],
   "source": [
    "Tester.test(gpt_4o_mini_rag, test)"
   ]
  },
  {
   "cell_type": "markdown",
   "id": "d793c6d0-ce3f-4680-b37d-4643f0cd1d8e",
   "metadata": {},
   "source": [
    "## Optional Extra: Trying a DeepSeek API call instead of OpenAI\n",
    "\n",
    "If you have a DeepSeek API key, we will use it here as an alternative implementation; otherwise skip to the next section.."
   ]
  },
  {
   "cell_type": "code",
   "execution_count": 27,
   "id": "21b6a22f-0195-47b6-8f6d-cab6ebe05742",
   "metadata": {},
   "outputs": [],
   "source": [
    "# Connect to DeepSeek using the OpenAI client python library\n",
    "\n",
    "deepseek_api_key = os.getenv(\"DEEPSEEK_API_KEY\")\n",
    "deepseek_via_openai_client = OpenAI(api_key=deepseek_api_key,base_url=\"https://api.deepseek.com\")"
   ]
  },
  {
   "cell_type": "code",
   "execution_count": 28,
   "id": "ea7267d6-9489-4dac-a6e0-aec108e788c2",
   "metadata": {},
   "outputs": [],
   "source": [
    "# Added some retry logic here because DeepSeek is very oversubscribed and sometimes fails..\n",
    "\n",
    "def deepseek_api_rag(item):\n",
    "    documents, prices = find_similars(item)\n",
    "    retries = 8\n",
    "    done = False\n",
    "    while not done and retries > 0:\n",
    "        try:\n",
    "            response = deepseek_via_openai_client.chat.completions.create(\n",
    "                model=\"deepseek-chat\", \n",
    "                messages=messages_for(item, documents, prices),\n",
    "                seed=42,\n",
    "                max_tokens=8\n",
    "            )\n",
    "            reply = response.choices[0].message.content\n",
    "            done = True\n",
    "        except Exception as e:\n",
    "            print(f\"Error: {e}\")\n",
    "            retries -= 1\n",
    "    return get_price(reply)"
   ]
  },
  {
   "cell_type": "code",
   "execution_count": 29,
   "id": "6560faf2-4dec-41e5-95e2-b2c46cdb3ba8",
   "metadata": {},
   "outputs": [
    {
     "data": {
      "text/plain": [
       "9.68"
      ]
     },
     "execution_count": 29,
     "metadata": {},
     "output_type": "execute_result"
    }
   ],
   "source": [
    "deepseek_api_rag(test[1])"
   ]
  },
  {
   "cell_type": "code",
   "execution_count": 30,
   "id": "0578b116-869f-429d-8382-701f1c0882f3",
   "metadata": {},
   "outputs": [
    {
     "name": "stdout",
     "output_type": "stream",
     "text": [
      "\u001b[92m1: Guess: $59.99 Truth: $65.99 Error: $6.00 SLE: 0.01 Item: Setpower Insulated Protective Cover for ...\u001b[0m\n",
      "\u001b[92m2: Guess: $9.68 Truth: $9.68 Error: $0.00 SLE: 0.00 Item: TUAIC Refrigerator Door Light Switch 2 F...\u001b[0m\n",
      "\u001b[93m3: Guess: $199.99 Truth: $155.98 Error: $44.01 SLE: 0.06 Item: Kegco Secondary Regulator, 3 Product, Ch...\u001b[0m\n",
      "\u001b[92m4: Guess: $5.59 Truth: $5.59 Error: $0.00 SLE: 0.00 Item: MHY62044106 Refrigerator Door Spring 2Pc...\u001b[0m\n",
      "\u001b[91m5: Guess: $0.00 Truth: $98.40 Error: $98.40 SLE: 21.15 Item: Ice-O-Matic 9131111-01 Float Valve\u001b[0m\n",
      "\u001b[92m6: Guess: $39.99 Truth: $54.99 Error: $15.00 SLE: 0.10 Item: Wireless Temperature & Humidity Bluetoot...\u001b[0m\n",
      "\u001b[92m7: Guess: $8.99 Truth: $5.71 Error: $3.28 SLE: 0.16 Item: 3Inch Thermometer Hygrometer for Indoor ...\u001b[0m\n",
      "\u001b[92m8: Guess: $15.99 Truth: $9.53 Error: $6.46 SLE: 0.23 Item: GE WH1X2754 GE Timer Knob Assembly,white\u001b[0m\n",
      "\u001b[92m9: Guess: $10.99 Truth: $11.24 Error: $0.25 SLE: 0.00 Item: newlifeapp 33001003 Dryer Lint Screen Fi...\u001b[0m\n",
      "\u001b[92m10: Guess: $14.99 Truth: $12.88 Error: $2.11 SLE: 0.02 Item: Away NV350 NV351 NV352 NV355 NV356 NV357...\u001b[0m\n",
      "\u001b[91m11: Guess: $380.00 Truth: $99.99 Error: $280.01 SLE: 1.76 Item: IM116000 Refrigerator Ice Maker Genuine ...\u001b[0m\n",
      "\u001b[92m12: Guess: $17.99 Truth: $16.99 Error: $1.00 SLE: 0.00 Item: 2 PACKS DLSC002 Water Filter Compatible ...\u001b[0m\n",
      "\u001b[92m13: Guess: $8.50 Truth: $12.74 Error: $4.24 SLE: 0.14 Item: STANCO METAL PROD 410-8 8\"Elec NonstickS...\u001b[0m\n",
      "\u001b[92m14: Guess: $10.95 Truth: $10.95 Error: $0.00 SLE: 0.00 Item: GE WB32X10012 6-Inch Drip Pan\u001b[0m\n",
      "\u001b[92m15: Guess: $50.00 Truth: $66.50 Error: $16.50 SLE: 0.08 Item: Edgewater Parts WH23X10016 Drain Pump Co...\u001b[0m\n",
      "\u001b[92m16: Guess: $6.99 Truth: $11.99 Error: $5.00 SLE: 0.24 Item: Elyum Size 04 Cone Coffee Filters, Natur...\u001b[0m\n",
      "\u001b[92m17: Guess: $34.99 Truth: $49.95 Error: $14.96 SLE: 0.12 Item: Everydrop by Whirlpool Ice and Water Ref...\u001b[0m\n",
      "\u001b[92m18: Guess: $49.59 Truth: $26.92 Error: $22.67 SLE: 0.35 Item: Beverage Air 703-587C Door Gasket\u001b[0m\n",
      "\u001b[92m19: Guess: $108.00 Truth: $89.98 Error: $18.02 SLE: 0.03 Item: Frigidaire EFIC123-SS Counter Top Maker,...\u001b[0m\n",
      "\u001b[92m20: Guess: $35.99 Truth: $25.99 Error: $10.00 SLE: 0.10 Item: Supplying Demand 316203200 316199900 Ele...\u001b[0m\n",
      "\u001b[92m21: Guess: $15.99 Truth: $17.99 Error: $2.00 SLE: 0.01 Item: 2-Pack 37001142 Dryer Lint Filter Replac...\u001b[0m\n",
      "\u001b[92m22: Guess: $12.99 Truth: $6.99 Error: $6.00 SLE: 0.31 Item: Qlear-CLWT Premium Replacement Coffee Ma...\u001b[0m\n",
      "\u001b[92m23: Guess: $35.50 Truth: $39.99 Error: $4.49 SLE: 0.01 Item: HUBBELL HBL5666CA AC Plug NEMA 6-15 Male...\u001b[0m\n",
      "\u001b[92m24: Guess: $12.99 Truth: $13.99 Error: $1.00 SLE: 0.00 Item: Refrigerator Egg Holder With Lid - Super...\u001b[0m\n",
      "\u001b[92m25: Guess: $399.95 Truth: $339.95 Error: $60.00 SLE: 0.03 Item: ZLINE 20.5\" Ducted Wall Mount Range Hood...\u001b[0m\n",
      "\u001b[92m26: Guess: $37.99 Truth: $67.99 Error: $30.00 SLE: 0.33 Item: Supplying Demand W10919003 W10775446 Top...\u001b[0m\n",
      "\u001b[93m27: Guess: $95.00 Truth: $139.00 Error: $44.00 SLE: 0.14 Item: Compatible Ice Maker for Whirlpool GZ25F...\u001b[0m\n",
      "\u001b[92m28: Guess: $12.99 Truth: $8.97 Error: $4.02 SLE: 0.11 Item: Blutoget 6\" Louvered Vent Cover for Exte...\u001b[0m\n",
      "\u001b[92m29: Guess: $21.99 Truth: $39.65 Error: $17.66 SLE: 0.32 Item: Edgewater Parts WR60X23584, AP5955766, P...\u001b[0m\n",
      "\u001b[93m30: Guess: $299.99 Truth: $229.98 Error: $70.01 SLE: 0.07 Item: Winflo 30 In. Convertible Stainless Stee...\u001b[0m\n",
      "\u001b[92m31: Guess: $34.95 Truth: $25.80 Error: $9.15 SLE: 0.09 Item: 383EER3001G 4901ER2003A 383EER3001J 383E...\u001b[0m\n",
      "\u001b[92m32: Guess: $12.99 Truth: $11.99 Error: $1.00 SLE: 0.01 Item: 2 PACK AF Compatible Replacement For Sam...\u001b[0m\n",
      "\u001b[92m33: Guess: $9.99 Truth: $9.99 Error: $0.00 SLE: 0.00 Item: Poweka Refillable Coffee Capsules Pods R...\u001b[0m\n",
      "\u001b[92m34: Guess: $21.99 Truth: $21.99 Error: $0.00 SLE: 0.00 Item: 2-Pack Replacement for Jenn-Air JCD2297K...\u001b[0m\n",
      "\u001b[92m35: Guess: $32.50 Truth: $17.90 Error: $14.60 SLE: 0.33 Item: Supco DE019AC Dryer Heating Element Rest...\u001b[0m\n",
      "\u001b[93m36: Guess: $129.99 Truth: $84.00 Error: $45.99 SLE: 0.19 Item: Frymaster 826-1526 Common Electric Repla...\u001b[0m\n",
      "\u001b[92m37: Guess: $12.99 Truth: $16.24 Error: $3.25 SLE: 0.04 Item: Plumb Craft 7508800N 5-Foot Washing Mach...\u001b[0m\n",
      "\u001b[92m38: Guess: $34.99 Truth: $23.99 Error: $11.00 SLE: 0.13 Item: Overbest DA97-17376B Replacement for Sam...\u001b[0m\n",
      "\u001b[92m39: Guess: $6.50 Truth: $6.99 Error: $0.49 SLE: 0.00 Item: Fill 'n Brew Individual Disposable Coffe...\u001b[0m\n",
      "\u001b[92m40: Guess: $38.00 Truth: $24.99 Error: $13.01 SLE: 0.16 Item: Maytag UKF7003 EDR7D1 Comparable Refrige...\u001b[0m\n",
      "\u001b[92m41: Guess: $12.99 Truth: $11.61 Error: $1.38 SLE: 0.01 Item: Coffee Filters - Natural Unbleached Brow...\u001b[0m\n",
      "\u001b[91m42: Guess: $499.00 Truth: $949.00 Error: $450.00 SLE: 0.41 Item: EdgeStar 20 Inch Wide 4.3 Cu. Ft. Medica...\u001b[0m\n",
      "\u001b[92m43: Guess: $52.50 Truth: $74.00 Error: $21.50 SLE: 0.11 Item: Bosch 00677095 Door Lower Bin, Clear\u001b[0m\n",
      "\u001b[92m44: Guess: $19.50 Truth: $22.05 Error: $2.55 SLE: 0.01 Item: Samsung DA34-10120E Switch Door-F\u001b[0m\n",
      "\u001b[92m45: Guess: $287.19 Truth: $284.00 Error: $3.19 SLE: 0.00 Item: Jenn air JGA8100ADB Stove Cartridge Asse...\u001b[0m\n",
      "\u001b[92m46: Guess: $59.50 Truth: $91.78 Error: $32.28 SLE: 0.18 Item: Whole Parts Burner Grate (Black) Part # ...\u001b[0m\n",
      "\u001b[92m47: Guess: $24.99 Truth: $45.20 Error: $20.21 SLE: 0.33 Item: DEFLECTO SK8WF Supurr-Flex(R) 8ft Dryer ...\u001b[0m\n",
      "\u001b[92m48: Guess: $8.69 Truth: $8.69 Error: $0.00 SLE: 0.00 Item: Supco RR109 Receptacle Kit\u001b[0m\n",
      "\u001b[92m49: Guess: $14.99 Truth: $16.18 Error: $1.19 SLE: 0.01 Item: 33001003 Dryer Lint Screen Filter Replac...\u001b[0m\n",
      "\u001b[92m50: Guess: $6.25 Truth: $6.50 Error: $0.25 SLE: 0.00 Item: W10194422 Replacement Light Bulb 40 Watt...\u001b[0m\n",
      "\u001b[92m51: Guess: $12.50 Truth: $32.21 Error: $19.71 SLE: 0.81 Item: ForeverPRO 8532165 Drum Light Lens for W...\u001b[0m\n",
      "\u001b[92m52: Guess: $0.00 Truth: $15.39 Error: $15.39 SLE: 7.82 Item: Highcraft Dishwasher Water Supply Line, ...\u001b[0m\n",
      "\u001b[92m53: Guess: $15.99 Truth: $17.99 Error: $2.00 SLE: 0.01 Item: 316048413 and 316048414 Stove Burner Dri...\u001b[0m\n",
      "\u001b[92m54: Guess: $32.00 Truth: $26.99 Error: $5.01 SLE: 0.03 Item: ReplacementBrand 8171413 Comparable Repl...\u001b[0m\n",
      "\u001b[92m55: Guess: $11.99 Truth: $11.99 Error: $0.00 SLE: 0.00 Item: 2-Pack 341241 Dryer Drum Belt Replacemen...\u001b[0m\n",
      "\u001b[92m56: Guess: $15.99 Truth: $44.46 Error: $28.47 SLE: 0.97 Item: WP9870163 9870163 Power Nut Kit - Compat...\u001b[0m\n",
      "\u001b[92m57: Guess: $0.00 Truth: $15.99 Error: $15.99 SLE: 8.02 Item: Stovetop Extender SE23WHI Oven Gap Guard...\u001b[0m\n",
      "\u001b[93m58: Guess: $89.99 Truth: $129.99 Error: $40.00 SLE: 0.13 Item: COSVALVE Portable Washing Machine 17lbs ...\u001b[0m\n",
      "\u001b[92m59: Guess: $19.99 Truth: $24.99 Error: $5.00 SLE: 0.05 Item: AlaSou Washer Dustproof Cover Front Load...\u001b[0m\n",
      "\u001b[92m60: Guess: $24.99 Truth: $27.38 Error: $2.39 SLE: 0.01 Item: Honeywell HC26E1004/U Pad for He200, He2...\u001b[0m\n",
      "\u001b[92m61: Guess: $18.91 Truth: $16.95 Error: $1.96 SLE: 0.01 Item: HQRP 2-Pack Wick Filter Compatible with ...\u001b[0m\n",
      "\u001b[92m62: Guess: $10.99 Truth: $10.82 Error: $0.17 SLE: 0.00 Item: Whirlpool 8537982 Pad Washer\u001b[0m\n",
      "\u001b[92m63: Guess: $15.00 Truth: $19.00 Error: $4.00 SLE: 0.05 Item: Durable Disposable Electric Burner Bibs-...\u001b[0m\n",
      "\u001b[92m64: Guess: $12.99 Truth: $12.98 Error: $0.01 SLE: 0.00 Item: Anti Vibration Pads for Washing Machine,...\u001b[0m\n",
      "\u001b[92m65: Guess: $18.98 Truth: $16.99 Error: $1.99 SLE: 0.01 Item: Reusable K Cups for Keurig, Reusable Cof...\u001b[0m\n",
      "\u001b[92m66: Guess: $24.99 Truth: $24.97 Error: $0.02 SLE: 0.00 Item: Apace Living Pour Over Coffee Filter - W...\u001b[0m\n",
      "\u001b[92m67: Guess: $12.99 Truth: $10.91 Error: $2.08 SLE: 0.03 Item: Kitchen Basics 101 2 Pack ES18806 Refrig...\u001b[0m\n",
      "\u001b[92m68: Guess: $14.99 Truth: $14.98 Error: $0.01 SLE: 0.00 Item: Mist LT1000P Water Filter Replacement, C...\u001b[0m\n",
      "\u001b[92m69: Guess: $18.99 Truth: $7.90 Error: $11.09 SLE: 0.65 Item: NEW Dryer Drum Felt Replacement for Whir...\u001b[0m\n",
      "\u001b[92m70: Guess: $0.00 Truth: $25.75 Error: $25.75 SLE: 10.80 Item: Cobectal 4581EL2002C Dryer Drum Roller A...\u001b[0m\n",
      "\u001b[92m71: Guess: $43.59 Truth: $41.77 Error: $1.82 SLE: 0.00 Item: WH01X10343 Washer Shock Absorber 4 Pack ...\u001b[0m\n",
      "\u001b[92m72: Guess: $19.99 Truth: $20.68 Error: $0.69 SLE: 0.00 Item: Fafeicy WT2000 110-220V Digital Humidity...\u001b[0m\n",
      "\u001b[92m73: Guess: $59.99 Truth: $69.99 Error: $10.00 SLE: 0.02 Item: TJ. Clothes Dryer, 110V 600W Portable Dr...\u001b[0m\n",
      "\u001b[92m74: Guess: $29.99 Truth: $23.99 Error: $6.00 SLE: 0.05 Item: DC97-16350C Suspension Support Rod and A...\u001b[0m\n",
      "\u001b[92m75: Guess: $42.99 Truth: $28.69 Error: $14.30 SLE: 0.15 Item: Supplying Demand WB24X22341 WB24X40331 E...\u001b[0m\n",
      "\u001b[92m76: Guess: $45.00 Truth: $42.00 Error: $3.00 SLE: 0.00 Item: General Electric WB03X24360 Knob Assembl...\u001b[0m\n",
      "\u001b[93m77: Guess: $50.81 Truth: $123.57 Error: $72.76 SLE: 0.77 Item: Frigidaire 5304445529 Oven Door Hinge, G...\u001b[0m\n",
      "\u001b[92m78: Guess: $8.99 Truth: $8.99 Error: $0.00 SLE: 0.00 Item: Waytiffer Gas Burner Liners (50 Pack) 8....\u001b[0m\n",
      "\u001b[92m79: Guess: $37.95 Truth: $36.95 Error: $1.00 SLE: 0.00 Item: USA Made MSWF Compatible by Instapure NS...\u001b[0m\n",
      "\u001b[92m80: Guess: $11.99 Truth: $11.99 Error: $0.00 SLE: 0.00 Item: 2-Pack 341241 Dryer Drum Belt Replacemen...\u001b[0m\n",
      "\u001b[92m81: Guess: $35.19 Truth: $41.30 Error: $6.11 SLE: 0.02 Item: Washing Machine Hoses and Steam Dryer In...\u001b[0m\n",
      "\u001b[92m82: Guess: $19.98 Truth: $35.61 Error: $15.63 SLE: 0.31 Item: Bosch 12004119 Dishwasher Door Spring an...\u001b[0m\n",
      "\u001b[91m83: Guess: $0.00 Truth: $169.99 Error: $169.99 SLE: 26.44 Item: Broan QS336AA QS3 Series Range Hood, 36-...\u001b[0m\n",
      "\u001b[92m84: Guess: $23.99 Truth: $19.91 Error: $4.08 SLE: 0.03 Item: Bosch 00631633 Range Surface Burner Igni...\u001b[0m\n",
      "\u001b[92m85: Guess: $14.99 Truth: $9.57 Error: $5.42 SLE: 0.17 Item: LONYE 9759242 Oven Thermal Fuse Replacem...\u001b[0m\n",
      "\u001b[92m86: Guess: $24.99 Truth: $29.69 Error: $4.70 SLE: 0.03 Item: Upgrade W10594481 Stainless Steel Cooker...\u001b[0m\n",
      "\u001b[92m87: Guess: $33.80 Truth: $21.93 Error: $11.87 SLE: 0.17 Item: Supco IMM8366 Icemaker Control Module, R...\u001b[0m\n",
      "\u001b[92m88: Guess: $27.99 Truth: $32.56 Error: $4.57 SLE: 0.02 Item: DA31-00334C (AP6803162) Evaporator Fan M...\u001b[0m\n",
      "\u001b[92m89: Guess: $24.99 Truth: $22.78 Error: $2.21 SLE: 0.01 Item: UPGRADE 240363702 Refrigerator Door Bin ...\u001b[0m\n",
      "\u001b[92m90: Guess: $24.79 Truth: $24.79 Error: $0.00 SLE: 0.00 Item: Supreme Covers Portable Washing Machine ...\u001b[0m\n",
      "\u001b[92m91: Guess: $42.50 Truth: $33.69 Error: $8.81 SLE: 0.05 Item: Frigidaire 316206401 Surface Burner Base...\u001b[0m\n",
      "\u001b[92m92: Guess: $14.99 Truth: $12.99 Error: $2.00 SLE: 0.02 Item: TooCust Milk Frothing Pitcher 20 OZ/600M...\u001b[0m\n",
      "\u001b[92m93: Guess: $0.00 Truth: $12.99 Error: $12.99 SLE: 6.96 Item: Premium Vials 38-28SWB-ZT 38 x 28 mm Cle...\u001b[0m\n",
      "\u001b[92m94: Guess: $8.99 Truth: $10.98 Error: $1.99 SLE: 0.03 Item: 8318084 AP3180933 PS886960 Washer Door L...\u001b[0m\n",
      "\u001b[92m95: Guess: $29.44 Truth: $26.44 Error: $3.00 SLE: 0.01 Item: Aqua Fresh 4396508 Replacement Water Fil...\u001b[0m\n",
      "\u001b[92m96: Guess: $12.99 Truth: $16.99 Error: $4.00 SLE: 0.06 Item: InterDesign Covered Egg Holder - Refrige...\u001b[0m\n",
      "\u001b[92m97: Guess: $24.99 Truth: $25.25 Error: $0.26 SLE: 0.00 Item: Upgrade DG94-00520A Gas Range Oven Flat ...\u001b[0m\n",
      "\u001b[92m98: Guess: $11.88 Truth: $11.88 Error: $0.00 SLE: 0.00 Item: 383EER4001A Washing Machine Inner/Outer ...\u001b[0m\n",
      "\u001b[92m99: Guess: $21.99 Truth: $28.99 Error: $7.00 SLE: 0.07 Item: Maxmartt 100mm Vent Cover Stainless Stee...\u001b[0m\n",
      "\u001b[92m100: Guess: $18.95 Truth: $23.12 Error: $4.17 SLE: 0.04 Item: Upgraded Lifetime Appliance WR72X239 Cri...\u001b[0m\n",
      "\u001b[92m101: Guess: $52.97 Truth: $52.97 Error: $0.00 SLE: 0.00 Item: Whirlpool W10181986 Sensor for Range, Si...\u001b[0m\n",
      "\u001b[92m102: Guess: $24.99 Truth: $25.99 Error: $1.00 SLE: 0.00 Item: Wintact Digital Temperature and Humidity...\u001b[0m\n",
      "\u001b[92m103: Guess: $16.99 Truth: $17.99 Error: $1.00 SLE: 0.00 Item: BOTNA 97006931 Range Hood Grease Filter ...\u001b[0m\n",
      "\u001b[92m104: Guess: $12.99 Truth: $7.99 Error: $5.00 SLE: 0.20 Item: Milk Frothing Pitcher 12oz, Espresso Cap...\u001b[0m\n",
      "\u001b[92m105: Guess: $19.99 Truth: $28.99 Error: $9.00 SLE: 0.13 Item: 1040 Replacement Wick for AIRCARE, Essic...\u001b[0m\n",
      "\u001b[92m106: Guess: $6.05 Truth: $12.07 Error: $6.02 SLE: 0.38 Item: Stanco Gas Range Drip Pan For Gas Ranges...\u001b[0m\n",
      "\u001b[92m107: Guess: $24.99 Truth: $18.99 Error: $6.00 SLE: 0.07 Item: Dampp Chaser Piano Humidifier Pad Treatm...\u001b[0m\n",
      "\u001b[92m108: Guess: $11.69 Truth: $9.99 Error: $1.70 SLE: 0.02 Item: Gardens 216822900 Light Switch Fits Frig...\u001b[0m\n",
      "\u001b[92m109: Guess: $29.99 Truth: $29.99 Error: $0.00 SLE: 0.00 Item: Waterspecialist DA97-17376B Replacement ...\u001b[0m\n",
      "\u001b[92m110: Guess: $10.99 Truth: $9.99 Error: $1.00 SLE: 0.01 Item: Upgraded WB03X24818 Stove Knob, Stainles...\u001b[0m\n",
      "\u001b[92m111: Guess: $26.99 Truth: $31.69 Error: $4.70 SLE: 0.02 Item: 5-PACK Top Burner Control Dial Knob Rang...\u001b[0m\n",
      "\u001b[92m112: Guess: $19.99 Truth: $24.99 Error: $5.00 SLE: 0.05 Item: Large Capacity Egg Holder for Refrigerat...\u001b[0m\n",
      "\u001b[92m113: Guess: $25.99 Truth: $25.99 Error: $0.00 SLE: 0.00 Item: FireFly Home Stove Top Protector for LG ...\u001b[0m\n",
      "\u001b[92m114: Guess: $19.99 Truth: $18.99 Error: $1.00 SLE: 0.00 Item: Annbully Cartoon USB Mini Mushroom Light...\u001b[0m\n",
      "\u001b[92m115: Guess: $8.99 Truth: $9.99 Error: $1.00 SLE: 0.01 Item: Goldenvalueable 6 x Single Coffee Pod Fi...\u001b[0m\n",
      "\u001b[92m116: Guess: $24.99 Truth: $22.99 Error: $2.00 SLE: 0.01 Item: Blueangle Pink Hibiscus Dishwasher Magne...\u001b[0m\n",
      "\u001b[92m117: Guess: $179.99 Truth: $169.99 Error: $10.00 SLE: 0.00 Item: ROVSUN 13LBS Portable Washing Machine, 1...\u001b[0m\n",
      "\u001b[92m118: Guess: $45.00 Truth: $36.99 Error: $8.01 SLE: 0.04 Item: 1-Year Warranty 137114000 Dryer Heating ...\u001b[0m\n",
      "\u001b[92m119: Guess: $24.99 Truth: $33.99 Error: $9.00 SLE: 0.09 Item: ICEPURE 46-9690 ADQ36006101 Replacement ...\u001b[0m\n",
      "\u001b[91m120: Guess: $0.00 Truth: $104.89 Error: $104.89 SLE: 21.74 Item: Whirlpool W10833899 Water Inlet Valve, W...\u001b[0m\n",
      "\u001b[92m121: Guess: $26.99 Truth: $19.98 Error: $7.01 SLE: 0.08 Item: W11036930 Washing Machine Water Valve FO...\u001b[0m\n",
      "\u001b[92m122: Guess: $12.99 Truth: $9.99 Error: $3.00 SLE: 0.06 Item: Sunflowers Refrigerator Door Handle Cove...\u001b[0m\n",
      "\u001b[92m123: Guess: $0.00 Truth: $28.10 Error: $28.10 SLE: 11.36 Item: General Electric WR17X3880 Front Shelf R...\u001b[0m\n",
      "\u001b[92m124: Guess: $27.50 Truth: $27.50 Error: $0.00 SLE: 0.00 Item: Supco Refrigerator Water Valve for Whirl...\u001b[0m\n",
      "\u001b[92m125: Guess: $22.99 Truth: $36.99 Error: $14.00 SLE: 0.21 Item: HASMX 6-918873 Dishwasher Cutlery Silver...\u001b[0m\n",
      "\u001b[92m126: Guess: $15.00 Truth: $19.84 Error: $4.84 SLE: 0.07 Item: Whirlpool W10437088 Range Surface Burner...\u001b[0m\n",
      "\u001b[92m127: Guess: $19.99 Truth: $24.99 Error: $5.00 SLE: 0.05 Item: 950S - Compatible with GE Square Gas Ran...\u001b[0m\n",
      "\u001b[92m128: Guess: $159.99 Truth: $169.99 Error: $10.00 SLE: 0.00 Item: WAFIET 12 Inch Gas Cooktop with 2 Italy ...\u001b[0m\n",
      "\u001b[92m129: Guess: $24.99 Truth: $19.99 Error: $5.00 SLE: 0.05 Item: Reusable Vertuo Capsule Cap + Coffee Pod...\u001b[0m\n",
      "\u001b[92m130: Guess: $14.99 Truth: $25.95 Error: $10.96 SLE: 0.27 Item: Coffee Filter Holder - Coffee Filter Sto...\u001b[0m\n",
      "\u001b[92m131: Guess: $0.00 Truth: $39.96 Error: $39.96 SLE: 13.78 Item: Star 2F-Z3036 Deflector-Burner Cast\u001b[0m\n",
      "\u001b[92m132: Guess: $15.90 Truth: $15.99 Error: $0.09 SLE: 0.00 Item: General Electric WB17T10006 Range Surfac...\u001b[0m\n",
      "\u001b[92m133: Guess: $22.99 Truth: $39.99 Error: $17.00 SLE: 0.29 Item: WiFi Temperature Sensor with Waterproof ...\u001b[0m\n",
      "\u001b[92m134: Guess: $24.99 Truth: $21.53 Error: $3.46 SLE: 0.02 Item: KITCHEN BASICS 101: 1 Piece 5304439835 F...\u001b[0m\n",
      "\u001b[92m135: Guess: $0.00 Truth: $26.99 Error: $26.99 SLE: 11.10 Item: Dryer Heating Element for Samsung，DC47-0...\u001b[0m\n",
      "\u001b[92m136: Guess: $34.99 Truth: $43.99 Error: $9.00 SLE: 0.05 Item: Samsung DA29-00020B, DA29-00020A, HAF-CI...\u001b[0m\n",
      "\u001b[92m137: Guess: $9.41 Truth: $9.41 Error: $0.00 SLE: 0.00 Item: HQRP 3-Pack Wick Filter Compatible with ...\u001b[0m\n",
      "\u001b[92m138: Guess: $8.99 Truth: $8.99 Error: $0.00 SLE: 0.00 Item: Reusable K Cups For Keurig K-Latte 1.0 C...\u001b[0m\n",
      "\u001b[92m139: Guess: $89.99 Truth: $61.51 Error: $28.48 SLE: 0.14 Item: IM10093 for WR30X10093 GE Icemaker Refri...\u001b[0m\n",
      "\u001b[92m140: Guess: $122.30 Truth: $122.30 Error: $0.00 SLE: 0.00 Item: Whirlpool W10159839 Inlet Valve\u001b[0m\n",
      "\u001b[92m141: Guess: $0.00 Truth: $14.89 Error: $14.89 SLE: 7.65 Item: 100 UNIVERSAL Round Aluminum Foil Gas Bu...\u001b[0m\n",
      "\u001b[92m142: Guess: $45.50 Truth: $39.99 Error: $5.51 SLE: 0.02 Item: TRUE 811502 Nozzle and Screw Set\u001b[0m\n",
      "\u001b[92m143: Guess: $15.99 Truth: $17.90 Error: $1.91 SLE: 0.01 Item: Dianoo Espresso Steaming Pitcher, Espres...\u001b[0m\n",
      "\u001b[92m144: Guess: $16.97 Truth: $16.77 Error: $0.20 SLE: 0.00 Item: Air Filter Factory Replacement For Lenno...\u001b[0m\n",
      "\u001b[92m145: Guess: $52.00 Truth: $23.99 Error: $28.01 SLE: 0.57 Item: EvertechPRO Washer Drain Pump Assembly R...\u001b[0m\n",
      "\u001b[92m146: Guess: $49.99 Truth: $35.00 Error: $14.99 SLE: 0.12 Item: Cheftek CT1010 Portable 2 Burner Electri...\u001b[0m\n",
      "\u001b[92m147: Guess: $8.99 Truth: $4.95 Error: $4.04 SLE: 0.27 Item: HQRP 4 Pin Universal Refrigerator Freeze...\u001b[0m\n",
      "\u001b[92m148: Guess: $24.99 Truth: $18.89 Error: $6.10 SLE: 0.07 Item: 2-Pack W10189190 TSD2 Start Device & W10...\u001b[0m\n",
      "\u001b[92m149: Guess: $12.99 Truth: $8.77 Error: $4.22 SLE: 0.13 Item: Air Filter Factory Replacement For Whirl...\u001b[0m\n",
      "\u001b[92m150: Guess: $0.00 Truth: $17.22 Error: $17.22 SLE: 8.42 Item: Plumb Pak Braided Washing Machine Hose, ...\u001b[0m\n",
      "\u001b[92m151: Guess: $35.00 Truth: $20.98 Error: $14.02 SLE: 0.24 Item: Bosch 00424673 Button, Silver\u001b[0m\n",
      "\u001b[92m152: Guess: $30.87 Truth: $37.37 Error: $6.50 SLE: 0.03 Item: Siwdoy 4391960 279816 3392519 Dryer Heat...\u001b[0m\n",
      "\u001b[92m153: Guess: $11.90 Truth: $11.99 Error: $0.09 SLE: 0.00 Item: OUGAR8 Refrigerator Door Handle Covers H...\u001b[0m\n",
      "\u001b[91m154: Guess: $25.00 Truth: $119.95 Error: $94.95 SLE: 2.36 Item: Bosch 00414750 Range Hood Fan Switch Gen...\u001b[0m\n",
      "\u001b[93m155: Guess: $89.99 Truth: $31.00 Error: $58.99 SLE: 1.09 Item: Replacement Filter Compatible with HG Ty...\u001b[0m\n",
      "\u001b[92m156: Guess: $39.46 Truth: $31.00 Error: $8.46 SLE: 0.06 Item: Aprilaire Humidifier Part # 10 for Model...\u001b[0m\n",
      "\u001b[92m157: Guess: $19.99 Truth: $7.97 Error: $12.02 SLE: 0.72 Item: Technivorm Moccamaster 85090 Cup-One Pap...\u001b[0m\n",
      "\u001b[92m158: Guess: $34.00 Truth: $51.50 Error: $17.50 SLE: 0.16 Item: LG Electronics 4681EA1007D 4681EA2001T W...\u001b[0m\n",
      "\u001b[92m159: Guess: $29.99 Truth: $27.99 Error: $2.00 SLE: 0.00 Item: ALAZA Flower on Marble Art Large Dishwas...\u001b[0m\n",
      "\u001b[92m160: Guess: $472.99 Truth: $466.24 Error: $6.75 SLE: 0.00 Item: Frigidaire FFEC3025UB 30 Inch Electric S...\u001b[0m\n",
      "\u001b[92m161: Guess: $23.65 Truth: $50.36 Error: $26.71 SLE: 0.54 Item: General Electric WR8X122 Refrigerator Ov...\u001b[0m\n",
      "\u001b[92m162: Guess: $12.99 Truth: $19.97 Error: $6.98 SLE: 0.16 Item: Small Size Pour Over Coffee filter Paper...\u001b[0m\n",
      "\u001b[92m163: Guess: $29.99 Truth: $29.95 Error: $0.04 SLE: 0.00 Item: Sealegend 6-Pieces Dryer Vent Cleaner Ki...\u001b[0m\n",
      "\u001b[92m164: Guess: $23.99 Truth: $23.99 Error: $0.00 SLE: 0.00 Item: Waterspecialist XWF NSF Certified Refrig...\u001b[0m\n",
      "\u001b[92m165: Guess: $12.73 Truth: $12.74 Error: $0.01 SLE: 0.00 Item: GARP 279816 Compatible Replacement for D...\u001b[0m\n",
      "\u001b[92m166: Guess: $10.99 Truth: $8.99 Error: $2.00 SLE: 0.03 Item: Premium W10258275 Dishwasher Bimetal The...\u001b[0m\n",
      "\u001b[92m167: Guess: $24.99 Truth: $24.99 Error: $0.00 SLE: 0.00 Item: UpStart Components Replacement for Gener...\u001b[0m\n",
      "\u001b[92m168: Guess: $19.99 Truth: $17.99 Error: $2.00 SLE: 0.01 Item: Chef's Star Stainless Steel Milk Frothin...\u001b[0m\n",
      "\u001b[92m169: Guess: $19.99 Truth: $19.99 Error: $0.00 SLE: 0.00 Item: Egg Container for Refrigerator 2 Layer E...\u001b[0m\n",
      "\u001b[92m170: Guess: $17.99 Truth: $18.77 Error: $0.78 SLE: 0.00 Item: AMI PARTS DC97-16742A Dryer Lint Filter ...\u001b[0m\n",
      "\u001b[92m171: Guess: $59.99 Truth: $47.86 Error: $12.13 SLE: 0.05 Item: GE WB2X9154 Igniter for Gas Broiler or O...\u001b[0m\n",
      "\u001b[92m172: Guess: $0.00 Truth: $34.45 Error: $34.45 SLE: 12.73 Item: General Electric WE25X218 Dryer Conversi...\u001b[0m\n",
      "\u001b[92m173: Guess: $7.99 Truth: $7.99 Error: $0.00 SLE: 0.00 Item: 312959 Dryer Belt Replacement for Maytag...\u001b[0m\n",
      "\u001b[92m174: Guess: $14.99 Truth: $27.99 Error: $13.00 SLE: 0.35 Item: 5-Pack Replacement EF-1 Filter for Kenmo...\u001b[0m\n",
      "\u001b[92m175: Guess: $117.99 Truth: $117.99 Error: $0.00 SLE: 0.00 Item: OEM Samsung Refrigerator Door Bin Basket...\u001b[0m\n",
      "\u001b[93m176: Guess: $599.99 Truth: $989.99 Error: $390.00 SLE: 0.25 Item: vevor 24\" Undercounter Built-in Refriger...\u001b[0m\n",
      "\u001b[92m177: Guess: $14.99 Truth: $18.99 Error: $4.00 SLE: 0.05 Item: Reusable Vertuo Capsule Kit for Nespress...\u001b[0m\n",
      "\u001b[92m178: Guess: $149.99 Truth: $164.98 Error: $14.99 SLE: 0.01 Item: 32\" x 30\" 2.5\" Heavy Duty Washer Machine...\u001b[0m\n",
      "\u001b[92m179: Guess: $19.76 Truth: $19.36 Error: $0.40 SLE: 0.00 Item: Fluidmaster 9WM60 \"No Burst\" Washing Mac...\u001b[0m\n",
      "\u001b[92m180: Guess: $12.99 Truth: $16.00 Error: $3.01 SLE: 0.04 Item: AYZE 5300622034 AP2135128 Electric Restr...\u001b[0m\n",
      "\u001b[92m181: Guess: $21.40 Truth: $21.40 Error: $0.00 SLE: 0.00 Item: Whirlpool 8559751 Door Handle, Black\u001b[0m\n",
      "\u001b[92m182: Guess: $29.99 Truth: $46.99 Error: $17.00 SLE: 0.19 Item: Upgraded Dryer Repair Kit Compatible wit...\u001b[0m\n",
      "\u001b[92m183: Guess: $12.50 Truth: $13.69 Error: $1.19 SLE: 0.01 Item: Camco 00553 8\" GE/Hotpoint Hinge Reflect...\u001b[0m\n",
      "\u001b[92m184: Guess: $0.00 Truth: $22.72 Error: $22.72 SLE: 10.03 Item: GE Part Number WB03T10272 KNOB SELECTOR ...\u001b[0m\n",
      "\u001b[92m185: Guess: $136.88 Truth: $105.13 Error: $31.75 SLE: 0.07 Item: Manitowoc Ice 4304643 Curtain, Water\u001b[0m\n",
      "\u001b[92m186: Guess: $19.99 Truth: $32.50 Error: $12.51 SLE: 0.22 Item: EXP279838 Heating Element ( Replaces 279...\u001b[0m\n",
      "\u001b[92m187: Guess: $150.00 Truth: $114.60 Error: $35.40 SLE: 0.07 Item: Vulcan Hart 346357-1 Thermo\u001b[0m\n",
      "\u001b[91m188: Guess: $0.00 Truth: $84.96 Error: $84.96 SLE: 19.84 Item: Turbo Air 30283N0100 Thermostat\u001b[0m\n",
      "\u001b[92m189: Guess: $45.50 Truth: $83.40 Error: $37.90 SLE: 0.36 Item: Frigidaire 241679003 Dispenser Trim Refr...\u001b[0m\n",
      "\u001b[92m190: Guess: $24.99 Truth: $9.99 Error: $15.00 SLE: 0.74 Item: W10721967 Splutch Cam Kit Replacement fo...\u001b[0m\n",
      "\u001b[92m191: Guess: $6.95 Truth: $9.49 Error: $2.54 SLE: 0.08 Item: newlifeapp 40113801 Dryer Thermal Cut of...\u001b[0m\n",
      "\u001b[92m192: Guess: $24.99 Truth: $29.99 Error: $5.00 SLE: 0.03 Item: Upgraded W10612022 Dryer Rear Drum Felt ...\u001b[0m\n",
      "\u001b[92m193: Guess: $16.99 Truth: $13.57 Error: $3.42 SLE: 0.04 Item: 2 Pack Top Burner Spark Igniter Range Re...\u001b[0m\n",
      "\u001b[92m194: Guess: $18.99 Truth: $19.96 Error: $0.97 SLE: 0.00 Item: 8540024 Washer Drain Pump Motor by Seent...\u001b[0m\n",
      "\u001b[92m195: Guess: $32.65 Truth: $56.99 Error: $24.34 SLE: 0.30 Item: New-Refrigerator Icemaker Module Compati...\u001b[0m\n",
      "\u001b[92m196: Guess: $15.69 Truth: $16.37 Error: $0.68 SLE: 0.00 Item: Whirlpool W10195839 Adjuster\u001b[0m\n",
      "\u001b[92m197: Guess: $16.99 Truth: $19.99 Error: $3.00 SLE: 0.02 Item: Nispira Replacement Range Hood Grease Fi...\u001b[0m\n",
      "\u001b[92m198: Guess: $35.00 Truth: $37.98 Error: $2.98 SLE: 0.01 Item: Mist Water Filter Replacement, Compatibl...\u001b[0m\n",
      "\u001b[92m199: Guess: $34.98 Truth: $34.79 Error: $0.19 SLE: 0.00 Item: (2-Pack) UPGRADE 240356402 Refrigerator ...\u001b[0m\n",
      "\u001b[92m200: Guess: $10.99 Truth: $8.39 Error: $2.60 SLE: 0.06 Item: DPD 3949238 Washer Lid Switch Assembly R...\u001b[0m\n",
      "\u001b[91m201: Guess: $0.00 Truth: $117.86 Error: $117.86 SLE: 22.83 Item: GENUINE Frigidaire 318050800 Bake Elemen...\u001b[0m\n",
      "\u001b[92m202: Guess: $14.99 Truth: $15.99 Error: $1.00 SLE: 0.00 Item: Anti Vibration Pads for Washing Machine,...\u001b[0m\n",
      "\u001b[92m203: Guess: $12.99 Truth: $10.99 Error: $2.00 SLE: 0.02 Item: 8536974 Dryer Drum Support Roller Kit, R...\u001b[0m\n",
      "\u001b[92m204: Guess: $0.00 Truth: $24.43 Error: $24.43 SLE: 10.47 Item: Whirlpool 279816 Dryer Thermal Fuse Kit\u001b[0m\n",
      "\u001b[93m205: Guess: $524.99 Truth: $426.98 Error: $98.01 SLE: 0.04 Item: Empava 36 500 CFM Island Range Hood Duct...\u001b[0m\n",
      "\u001b[92m206: Guess: $39.99 Truth: $39.99 Error: $0.00 SLE: 0.00 Item: SpiroPure SP-LE700 NSF Certified Refrige...\u001b[0m\n",
      "\u001b[92m207: Guess: $39.99 Truth: $26.99 Error: $13.00 SLE: 0.15 Item: Replacement for Jenn-Air A100W 8 inch 5 ...\u001b[0m\n",
      "\u001b[93m208: Guess: $75.99 Truth: $138.69 Error: $62.70 SLE: 0.35 Item: GE WR49X10091 Genuine OEM Damper Control...\u001b[0m\n",
      "\u001b[92m209: Guess: $12.99 Truth: $13.97 Error: $0.98 SLE: 0.00 Item: DC47-00016A Dryer Thermal Fuse Thermosta...\u001b[0m\n",
      "\u001b[92m210: Guess: $21.99 Truth: $21.99 Error: $0.00 SLE: 0.00 Item: 2-Pack Replacement for JFD2589KEP Refrig...\u001b[0m\n",
      "\u001b[92m211: Guess: $12.50 Truth: $18.88 Error: $6.38 SLE: 0.15 Item: WP33001244 33001244 Terminal Block Assem...\u001b[0m\n",
      "\u001b[92m212: Guess: $30.71 Truth: $18.41 Error: $12.30 SLE: 0.24 Item: Whirlpool 308180 Bake, Black\u001b[0m\n",
      "\u001b[92m213: Guess: $9.99 Truth: $9.95 Error: $0.04 SLE: 0.00 Item: LG 6501KW2001B 6501KW2001A Sensor Kenmor...\u001b[0m\n",
      "\u001b[92m214: Guess: $15.99 Truth: $18.00 Error: $2.01 SLE: 0.01 Item: Compatible Drum Belt for Maytag MDE2500A...\u001b[0m\n",
      "\u001b[92m215: Guess: $16.50 Truth: $33.95 Error: $17.45 SLE: 0.48 Item: Whirlpool MAL9000AXX Dryer Liquid Propan...\u001b[0m\n",
      "\u001b[92m216: Guess: $42.95 Truth: $42.95 Error: $0.00 SLE: 0.00 Item: MCGILL Replacement Black Fan Rocker Swit...\u001b[0m\n",
      "\u001b[92m217: Guess: $75.99 Truth: $59.99 Error: $16.00 SLE: 0.05 Item: New Upgraded 5304507199 Refrigerator Doo...\u001b[0m\n",
      "\u001b[92m218: Guess: $55.00 Truth: $55.58 Error: $0.58 SLE: 0.00 Item: TRUE 810719 Black Gasket For Gdm-19/23/4...\u001b[0m\n",
      "\u001b[92m219: Guess: $0.00 Truth: $15.10 Error: $15.10 SLE: 7.72 Item: LG 5215EA3003A Genuine OEM Drain Hose As...\u001b[0m\n",
      "\u001b[92m220: Guess: $39.99 Truth: $45.99 Error: $6.00 SLE: 0.02 Item: Waterspecialist DA29-00020B Refrigerator...\u001b[0m\n",
      "\u001b[92m221: Guess: $45.14 Truth: $60.14 Error: $15.00 SLE: 0.08 Item: GlobPro W10321032 1876931 Washer Water D...\u001b[0m\n",
      "\u001b[92m222: Guess: $39.99 Truth: $45.99 Error: $6.00 SLE: 0.02 Item: AQUA CREST 847200 Refrigerator Water Fil...\u001b[0m\n",
      "\u001b[92m223: Guess: $17.95 Truth: $16.24 Error: $1.71 SLE: 0.01 Item: Frigidaire 297216600 Frigidare Thermosta...\u001b[0m\n",
      "\u001b[92m224: Guess: $19.99 Truth: $31.99 Error: $12.00 SLE: 0.20 Item: Supplying Demand 8557884 W10874409 Cloth...\u001b[0m\n",
      "\u001b[92m225: Guess: $24.99 Truth: $34.00 Error: $9.01 SLE: 0.09 Item: Whole Parts 3398095 Dryer Push To Start ...\u001b[0m\n",
      "\u001b[92m226: Guess: $24.99 Truth: $26.99 Error: $2.00 SLE: 0.01 Item: i Cafillas Refillable Stainless Steel Co...\u001b[0m\n",
      "\u001b[92m227: Guess: $15.99 Truth: $15.39 Error: $0.60 SLE: 0.00 Item: er2198202 Thermostat\u001b[0m\n",
      "\u001b[92m228: Guess: $26.99 Truth: $27.77 Error: $0.78 SLE: 0.00 Item: Beaquicy WB44X5082 Oven Bake Element - R...\u001b[0m\n",
      "\u001b[92m229: Guess: $26.08 Truth: $26.08 Error: $0.00 SLE: 0.00 Item: Whirlpool 661570 Belt\u001b[0m\n",
      "\u001b[92m230: Guess: $24.99 Truth: $18.99 Error: $6.00 SLE: 0.07 Item: iFillMug 33 Pack for K Cup and Keurig Br...\u001b[0m\n",
      "\u001b[92m231: Guess: $159.18 Truth: $159.18 Error: $0.00 SLE: 0.00 Item: Frigidaire 5304506131 Freezer Door Gaske...\u001b[0m\n",
      "\u001b[92m232: Guess: $24.99 Truth: $34.95 Error: $9.96 SLE: 0.11 Item: New York Air 737-300 Airplane Miniature ...\u001b[0m\n",
      "\u001b[92m233: Guess: $19.99 Truth: $25.19 Error: $5.20 SLE: 0.05 Item: Amazon Basics Replacement GE XWF Refrige...\u001b[0m\n",
      "\u001b[92m234: Guess: $8.50 Truth: $19.51 Error: $11.01 SLE: 0.59 Item: Upgraded 5304506510 Dishrack Stop Clip -...\u001b[0m\n",
      "\u001b[92m235: Guess: $36.95 Truth: $37.45 Error: $0.50 SLE: 0.00 Item: Sportman Pastoral Style Vase Flower Kitc...\u001b[0m\n",
      "\u001b[92m236: Guess: $28.50 Truth: $29.99 Error: $1.49 SLE: 0.00 Item: [4680JB1026H Motor OEM Mania] 4680JB1026...\u001b[0m\n",
      "\u001b[91m237: Guess: $72.00 Truth: $163.56 Error: $91.56 SLE: 0.66 Item: 5304458371 Refrigerator Ice Maker Assemb...\u001b[0m\n",
      "\u001b[92m238: Guess: $9.99 Truth: $27.00 Error: $17.01 SLE: 0.87 Item: WE01X25915 Appliance Slide for General E...\u001b[0m\n",
      "\u001b[92m239: Guess: $4.99 Truth: $5.99 Error: $1.00 SLE: 0.02 Item: W10195416 Lower Dishwasher Wheel Replace...\u001b[0m\n",
      "\u001b[92m240: Guess: $12.99 Truth: $6.64 Error: $6.35 SLE: 0.37 Item: Gas Female Cap ORIFICE 1/8\" NPT # .75 (....\u001b[0m\n",
      "\u001b[92m241: Guess: $12.99 Truth: $26.04 Error: $13.05 SLE: 0.43 Item: 9pcs Silicon Rubber Pad for Bottle Cappi...\u001b[0m\n",
      "\u001b[92m242: Guess: $12.99 Truth: $13.79 Error: $0.80 SLE: 0.00 Item: Supplying Demand 6601EL3001A EBF61496101...\u001b[0m\n",
      "\u001b[93m243: Guess: $118.99 Truth: $78.98 Error: $40.01 SLE: 0.16 Item: General Electric WR24X10184 Refrigerator...\u001b[0m\n",
      "\u001b[92m244: Guess: $29.99 Truth: $27.99 Error: $2.00 SLE: 0.00 Item: i Cafilas New Lid Stainless Steel Refill...\u001b[0m\n",
      "\u001b[92m245: Guess: $29.99 Truth: $14.99 Error: $15.00 SLE: 0.44 Item: GHM Humidifier Replacement Filter E HC14...\u001b[0m\n",
      "\u001b[91m246: Guess: $145.61 Truth: $50.25 Error: $95.36 SLE: 1.10 Item: Manitowoc Ice 000009123 Water Inlet Valv...\u001b[0m\n",
      "\u001b[92m247: Guess: $138.00 Truth: $101.36 Error: $36.64 SLE: 0.09 Item: General Electric WH08X10049 Door Boot Se...\u001b[0m\n",
      "\u001b[92m248: Guess: $7.99 Truth: $4.98 Error: $3.01 SLE: 0.17 Item: Kitchen Stove Gap Cover Stove Count Gap ...\u001b[0m\n",
      "\u001b[92m249: Guess: $12.99 Truth: $9.89 Error: $3.10 SLE: 0.06 Item: W11457841 Washer & Dryer Lid Strike - fo...\u001b[0m\n",
      "\u001b[92m250: Guess: $31.99 Truth: $27.99 Error: $4.00 SLE: 0.02 Item: Nispira Humidifier Wick Filter Replaceme...\u001b[0m\n"
     ]
    },
    {
     "data": {
      "image/png": "[encoded data removed]",
      "text/plain": [
       "<Figure size 1200x800 with 1 Axes>"
      ]
     },
     "metadata": {},
     "output_type": "display_data"
    }
   ],
   "source": [
    "Tester.test(deepseek_api_rag, test)"
   ]
  },
  {
   "cell_type": "markdown",
   "id": "6739870f-1eec-4547-965d-4b594e685697",
   "metadata": {},
   "source": [
    "## And now to wrap this in an \"Agent\" class"
   ]
  },
  {
   "cell_type": "code",
   "execution_count": 31,
   "id": "e6d5deb3-6a2a-4484-872c-37176c5e1f07",
   "metadata": {},
   "outputs": [],
   "source": [
    "from agents.frontier_agent import FrontierAgent"
   ]
  },
  {
   "cell_type": "code",
   "execution_count": 32,
   "id": "2efa7ba9-c2d7-4f95-8bb5-c4295bbeb01f",
   "metadata": {},
   "outputs": [],
   "source": [
    "# Let's print the logs so we can see what's going on\n",
    "\n",
    "import logging\n",
    "root = logging.getLogger()\n",
    "root.setLevel(logging.INFO)"
   ]
  },
  {
   "cell_type": "code",
   "execution_count": 33,
   "id": "56e8dd5d-ed36-49d8-95f7-dc82e548255b",
   "metadata": {},
   "outputs": [
    {
     "name": "stderr",
     "output_type": "stream",
     "text": [
      "INFO:root:\u001b[40m\u001b[34m[Frontier Agent] Initializing Frontier Agent\u001b[0m\n",
      "INFO:root:\u001b[40m\u001b[34m[Frontier Agent] Frontier Agent is set up with DeepSeek\u001b[0m\n",
      "INFO:sentence_transformers.SentenceTransformer:Use pytorch device_name: mps\n",
      "INFO:sentence_transformers.SentenceTransformer:Load pretrained SentenceTransformer: sentence-transformers/all-MiniLM-L6-v2\n",
      "INFO:root:\u001b[40m\u001b[34m[Frontier Agent] Frontier Agent is ready\u001b[0m\n"
     ]
    }
   ],
   "source": [
    "agent = FrontierAgent(collection)"
   ]
  },
  {
   "cell_type": "code",
   "execution_count": 34,
   "id": "980dd126-f675-4499-8817-0cc0bb73e247",
   "metadata": {},
   "outputs": [
    {
     "name": "stderr",
     "output_type": "stream",
     "text": [
      "INFO:root:\u001b[40m\u001b[34m[Frontier Agent] Frontier Agent is performing a RAG search of the Chroma datastore to find 5 similar products\u001b[0m\n"
     ]
    },
    {
     "data": {
      "application/vnd.jupyter.widget-view+json": {
       "model_id": "f912a8de133f48b2b534976c0a01e3d7",
       "version_major": 2,
       "version_minor": 0
      },
      "text/plain": [
       "Batches:   0%|          | 0/1 [00:00<?, ?it/s]"
      ]
     },
     "metadata": {},
     "output_type": "display_data"
    },
    {
     "name": "stderr",
     "output_type": "stream",
     "text": [
      "INFO:root:\u001b[40m\u001b[34m[Frontier Agent] Frontier Agent has found similar products\u001b[0m\n",
      "INFO:root:\u001b[40m\u001b[34m[Frontier Agent] Frontier Agent is about to call deepseek-chat with context including 5 similar products\u001b[0m\n",
      "INFO:httpx:HTTP Request: POST https://api.deepseek.com/chat/completions \"HTTP/1.1 200 OK\"\n",
      "INFO:root:\u001b[40m\u001b[34m[Frontier Agent] Frontier Agent completed - predicting $139.99\u001b[0m\n"
     ]
    },
    {
     "data": {
      "text/plain": [
       "139.99"
      ]
     },
     "execution_count": 34,
     "metadata": {},
     "output_type": "execute_result"
    }
   ],
   "source": [
    "agent.price(\"Quadcast HyperX condenser mic for high quality podcasting\")"
   ]
  },
  {
   "cell_type": "code",
   "execution_count": 35,
   "id": "66c18a06-d0f1-4ec9-8aff-ec3ca294dd09",
   "metadata": {},
   "outputs": [],
   "source": [
    "from agents.specialist_agent import SpecialistAgent"
   ]
  },
  {
   "cell_type": "code",
   "execution_count": 36,
   "id": "ba672fb4-2c3e-42ee-9ea0-21bfcfc5260c",
   "metadata": {},
   "outputs": [
    {
     "name": "stderr",
     "output_type": "stream",
     "text": [
      "INFO:root:\u001b[40m\u001b[31m[Specialist Agent] Specialist Agent is initializing - connecting to modal\u001b[0m\n",
      "INFO:root:\u001b[40m\u001b[31m[Specialist Agent] Specialist Agent is ready\u001b[0m\n"
     ]
    }
   ],
   "source": [
    "agent2 = SpecialistAgent()"
   ]
  },
  {
   "cell_type": "code",
   "execution_count": 37,
   "id": "a5a97004-95b4-46ea-b12d-a4ead22fcb2a",
   "metadata": {},
   "outputs": [
    {
     "name": "stderr",
     "output_type": "stream",
     "text": [
      "INFO:root:\u001b[40m\u001b[31m[Specialist Agent] Specialist Agent is calling remote fine-tuned model\u001b[0m\n",
      "INFO:root:\u001b[40m\u001b[31m[Specialist Agent] Specialist Agent completed - predicting $150.00\u001b[0m\n"
     ]
    },
    {
     "data": {
      "text/plain": [
       "150.0"
      ]
     },
     "execution_count": 37,
     "metadata": {},
     "output_type": "execute_result"
    }
   ],
   "source": [
    "agent2.price(\"Quadcast HyperX condenser mic for high quality podcasting\")"
   ]
  },
  {
   "cell_type": "code",
   "execution_count": null,
   "id": "26d5ddc6-baa6-4760-a430-05671847ac47",
   "metadata": {},
   "outputs": [],
   "source": []
  }
 ],
 "metadata": {
  "kernelspec": {
   "display_name": ".venv",
   "language": "python",
   "name": "python3"
  },
  "language_info": {
   "codemirror_mode": {
    "name": "ipython",
    "version": 3
   },
   "file_extension": ".py",
   "mimetype": "text/x-python",
   "name": "python",
   "nbconvert_exporter": "python",
   "pygments_lexer": "ipython3",
   "version": "3.11.13"
  }
 },
 "nbformat": 4,
 "nbformat_minor": 5
}
