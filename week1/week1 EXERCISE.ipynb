{
 "cells": [
  {
   "cell_type": "markdown",
   "id": "fe12c203-e6a6-452c-a655-afb8a03a4ff5",
   "metadata": {},
   "source": [
    "# End of week 1 exercise\n",
    "\n",
    "To demonstrate your familiarity with OpenAI API, and also Ollama, build a tool that takes a technical question,  \n",
    "and responds with an explanation. This is a tool that you will be able to use yourself during the course!"
   ]
  },
  {
   "cell_type": "code",
   "execution_count": 53,
   "id": "c1070317-3ed9-4659-abe3-828943230e03",
   "metadata": {},
   "outputs": [],
   "source": [
    "# imports\n",
    "from openai import OpenAI\n",
    "chat = OpenAI().chat"
   ]
  },
  {
   "cell_type": "code",
   "execution_count": 51,
   "id": "4a456906-915a-4bfd-bb9d-57e505c5093f",
   "metadata": {},
   "outputs": [],
   "source": [
    "# constants\n",
    "\n",
    "MODEL_GPT = 'gpt-4o-mini'\n",
    "MODEL_LLAMA = 'llama3.2'\n",
    "MODEL_GRANITE = 'granite3.2:8b'"
   ]
  },
  {
   "cell_type": "code",
   "execution_count": 6,
   "id": "a8d7923c-5f28-4c30-8556-342d7c8497c1",
   "metadata": {},
   "outputs": [
    {
     "data": {
      "text/plain": [
       "True"
      ]
     },
     "execution_count": 6,
     "metadata": {},
     "output_type": "execute_result"
    }
   ],
   "source": [
    "# set up environment\n",
    "from dotenv import load_dotenv\n",
    "load_dotenv()"
   ]
  },
  {
   "cell_type": "code",
   "execution_count": 49,
   "id": "3f0d0137-52b0-47a8-81a8-11a90a010798",
   "metadata": {},
   "outputs": [],
   "source": [
    "# here is the question; type over this to ask something new\n",
    "\n",
    "question = \"\"\"\n",
    "Please explain what this code does and why:\n",
    "yield from {book.get(\"author\") for book in books if book.get(\"author\")}\n",
    "\"\"\""
   ]
  },
  {
   "cell_type": "code",
   "execution_count": null,
   "id": "60ce7000-a4a5-4cce-a261-e75ef45063b4",
   "metadata": {},
   "outputs": [],
   "source": [
    "# Get gpt-4o-mini to answer, with streaming\n",
    "stream = chat.completions.create(model=MODEL_GPT, messages=[\n",
    "    {\"role\": \"system\", \"content\": \"You are Python Expert. You are going to explain code snippets in one line.\"},\n",
    "    {\"role\": \"user\", \"content\": question}\n",
    "], stream=True)    "
   ]
  },
  {
   "cell_type": "code",
   "execution_count": 42,
   "id": "95d90925",
   "metadata": {},
   "outputs": [
    {
     "data": {
      "text/markdown": [
       "This code uses a generator expression to yield each unique author from a collection of books, omitting any entries where the author's name is not present."
      ],
      "text/plain": [
       "<IPython.core.display.Markdown object>"
      ]
     },
     "metadata": {},
     "output_type": "display_data"
    }
   ],
   "source": [
    "from IPython.display import Markdown, display, update_display\n",
    "disp1 = display(Markdown(\"\"), display_id=True)\n",
    "response = ''\n",
    "for token in stream: \n",
    "    response += (token.choices[0].delta.content or '')\n",
    "    update_display(Markdown(response), display_id=disp1.display_id)"
   ]
  },
  {
   "cell_type": "code",
   "execution_count": 54,
   "id": "8f7c8ea8-4082-4ad0-8751-3301adcf6538",
   "metadata": {},
   "outputs": [],
   "source": [
    "# Get Llama 3.2 to answer\n",
    "from ollama import chat"
   ]
  },
  {
   "cell_type": "code",
   "execution_count": 57,
   "id": "6ff8be31",
   "metadata": {},
   "outputs": [],
   "source": [
    "stream = chat(model=MODEL_GRANITE, messages=[\n",
    "    {\"role\": \"control\", \"content\": \"thinking\"},\n",
    "    {\"role\": \"system\", \"content\": \"You are Python Expert. You are going to explain code snippets in one line.\"},\n",
    "    {\"role\": \"user\", \"content\": question}\n",
    "], stream=True)"
   ]
  },
  {
   "cell_type": "code",
   "execution_count": 58,
   "id": "f81ae27b",
   "metadata": {},
   "outputs": [
    {
     "data": {
      "text/markdown": [
       "This line of code uses a generator expression within the `yield from` statement to yield each author's name from the list of 'books' where the book dictionary contains an 'author'. The `{...}` is a set comprehension, which automatically eliminates any duplicate authors. This construct is used for lazy evaluation and efficient iteration over large datasets."
      ],
      "text/plain": [
       "<IPython.core.display.Markdown object>"
      ]
     },
     "metadata": {},
     "output_type": "display_data"
    }
   ],
   "source": [
    "from IPython.display import Markdown, display, update_display\n",
    "disp1 = display(Markdown(\"\"), display_id=True)\n",
    "response = ''\n",
    "for token in stream: \n",
    "    response += (token.message.content or '')\n",
    "    update_display(Markdown(response), display_id=disp1.display_id)"
   ]
  }
 ],
 "metadata": {
  "kernelspec": {
   "display_name": ".venv",
   "language": "python",
   "name": "python3"
  },
  "language_info": {
   "codemirror_mode": {
    "name": "ipython",
    "version": 3
   },
   "file_extension": ".py",
   "mimetype": "text/x-python",
   "name": "python",
   "nbconvert_exporter": "python",
   "pygments_lexer": "ipython3",
   "version": "3.11.12"
  }
 },
 "nbformat": 4,
 "nbformat_minor": 5
}
