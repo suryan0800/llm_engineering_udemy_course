{
 "cells": [
  {
   "cell_type": "markdown",
   "id": "0df0d850-49eb-4a0b-a27a-146969db710d",
   "metadata": {},
   "source": [
    "# The Price is Right\n",
    "\n",
    "Today we'll build another piece of the puzzle: a ScanningAgent that looks for promising deals by subscribing to RSS feeds."
   ]
  },
  {
   "cell_type": "code",
   "execution_count": 1,
   "id": "d3763a79-8a5a-4300-8de4-93e85475af10",
   "metadata": {},
   "outputs": [],
   "source": [
    "# imports\n",
    "\n",
    "import os\n",
    "import json\n",
    "from dotenv import load_dotenv\n",
    "from openai import OpenAI\n",
    "from agents.deals import ScrapedDeal, DealSelection"
   ]
  },
  {
   "cell_type": "code",
   "execution_count": 2,
   "id": "c6469e32-16c3-4443-9475-ade710ef6933",
   "metadata": {},
   "outputs": [],
   "source": [
    "# Initialize and constants\n",
    "\n",
    "load_dotenv(override=True)\n",
    "os.environ['OPENAI_API_KEY'] = os.getenv('OPENAI_API_KEY', 'your-key-if-not-using-env')\n",
    "MODEL = 'gpt-4o-mini'\n",
    "openai = OpenAI()"
   ]
  },
  {
   "cell_type": "code",
   "execution_count": 3,
   "id": "afece9db-8cd4-46be-ac57-0b472e84da7d",
   "metadata": {},
   "outputs": [
    {
     "name": "stderr",
     "output_type": "stream",
     "text": [
      "  0%|          | 0/1 [00:00<?, ?it/s]"
     ]
    },
    {
     "name": "stderr",
     "output_type": "stream",
     "text": [
      "100%|██████████| 1/1 [02:03<00:00, 123.78s/it]\n"
     ]
    }
   ],
   "source": [
    "deals = ScrapedDeal.fetch(show_progress=True)"
   ]
  },
  {
   "cell_type": "code",
   "execution_count": 4,
   "id": "8cd15c4d-eb44-4601-bf0c-f945c1d8e3ec",
   "metadata": {},
   "outputs": [
    {
     "data": {
      "text/plain": [
       "20"
      ]
     },
     "execution_count": 4,
     "metadata": {},
     "output_type": "execute_result"
    }
   ],
   "source": [
    "len(deals)"
   ]
  },
  {
   "cell_type": "code",
   "execution_count": 5,
   "id": "4259f30a-6455-49ed-8863-2f9ddd4776cb",
   "metadata": {},
   "outputs": [
    {
     "data": {
      "text/plain": [
       "'Title: Garvee 3-Ton Triple Air Bag Jack for $86 + free shipping\\nDetails: Apply coupon code DEAL527 for an extra savings of $51. Buy Now at Garvee\\nFeatures: \\nURL: https://www.dealnews.com/Garvee-3-Ton-Triple-Air-Bag-Jack-for-86-free-shipping/21743635.html?iref=rss-c238'"
      ]
     },
     "execution_count": 5,
     "metadata": {},
     "output_type": "execute_result"
    }
   ],
   "source": [
    "deals[5].describe()"
   ]
  },
  {
   "cell_type": "code",
   "execution_count": 5,
   "id": "8100e5ac-38f5-40c1-a712-08ae12c85038",
   "metadata": {},
   "outputs": [],
   "source": [
    "system_prompt = \"\"\"You identify and summarize the 5 most detailed deals from a list, by selecting deals that have the most detailed, high quality description and the most clear price.\n",
    "Respond strictly in JSON with no explanation, using this format. You should provide the price as a number derived from the description. If the price of a deal isn't clear, do not include that deal in your response.\n",
    "Most important is that you respond with the 5 deals that have the most detailed product description with price. It's not important to mention the terms of the deal; most important is a thorough description of the product.\n",
    "Be careful with products that are described as \"$XXX off\" or \"reduced by $XXX\" - this isn't the actual price of the product. Only respond with products when you are highly confident about the price. \n",
    "\n",
    "{\"deals\": [\n",
    "    {\n",
    "        \"product_description\": \"Your clearly expressed summary of the product in 4-5 sentences. Details of the item are much more important than why it's a good deal. Avoid mentioning discounts and coupons; focus on the item itself. There should be a paragpraph of text for each item you choose.\",\n",
    "        \"price\": 99.99,\n",
    "        \"url\": \"the url as provided\"\n",
    "    },\n",
    "    ...\n",
    "]}\"\"\""
   ]
  },
  {
   "cell_type": "code",
   "execution_count": 6,
   "id": "f4bca170-af71-40c9-9597-1d72980c74d8",
   "metadata": {},
   "outputs": [],
   "source": [
    "user_prompt = \"\"\"Respond with the most promising 5 deals from this list, selecting those which have the most detailed, high quality product description and a clear price.\n",
    "Respond strictly in JSON, and only JSON. You should rephrase the description to be a summary of the product itself, not the terms of the deal.\n",
    "Remember to respond with a paragraph of text in the product_description field for each of the 5 items that you select.\n",
    "Be careful with products that are described as \"$XXX off\" or \"reduced by $XXX\" - this isn't the actual price of the product. Only respond with products when you are highly confident about the price. \n",
    "\n",
    "Deals:\n",
    "\n",
    "\"\"\"\n",
    "user_prompt += '\\n\\n'.join([deal.describe() for deal in deals])"
   ]
  },
  {
   "cell_type": "code",
   "execution_count": 7,
   "id": "020947a6-561b-417b-98a0-a085e31d2ce3",
   "metadata": {},
   "outputs": [
    {
     "name": "stdout",
     "output_type": "stream",
     "text": [
      "Respond with the most promising 5 deals from this list, selecting those which have the most detailed, high quality product description and a clear price.\n",
      "Respond strictly in JSON, and only JSON. You should rephrase the description to be a summary of the product itself, not the terms of the deal.\n",
      "Remember to respond with a paragraph of text in the product_description field for each of the 5 items that you select.\n",
      "Be careful with products that are described as \"$XXX off\" or \"reduced by $XXX\" - this isn't the actual price of the product. Only respond with products when you are highly confident about the price. \n",
      "\n",
      "Deals:\n",
      "\n",
      "Title: Auto Accessory Deals at eBay: Up to 95% off + free shipping\n",
      "Details: There are some massive lows to be had here, we found plenty of items that are double or more elsewhere today. We've picked out this 1,000-lbs. Steel Engine Cradle for Ford for $38.99 (better than half off.) Shop Now at eBay\n",
      "Features: \n",
      "URL: https://www.dealnews.com/Auto-Accessory-Deals-at-eBay-Up-to-95-off-free-shipping/21744187.html?iref=rss-c238\n",
      "\n",
      "Title: Back Up Camera for 2011-2013 Jeep Grand Cherokee Dodge Durango for $17 + free shipping\n",
      "Details: The next best on this elsewhere today is more than double, at Amazon. Buy Now at eBay\n",
      "Features: 130-degree angle\n",
      "URL: https://www.dealnews.com/Back-Up-Camera-for-2011-2013-Jeep-Grand-Cherokee-Dodge-Durango-for-17-free-shipping/21744186.html?iref=rss-c238\n",
      "\n",
      "Title: Dash Cover Mat for 2004-2008 Ford F150 for $24 + free shipping\n",
      "Details: Apply coupon code \"MAT40\" for a savings of $16. Buy Now at Flashark Racing\n",
      "Features: \n",
      "URL: https://www.dealnews.com/Dash-Cover-Mat-for-2004-2008-Ford-F150-for-24-free-shipping/21743970.html?iref=rss-c238\n",
      "\n",
      "Title: CRC 11-oz. Heavy Duty Silicone Lubricant for $3 + free shipping w/ $35\n",
      "Details: You'd pay $12 for this 11-oz. bottle today at Amazon. Add to an order of $35 or more or pick it up in store to dodge the shipping fees. Buy Now at Walmart\n",
      "Features: suitable for machinery and tools\n",
      "URL: https://www.deal\n"
     ]
    }
   ],
   "source": [
    "print(user_prompt[:2000])"
   ]
  },
  {
   "cell_type": "code",
   "execution_count": 8,
   "id": "7de46f74-868c-4127-8a68-cf2da7d600bb",
   "metadata": {},
   "outputs": [],
   "source": [
    "def get_recommendations():\n",
    "    completion = openai.beta.chat.completions.parse(\n",
    "        model=\"gpt-4o-mini\",\n",
    "        messages=[\n",
    "            {\"role\": \"system\", \"content\": system_prompt},\n",
    "            {\"role\": \"user\", \"content\": user_prompt}\n",
    "      ],\n",
    "        response_format=DealSelection\n",
    "    )\n",
    "    result = completion.choices[0].message.parsed\n",
    "    return result"
   ]
  },
  {
   "cell_type": "code",
   "execution_count": 9,
   "id": "4c06270d-8c17-4d5a-9cfe-b6cefe788d5e",
   "metadata": {},
   "outputs": [],
   "source": [
    "result = get_recommendations()"
   ]
  },
  {
   "cell_type": "code",
   "execution_count": 10,
   "id": "84e62845-3338-441a-8161-c70097af4773",
   "metadata": {},
   "outputs": [
    {
     "data": {
      "text/plain": [
       "5"
      ]
     },
     "execution_count": 10,
     "metadata": {},
     "output_type": "execute_result"
    }
   ],
   "source": [
    "len(result.deals)"
   ]
  },
  {
   "cell_type": "code",
   "execution_count": 11,
   "id": "e5554a0a-ae40-4684-ad3e-faa3d22e030c",
   "metadata": {},
   "outputs": [
    {
     "data": {
      "text/plain": [
       "Deal(product_description=\"This back-up camera is specifically tailored for the 2011-2013 Jeep Grand Cherokee and Dodge Durango models. Featuring a wide 130-degree angle for enhanced visibility, this camera improves safety by providing a clearer view of what's behind your vehicle. Its compact design ensures easy installation, allowing you to enhance your vehicle's safety features without hassle. Priced at $17, this back-up camera is an affordable way to add extra safety to your ride.\", price=17.0, url='https://www.dealnews.com/Back-Up-Camera-for-2011-2013-Jeep-Grand-Cherokee-Dodge-Durango-for-17-free-shipping/21744186.html?iref=rss-c238')"
      ]
     },
     "execution_count": 11,
     "metadata": {},
     "output_type": "execute_result"
    }
   ],
   "source": [
    "result.deals[1]"
   ]
  },
  {
   "cell_type": "code",
   "execution_count": 12,
   "id": "8bdc57fb-7497-47af-a643-6ba5a21cc17e",
   "metadata": {},
   "outputs": [],
   "source": [
    "from agents.scanner_agent import ScannerAgent"
   ]
  },
  {
   "cell_type": "code",
   "execution_count": 13,
   "id": "132278bc-217a-43a6-b6c4-724140c6a225",
   "metadata": {},
   "outputs": [],
   "source": [
    "agent = ScannerAgent()\n",
    "result = agent.scan()"
   ]
  },
  {
   "cell_type": "code",
   "execution_count": 14,
   "id": "2e1d013a-c930-4dad-901b-41433379e14b",
   "metadata": {},
   "outputs": [
    {
     "data": {
      "text/plain": [
       "DealSelection(deals=[Deal(product_description='This 5-Gallon Jerry Can is ideal for storing and transporting fuel or other liquids safely. Constructed from durable materials, it is designed to prevent spills and leaks. The can comes with a sturdy handle for easy lifting and pouring, making it perfect for both recreational use and emergency situations. At a price of $31, this jerry can represents a great value for those who need reliable liquid storage.', price=31.0, url='https://www.dealnews.com/5-Gallon-Jerry-Can-for-31-free-shipping/21741296.html?iref=rss-c238'), Deal(product_description='The 3-Ton Triple Air Bag Jack from Garvee offers superior lifting capability for a variety of vehicles. It features a triple air bag design to provide stability and ease of use. The jack is perfect for both professional mechanics and DIY enthusiasts, allowing you to lift vehicles quickly and safely. Priced at $86, this jack includes free shipping for added convenience.', price=86.0, url='https://www.dealnews.com/Garvee-3-Ton-Triple-Air-Bag-Jack-for-86-free-shipping/21743635.html?iref=rss-c238'), Deal(product_description='The Pennzoil Platinum Full Synthetic 5W-20 Motor Oil is engineered for enhanced performance and engine protection. This 1-quart bottle ensures that your engine runs smoothly and efficiently, protecting against wear and tear. It is particularly useful for high-mileage vehicles or those operating under extreme conditions. At $7, this product includes free shipping on orders of $35 or more, making it a practical choice for maintenance.', price=7.0, url='https://www.dealnews.com/Pennzoil-Platinum-Full-Synthetic-5-W-20-Motor-Oil-1-Quart-Bottle-for-7-free-shipping-w-35/21741876.html?iref=rss-c238'), Deal(product_description='This Heavy Duty Silicone Lubricant from CRC comes in an 11-ounce can and is suitable for a broad range of applications, particularly in machinery and tools. It provides excellent lubrication and helps in reducing friction, enhancing equipment lifespan. Perfect for both professional and household use, the lubricant is priced at $3, making it an affordable solution for maintenance needs.', price=3.0, url='https://www.dealnews.com/products/CRC-Industries/CRC-11-oz-Heavy-Duty-Silicone-Lubricant/490557.html?iref=rss-c238'), Deal(product_description='The Lawn Mower Lift Jack is capable of supporting up to 882 pounds, making it a powerful tool for maintaining and repairing lawn mowers. Constructed with a steel tube frame, it features an adjustable height to accommodate various mower sizes. This jack measures 46.4\" x 20.8\" x 42.1\" and is essential for anyone looking to perform maintenance on their lawn equipment efficiently. It is available for $69 with free shipping.', price=69.0, url='https://www.dealnews.com/Lawn-Mower-882-lbs-Lift-Jack-for-69-free-shipping/21739923.html?iref=rss-c238')])"
      ]
     },
     "execution_count": 14,
     "metadata": {},
     "output_type": "execute_result"
    }
   ],
   "source": [
    "result"
   ]
  },
  {
   "cell_type": "code",
   "execution_count": null,
   "id": "5ee2e837-1f1d-42d4-8bc4-51cccc343006",
   "metadata": {},
   "outputs": [],
   "source": []
  }
 ],
 "metadata": {
  "kernelspec": {
   "display_name": ".venv",
   "language": "python",
   "name": "python3"
  },
  "language_info": {
   "codemirror_mode": {
    "name": "ipython",
    "version": 3
   },
   "file_extension": ".py",
   "mimetype": "text/x-python",
   "name": "python",
   "nbconvert_exporter": "python",
   "pygments_lexer": "ipython3",
   "version": "3.11.13"
  }
 },
 "nbformat": 4,
 "nbformat_minor": 5
}
