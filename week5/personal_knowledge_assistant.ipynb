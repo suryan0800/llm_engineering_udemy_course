{
 "cells": [
  {
   "cell_type": "markdown",
   "id": "dfe37963-1af6-44fc-a841-8e462443f5e6",
   "metadata": {},
   "source": [
    "## Expert Knowledge Worker\n",
    "\n",
    "### A question answering agent that is an expert knowledge worker\n",
    "### To be used by employees of Insurellm, an Insurance Tech company\n",
    "### The agent needs to be accurate and the solution should be low cost.\n",
    "\n",
    "This project will use RAG (Retrieval Augmented Generation) to ensure our question/answering assistant has high accuracy.\n",
    "\n",
    "This first implementation will use a simple, brute-force type of RAG.."
   ]
  },
  {
   "cell_type": "code",
   "execution_count": 1,
   "id": "ba2779af-84ef-4227-9e9e-6eaf0df87e77",
   "metadata": {},
   "outputs": [],
   "source": [
    "# imports\n",
    "\n",
    "import os\n",
    "import glob\n",
    "from dotenv import load_dotenv\n",
    "import gradio as gr"
   ]
  },
  {
   "cell_type": "code",
   "execution_count": 2,
   "id": "802137aa-8a74-45e0-a487-d1974927d7ca",
   "metadata": {},
   "outputs": [],
   "source": [
    "# imports for langchain, plotly and Chroma\n",
    "\n",
    "from langchain.document_loaders import DirectoryLoader, TextLoader\n",
    "from langchain.text_splitter import CharacterTextSplitter\n",
    "from langchain.schema import Document\n",
    "from langchain_openai import OpenAIEmbeddings, ChatOpenAI\n",
    "from langchain_chroma import Chroma\n",
    "import matplotlib.pyplot as plt\n",
    "from sklearn.manifold import TSNE\n",
    "import numpy as np\n",
    "import plotly.graph_objects as go\n",
    "from langchain.memory import ConversationBufferMemory\n",
    "from langchain.chains import ConversationalRetrievalChain\n",
    "from langchain.embeddings import HuggingFaceEmbeddings\n",
    "from langchain.prompts import ChatPromptTemplate, MessagesPlaceholder\n",
    "from langchain_core.callbacks import StdOutCallbackHandler\n",
    "from langchain.chains import LLMChain\n",
    "from langchain.chains import (\n",
    "    create_history_aware_retriever,\n",
    "    create_retrieval_chain   \n",
    ")\n",
    "from langchain.chains.combine_documents import create_stuff_documents_chain\n",
    "from langchain.globals import set_debug\n"
   ]
  },
  {
   "cell_type": "code",
   "execution_count": 3,
   "id": "eea5e375",
   "metadata": {},
   "outputs": [],
   "source": [
    "set_debug(True)"
   ]
  },
  {
   "cell_type": "code",
   "execution_count": 4,
   "id": "58c85082-e417-4708-9efe-81a5d55d1424",
   "metadata": {},
   "outputs": [],
   "source": [
    "# price is a factor for our company, so we're going to use a low cost model\n",
    "EMBEDDING_MODEL = 'ibm-granite/granite-embedding-125m-english'\n",
    "MODEL = \"gpt-4o-mini\"\n",
    "GRANITE_MODEL = 'granite3.3:8b'\n",
    "db_name = \"surya_knowledgebase\""
   ]
  },
  {
   "cell_type": "code",
   "execution_count": 5,
   "id": "ee78efcb-60fe-449e-a944-40bab26261af",
   "metadata": {},
   "outputs": [],
   "source": [
    "# Load environment variables in a file called .env\n",
    "\n",
    "load_dotenv(override=True)\n",
    "os.environ['OPENAI_API_KEY'] = os.getenv('OPENAI_API_KEY', 'your-key-if-not-using-env')"
   ]
  },
  {
   "cell_type": "code",
   "execution_count": 7,
   "id": "730711a9-6ffe-4eee-8f48-d6cfb7314905",
   "metadata": {},
   "outputs": [
    {
     "name": "stderr",
     "output_type": "stream",
     "text": [
      "Could get FontBBox from font descriptor because None cannot be parsed as 4 floats\n",
      "Could get FontBBox from font descriptor because None cannot be parsed as 4 floats\n",
      "Could get FontBBox from font descriptor because None cannot be parsed as 4 floats\n",
      "Could get FontBBox from font descriptor because None cannot be parsed as 4 floats\n",
      "Could get FontBBox from font descriptor because None cannot be parsed as 4 floats\n",
      "Could get FontBBox from font descriptor because None cannot be parsed as 4 floats\n",
      "Could get FontBBox from font descriptor because None cannot be parsed as 4 floats\n",
      "Could get FontBBox from font descriptor because None cannot be parsed as 4 floats\n",
      "Could get FontBBox from font descriptor because None cannot be parsed as 4 floats\n",
      "Could get FontBBox from font descriptor because None cannot be parsed as 4 floats\n",
      "Could get FontBBox from font descriptor because None cannot be parsed as 4 floats\n",
      "Could get FontBBox from font descriptor because None cannot be parsed as 4 floats\n",
      "Could get FontBBox from font descriptor because None cannot be parsed as 4 floats\n",
      "Could get FontBBox from font descriptor because None cannot be parsed as 4 floats\n",
      "Could get FontBBox from font descriptor because None cannot be parsed as 4 floats\n",
      "Could get FontBBox from font descriptor because None cannot be parsed as 4 floats\n",
      "Could get FontBBox from font descriptor because None cannot be parsed as 4 floats\n",
      "Could get FontBBox from font descriptor because None cannot be parsed as 4 floats\n",
      "Could get FontBBox from font descriptor because None cannot be parsed as 4 floats\n",
      "Could get FontBBox from font descriptor because None cannot be parsed as 4 floats\n",
      "Could get FontBBox from font descriptor because None cannot be parsed as 4 floats\n",
      "Could get FontBBox from font descriptor because None cannot be parsed as 4 floats\n",
      "Could get FontBBox from font descriptor because None cannot be parsed as 4 floats\n",
      "Could get FontBBox from font descriptor because None cannot be parsed as 4 floats\n",
      "Could get FontBBox from font descriptor because None cannot be parsed as 4 floats\n",
      "Could get FontBBox from font descriptor because None cannot be parsed as 4 floats\n",
      "Could get FontBBox from font descriptor because None cannot be parsed as 4 floats\n",
      "Could get FontBBox from font descriptor because None cannot be parsed as 4 floats\n",
      "Could get FontBBox from font descriptor because None cannot be parsed as 4 floats\n",
      "Could get FontBBox from font descriptor because None cannot be parsed as 4 floats\n",
      "Could get FontBBox from font descriptor because None cannot be parsed as 4 floats\n",
      "Could get FontBBox from font descriptor because None cannot be parsed as 4 floats\n",
      "Could get FontBBox from font descriptor because None cannot be parsed as 4 floats\n",
      "Could get FontBBox from font descriptor because None cannot be parsed as 4 floats\n",
      "Could get FontBBox from font descriptor because None cannot be parsed as 4 floats\n",
      "Could get FontBBox from font descriptor because None cannot be parsed as 4 floats\n",
      "Could get FontBBox from font descriptor because None cannot be parsed as 4 floats\n",
      "Could get FontBBox from font descriptor because None cannot be parsed as 4 floats\n",
      "Could get FontBBox from font descriptor because None cannot be parsed as 4 floats\n",
      "Could get FontBBox from font descriptor because None cannot be parsed as 4 floats\n",
      "Could get FontBBox from font descriptor because None cannot be parsed as 4 floats\n",
      "Could get FontBBox from font descriptor because None cannot be parsed as 4 floats\n",
      "Could get FontBBox from font descriptor because None cannot be parsed as 4 floats\n",
      "Could get FontBBox from font descriptor because None cannot be parsed as 4 floats\n",
      "Could get FontBBox from font descriptor because None cannot be parsed as 4 floats\n",
      "Could get FontBBox from font descriptor because None cannot be parsed as 4 floats\n",
      "Could get FontBBox from font descriptor because None cannot be parsed as 4 floats\n",
      "Could get FontBBox from font descriptor because None cannot be parsed as 4 floats\n",
      "Could get FontBBox from font descriptor because None cannot be parsed as 4 floats\n",
      "Could get FontBBox from font descriptor because None cannot be parsed as 4 floats\n",
      "Could get FontBBox from font descriptor because None cannot be parsed as 4 floats\n",
      "Could get FontBBox from font descriptor because None cannot be parsed as 4 floats\n",
      "Could get FontBBox from font descriptor because None cannot be parsed as 4 floats\n",
      "Could get FontBBox from font descriptor because None cannot be parsed as 4 floats\n",
      "Could get FontBBox from font descriptor because None cannot be parsed as 4 floats\n",
      "Could get FontBBox from font descriptor because None cannot be parsed as 4 floats\n",
      "Could get FontBBox from font descriptor because None cannot be parsed as 4 floats\n",
      "Could get FontBBox from font descriptor because None cannot be parsed as 4 floats\n",
      "Could get FontBBox from font descriptor because None cannot be parsed as 4 floats\n",
      "Could get FontBBox from font descriptor because None cannot be parsed as 4 floats\n",
      "Could get FontBBox from font descriptor because None cannot be parsed as 4 floats\n",
      "Could get FontBBox from font descriptor because None cannot be parsed as 4 floats\n",
      "Could get FontBBox from font descriptor because None cannot be parsed as 4 floats\n",
      "Could get FontBBox from font descriptor because None cannot be parsed as 4 floats\n",
      "Could get FontBBox from font descriptor because None cannot be parsed as 4 floats\n",
      "Could get FontBBox from font descriptor because None cannot be parsed as 4 floats\n",
      "Could get FontBBox from font descriptor because None cannot be parsed as 4 floats\n",
      "Could get FontBBox from font descriptor because None cannot be parsed as 4 floats\n",
      "Could get FontBBox from font descriptor because None cannot be parsed as 4 floats\n",
      "Could get FontBBox from font descriptor because None cannot be parsed as 4 floats\n",
      "Could get FontBBox from font descriptor because None cannot be parsed as 4 floats\n",
      "Could get FontBBox from font descriptor because None cannot be parsed as 4 floats\n",
      "Created a chunk of size 3035, which is longer than the specified 1000\n",
      "Created a chunk of size 2387, which is longer than the specified 1000\n",
      "Created a chunk of size 1333, which is longer than the specified 1000\n",
      "Created a chunk of size 3035, which is longer than the specified 1000\n",
      "Created a chunk of size 2387, which is longer than the specified 1000\n",
      "Created a chunk of size 3035, which is longer than the specified 1000\n",
      "Created a chunk of size 3035, which is longer than the specified 1000\n",
      "Created a chunk of size 2387, which is longer than the specified 1000\n",
      "Created a chunk of size 1333, which is longer than the specified 1000\n",
      "Created a chunk of size 52220, which is longer than the specified 1000\n",
      "Created a chunk of size 15243, which is longer than the specified 1000\n",
      "Created a chunk of size 1863, which is longer than the specified 1000\n",
      "Created a chunk of size 6303, which is longer than the specified 1000\n"
     ]
    },
    {
     "name": "stdout",
     "output_type": "stream",
     "text": [
      "Total number of chunks: 98\n",
      "Document types found: {'Eminence', 'Awards', 'Jira', 'Stats and Diagrams', 'Education', 'Resume'}\n"
     ]
    }
   ],
   "source": [
    "# Read in documents using LangChain's loaders\n",
    "# Take everything in all the sub-folders of our knowledgebase\n",
    "\n",
    "folders = glob.glob(\"/Users/suryan0800/Documents/Surya Developer Profession/*\")\n",
    "\n",
    "def add_metadata(doc, doc_type):\n",
    "    doc.metadata[\"doc_type\"] = doc_type\n",
    "    return doc\n",
    "\n",
    "# With thanks to CG and Jon R, students on the course, for this fix needed for some users \n",
    "text_loader_kwargs = {'encoding': 'utf-8'}\n",
    "# If that doesn't work, some Windows users might need to uncomment the next line instead\n",
    "# text_loader_kwargs={'autodetect_encoding': True}\n",
    "\n",
    "documents = []\n",
    "for folder in folders:\n",
    "    doc_type = os.path.basename(folder)\n",
    "    loader = DirectoryLoader(folder, glob=\"**/[!.~]*\")\n",
    "    folder_docs = loader.load()\n",
    "    documents.extend([add_metadata(doc, doc_type) for doc in folder_docs])\n",
    "\n",
    "text_splitter = CharacterTextSplitter(chunk_size=1000, chunk_overlap=200)\n",
    "chunks = text_splitter.split_documents(documents)\n",
    "\n",
    "print(f\"Total number of chunks: {len(chunks)}\")\n",
    "print(f\"Document types found: {set(doc.metadata['doc_type'] for doc in documents)}\")"
   ]
  },
  {
   "cell_type": "code",
   "execution_count": 8,
   "id": "8c9cf4a2",
   "metadata": {},
   "outputs": [
    {
     "data": {
      "text/plain": [
       "[(0,\n",
       "  '/Users/suryan0800/Documents/Surya Developer Profession/Resume/Surya-Resume-June2025.docx'),\n",
       " (1,\n",
       "  '/Users/suryan0800/Documents/Surya Developer Profession/Resume/Surya-Resume-June2025.pdf'),\n",
       " (2,\n",
       "  '/Users/suryan0800/Documents/Surya Developer Profession/Resume/0027BY744_Surya_Developer Profession.docx'),\n",
       " (3,\n",
       "  '/Users/suryan0800/Documents/Surya Developer Profession/Education/M.Tech PROVISIONAL CERTIFICATE & Transcript Surya.pdf'),\n",
       " (4,\n",
       "  '/Users/suryan0800/Documents/Surya Developer Profession/Education/M.Tech Semester 3 Internal Marks.xlsx'),\n",
       " (5,\n",
       "  '/Users/suryan0800/Documents/Surya Developer Profession/Education/M.Tech Semester 2 Internal Marks.xlsx'),\n",
       " (6,\n",
       "  '/Users/suryan0800/Documents/Surya Developer Profession/Education/M.Tech Semester 1 Internal Marks.xlsx'),\n",
       " (7,\n",
       "  '/Users/suryan0800/Documents/Surya Developer Profession/Education/M.Tech Semester 4 Internal Marks.xlsx'),\n",
       " (8,\n",
       "  '/Users/suryan0800/Documents/Surya Developer Profession/Jira/Zenhub_CostSqueezers_Cost_Optimizer.png'),\n",
       " (9,\n",
       "  '/Users/suryan0800/Documents/Surya Developer Profession/Jira/Jira_Stories_RTW_Surya.xls'),\n",
       " (10,\n",
       "  '/Users/suryan0800/Documents/Surya Developer Profession/Jira/Jira_Stories_Claim_Processor_Surya.xls'),\n",
       " (11,\n",
       "  '/Users/suryan0800/Documents/Surya Developer Profession/Jira/ZenHub_Cloud_Cost_Optimizer.xls'),\n",
       " (12,\n",
       "  '/Users/suryan0800/Documents/Surya Developer Profession/Stats and Diagrams/Patent_Criteria-Qualification match.png'),\n",
       " (13,\n",
       "  '/Users/suryan0800/Documents/Surya Developer Profession/Stats and Diagrams/Patent_Architecture.png'),\n",
       " (14,\n",
       "  '/Users/suryan0800/Documents/Surya Developer Profession/Stats and Diagrams/RTW - Dynamic Approval Flow.png'),\n",
       " (15,\n",
       "  '/Users/suryan0800/Documents/Surya Developer Profession/Stats and Diagrams/RTW_SW_Stats.png'),\n",
       " (16,\n",
       "  '/Users/suryan0800/Documents/Surya Developer Profession/Stats and Diagrams/CP_Usage_Report.png'),\n",
       " (17,\n",
       "  '/Users/suryan0800/Documents/Surya Developer Profession/Stats and Diagrams/Text_Mining_Classification_Cloud_Pak_For_Data.png'),\n",
       " (18,\n",
       "  '/Users/suryan0800/Documents/Surya Developer Profession/Stats and Diagrams/Bluepoints_Table.png'),\n",
       " (19,\n",
       "  '/Users/suryan0800/Documents/Surya Developer Profession/Awards/Award_Client_Business_Oct_2024.pdf'),\n",
       " (20,\n",
       "  '/Users/suryan0800/Documents/Surya Developer Profession/Awards/Award_Client_Business_Nov_2023.pdf'),\n",
       " (21,\n",
       "  '/Users/suryan0800/Documents/Surya Developer Profession/Awards/IBM_Recognition_Surya.xlsx'),\n",
       " (22,\n",
       "  '/Users/suryan0800/Documents/Surya Developer Profession/Awards/Award_IBM_CIO_Hackathon_Jan_2022.pdf'),\n",
       " (23,\n",
       "  '/Users/suryan0800/Documents/Surya Developer Profession/Awards/Award_IBM_CIO_Hackathon_Dec_2023.pdf'),\n",
       " (24,\n",
       "  '/Users/suryan0800/Documents/Surya Developer Profession/Awards/Award_AI@CIO_Nov2023.pdf'),\n",
       " (25,\n",
       "  '/Users/suryan0800/Documents/Surya Developer Profession/Awards/Award_IBM_CIO_Hackathon_June_2023.pdf'),\n",
       " (26,\n",
       "  '/Users/suryan0800/Documents/Surya Developer Profession/Eminence/Eminence & Excellence Award_Sep_2021.pdf'),\n",
       " (27,\n",
       "  '/Users/suryan0800/Documents/Surya Developer Profession/Eminence/Eminence & Excellence Award_Nov_2021.pdf'),\n",
       " (28,\n",
       "  '/Users/suryan0800/Documents/Surya Developer Profession/Eminence/Eminence & Excellence Award_Jan_2022.pdf')]"
      ]
     },
     "execution_count": 8,
     "metadata": {},
     "output_type": "execute_result"
    }
   ],
   "source": [
    "[(ind, doc.metadata['source']) for ind, doc in enumerate(documents)]"
   ]
  },
  {
   "cell_type": "code",
   "execution_count": 9,
   "id": "ea1e7a4e",
   "metadata": {},
   "outputs": [
    {
     "data": {
      "text/plain": [
       "Document(metadata={'source': '/Users/suryan0800/Documents/Surya Developer Profession/Education/M.Tech Semester 3 Internal Marks.xlsx', 'doc_type': 'Education'}, page_content='Subject Exam Type Max Marks Obtain Marks Subject Exam Type Max Marks Obtain Marks Overall Grade DATA STRUCTURES AND ALGO DESIGN EC 2R 10 4 DATA STRUCTURES AND ALGO DESIGN Total 100 61 B DATA STRUCTURES AND ALGO DESIGN EC 2R 5 3 DISTRIBUTED COMPUTING Total 100 74.05 B- DATA STRUCTURES AND ALGO DESIGN EC 2R 3 2 DATABASE DESIGN AND APPLICATIONS Total 100 78.5 B DATA STRUCTURES AND ALGO DESIGN EC 2R 5 2 CLOUD COMPUTING Total 100 71.75 B- DATA STRUCTURES AND ALGO DESIGN EC 2R 4 2 DATA STRUCTURES AND ALGO DESIGN EC 2R 5 3 DATA STRUCTURES AND ALGO DESIGN EC 2R 3 2 DATA STRUCTURES AND ALGO DESIGN Quiz 5 4 Max Marks Obtain Marks Max Marks Obtain Marks Max Marks Obtain Marks Max Marks Obtain Marks Grade DATA STRUCTURES AND ALGO DESIGN Quiz 5 4.4 Subject EC 1 EC 1 EC 2R EC 2R EC 3R EC 3R EC 1 + EC 2R + EC 3R EC 1 + EC 2R + EC 3R Overall Grade DATA STRUCTURES AND ALGO DESIGN Quiz 5 3.6 DATA STRUCTURES AND ALGO DESIGN 15 12 35 18 50 31 100 61 B DISTRIBUTED COMPUTING EC 2R 1 1 DISTRIBUTED COMPUTING 20 19 30 22.3 50 32.75 100 74.05 B- DISTRIBUTED COMPUTING EC 2R 4 3.8 DATABASE DESIGN AND APPLICATIONS 25 19.5 30 18 45 41 100 78.5 B DISTRIBUTED COMPUTING EC 2R 8 6.5 CLOUD COMPUTING 20 18.25 35 24 45 29.5 100 71.75 B- DISTRIBUTED COMPUTING EC 2R 6 2 DISTRIBUTED COMPUTING EC 2R 1 0 DISTRIBUTED COMPUTING EC 2R 1 0 DISTRIBUTED COMPUTING EC 2R 9 9 DISTRIBUTED COMPUTING Quiz 5 4.8 DISTRIBUTED COMPUTING Quiz 5 4.2 DISTRIBUTED COMPUTING Assignment 10 10 DATABASE DESIGN AND APPLICATIONS EC 2R 8 5 DATABASE DESIGN AND APPLICATIONS EC 2R 6 4 DATABASE DESIGN AND APPLICATIONS EC 2R 8 8 DATABASE DESIGN AND APPLICATIONS EC 2R 8 1 DATABASE DESIGN AND APPLICATIONS Quiz 5 2.5 DATABASE DESIGN AND APPLICATIONS Quiz 5 3 DATABASE DESIGN AND APPLICATIONS Quiz 5 4 DATABASE DESIGN AND APPLICATIONS Assignment 10 10 CLOUD COMPUTING EC 2R 5 3 CLOUD COMPUTING EC 2R 4 2 CLOUD COMPUTING EC 2R 5 3 CLOUD COMPUTING EC 2R 8 5 CLOUD COMPUTING EC 2R 5 4 CLOUD COMPUTING EC 2R 8 7 CLOUD COMPUTING Quiz 5 4.25 CLOUD COMPUTING Quiz 5 4 CLOUD COMPUTING Assignment 10 10 DISTRIBUTED COMPUTING EC 3R 6 6 DISTRIBUTED COMPUTING EC 3R 2 2 DISTRIBUTED COMPUTING EC 3R 7 7 DISTRIBUTED COMPUTING EC 3R 15 3 DISTRIBUTED COMPUTING EC 3R 2 0 DISTRIBUTED COMPUTING EC 3R 5 1.75 DISTRIBUTED COMPUTING EC 3R 13 13 DATABASE DESIGN AND APPLICATIONS EC 3R 10 6 DATABASE DESIGN AND APPLICATIONS EC 3R 13 13 DATABASE DESIGN AND APPLICATIONS EC 3R 12 12 DATABASE DESIGN AND APPLICATIONS EC 3R 10 10 DATA STRUCTURES AND ALGO DESIGN EC 3R 5 4 DATA STRUCTURES AND ALGO DESIGN EC 3R 4 4 DATA STRUCTURES AND ALGO DESIGN EC 3R 6 6 DATA STRUCTURES AND ALGO DESIGN EC 3R 7 6 DATA STRUCTURES AND ALGO DESIGN EC 3R 4 1 DATA STRUCTURES AND ALGO DESIGN EC 3R 7 1 DATA STRUCTURES AND ALGO DESIGN EC 3R 3 0 DATA STRUCTURES AND ALGO DESIGN EC 3R 4 4 DATA STRUCTURES AND ALGO DESIGN EC 3R 5 5 DATA STRUCTURES AND ALGO DESIGN EC 3R 5 0 CLOUD COMPUTING EC 3R 4 3 CLOUD COMPUTING EC 3R 10 0 CLOUD COMPUTING EC 3R 5 3 CLOUD COMPUTING EC 3R 10 10 CLOUD COMPUTING EC 3R 6 5.5 CLOUD COMPUTING EC 3R 10 8\\n\\nSubject Exam Type Max Marks Obtain Marks Subject Exam Type Max Marks Obtain Marks Overall Grade DATA MINING Assignment 20 19 DATA MINING Total 100 85.2 A DATA MINING EC 2R 8 8 DATA STORAGE TECH & NETWORKS Total 100 73.5 A- DATA MINING EC 2R 8 6 SOFTWARE ARCHITECTURES Total 100 77.2 A- DATA MINING EC 2R 8 5 MATH FOUNDATIONS FOR DAT SCI Total 100 73.6 A- DATA MINING EC 2R 6 6 DATA MINING EC 3R 8 8 DATA MINING EC 3R 8 0 DATA MINING EC 3R 8 8 Max Marks Obtain Marks Max Marks Obtain Marks Max Marks Obtain Marks Max Marks Obtain Marks Grade DATA MINING EC 3R 8 8 Subject EC 1 EC 1 EC 2R EC 2R EC 3R EC 3R EC 1 + EC 2R + EC 3R EC 1 + EC 2R + EC 3R Overall Grade DATA MINING EC 3R 8 8 DATA MINING 30 28.2 30 25 40 32 100 85.2 A DATA MINING Quiz 5 4.4 DATA STORAGE TECH & NETWORKS 30 29 30 19 40 25.5 100 73.5 A- DATA MINING Quiz 5 4.8 SOFTWARE ARCHITECTURES 30 24.7 30 23.5 40 29 100 77.2 A- DATA STORAGE TECH & NETWORKS EC 2R 10 6 MATH FOUNDATIONS FOR DAT SCI 30 25.6 30 17 40 31 100 73.6 A- DATA STORAGE TECH & NETWORKS EC 2R 5 1 DATA STORAGE TECH & NETWORKS EC 2R 5 2.5 DATA STORAGE TECH & NETWORKS EC 2R 5 5 DATA STORAGE TECH & NETWORKS EC 2R 5 4.5 DATA STORAGE TECH & NETWORKS EC 3R 10 7 DATA STORAGE TECH & NETWORKS EC 3R 10 7 DATA STORAGE TECH & NETWORKS EC 3R 10 6 DATA STORAGE TECH & NETWORKS EC 3R 10 5.5 DATA STORAGE TECH & NETWORKS Quiz 10 10 DATA STORAGE TECH & NETWORKS Quiz 10 9 DATA STORAGE TECH & NETWORKS Quiz 10 10 MATH FOUNDATIONS FOR DAT SCI Assignment 10 9 MATH FOUNDATIONS FOR DAT SCI Assignment 10 9 MATH FOUNDATIONS FOR DAT SCI EC 2R 9 6 MATH FOUNDATIONS FOR DAT SCI EC 2R 6 1 MATH FOUNDATIONS FOR DAT SCI EC 2R 10 5 MATH FOUNDATIONS FOR DAT SCI EC 2R 5 5 MATH FOUNDATIONS FOR DAT SCI EC 3R 6 4 MATH FOUNDATIONS FOR DAT SCI EC 3R 6 6 MATH FOUNDATIONS FOR DAT SCI EC 3R 6 2 MATH FOUNDATIONS FOR DAT SCI EC 3R 6 6 MATH FOUNDATIONS FOR DAT SCI EC 3R 6 5 MATH FOUNDATIONS FOR DAT SCI EC 3R 10 8 MATH FOUNDATIONS FOR DAT SCI Quiz 5 3.8 MATH FOUNDATIONS FOR DAT SCI Quiz 5 3.8 SOFTWARE ARCHITECTURES Assignment 5 4.5 SOFTWARE ARCHITECTURES Assignment 10 10 SOFTWARE ARCHITECTURES EC 2R 10 6 SOFTWARE ARCHITECTURES EC 2R 10 7.5 SOFTWARE ARCHITECTURES EC 2R 10 10 SOFTWARE ARCHITECTURES EC 3R 12 10.5 SOFTWARE ARCHITECTURES EC 3R 13 9.5 SOFTWARE ARCHITECTURES EC 3R 15 9 SOFTWARE ARCHITECTURES Quiz 5 3.2 SOFTWARE ARCHITECTURES Quiz 5 2.6 SOFTWARE ARCHITECTURES Quiz 5 4.4\\n\\nSubject Exam Type Max Marks Obtain Marks Subject Exam Type Max Marks Obtain Marks Overall Grade DEEP LEARNING Quiz 5 3.5 NETWORK SECURITY Total 100 82 A- DEEP LEARNING Quiz 5 3.5 NATURAL LANGUAGE PROCESSING Total 100 87 A INFORMATION RETRIEVAL Quiz 5 4 DEEP LEARNING Total 100 79.5 B- INFORMATION RETRIEVAL Quiz 5 3.5 INFORMATION RETRIEVAL Total 100 71.75 A- NATURAL LANGUAGE PROCESSING Quiz 6.6 6.1 NATURAL LANGUAGE PROCESSING Quiz 6.6 6.6 NATURAL LANGUAGE PROCESSING Quiz 6.8 6.3 NETWORK SECURITY Quiz 9.5 8.5 Max Marks Obtain Marks Max Marks Obtain Marks Max Marks Obtain Marks Max Marks Obtain Marks Grade NETWORK SECURITY Quiz 5.5 4.5 Subject EC 1 EC 1 EC 2R EC 2R EC 3R EC 3R EC 1 + EC 2R + EC 3R EC 1 + EC 2R + EC 3R Overall Grade NETWORK SECURITY Quiz 10 8 NETWORK SECURITY 25 21 35 31 40 30 100 82 A- DEEP LEARNING EC 3R 35 31 NATURAL LANGUAGE PROCESSING 20 19 30 26 50 42 100 87 A INFORMATION RETRIEVAL EC 3R 35 19 DEEP LEARNING 30 25.5 35 23 35 31 100 79.5 B- NATURAL LANGUAGE PROCESSING EC 3R 50 42 INFORMATION RETRIEVAL 35 31.25 30 21.5 35 19 100 71.75 A- NETWORK SECURITY EC 3R 40 30 DEEP LEARNING EC 2R 35 23 INFORMATION RETRIEVAL EC 2R 30 21.5 NATURAL LANGUAGE PROCESSING EC 2R 30 26 NETWORK SECURITY EC 2R 35 31 DEEP LEARNING Assignment 10 10 DEEP LEARNING Assignment 10 8.5 INFORMATION RETRIEVAL Assignment 25 23.75\\n\\nCourse Description Units Specialization Exam dates SS ZG529 DEEP LEARNING 4 Data Analytics 2024-03-17 00:00:00 SU W1 24.0 SS ZG599 NATURAL LANGUAGE PROCESSING 4 Data Analytics 2024-03-16 00:00:00 SA W1 14.0 SS ZG537 INFORMATION RETRIEVAL 4 Data Analytics 2024-03-17 00:00:00 SU W1 17.0 SS ZG513 NETWORK SECURITY 4 Networks and Cloud 2024-03-15 00:00:00 FR W1 25.0\\n\\nCourse Description Term Grade Units Specialization SS ZC416 MATH FOUNDATIONS FOR DATA SCI First Semester 2023-2024 A- 4 Data Analytics SS ZC467 COMPUTER NETWORKS 4 Networks and Cloud 2024-03-15 00:00:00 FR SS ZC425 DATA MINING First Semester 2023-2024 A 3 Data Analytics SS ZC462 NETWORK PROGRAMMING 3 Networks and Cloud 2024-03-17 00:00:00 SU SS ZC447 DATA STORAGE TECH & NETWORKS First Semester 2023-2024 A- 4 Networks and Cloud SS ZG518 DATABASE DESIGN & APPLICATIONS Second Semester 2022-2023 B 5 Core SS ZG519 DATA STRU & ALGORITHMS DESIGN Second Semester 2022-2023 B 5 Core SS ZG526 DISTRIBUTED COMPUTING Second Semester 2022-2023 B- 5 Core SS ZG527 CLOUD COMPUTING Second Semester 2022-2023 B- 5 Networks and Cloud SS ZG653 SOFTWARE ARCHITECTURES First Semester 2023-2024 A- 5 Core')"
      ]
     },
     "execution_count": 9,
     "metadata": {},
     "output_type": "execute_result"
    }
   ],
   "source": [
    "documents[4]"
   ]
  },
  {
   "cell_type": "markdown",
   "id": "77f7d2a6-ccfa-425b-a1c3-5e55b23bd013",
   "metadata": {},
   "source": [
    "## A sidenote on Embeddings, and \"Auto-Encoding LLMs\"\n",
    "\n",
    "We will be mapping each chunk of text into a Vector that represents the meaning of the text, known as an embedding.\n",
    "\n",
    "OpenAI offers a model to do this, which we will use by calling their API with some LangChain code.\n",
    "\n",
    "This model is an example of an \"Auto-Encoding LLM\" which generates an output given a complete input.\n",
    "It's different to all the other LLMs we've discussed today, which are known as \"Auto-Regressive LLMs\", and generate future tokens based only on past context.\n",
    "\n",
    "Another example of an Auto-Encoding LLMs is BERT from Google. In addition to embedding, Auto-encoding LLMs are often used for classification.\n",
    "\n",
    "### Sidenote\n",
    "\n",
    "In week 8 we will return to RAG and vector embeddings, and we will use an open-source vector encoder so that the data never leaves our computer - that's an important consideration when building enterprise systems and the data needs to remain internal."
   ]
  },
  {
   "cell_type": "code",
   "execution_count": 10,
   "id": "78998399-ac17-4e28-b15f-0b5f51e6ee23",
   "metadata": {},
   "outputs": [
    {
     "name": "stderr",
     "output_type": "stream",
     "text": [
      "/var/folders/y1/6qt3w0bj299dpqtstwkc1nwc0000gn/T/ipykernel_58961/2593190036.py:10: LangChainDeprecationWarning: The class `HuggingFaceEmbeddings` was deprecated in LangChain 0.2.2 and will be removed in 1.0. An updated version of the class exists in the :class:`~langchain-huggingface package and should be used instead. To use it run `pip install -U :class:`~langchain-huggingface` and import as `from :class:`~langchain_huggingface import HuggingFaceEmbeddings``.\n",
      "  embeddings = HuggingFaceEmbeddings(model_name=EMBEDDING_MODEL)\n"
     ]
    },
    {
     "name": "stdout",
     "output_type": "stream",
     "text": [
      "Vectorstore created with 98 documents\n"
     ]
    }
   ],
   "source": [
    "# Put the chunks of data into a Vector Store that associates a Vector Embedding with each chunk\n",
    "# Chroma is a popular open source Vector Database based on SQLLite\n",
    "\n",
    "# embeddings = OpenAIEmbeddings()\n",
    "\n",
    "# If you would rather use the free Vector Embeddings from HuggingFace sentence-transformers\n",
    "# Then replace embeddings = OpenAIEmbeddings()\n",
    "# with:\n",
    "from langchain.embeddings import HuggingFaceEmbeddings\n",
    "embeddings = HuggingFaceEmbeddings(model_name=EMBEDDING_MODEL)\n",
    "\n",
    "# Delete if already exists\n",
    "\n",
    "if os.path.exists(db_name):\n",
    "    Chroma(persist_directory=db_name, embedding_function=embeddings).delete_collection()\n",
    "\n",
    "# Create vectorstore\n",
    "\n",
    "vectorstore = Chroma.from_documents(documents=chunks, embedding=embeddings, persist_directory=db_name)\n",
    "print(f\"Vectorstore created with {vectorstore._collection.count()} documents\")"
   ]
  },
  {
   "cell_type": "code",
   "execution_count": 11,
   "id": "ff2e7687-60d4-4920-a1d7-a34b9f70a250",
   "metadata": {},
   "outputs": [
    {
     "name": "stdout",
     "output_type": "stream",
     "text": [
      "There are 98 vectors with 768 dimensions in the vector store\n"
     ]
    }
   ],
   "source": [
    "# Let's investigate the vectors\n",
    "\n",
    "collection = vectorstore._collection\n",
    "count = collection.count()\n",
    "\n",
    "sample_embedding = collection.get(limit=1, include=[\"embeddings\"])[\"embeddings\"][0]\n",
    "dimensions = len(sample_embedding)\n",
    "print(f\"There are {count:,} vectors with {dimensions:,} dimensions in the vector store\")"
   ]
  },
  {
   "cell_type": "markdown",
   "id": "b0d45462-a818-441c-b010-b85b32bcf618",
   "metadata": {},
   "source": [
    "## Visualizing the Vector Store\n",
    "\n",
    "Let's take a minute to look at the documents and their embedding vectors to see what's going on."
   ]
  },
  {
   "cell_type": "code",
   "execution_count": 12,
   "id": "b98adf5e-d464-4bd2-9bdf-bc5b6770263b",
   "metadata": {},
   "outputs": [],
   "source": [
    "# Prework (with thanks to Jon R for identifying and fixing a bug in this!)\n",
    "\n",
    "result = collection.get(include=['embeddings', 'documents', 'metadatas'])\n",
    "vectors = np.array(result['embeddings'])\n",
    "documents = result['documents']\n",
    "metadatas = result['metadatas']\n",
    "doc_types = [metadata['doc_type'] for metadata in metadatas]\n",
    "colors = [['blue', 'green', 'red', 'orange', 'yellow', 'violet'][['Education', 'Jira', 'Stats and Diagrams', 'Eminence', 'Resume', 'Awards'].index(t)] for t in doc_types]"
   ]
  },
  {
   "cell_type": "code",
   "execution_count": 13,
   "id": "427149d5-e5d8-4abd-bb6f-7ef0333cca21",
   "metadata": {},
   "outputs": [
    {
     "name": "stderr",
     "output_type": "stream",
     "text": [
      "huggingface/tokenizers: The current process just got forked, after parallelism has already been used. Disabling parallelism to avoid deadlocks...\n",
      "To disable this warning, you can either:\n",
      "\t- Avoid using `tokenizers` before the fork if possible\n",
      "\t- Explicitly set the environment variable TOKENIZERS_PARALLELISM=(true | false)\n",
      "OMP: Warning #96: Cannot form a team with 10 threads, using 1 instead.\n",
      "OMP: Hint Consider unsetting KMP_DEVICE_THREAD_LIMIT (KMP_ALL_THREADS), KMP_TEAMS_THREAD_LIMIT, and OMP_THREAD_LIMIT (if any are set).\n"
     ]
    },
    {
     "data": {
      "application/vnd.plotly.v1+json": {
       "config": {
        "plotlyServerURL": "https://plot.ly"
       },
       "data": [
        {
         "hoverinfo": "text",
         "marker": {
          "color": [
           "yellow",
           "yellow",
           "yellow",
           "yellow",
           "yellow",
           "yellow",
           "yellow",
           "yellow",
           "yellow",
           "yellow",
           "yellow",
           "yellow",
           "yellow",
           "yellow",
           "yellow",
           "yellow",
           "yellow",
           "yellow",
           "yellow",
           "yellow",
           "yellow",
           "yellow",
           "yellow",
           "yellow",
           "yellow",
           "yellow",
           "yellow",
           "yellow",
           "yellow",
           "yellow",
           "yellow",
           "yellow",
           "yellow",
           "yellow",
           "yellow",
           "yellow",
           "yellow",
           "yellow",
           "yellow",
           "yellow",
           "yellow",
           "blue",
           "blue",
           "blue",
           "blue",
           "blue",
           "blue",
           "blue",
           "blue",
           "blue",
           "blue",
           "blue",
           "blue",
           "blue",
           "blue",
           "blue",
           "blue",
           "blue",
           "blue",
           "blue",
           "green",
           "green",
           "green",
           "green",
           "green",
           "green",
           "green",
           "green",
           "green",
           "green",
           "red",
           "red",
           "red",
           "red",
           "red",
           "red",
           "red",
           "red",
           "red",
           "red",
           "red",
           "red",
           "red",
           "red",
           "red",
           "red",
           "red",
           "violet",
           "violet",
           "violet",
           "violet",
           "violet",
           "violet",
           "violet",
           "violet",
           "orange",
           "orange",
           "orange"
          ],
          "opacity": 0.8,
          "size": 5
         },
         "mode": "markers",
         "text": [
          "Type: Resume<br>Text: Surya Narayanan Srinivasan\n\nSoftware Developer | Data Analytics Specialist\nsuryan0800@gmail.com | +9...",
          "Type: Resume<br>Text: Skills\n\nProgramming: Java, Python, TypeScript, SQL\n\nWeb & Backend: Spring Boot, Spring Batch, Node.j...",
          "Type: Resume<br>Text: Designed and deployed RESTful microservices using Spring Boot, incorporating an event-driven archite...",
          "Type: Resume<br>Text: Contributed to relational database design, improving schema performance.\n\nDeveloped web scraping too...",
          "Type: Resume<br>Text: Estimated task timelines and performed effective task decomposition and workload estimation to impro...",
          "Type: Resume<br>Text: Secured web applications using Spring Security and JWT authentication.\n\nMigrated legacy platforms to...",
          "Type: Resume<br>Text: Reduced ServiceNow tickets by generating FAQs using WatsonX Granite Generative AI Model by 70%.\n\nPOC...",
          "Type: Resume<br>Text: Gained hands-on experience with MongoDB, Apache Kafka, and Apache Spark through practical projects i...",
          "Type: Resume<br>Text: Surya Narayanan Srinivasan\n\nSoftware Developer | Data Analytics Specialist suryan0800@gmail.com | +9...",
          "Type: Resume<br>Text: Skills\n\nProgramming: Java, Python, TypeScript, SQL ● Web & Backend: Spring Boot, Spring Batch, Node....",
          "Type: Resume<br>Text: Designed and deployed RESTful microservices using Spring Boot, incorporating an event-driven\n\narchit...",
          "Type: Resume<br>Text: Built UI dashboards for HR tracking using Angular and Carbon Design System. ● Automated deployments ...",
          "Type: Resume<br>Text: quality.\n\nSet up observability tools using LogDNA and Slack alerts to monitor system performance and...",
          "Type: Resume<br>Text: Researched and applied best-fit technologies, recommending process improvements and\n\nenhancements.\n\n...",
          "Type: Resume<br>Text: Achievements\n\n● Defensive Publication Award – INR 12K for Intelligent Employee Promotion Advisor Sys...",
          "Type: Resume<br>Text: AI and refined prompts.\n\nCloud Cost Optimizer – Built with Golang, PromQL, Tekton Pipelines, Terrafo...",
          "Type: Resume<br>Text: RDDs, DataFrames, and Spark SQL.\n\nCompleted an Apache Kafka course on Udemy — covered core concepts,...",
          "Type: Resume<br>Text: Developer Profession\n\nSurya Narayanan S | Surya.Narayanan.S@ibm.com | 0027BY744\n\nEvidences: OneDrive...",
          "Type: Resume<br>Text: Managers, who wants to keep track of DRs of their work from home requests.\n\nDepartment Head and Sect...",
          "Type: Resume<br>Text: The tool supports IBM's Hybrid Work strategy by facilitating employees to accountably obtain approva...",
          "Type: Resume<br>Text: Solution: Had calls with the business team every week and demonstrated the tool UI as I develop, got...",
          "Type: Resume<br>Text: Problem: During the requirement collection calls with the business team, I understood that the work ...",
          "Type: Resume<br>Text: Problem: the approval workflow is quite complex for the end users to understand. Employees are confu...",
          "Type: Resume<br>Text: Problem: It came as an User Issue Ticket saying that my People Manager got changed after raising a w...",
          "Type: Resume<br>Text: Problem: As the tool continues to operate, the accumulation of in-progress stale requests increases ...",
          "Type: Resume<br>Text: Created a reusable Typeahead search and Data Table component using the Carbon Design System integrat...",
          "Type: Resume<br>Text: Problem: Since the Cirrus Hybrid Cloud Platform was new and a stable CI/CD system was not yet availa...",
          "Type: Resume<br>Text: Problem: The team began receiving numerous repetitive user tickets in ServiceNow, primarily seeking ...",
          "Type: Resume<br>Text: Impact: Enabled employees to use the tool efficiently and confidently.\n\nDemo Box Link.\n\nClaim Proces...",
          "Type: Resume<br>Text: The primary beneficiaries of this tool are: \n\nEmployees, who need to accurately record their working...",
          "Type: Resume<br>Text: Developed Python based ETL Jobs that extract, transform and loads 3-7 million records weekly. Proble...",
          "Type: Resume<br>Text: Moved 17 Python Scripts from Server to Github and Cirrus CICD Platform. Change Management and Versio...",
          "Type: Resume<br>Text: Impact: Reduction in the number of lines of code due to function reuse, the removal of hardcoded sys...",
          "Type: Resume<br>Text: Impact: Enhances change request tracking, enables version reversion, and simplifies code change prom...",
          "Type: Resume<br>Text: Impact: This method guarantees proper dependency management and facilitates timely vulnerability det...",
          "Type: Resume<br>Text: Responsibility To Others:\n\nStretch Project:\n\nUninstaller Tool:\n\nTeam: IIT\n\nMentor: Dibyendu Chandra,...",
          "Type: Resume<br>Text: Cloud InfraCost Optimizer:\n\nBusiness Unit: Infrastructure\n\nDepartment Code: B8Q\n\nMentor: Albee Johne...",
          "Type: Resume<br>Text: Impact: This tool enables IBM Cloud clients to efficiently utilize cloud resources, thereby reducing...",
          "Type: Resume<br>Text: Impact: The implementation of this system would help managers make more informed and unbiased promot...",
          "Type: Resume<br>Text: The objective is to forecast quarterly sales targets for each seller by examining historical target ...",
          "Type: Resume<br>Text: Participated, Presented and Won in CIO Hackathons. Box Link.\n\nPresented Tool Demo and Enablement Ses...",
          "Type: Education<br>Text: Birla Institute of Technology & Science, Pilani Pilani | Dubai | Goa| Hyderabad\n\nPROVISIONAL CERTIFI...",
          "Type: Education<br>Text: FIRST SEMESTER 2023-2024\n\nSS SS\n\nSS SS\n\nZC416 ZC425 ZC447 ZG653\n\nMATH FOUNDATIONS FOR DATA SCI DATA ...",
          "Type: Education<br>Text: REGISTRÀR\n\n(Continued)\n\ninnovate\n\nachieve\n\nlead\n\nECHNE\n\nBirla Institute of Technology & Science, Pil...",
          "Type: Education<br>Text: Subject Exam Type Max Marks Obtain Marks Subject Exam Type Max Marks Obtain Marks Overall Grade DATA...",
          "Type: Education<br>Text: Subject Exam Type Max Marks Obtain Marks Subject Exam Type Max Marks Obtain Marks Overall Grade DATA...",
          "Type: Education<br>Text: Subject Exam Type Max Marks Obtain Marks Subject Exam Type Max Marks Obtain Marks Overall Grade DEEP...",
          "Type: Education<br>Text: Course Description Units Specialization Exam dates SS ZG529 DEEP LEARNING 4 Data Analytics 2024-03-1...",
          "Type: Education<br>Text: Course Description Term Grade Units Specialization SS ZC416 MATH FOUNDATIONS FOR DATA SCI First Seme...",
          "Type: Education<br>Text: Subject Exam Type Max Marks Obtain Marks Subject Exam Type Max Marks Obtain Marks Overall Grade DATA...",
          "Type: Education<br>Text: Subject Exam Type Max Marks Obtain Marks Subject Exam Type Max Marks Obtain Marks Overall Grade DATA...",
          "Type: Education<br>Text: ID Course Name Course Units Exam Date FN/AN No of people registered till now SS ZC416 MATH FOUNDATIO...",
          "Type: Education<br>Text: Subject Exam Type Max Marks Obtain Marks Subject Exam Type Max Marks Obtain Marks Overall Grade DATA...",
          "Type: Education<br>Text: ID Course Name Course Units Exam Date FN/AN No of people registered till now SS ZC416 MATH FOUNDATIO...",
          "Type: Education<br>Text: Subject Exam Type Max Marks Obtain Marks Subject Exam Type Max Marks Obtain Marks Overall Grade DATA...",
          "Type: Education<br>Text: Subject Exam Type Max Marks Obtain Marks Subject Exam Type Max Marks Obtain Marks Overall Grade DATA...",
          "Type: Education<br>Text: Subject Exam Type Max Marks Obtain Marks Subject Exam Type Max Marks Obtain Marks Overall Grade DEEP...",
          "Type: Education<br>Text: Subject Exam Type Mark Range Obtain Marks DISSERTATION Abstract Poor/Fair/Good/Excellent Fair DISSER...",
          "Type: Education<br>Text: Class Description Units Grading Grade Grade Points Semester SS ZG518 DATABASE DESIGN & APPLICATIONS ...",
          "Type: Education<br>Text: Semester SGPA CGPA Grade Point Units Semester 1 7.5 7.5 150 20 Semester 2 9.19 8.25 147 16 Semester ...",
          "Type: Jira<br>Text: ©) https://github.ibm.com/Code-Your-Skills/shift-left-cloud-cost-optimization/issues?q=assignee%3ASu...",
          "Type: Jira<br>Text: © Code-Your-Skills / shift-left-cloud-cost-optimization\n\nQ Type (/) to search\n\n<> Code ©) Issues 347...",
          "Type: Jira<br>Text: #42 by apasrini was closed on May 15, 2023\n\n+\n\n+\n\n©\n\n1%\n\nB &...",
          "Type: Jira<br>Text: Jira@IBM\n\nDisplaying 133 issues at 14/Mar/25 8:10 PM....",
          "Type: Jira<br>Text: Project Key Summary Issue Type Status Priority Resolution Assignee Created Updated Resolved Time Spe...",
          "Type: Jira<br>Text: Generated at Fri Mar 14 09:40:42 CDT 2025 by Surya Narayanan Srinivasan using Jira 9.12.18#9120018-s...",
          "Type: Jira<br>Text: Jira@IBM\n\nDisplaying 42 issues at 16/Mar/25 10:54 PM....",
          "Type: Jira<br>Text: Project Key Summary Issue Type Status Priority Resolution Assignee Reporter Creator Created Last Vie...",
          "Type: Jira<br>Text: Generated at Sun Mar 16 12:24:08 CDT 2025 by Surya Narayanan Srinivasan using Jira 9.12.19#9120019-s...",
          "Type: Jira<br>Text: ID State Title Labels Assignee Date 66 CLOSED Work on plan module - VPC Cluster Task Surya-Narayanan...",
          "Type: Stats and Diagrams<br>Text: Candidate Analysis\n\nDemand Criteria\n\nEg. Position: Promotion to People Manager role Band 8\n\nEg. Crit...",
          "Type: Stats and Diagrams<br>Text: Mapping Criteria with Candidate's performance 1. Leadership - 2 times\n\n2. People - 1 times\n\n3. Manag...",
          "Type: Stats and Diagrams<br>Text: Day-to-day Work\n\nProject Contributions\n\nWrites reflection\n\nReflection & Feedback\n\nCollaborates\n\nReco...",
          "Type: Stats and Diagrams<br>Text: ule\n\n=> Se) IBM In Office Presence Exempt & Location Transfer\n\n4 Welcome, Bansal, Ajay Es\n\nHome\n\nI0P...",
          "Type: Stats and Diagrams<br>Text: Exempt Approval Note: Medical issues for Self Reason: « Maximum Request Duration - 60 days « Maximum...",
          "Type: Stats and Diagrams<br>Text: ML end\n\nLimit: 00\n\nApprover\n\nFFA 61-365 days\n\n{ People Manager Approver\n\n{ Project Department Head A...",
          "Type: Stats and Diagrams<br>Text: Service Now Month wise ticket history\n\nColumn Labels |- t Count of Number Row Labels [y] 05-2024 06-...",
          "Type: Stats and Diagrams<br>Text: I\n\nA\n\nEmployee Count YEAR QUARTER CATEGORY Cross Quarter Adjustments ‘Awaiting Claim Code Missing/De...",
          "Type: Stats and Diagrams<br>Text: 56829\n\n11025 57660 57009 55818 50656 552858 3.45%\n\nQ\n\n1.84%\n\n0.51%\n\nR\n\n2024 a3\n\n0.35%\n\n1.10%\n\n0.47%\n...",
          "Type: Stats and Diagrams<br>Text: 2024 a3\n\na4\n\n25\n\n3.NA\n\n74\n\n24\n\n214\n\n162\n\n49\n\n9.NA\n\n356\n\n197\n\nAl\n\nA\n\nAK\n\nAL\n\nEMP_LOGGEDIN\n\n2025 | Ove...",
          "Type: Stats and Diagrams<br>Text: 0.08%\n\n6738\n\n3809\n\n7879 «= 5952, 7079. ~——-2249 NA\n\n20019 23035 =—:12533,\n\n6324. 6723.25\n\n90\n\n4379-3...",
          "Type: Stats and Diagrams<br>Text: 71\n\n38\n\n20\n\n50.5 21.73% 21.07% 12.58% 8.06% 16.52%\n\n3714\n\n676 NA\n\n2013 43.29% 52.47% 30.06% NA\n\n45.9...",
          "Type: Stats and Diagrams<br>Text: a2\n\nSUBMITTED_CLOSED_JUSTIFICATION 2025 | Overall Qa\n\n2024 a3\n\na4\n\nsum\n\na2\n\n% SUBMITTED_CLOSED_YN 20...",
          "Type: Stats and Diagrams<br>Text: Manager Count IDENTIFIED NOTIFIED AVERAGE, AVAILABLE FTE MGR %_NOTIFIED CLOSED_JUSTIFICATION. %_CLOS...",
          "Type: Stats and Diagrams<br>Text: 291\n\n258.333\n\n5597,\n\n1972225 5597,\n\n1442.75. 5597,\n\n130.333\n\n5597,\n\n21152425 5597\n\n5466 ~—5298 NA 54...",
          "Type: Stats and Diagrams<br>Text: IBM Cloud Pak for Data\n\n1\n\na 2132018 - CIO Public III v Dallas\n\nProjects / GreenScreen_AI_Module_Pro...",
          "Type: Stats and Diagrams<br>Text: Program Date v|Nominated By v|Status |v |Award v|Total BluePoints Earned: 6518 y|Total Cash Award Ea...",
          "Type: Awards<br>Text: Surya Narayanan Srinivasan\n\nBluePoints Award\n\nOctober 22, 2024 - From Mrinal Gautam\n\nDear Surya, tha...",
          "Type: Awards<br>Text: Surya Narayanan Srinivasan\n\nBluePoints Award\n\nNovember 16, 2023 - From Mrinal Gautam\n\nThank you for ...",
          "Type: Awards<br>Text: Program Date Nominated By Status Award Total BluePoints Earned: 6368 Total Cash Award Earned in USD:...",
          "Type: Awards<br>Text: Month month no January 1 February 2 March 3 April 4 May 5 June 6 July 7 August 8 September 9 October...",
          "Type: Awards<br>Text: Surya Narayanan Srinivasan\n\nBluePoints Award\n\nJanuary 07, 2022 - From Karups Thangaraj\n\nCIO India - ...",
          "Type: Awards<br>Text: Surya Narayanan Srinivasan\n\nBluePoints Award\n\nDecember 20, 2023 - From Karups Thangaraj\n\nDear all, C...",
          "Type: Awards<br>Text: Surya Narayanan Srinivasan\n\nBluePoints Award\n\nNovember 06, 2023 - From Supriya Devidutta\n\nOn Behalf ...",
          "Type: Awards<br>Text: Surya Narayanan Srinivasan\n\nBluePoints Award\n\nJune 26, 2023 - From Karups Thangaraj\n\nDear Folks, Con...",
          "Type: Eminence<br>Text: Surya Narayanan Srinivasan\n\nAppreciation with Cash – 2021\n\nSeptember 20, 2021 - From Nithin Pai\n\nHR ...",
          "Type: Eminence<br>Text: Surya Narayanan Srinivasan\n\nAppreciation with Cash – 2021\n\nNovember 28, 2021 - From Nithin Pai\n\nGrea...",
          "Type: Eminence<br>Text: Surya Narayanan Srinivasan\n\nCash Award\n\nJanuary 26, 2022 - From NITHIN PAI\n\nIn recognition of your c..."
         ],
         "type": "scatter",
         "x": {
          "bdata": "9OliwImaXcDqDZ2/oVeQv70AZ78dJgzAUT82wLeFv8Aoi2PAzyNbwFW4nb8hfXi/ylVdPZHZ+r/hiEbADNiNwJol0cDgzKZA5T+QQFJBiUCt6AlA+74DQMYL5D+ZWTE/SCKUP88RHz/m9QpArYjXv44+t0BHqbVAUQnEQKivWEB62jVApacQQAAIA0DkirDAoOyfP021scDXRZnAbidtwEXiMT6bpsHAsdJmQJHQyMBN8hVBj8DOQOgfCUFgGq1AlfedQNBEFEG+dtVAd+WXQIFqCUEF5ZdAz44LQb521UByHwlBJEsRQUkHx0AkpQJBz2iHP8fHtT8gZYPA3KY2wKFNR0CDOrPA3zE5wKXDN0Cf9rTAVFoTQDiSCsFh2Q3B+lDWwNeUrED6fiJAdgwNQCWoQMCoYLq/+etowIdb/7+2Wn3AvugcwPrJDcCsfmq/dfWUwOocsMCOzkrAx9Lkv6APqb/idUrANefFwOCIW8B5LC7Aa7LOv2k3IsCaK3S+b6aAvtfLxr4=",
          "dtype": "f4"
         },
         "y": {
          "bdata": "6jknQIFZXD8u0UJAkY7BPyEeJT7EckS/4YwgwCgwTz5l2yhAso5YP1NvUEAlgdk/SCqePwSMB7/Foem/SeiivtySnD7wN85A/uKsQETYt0BitKJAtfvIQFRs0EBos9hADmunQI2PiUDs7lM/ZqY6wPjtXUDFA15Ae4qDP+tx0T8ZKOQ/mCbqP+0sOUAar0hABNFqwKh/DcCTJi/A72NJwHqF6L7bftvAhKzSwMFF28AWH1TAxuhowD0QtMC9Uu7A11vXwI7+J8AAiYTAjj65wJeWKMCHPbnA5upSwACJhMB1FbTA8U/fwANp0MD6ffPA3hMnwGFkK8AN6AlBMOLOQJ4hqr8l+tBAJ0nRQCvfCL81ddFANuYowJJcMcAw0TXAFbTvvzt140A39QtBLrIKQXZbisDSgTVBsCYnQdnDLEEVqSlBVo4kQZ5sPEFP1S5BSxowQVA8AEAYSdTAH/bywKlFEcHwcNzAqHoWQSF0AsEyCRHB28oGwf5iCMHFNLbAvP/KwKDa9MA=",
          "dtype": "f4"
         }
        }
       ],
       "layout": {
        "height": 600,
        "margin": {
         "b": 10,
         "l": 10,
         "r": 20,
         "t": 40
        },
        "scene": {
         "xaxis": {
          "title": {
           "text": "x"
          }
         },
         "yaxis": {
          "title": {
           "text": "y"
          }
         }
        },
        "template": {
         "data": {
          "bar": [
           {
            "error_x": {
             "color": "#2a3f5f"
            },
            "error_y": {
             "color": "#2a3f5f"
            },
            "marker": {
             "line": {
              "color": "#E5ECF6",
              "width": 0.5
             },
             "pattern": {
              "fillmode": "overlay",
              "size": 10,
              "solidity": 0.2
             }
            },
            "type": "bar"
           }
          ],
          "barpolar": [
           {
            "marker": {
             "line": {
              "color": "#E5ECF6",
              "width": 0.5
             },
             "pattern": {
              "fillmode": "overlay",
              "size": 10,
              "solidity": 0.2
             }
            },
            "type": "barpolar"
           }
          ],
          "carpet": [
           {
            "aaxis": {
             "endlinecolor": "#2a3f5f",
             "gridcolor": "white",
             "linecolor": "white",
             "minorgridcolor": "white",
             "startlinecolor": "#2a3f5f"
            },
            "baxis": {
             "endlinecolor": "#2a3f5f",
             "gridcolor": "white",
             "linecolor": "white",
             "minorgridcolor": "white",
             "startlinecolor": "#2a3f5f"
            },
            "type": "carpet"
           }
          ],
          "choropleth": [
           {
            "colorbar": {
             "outlinewidth": 0,
             "ticks": ""
            },
            "type": "choropleth"
           }
          ],
          "contour": [
           {
            "colorbar": {
             "outlinewidth": 0,
             "ticks": ""
            },
            "colorscale": [
             [
              0,
              "#0d0887"
             ],
             [
              0.1111111111111111,
              "#46039f"
             ],
             [
              0.2222222222222222,
              "#7201a8"
             ],
             [
              0.3333333333333333,
              "#9c179e"
             ],
             [
              0.4444444444444444,
              "#bd3786"
             ],
             [
              0.5555555555555556,
              "#d8576b"
             ],
             [
              0.6666666666666666,
              "#ed7953"
             ],
             [
              0.7777777777777778,
              "#fb9f3a"
             ],
             [
              0.8888888888888888,
              "#fdca26"
             ],
             [
              1,
              "#f0f921"
             ]
            ],
            "type": "contour"
           }
          ],
          "contourcarpet": [
           {
            "colorbar": {
             "outlinewidth": 0,
             "ticks": ""
            },
            "type": "contourcarpet"
           }
          ],
          "heatmap": [
           {
            "colorbar": {
             "outlinewidth": 0,
             "ticks": ""
            },
            "colorscale": [
             [
              0,
              "#0d0887"
             ],
             [
              0.1111111111111111,
              "#46039f"
             ],
             [
              0.2222222222222222,
              "#7201a8"
             ],
             [
              0.3333333333333333,
              "#9c179e"
             ],
             [
              0.4444444444444444,
              "#bd3786"
             ],
             [
              0.5555555555555556,
              "#d8576b"
             ],
             [
              0.6666666666666666,
              "#ed7953"
             ],
             [
              0.7777777777777778,
              "#fb9f3a"
             ],
             [
              0.8888888888888888,
              "#fdca26"
             ],
             [
              1,
              "#f0f921"
             ]
            ],
            "type": "heatmap"
           }
          ],
          "histogram": [
           {
            "marker": {
             "pattern": {
              "fillmode": "overlay",
              "size": 10,
              "solidity": 0.2
             }
            },
            "type": "histogram"
           }
          ],
          "histogram2d": [
           {
            "colorbar": {
             "outlinewidth": 0,
             "ticks": ""
            },
            "colorscale": [
             [
              0,
              "#0d0887"
             ],
             [
              0.1111111111111111,
              "#46039f"
             ],
             [
              0.2222222222222222,
              "#7201a8"
             ],
             [
              0.3333333333333333,
              "#9c179e"
             ],
             [
              0.4444444444444444,
              "#bd3786"
             ],
             [
              0.5555555555555556,
              "#d8576b"
             ],
             [
              0.6666666666666666,
              "#ed7953"
             ],
             [
              0.7777777777777778,
              "#fb9f3a"
             ],
             [
              0.8888888888888888,
              "#fdca26"
             ],
             [
              1,
              "#f0f921"
             ]
            ],
            "type": "histogram2d"
           }
          ],
          "histogram2dcontour": [
           {
            "colorbar": {
             "outlinewidth": 0,
             "ticks": ""
            },
            "colorscale": [
             [
              0,
              "#0d0887"
             ],
             [
              0.1111111111111111,
              "#46039f"
             ],
             [
              0.2222222222222222,
              "#7201a8"
             ],
             [
              0.3333333333333333,
              "#9c179e"
             ],
             [
              0.4444444444444444,
              "#bd3786"
             ],
             [
              0.5555555555555556,
              "#d8576b"
             ],
             [
              0.6666666666666666,
              "#ed7953"
             ],
             [
              0.7777777777777778,
              "#fb9f3a"
             ],
             [
              0.8888888888888888,
              "#fdca26"
             ],
             [
              1,
              "#f0f921"
             ]
            ],
            "type": "histogram2dcontour"
           }
          ],
          "mesh3d": [
           {
            "colorbar": {
             "outlinewidth": 0,
             "ticks": ""
            },
            "type": "mesh3d"
           }
          ],
          "parcoords": [
           {
            "line": {
             "colorbar": {
              "outlinewidth": 0,
              "ticks": ""
             }
            },
            "type": "parcoords"
           }
          ],
          "pie": [
           {
            "automargin": true,
            "type": "pie"
           }
          ],
          "scatter": [
           {
            "fillpattern": {
             "fillmode": "overlay",
             "size": 10,
             "solidity": 0.2
            },
            "type": "scatter"
           }
          ],
          "scatter3d": [
           {
            "line": {
             "colorbar": {
              "outlinewidth": 0,
              "ticks": ""
             }
            },
            "marker": {
             "colorbar": {
              "outlinewidth": 0,
              "ticks": ""
             }
            },
            "type": "scatter3d"
           }
          ],
          "scattercarpet": [
           {
            "marker": {
             "colorbar": {
              "outlinewidth": 0,
              "ticks": ""
             }
            },
            "type": "scattercarpet"
           }
          ],
          "scattergeo": [
           {
            "marker": {
             "colorbar": {
              "outlinewidth": 0,
              "ticks": ""
             }
            },
            "type": "scattergeo"
           }
          ],
          "scattergl": [
           {
            "marker": {
             "colorbar": {
              "outlinewidth": 0,
              "ticks": ""
             }
            },
            "type": "scattergl"
           }
          ],
          "scattermap": [
           {
            "marker": {
             "colorbar": {
              "outlinewidth": 0,
              "ticks": ""
             }
            },
            "type": "scattermap"
           }
          ],
          "scattermapbox": [
           {
            "marker": {
             "colorbar": {
              "outlinewidth": 0,
              "ticks": ""
             }
            },
            "type": "scattermapbox"
           }
          ],
          "scatterpolar": [
           {
            "marker": {
             "colorbar": {
              "outlinewidth": 0,
              "ticks": ""
             }
            },
            "type": "scatterpolar"
           }
          ],
          "scatterpolargl": [
           {
            "marker": {
             "colorbar": {
              "outlinewidth": 0,
              "ticks": ""
             }
            },
            "type": "scatterpolargl"
           }
          ],
          "scatterternary": [
           {
            "marker": {
             "colorbar": {
              "outlinewidth": 0,
              "ticks": ""
             }
            },
            "type": "scatterternary"
           }
          ],
          "surface": [
           {
            "colorbar": {
             "outlinewidth": 0,
             "ticks": ""
            },
            "colorscale": [
             [
              0,
              "#0d0887"
             ],
             [
              0.1111111111111111,
              "#46039f"
             ],
             [
              0.2222222222222222,
              "#7201a8"
             ],
             [
              0.3333333333333333,
              "#9c179e"
             ],
             [
              0.4444444444444444,
              "#bd3786"
             ],
             [
              0.5555555555555556,
              "#d8576b"
             ],
             [
              0.6666666666666666,
              "#ed7953"
             ],
             [
              0.7777777777777778,
              "#fb9f3a"
             ],
             [
              0.8888888888888888,
              "#fdca26"
             ],
             [
              1,
              "#f0f921"
             ]
            ],
            "type": "surface"
           }
          ],
          "table": [
           {
            "cells": {
             "fill": {
              "color": "#EBF0F8"
             },
             "line": {
              "color": "white"
             }
            },
            "header": {
             "fill": {
              "color": "#C8D4E3"
             },
             "line": {
              "color": "white"
             }
            },
            "type": "table"
           }
          ]
         },
         "layout": {
          "annotationdefaults": {
           "arrowcolor": "#2a3f5f",
           "arrowhead": 0,
           "arrowwidth": 1
          },
          "autotypenumbers": "strict",
          "coloraxis": {
           "colorbar": {
            "outlinewidth": 0,
            "ticks": ""
           }
          },
          "colorscale": {
           "diverging": [
            [
             0,
             "#8e0152"
            ],
            [
             0.1,
             "#c51b7d"
            ],
            [
             0.2,
             "#de77ae"
            ],
            [
             0.3,
             "#f1b6da"
            ],
            [
             0.4,
             "#fde0ef"
            ],
            [
             0.5,
             "#f7f7f7"
            ],
            [
             0.6,
             "#e6f5d0"
            ],
            [
             0.7,
             "#b8e186"
            ],
            [
             0.8,
             "#7fbc41"
            ],
            [
             0.9,
             "#4d9221"
            ],
            [
             1,
             "#276419"
            ]
           ],
           "sequential": [
            [
             0,
             "#0d0887"
            ],
            [
             0.1111111111111111,
             "#46039f"
            ],
            [
             0.2222222222222222,
             "#7201a8"
            ],
            [
             0.3333333333333333,
             "#9c179e"
            ],
            [
             0.4444444444444444,
             "#bd3786"
            ],
            [
             0.5555555555555556,
             "#d8576b"
            ],
            [
             0.6666666666666666,
             "#ed7953"
            ],
            [
             0.7777777777777778,
             "#fb9f3a"
            ],
            [
             0.8888888888888888,
             "#fdca26"
            ],
            [
             1,
             "#f0f921"
            ]
           ],
           "sequentialminus": [
            [
             0,
             "#0d0887"
            ],
            [
             0.1111111111111111,
             "#46039f"
            ],
            [
             0.2222222222222222,
             "#7201a8"
            ],
            [
             0.3333333333333333,
             "#9c179e"
            ],
            [
             0.4444444444444444,
             "#bd3786"
            ],
            [
             0.5555555555555556,
             "#d8576b"
            ],
            [
             0.6666666666666666,
             "#ed7953"
            ],
            [
             0.7777777777777778,
             "#fb9f3a"
            ],
            [
             0.8888888888888888,
             "#fdca26"
            ],
            [
             1,
             "#f0f921"
            ]
           ]
          },
          "colorway": [
           "#636efa",
           "#EF553B",
           "#00cc96",
           "#ab63fa",
           "#FFA15A",
           "#19d3f3",
           "#FF6692",
           "#B6E880",
           "#FF97FF",
           "#FECB52"
          ],
          "font": {
           "color": "#2a3f5f"
          },
          "geo": {
           "bgcolor": "white",
           "lakecolor": "white",
           "landcolor": "#E5ECF6",
           "showlakes": true,
           "showland": true,
           "subunitcolor": "white"
          },
          "hoverlabel": {
           "align": "left"
          },
          "hovermode": "closest",
          "mapbox": {
           "style": "light"
          },
          "paper_bgcolor": "white",
          "plot_bgcolor": "#E5ECF6",
          "polar": {
           "angularaxis": {
            "gridcolor": "white",
            "linecolor": "white",
            "ticks": ""
           },
           "bgcolor": "#E5ECF6",
           "radialaxis": {
            "gridcolor": "white",
            "linecolor": "white",
            "ticks": ""
           }
          },
          "scene": {
           "xaxis": {
            "backgroundcolor": "#E5ECF6",
            "gridcolor": "white",
            "gridwidth": 2,
            "linecolor": "white",
            "showbackground": true,
            "ticks": "",
            "zerolinecolor": "white"
           },
           "yaxis": {
            "backgroundcolor": "#E5ECF6",
            "gridcolor": "white",
            "gridwidth": 2,
            "linecolor": "white",
            "showbackground": true,
            "ticks": "",
            "zerolinecolor": "white"
           },
           "zaxis": {
            "backgroundcolor": "#E5ECF6",
            "gridcolor": "white",
            "gridwidth": 2,
            "linecolor": "white",
            "showbackground": true,
            "ticks": "",
            "zerolinecolor": "white"
           }
          },
          "shapedefaults": {
           "line": {
            "color": "#2a3f5f"
           }
          },
          "ternary": {
           "aaxis": {
            "gridcolor": "white",
            "linecolor": "white",
            "ticks": ""
           },
           "baxis": {
            "gridcolor": "white",
            "linecolor": "white",
            "ticks": ""
           },
           "bgcolor": "#E5ECF6",
           "caxis": {
            "gridcolor": "white",
            "linecolor": "white",
            "ticks": ""
           }
          },
          "title": {
           "x": 0.05
          },
          "xaxis": {
           "automargin": true,
           "gridcolor": "white",
           "linecolor": "white",
           "ticks": "",
           "title": {
            "standoff": 15
           },
           "zerolinecolor": "white",
           "zerolinewidth": 2
          },
          "yaxis": {
           "automargin": true,
           "gridcolor": "white",
           "linecolor": "white",
           "ticks": "",
           "title": {
            "standoff": 15
           },
           "zerolinecolor": "white",
           "zerolinewidth": 2
          }
         }
        },
        "title": {
         "text": "2D Chroma Vector Store Visualization"
        },
        "width": 800
       }
      }
     },
     "metadata": {},
     "output_type": "display_data"
    }
   ],
   "source": [
    "# We humans find it easier to visalize things in 2D!\n",
    "# Reduce the dimensionality of the vectors to 2D using t-SNE\n",
    "# (t-distributed stochastic neighbor embedding)\n",
    "\n",
    "tsne = TSNE(n_components=2, random_state=42)\n",
    "reduced_vectors = tsne.fit_transform(vectors)\n",
    "\n",
    "# Create the 2D scatter plot\n",
    "fig = go.Figure(data=[go.Scatter(\n",
    "    x=reduced_vectors[:, 0],\n",
    "    y=reduced_vectors[:, 1],\n",
    "    mode='markers',\n",
    "    marker=dict(size=5, color=colors, opacity=0.8),\n",
    "    text=[f\"Type: {t}<br>Text: {d[:100]}...\" for t, d in zip(doc_types, documents)],\n",
    "    hoverinfo='text'\n",
    ")])\n",
    "\n",
    "fig.update_layout(\n",
    "    title='2D Chroma Vector Store Visualization',\n",
    "    scene=dict(xaxis_title='x',yaxis_title='y'),\n",
    "    width=800,\n",
    "    height=600,\n",
    "    margin=dict(r=20, b=10, l=10, t=40)\n",
    ")\n",
    "\n",
    "fig.show()"
   ]
  },
  {
   "cell_type": "code",
   "execution_count": 14,
   "id": "e1418e88-acd5-460a-bf2b-4e6efc88e3dd",
   "metadata": {},
   "outputs": [
    {
     "data": {
      "application/vnd.plotly.v1+json": {
       "config": {
        "plotlyServerURL": "https://plot.ly"
       },
       "data": [
        {
         "hoverinfo": "text",
         "marker": {
          "color": [
           "yellow",
           "yellow",
           "yellow",
           "yellow",
           "yellow",
           "yellow",
           "yellow",
           "yellow",
           "yellow",
           "yellow",
           "yellow",
           "yellow",
           "yellow",
           "yellow",
           "yellow",
           "yellow",
           "yellow",
           "yellow",
           "yellow",
           "yellow",
           "yellow",
           "yellow",
           "yellow",
           "yellow",
           "yellow",
           "yellow",
           "yellow",
           "yellow",
           "yellow",
           "yellow",
           "yellow",
           "yellow",
           "yellow",
           "yellow",
           "yellow",
           "yellow",
           "yellow",
           "yellow",
           "yellow",
           "yellow",
           "yellow",
           "blue",
           "blue",
           "blue",
           "blue",
           "blue",
           "blue",
           "blue",
           "blue",
           "blue",
           "blue",
           "blue",
           "blue",
           "blue",
           "blue",
           "blue",
           "blue",
           "blue",
           "blue",
           "blue",
           "green",
           "green",
           "green",
           "green",
           "green",
           "green",
           "green",
           "green",
           "green",
           "green",
           "red",
           "red",
           "red",
           "red",
           "red",
           "red",
           "red",
           "red",
           "red",
           "red",
           "red",
           "red",
           "red",
           "red",
           "red",
           "red",
           "red",
           "violet",
           "violet",
           "violet",
           "violet",
           "violet",
           "violet",
           "violet",
           "violet",
           "orange",
           "orange",
           "orange"
          ],
          "opacity": 0.8,
          "size": 5
         },
         "mode": "markers",
         "text": [
          "Type: Resume<br>Text: Surya Narayanan Srinivasan\n\nSoftware Developer | Data Analytics Specialist\nsuryan0800@gmail.com | +9...",
          "Type: Resume<br>Text: Skills\n\nProgramming: Java, Python, TypeScript, SQL\n\nWeb & Backend: Spring Boot, Spring Batch, Node.j...",
          "Type: Resume<br>Text: Designed and deployed RESTful microservices using Spring Boot, incorporating an event-driven archite...",
          "Type: Resume<br>Text: Contributed to relational database design, improving schema performance.\n\nDeveloped web scraping too...",
          "Type: Resume<br>Text: Estimated task timelines and performed effective task decomposition and workload estimation to impro...",
          "Type: Resume<br>Text: Secured web applications using Spring Security and JWT authentication.\n\nMigrated legacy platforms to...",
          "Type: Resume<br>Text: Reduced ServiceNow tickets by generating FAQs using WatsonX Granite Generative AI Model by 70%.\n\nPOC...",
          "Type: Resume<br>Text: Gained hands-on experience with MongoDB, Apache Kafka, and Apache Spark through practical projects i...",
          "Type: Resume<br>Text: Surya Narayanan Srinivasan\n\nSoftware Developer | Data Analytics Specialist suryan0800@gmail.com | +9...",
          "Type: Resume<br>Text: Skills\n\nProgramming: Java, Python, TypeScript, SQL ● Web & Backend: Spring Boot, Spring Batch, Node....",
          "Type: Resume<br>Text: Designed and deployed RESTful microservices using Spring Boot, incorporating an event-driven\n\narchit...",
          "Type: Resume<br>Text: Built UI dashboards for HR tracking using Angular and Carbon Design System. ● Automated deployments ...",
          "Type: Resume<br>Text: quality.\n\nSet up observability tools using LogDNA and Slack alerts to monitor system performance and...",
          "Type: Resume<br>Text: Researched and applied best-fit technologies, recommending process improvements and\n\nenhancements.\n\n...",
          "Type: Resume<br>Text: Achievements\n\n● Defensive Publication Award – INR 12K for Intelligent Employee Promotion Advisor Sys...",
          "Type: Resume<br>Text: AI and refined prompts.\n\nCloud Cost Optimizer – Built with Golang, PromQL, Tekton Pipelines, Terrafo...",
          "Type: Resume<br>Text: RDDs, DataFrames, and Spark SQL.\n\nCompleted an Apache Kafka course on Udemy — covered core concepts,...",
          "Type: Resume<br>Text: Developer Profession\n\nSurya Narayanan S | Surya.Narayanan.S@ibm.com | 0027BY744\n\nEvidences: OneDrive...",
          "Type: Resume<br>Text: Managers, who wants to keep track of DRs of their work from home requests.\n\nDepartment Head and Sect...",
          "Type: Resume<br>Text: The tool supports IBM's Hybrid Work strategy by facilitating employees to accountably obtain approva...",
          "Type: Resume<br>Text: Solution: Had calls with the business team every week and demonstrated the tool UI as I develop, got...",
          "Type: Resume<br>Text: Problem: During the requirement collection calls with the business team, I understood that the work ...",
          "Type: Resume<br>Text: Problem: the approval workflow is quite complex for the end users to understand. Employees are confu...",
          "Type: Resume<br>Text: Problem: It came as an User Issue Ticket saying that my People Manager got changed after raising a w...",
          "Type: Resume<br>Text: Problem: As the tool continues to operate, the accumulation of in-progress stale requests increases ...",
          "Type: Resume<br>Text: Created a reusable Typeahead search and Data Table component using the Carbon Design System integrat...",
          "Type: Resume<br>Text: Problem: Since the Cirrus Hybrid Cloud Platform was new and a stable CI/CD system was not yet availa...",
          "Type: Resume<br>Text: Problem: The team began receiving numerous repetitive user tickets in ServiceNow, primarily seeking ...",
          "Type: Resume<br>Text: Impact: Enabled employees to use the tool efficiently and confidently.\n\nDemo Box Link.\n\nClaim Proces...",
          "Type: Resume<br>Text: The primary beneficiaries of this tool are: \n\nEmployees, who need to accurately record their working...",
          "Type: Resume<br>Text: Developed Python based ETL Jobs that extract, transform and loads 3-7 million records weekly. Proble...",
          "Type: Resume<br>Text: Moved 17 Python Scripts from Server to Github and Cirrus CICD Platform. Change Management and Versio...",
          "Type: Resume<br>Text: Impact: Reduction in the number of lines of code due to function reuse, the removal of hardcoded sys...",
          "Type: Resume<br>Text: Impact: Enhances change request tracking, enables version reversion, and simplifies code change prom...",
          "Type: Resume<br>Text: Impact: This method guarantees proper dependency management and facilitates timely vulnerability det...",
          "Type: Resume<br>Text: Responsibility To Others:\n\nStretch Project:\n\nUninstaller Tool:\n\nTeam: IIT\n\nMentor: Dibyendu Chandra,...",
          "Type: Resume<br>Text: Cloud InfraCost Optimizer:\n\nBusiness Unit: Infrastructure\n\nDepartment Code: B8Q\n\nMentor: Albee Johne...",
          "Type: Resume<br>Text: Impact: This tool enables IBM Cloud clients to efficiently utilize cloud resources, thereby reducing...",
          "Type: Resume<br>Text: Impact: The implementation of this system would help managers make more informed and unbiased promot...",
          "Type: Resume<br>Text: The objective is to forecast quarterly sales targets for each seller by examining historical target ...",
          "Type: Resume<br>Text: Participated, Presented and Won in CIO Hackathons. Box Link.\n\nPresented Tool Demo and Enablement Ses...",
          "Type: Education<br>Text: Birla Institute of Technology & Science, Pilani Pilani | Dubai | Goa| Hyderabad\n\nPROVISIONAL CERTIFI...",
          "Type: Education<br>Text: FIRST SEMESTER 2023-2024\n\nSS SS\n\nSS SS\n\nZC416 ZC425 ZC447 ZG653\n\nMATH FOUNDATIONS FOR DATA SCI DATA ...",
          "Type: Education<br>Text: REGISTRÀR\n\n(Continued)\n\ninnovate\n\nachieve\n\nlead\n\nECHNE\n\nBirla Institute of Technology & Science, Pil...",
          "Type: Education<br>Text: Subject Exam Type Max Marks Obtain Marks Subject Exam Type Max Marks Obtain Marks Overall Grade DATA...",
          "Type: Education<br>Text: Subject Exam Type Max Marks Obtain Marks Subject Exam Type Max Marks Obtain Marks Overall Grade DATA...",
          "Type: Education<br>Text: Subject Exam Type Max Marks Obtain Marks Subject Exam Type Max Marks Obtain Marks Overall Grade DEEP...",
          "Type: Education<br>Text: Course Description Units Specialization Exam dates SS ZG529 DEEP LEARNING 4 Data Analytics 2024-03-1...",
          "Type: Education<br>Text: Course Description Term Grade Units Specialization SS ZC416 MATH FOUNDATIONS FOR DATA SCI First Seme...",
          "Type: Education<br>Text: Subject Exam Type Max Marks Obtain Marks Subject Exam Type Max Marks Obtain Marks Overall Grade DATA...",
          "Type: Education<br>Text: Subject Exam Type Max Marks Obtain Marks Subject Exam Type Max Marks Obtain Marks Overall Grade DATA...",
          "Type: Education<br>Text: ID Course Name Course Units Exam Date FN/AN No of people registered till now SS ZC416 MATH FOUNDATIO...",
          "Type: Education<br>Text: Subject Exam Type Max Marks Obtain Marks Subject Exam Type Max Marks Obtain Marks Overall Grade DATA...",
          "Type: Education<br>Text: ID Course Name Course Units Exam Date FN/AN No of people registered till now SS ZC416 MATH FOUNDATIO...",
          "Type: Education<br>Text: Subject Exam Type Max Marks Obtain Marks Subject Exam Type Max Marks Obtain Marks Overall Grade DATA...",
          "Type: Education<br>Text: Subject Exam Type Max Marks Obtain Marks Subject Exam Type Max Marks Obtain Marks Overall Grade DATA...",
          "Type: Education<br>Text: Subject Exam Type Max Marks Obtain Marks Subject Exam Type Max Marks Obtain Marks Overall Grade DEEP...",
          "Type: Education<br>Text: Subject Exam Type Mark Range Obtain Marks DISSERTATION Abstract Poor/Fair/Good/Excellent Fair DISSER...",
          "Type: Education<br>Text: Class Description Units Grading Grade Grade Points Semester SS ZG518 DATABASE DESIGN & APPLICATIONS ...",
          "Type: Education<br>Text: Semester SGPA CGPA Grade Point Units Semester 1 7.5 7.5 150 20 Semester 2 9.19 8.25 147 16 Semester ...",
          "Type: Jira<br>Text: ©) https://github.ibm.com/Code-Your-Skills/shift-left-cloud-cost-optimization/issues?q=assignee%3ASu...",
          "Type: Jira<br>Text: © Code-Your-Skills / shift-left-cloud-cost-optimization\n\nQ Type (/) to search\n\n<> Code ©) Issues 347...",
          "Type: Jira<br>Text: #42 by apasrini was closed on May 15, 2023\n\n+\n\n+\n\n©\n\n1%\n\nB &...",
          "Type: Jira<br>Text: Jira@IBM\n\nDisplaying 133 issues at 14/Mar/25 8:10 PM....",
          "Type: Jira<br>Text: Project Key Summary Issue Type Status Priority Resolution Assignee Created Updated Resolved Time Spe...",
          "Type: Jira<br>Text: Generated at Fri Mar 14 09:40:42 CDT 2025 by Surya Narayanan Srinivasan using Jira 9.12.18#9120018-s...",
          "Type: Jira<br>Text: Jira@IBM\n\nDisplaying 42 issues at 16/Mar/25 10:54 PM....",
          "Type: Jira<br>Text: Project Key Summary Issue Type Status Priority Resolution Assignee Reporter Creator Created Last Vie...",
          "Type: Jira<br>Text: Generated at Sun Mar 16 12:24:08 CDT 2025 by Surya Narayanan Srinivasan using Jira 9.12.19#9120019-s...",
          "Type: Jira<br>Text: ID State Title Labels Assignee Date 66 CLOSED Work on plan module - VPC Cluster Task Surya-Narayanan...",
          "Type: Stats and Diagrams<br>Text: Candidate Analysis\n\nDemand Criteria\n\nEg. Position: Promotion to People Manager role Band 8\n\nEg. Crit...",
          "Type: Stats and Diagrams<br>Text: Mapping Criteria with Candidate's performance 1. Leadership - 2 times\n\n2. People - 1 times\n\n3. Manag...",
          "Type: Stats and Diagrams<br>Text: Day-to-day Work\n\nProject Contributions\n\nWrites reflection\n\nReflection & Feedback\n\nCollaborates\n\nReco...",
          "Type: Stats and Diagrams<br>Text: ule\n\n=> Se) IBM In Office Presence Exempt & Location Transfer\n\n4 Welcome, Bansal, Ajay Es\n\nHome\n\nI0P...",
          "Type: Stats and Diagrams<br>Text: Exempt Approval Note: Medical issues for Self Reason: « Maximum Request Duration - 60 days « Maximum...",
          "Type: Stats and Diagrams<br>Text: ML end\n\nLimit: 00\n\nApprover\n\nFFA 61-365 days\n\n{ People Manager Approver\n\n{ Project Department Head A...",
          "Type: Stats and Diagrams<br>Text: Service Now Month wise ticket history\n\nColumn Labels |- t Count of Number Row Labels [y] 05-2024 06-...",
          "Type: Stats and Diagrams<br>Text: I\n\nA\n\nEmployee Count YEAR QUARTER CATEGORY Cross Quarter Adjustments ‘Awaiting Claim Code Missing/De...",
          "Type: Stats and Diagrams<br>Text: 56829\n\n11025 57660 57009 55818 50656 552858 3.45%\n\nQ\n\n1.84%\n\n0.51%\n\nR\n\n2024 a3\n\n0.35%\n\n1.10%\n\n0.47%\n...",
          "Type: Stats and Diagrams<br>Text: 2024 a3\n\na4\n\n25\n\n3.NA\n\n74\n\n24\n\n214\n\n162\n\n49\n\n9.NA\n\n356\n\n197\n\nAl\n\nA\n\nAK\n\nAL\n\nEMP_LOGGEDIN\n\n2025 | Ove...",
          "Type: Stats and Diagrams<br>Text: 0.08%\n\n6738\n\n3809\n\n7879 «= 5952, 7079. ~——-2249 NA\n\n20019 23035 =—:12533,\n\n6324. 6723.25\n\n90\n\n4379-3...",
          "Type: Stats and Diagrams<br>Text: 71\n\n38\n\n20\n\n50.5 21.73% 21.07% 12.58% 8.06% 16.52%\n\n3714\n\n676 NA\n\n2013 43.29% 52.47% 30.06% NA\n\n45.9...",
          "Type: Stats and Diagrams<br>Text: a2\n\nSUBMITTED_CLOSED_JUSTIFICATION 2025 | Overall Qa\n\n2024 a3\n\na4\n\nsum\n\na2\n\n% SUBMITTED_CLOSED_YN 20...",
          "Type: Stats and Diagrams<br>Text: Manager Count IDENTIFIED NOTIFIED AVERAGE, AVAILABLE FTE MGR %_NOTIFIED CLOSED_JUSTIFICATION. %_CLOS...",
          "Type: Stats and Diagrams<br>Text: 291\n\n258.333\n\n5597,\n\n1972225 5597,\n\n1442.75. 5597,\n\n130.333\n\n5597,\n\n21152425 5597\n\n5466 ~—5298 NA 54...",
          "Type: Stats and Diagrams<br>Text: IBM Cloud Pak for Data\n\n1\n\na 2132018 - CIO Public III v Dallas\n\nProjects / GreenScreen_AI_Module_Pro...",
          "Type: Stats and Diagrams<br>Text: Program Date v|Nominated By v|Status |v |Award v|Total BluePoints Earned: 6518 y|Total Cash Award Ea...",
          "Type: Awards<br>Text: Surya Narayanan Srinivasan\n\nBluePoints Award\n\nOctober 22, 2024 - From Mrinal Gautam\n\nDear Surya, tha...",
          "Type: Awards<br>Text: Surya Narayanan Srinivasan\n\nBluePoints Award\n\nNovember 16, 2023 - From Mrinal Gautam\n\nThank you for ...",
          "Type: Awards<br>Text: Program Date Nominated By Status Award Total BluePoints Earned: 6368 Total Cash Award Earned in USD:...",
          "Type: Awards<br>Text: Month month no January 1 February 2 March 3 April 4 May 5 June 6 July 7 August 8 September 9 October...",
          "Type: Awards<br>Text: Surya Narayanan Srinivasan\n\nBluePoints Award\n\nJanuary 07, 2022 - From Karups Thangaraj\n\nCIO India - ...",
          "Type: Awards<br>Text: Surya Narayanan Srinivasan\n\nBluePoints Award\n\nDecember 20, 2023 - From Karups Thangaraj\n\nDear all, C...",
          "Type: Awards<br>Text: Surya Narayanan Srinivasan\n\nBluePoints Award\n\nNovember 06, 2023 - From Supriya Devidutta\n\nOn Behalf ...",
          "Type: Awards<br>Text: Surya Narayanan Srinivasan\n\nBluePoints Award\n\nJune 26, 2023 - From Karups Thangaraj\n\nDear Folks, Con...",
          "Type: Eminence<br>Text: Surya Narayanan Srinivasan\n\nAppreciation with Cash – 2021\n\nSeptember 20, 2021 - From Nithin Pai\n\nHR ...",
          "Type: Eminence<br>Text: Surya Narayanan Srinivasan\n\nAppreciation with Cash – 2021\n\nNovember 28, 2021 - From Nithin Pai\n\nGrea...",
          "Type: Eminence<br>Text: Surya Narayanan Srinivasan\n\nCash Award\n\nJanuary 26, 2022 - From NITHIN PAI\n\nIn recognition of your c..."
         ],
         "type": "scatter3d",
         "x": {
          "bdata": "9tPKwrcSUsIKd+FBffN3QTppo7+Z+hDBGbqOQhaYWMLvZ9PC70uGQo0l5r//VA1Bd2VSQq0vlUIHXGxCwXyyQcdanMIMGLRCEvmSQtHKm0InG15CAJ6OQQ/WK0INkwXBARciQqDByUF5f3FClr+3Qp5p/EGQgWRCs22GwKmVRUKvld7CKB0DQjtHtkJ3KMfCrkeoQsheLELj0QrCHuGGQLOPZMGlGUvAKPK7wacDpUG4BlbCemwNQs9uxcHnAM/BSzoIwaWEqsKCkXvCUIG4waRxksL/Cc1Blo2WwoKRe8IGX+pBnwcgQXkeI8LrugVBehYmwnNbWkI1+4bC/cCUwbbISEJon9lBUACnwfnEG0IHxl9B2o+LQmGw08L+BQRDGWdoQuE730IM6bPCMB1+wt5mBcLpRc3Ay9pNwuAw/sGJphRC+68DwmZIFcJmxzzBk0xZQu6QFkLYP2LAyJ6OwT34Oj+zdoLCXreTwkNbl0G9MiPA19fGwRlLY8KVMDjCvIpZwl9ro8E=",
          "dtype": "f4"
         },
         "y": {
          "bdata": "eMoPQjvJCkEOzKVCGPMoQt/xqEJLbYVBImq2Qn59tEFMO/dBAjUtwrNruMKVBj9CyIuMwOLkjEKQl4rC6cSMQgFfDEJ+pwvCW4lAwoYS1sHWtj5ACLeqQMP+lD5UGgNCk+3uQWk5V0JoAEVB/oZwQaHKrcI1YabCGFZFQRuIHELEtoTBbhcjQfWDzUFJCY7CnbhrQZa0qEJ81CzChBHhQqgiiEILg5DAWqNSQRPZaMH+wInBpJnhwkMUOUIBnU1Cd22KQvuoE8HPfAFCbYzRQRTgAsJO1zPCMO0Xws98AUJ5cYbCIwsKQjmPl0J3x8RBasaFQoGvlUEZy4nC0Fxrwr/a+8FbmxfC8CASwo5ewMBbh97BuQrawGe/p8Er0TVBSCNfQqfYMsI1hQ7AeLyvPxMZ1kKgWezBaZ9rwlQjasEBpFhCwRHIwbNiN8LlZmfCztdvQuMrykKHrqPB5wJZwiCfosLswmpCvN/AwftSgcKtOzrCZSORwqS790BZMsXCdUbHwoTK2cI=",
          "dtype": "f4"
         },
         "z": {
          "bdata": "Qvw0wYayrMK1jlvCj84xwVqA5MFIu2jCqQpBQSPVQsL4y1lB8QNlQiVQpUKPJxXCnsqqQnaxRcKAH5tB7KFiQdbdR8KMKwnBsN8mwl3EZcJCWZ/Cs27LwgPy58JvANfCh0y6wsP4p8LBCMbBm5pmwkiTBML3gATCT6ruQjjQNsLz+cfAT7khwj9uWMBxFxZBavVJQqUcdME+18ZCh4DoQHKLgMLNSNtBfbxJQvcnFEKAH0FCUkCZQS90zkE37qZCncBtQouaOkJ0GF9CeGbowHfH30HnLLlCTJ1uQnQYX0J256fCfV4dQpNMXkK1CpBCOUTBwW2d70Ed9ovCtV2awl+0k0AQSh/CoT2wwuuJq8Ds+GfCh4jRQQ4tfsJ6HHHB1F1NwN/q0cFiscVC/iHPQvsBkkC4rmbBwMETws41S8GvbZpCP8EjwhAOqsBPoNPBi5RRQrDxA0IX/pBC6RhlQu8KTEGJAzdBCP/swUk0N0Le5sVBoSH+QSbIH0EhYYDAOhzFQS4k9UE=",
          "dtype": "f4"
         }
        }
       ],
       "layout": {
        "height": 700,
        "margin": {
         "b": 10,
         "l": 10,
         "r": 20,
         "t": 40
        },
        "scene": {
         "xaxis": {
          "title": {
           "text": "x"
          }
         },
         "yaxis": {
          "title": {
           "text": "y"
          }
         },
         "zaxis": {
          "title": {
           "text": "z"
          }
         }
        },
        "template": {
         "data": {
          "bar": [
           {
            "error_x": {
             "color": "#2a3f5f"
            },
            "error_y": {
             "color": "#2a3f5f"
            },
            "marker": {
             "line": {
              "color": "#E5ECF6",
              "width": 0.5
             },
             "pattern": {
              "fillmode": "overlay",
              "size": 10,
              "solidity": 0.2
             }
            },
            "type": "bar"
           }
          ],
          "barpolar": [
           {
            "marker": {
             "line": {
              "color": "#E5ECF6",
              "width": 0.5
             },
             "pattern": {
              "fillmode": "overlay",
              "size": 10,
              "solidity": 0.2
             }
            },
            "type": "barpolar"
           }
          ],
          "carpet": [
           {
            "aaxis": {
             "endlinecolor": "#2a3f5f",
             "gridcolor": "white",
             "linecolor": "white",
             "minorgridcolor": "white",
             "startlinecolor": "#2a3f5f"
            },
            "baxis": {
             "endlinecolor": "#2a3f5f",
             "gridcolor": "white",
             "linecolor": "white",
             "minorgridcolor": "white",
             "startlinecolor": "#2a3f5f"
            },
            "type": "carpet"
           }
          ],
          "choropleth": [
           {
            "colorbar": {
             "outlinewidth": 0,
             "ticks": ""
            },
            "type": "choropleth"
           }
          ],
          "contour": [
           {
            "colorbar": {
             "outlinewidth": 0,
             "ticks": ""
            },
            "colorscale": [
             [
              0,
              "#0d0887"
             ],
             [
              0.1111111111111111,
              "#46039f"
             ],
             [
              0.2222222222222222,
              "#7201a8"
             ],
             [
              0.3333333333333333,
              "#9c179e"
             ],
             [
              0.4444444444444444,
              "#bd3786"
             ],
             [
              0.5555555555555556,
              "#d8576b"
             ],
             [
              0.6666666666666666,
              "#ed7953"
             ],
             [
              0.7777777777777778,
              "#fb9f3a"
             ],
             [
              0.8888888888888888,
              "#fdca26"
             ],
             [
              1,
              "#f0f921"
             ]
            ],
            "type": "contour"
           }
          ],
          "contourcarpet": [
           {
            "colorbar": {
             "outlinewidth": 0,
             "ticks": ""
            },
            "type": "contourcarpet"
           }
          ],
          "heatmap": [
           {
            "colorbar": {
             "outlinewidth": 0,
             "ticks": ""
            },
            "colorscale": [
             [
              0,
              "#0d0887"
             ],
             [
              0.1111111111111111,
              "#46039f"
             ],
             [
              0.2222222222222222,
              "#7201a8"
             ],
             [
              0.3333333333333333,
              "#9c179e"
             ],
             [
              0.4444444444444444,
              "#bd3786"
             ],
             [
              0.5555555555555556,
              "#d8576b"
             ],
             [
              0.6666666666666666,
              "#ed7953"
             ],
             [
              0.7777777777777778,
              "#fb9f3a"
             ],
             [
              0.8888888888888888,
              "#fdca26"
             ],
             [
              1,
              "#f0f921"
             ]
            ],
            "type": "heatmap"
           }
          ],
          "histogram": [
           {
            "marker": {
             "pattern": {
              "fillmode": "overlay",
              "size": 10,
              "solidity": 0.2
             }
            },
            "type": "histogram"
           }
          ],
          "histogram2d": [
           {
            "colorbar": {
             "outlinewidth": 0,
             "ticks": ""
            },
            "colorscale": [
             [
              0,
              "#0d0887"
             ],
             [
              0.1111111111111111,
              "#46039f"
             ],
             [
              0.2222222222222222,
              "#7201a8"
             ],
             [
              0.3333333333333333,
              "#9c179e"
             ],
             [
              0.4444444444444444,
              "#bd3786"
             ],
             [
              0.5555555555555556,
              "#d8576b"
             ],
             [
              0.6666666666666666,
              "#ed7953"
             ],
             [
              0.7777777777777778,
              "#fb9f3a"
             ],
             [
              0.8888888888888888,
              "#fdca26"
             ],
             [
              1,
              "#f0f921"
             ]
            ],
            "type": "histogram2d"
           }
          ],
          "histogram2dcontour": [
           {
            "colorbar": {
             "outlinewidth": 0,
             "ticks": ""
            },
            "colorscale": [
             [
              0,
              "#0d0887"
             ],
             [
              0.1111111111111111,
              "#46039f"
             ],
             [
              0.2222222222222222,
              "#7201a8"
             ],
             [
              0.3333333333333333,
              "#9c179e"
             ],
             [
              0.4444444444444444,
              "#bd3786"
             ],
             [
              0.5555555555555556,
              "#d8576b"
             ],
             [
              0.6666666666666666,
              "#ed7953"
             ],
             [
              0.7777777777777778,
              "#fb9f3a"
             ],
             [
              0.8888888888888888,
              "#fdca26"
             ],
             [
              1,
              "#f0f921"
             ]
            ],
            "type": "histogram2dcontour"
           }
          ],
          "mesh3d": [
           {
            "colorbar": {
             "outlinewidth": 0,
             "ticks": ""
            },
            "type": "mesh3d"
           }
          ],
          "parcoords": [
           {
            "line": {
             "colorbar": {
              "outlinewidth": 0,
              "ticks": ""
             }
            },
            "type": "parcoords"
           }
          ],
          "pie": [
           {
            "automargin": true,
            "type": "pie"
           }
          ],
          "scatter": [
           {
            "fillpattern": {
             "fillmode": "overlay",
             "size": 10,
             "solidity": 0.2
            },
            "type": "scatter"
           }
          ],
          "scatter3d": [
           {
            "line": {
             "colorbar": {
              "outlinewidth": 0,
              "ticks": ""
             }
            },
            "marker": {
             "colorbar": {
              "outlinewidth": 0,
              "ticks": ""
             }
            },
            "type": "scatter3d"
           }
          ],
          "scattercarpet": [
           {
            "marker": {
             "colorbar": {
              "outlinewidth": 0,
              "ticks": ""
             }
            },
            "type": "scattercarpet"
           }
          ],
          "scattergeo": [
           {
            "marker": {
             "colorbar": {
              "outlinewidth": 0,
              "ticks": ""
             }
            },
            "type": "scattergeo"
           }
          ],
          "scattergl": [
           {
            "marker": {
             "colorbar": {
              "outlinewidth": 0,
              "ticks": ""
             }
            },
            "type": "scattergl"
           }
          ],
          "scattermap": [
           {
            "marker": {
             "colorbar": {
              "outlinewidth": 0,
              "ticks": ""
             }
            },
            "type": "scattermap"
           }
          ],
          "scattermapbox": [
           {
            "marker": {
             "colorbar": {
              "outlinewidth": 0,
              "ticks": ""
             }
            },
            "type": "scattermapbox"
           }
          ],
          "scatterpolar": [
           {
            "marker": {
             "colorbar": {
              "outlinewidth": 0,
              "ticks": ""
             }
            },
            "type": "scatterpolar"
           }
          ],
          "scatterpolargl": [
           {
            "marker": {
             "colorbar": {
              "outlinewidth": 0,
              "ticks": ""
             }
            },
            "type": "scatterpolargl"
           }
          ],
          "scatterternary": [
           {
            "marker": {
             "colorbar": {
              "outlinewidth": 0,
              "ticks": ""
             }
            },
            "type": "scatterternary"
           }
          ],
          "surface": [
           {
            "colorbar": {
             "outlinewidth": 0,
             "ticks": ""
            },
            "colorscale": [
             [
              0,
              "#0d0887"
             ],
             [
              0.1111111111111111,
              "#46039f"
             ],
             [
              0.2222222222222222,
              "#7201a8"
             ],
             [
              0.3333333333333333,
              "#9c179e"
             ],
             [
              0.4444444444444444,
              "#bd3786"
             ],
             [
              0.5555555555555556,
              "#d8576b"
             ],
             [
              0.6666666666666666,
              "#ed7953"
             ],
             [
              0.7777777777777778,
              "#fb9f3a"
             ],
             [
              0.8888888888888888,
              "#fdca26"
             ],
             [
              1,
              "#f0f921"
             ]
            ],
            "type": "surface"
           }
          ],
          "table": [
           {
            "cells": {
             "fill": {
              "color": "#EBF0F8"
             },
             "line": {
              "color": "white"
             }
            },
            "header": {
             "fill": {
              "color": "#C8D4E3"
             },
             "line": {
              "color": "white"
             }
            },
            "type": "table"
           }
          ]
         },
         "layout": {
          "annotationdefaults": {
           "arrowcolor": "#2a3f5f",
           "arrowhead": 0,
           "arrowwidth": 1
          },
          "autotypenumbers": "strict",
          "coloraxis": {
           "colorbar": {
            "outlinewidth": 0,
            "ticks": ""
           }
          },
          "colorscale": {
           "diverging": [
            [
             0,
             "#8e0152"
            ],
            [
             0.1,
             "#c51b7d"
            ],
            [
             0.2,
             "#de77ae"
            ],
            [
             0.3,
             "#f1b6da"
            ],
            [
             0.4,
             "#fde0ef"
            ],
            [
             0.5,
             "#f7f7f7"
            ],
            [
             0.6,
             "#e6f5d0"
            ],
            [
             0.7,
             "#b8e186"
            ],
            [
             0.8,
             "#7fbc41"
            ],
            [
             0.9,
             "#4d9221"
            ],
            [
             1,
             "#276419"
            ]
           ],
           "sequential": [
            [
             0,
             "#0d0887"
            ],
            [
             0.1111111111111111,
             "#46039f"
            ],
            [
             0.2222222222222222,
             "#7201a8"
            ],
            [
             0.3333333333333333,
             "#9c179e"
            ],
            [
             0.4444444444444444,
             "#bd3786"
            ],
            [
             0.5555555555555556,
             "#d8576b"
            ],
            [
             0.6666666666666666,
             "#ed7953"
            ],
            [
             0.7777777777777778,
             "#fb9f3a"
            ],
            [
             0.8888888888888888,
             "#fdca26"
            ],
            [
             1,
             "#f0f921"
            ]
           ],
           "sequentialminus": [
            [
             0,
             "#0d0887"
            ],
            [
             0.1111111111111111,
             "#46039f"
            ],
            [
             0.2222222222222222,
             "#7201a8"
            ],
            [
             0.3333333333333333,
             "#9c179e"
            ],
            [
             0.4444444444444444,
             "#bd3786"
            ],
            [
             0.5555555555555556,
             "#d8576b"
            ],
            [
             0.6666666666666666,
             "#ed7953"
            ],
            [
             0.7777777777777778,
             "#fb9f3a"
            ],
            [
             0.8888888888888888,
             "#fdca26"
            ],
            [
             1,
             "#f0f921"
            ]
           ]
          },
          "colorway": [
           "#636efa",
           "#EF553B",
           "#00cc96",
           "#ab63fa",
           "#FFA15A",
           "#19d3f3",
           "#FF6692",
           "#B6E880",
           "#FF97FF",
           "#FECB52"
          ],
          "font": {
           "color": "#2a3f5f"
          },
          "geo": {
           "bgcolor": "white",
           "lakecolor": "white",
           "landcolor": "#E5ECF6",
           "showlakes": true,
           "showland": true,
           "subunitcolor": "white"
          },
          "hoverlabel": {
           "align": "left"
          },
          "hovermode": "closest",
          "mapbox": {
           "style": "light"
          },
          "paper_bgcolor": "white",
          "plot_bgcolor": "#E5ECF6",
          "polar": {
           "angularaxis": {
            "gridcolor": "white",
            "linecolor": "white",
            "ticks": ""
           },
           "bgcolor": "#E5ECF6",
           "radialaxis": {
            "gridcolor": "white",
            "linecolor": "white",
            "ticks": ""
           }
          },
          "scene": {
           "xaxis": {
            "backgroundcolor": "#E5ECF6",
            "gridcolor": "white",
            "gridwidth": 2,
            "linecolor": "white",
            "showbackground": true,
            "ticks": "",
            "zerolinecolor": "white"
           },
           "yaxis": {
            "backgroundcolor": "#E5ECF6",
            "gridcolor": "white",
            "gridwidth": 2,
            "linecolor": "white",
            "showbackground": true,
            "ticks": "",
            "zerolinecolor": "white"
           },
           "zaxis": {
            "backgroundcolor": "#E5ECF6",
            "gridcolor": "white",
            "gridwidth": 2,
            "linecolor": "white",
            "showbackground": true,
            "ticks": "",
            "zerolinecolor": "white"
           }
          },
          "shapedefaults": {
           "line": {
            "color": "#2a3f5f"
           }
          },
          "ternary": {
           "aaxis": {
            "gridcolor": "white",
            "linecolor": "white",
            "ticks": ""
           },
           "baxis": {
            "gridcolor": "white",
            "linecolor": "white",
            "ticks": ""
           },
           "bgcolor": "#E5ECF6",
           "caxis": {
            "gridcolor": "white",
            "linecolor": "white",
            "ticks": ""
           }
          },
          "title": {
           "x": 0.05
          },
          "xaxis": {
           "automargin": true,
           "gridcolor": "white",
           "linecolor": "white",
           "ticks": "",
           "title": {
            "standoff": 15
           },
           "zerolinecolor": "white",
           "zerolinewidth": 2
          },
          "yaxis": {
           "automargin": true,
           "gridcolor": "white",
           "linecolor": "white",
           "ticks": "",
           "title": {
            "standoff": 15
           },
           "zerolinecolor": "white",
           "zerolinewidth": 2
          }
         }
        },
        "title": {
         "text": "3D Chroma Vector Store Visualization"
        },
        "width": 900
       }
      }
     },
     "metadata": {},
     "output_type": "display_data"
    }
   ],
   "source": [
    "# Let's try 3D!\n",
    "\n",
    "tsne = TSNE(n_components=3, random_state=42)\n",
    "reduced_vectors = tsne.fit_transform(vectors)\n",
    "\n",
    "# Create the 3D scatter plot\n",
    "fig = go.Figure(data=[go.Scatter3d(\n",
    "    x=reduced_vectors[:, 0],\n",
    "    y=reduced_vectors[:, 1],\n",
    "    z=reduced_vectors[:, 2],\n",
    "    mode='markers',\n",
    "    marker=dict(size=5, color=colors, opacity=0.8),\n",
    "    text=[f\"Type: {t}<br>Text: {d[:100]}...\" for t, d in zip(doc_types, documents)],\n",
    "    hoverinfo='text'\n",
    ")])\n",
    "\n",
    "fig.update_layout(\n",
    "    title='3D Chroma Vector Store Visualization',\n",
    "    scene=dict(xaxis_title='x', yaxis_title='y', zaxis_title='z'),\n",
    "    width=900,\n",
    "    height=700,\n",
    "    margin=dict(r=20, b=10, l=10, t=40)\n",
    ")\n",
    "\n",
    "fig.show()"
   ]
  },
  {
   "cell_type": "markdown",
   "id": "9468860b-86a2-41df-af01-b2400cc985be",
   "metadata": {},
   "source": [
    "## Time to use LangChain to bring it all together"
   ]
  },
  {
   "cell_type": "code",
   "execution_count": 15,
   "id": "129c7d1e-0094-4479-9459-f9360b95f244",
   "metadata": {},
   "outputs": [
    {
     "name": "stderr",
     "output_type": "stream",
     "text": [
      "/var/folders/y1/6qt3w0bj299dpqtstwkc1nwc0000gn/T/ipykernel_58961/2885823559.py:8: LangChainDeprecationWarning:\n",
      "\n",
      "Please see the migration guide at: https://python.langchain.com/docs/versions/migrating_memory/\n",
      "\n"
     ]
    }
   ],
   "source": [
    "# create a new Chat with OpenAI\n",
    "# llm = ChatOpenAI(temperature=0.7, model_name=MODEL)\n",
    "\n",
    "# Alternative - if you'd like to use Ollama locally, uncomment this line instead\n",
    "llm = ChatOpenAI(temperature=0.7, model_name=GRANITE_MODEL, base_url='http://localhost:11434/v1', api_key='ollama')\n",
    "\n",
    "# set up the conversation memory for the chat\n",
    "memory = ConversationBufferMemory(memory_key='chat_history', return_messages=True)\n",
    "\n",
    "# the retriever is an abstraction over the VectorStore that will be used during RAG\n",
    "retriever = vectorstore.as_retriever(search_kwargs={\"k\": 10})\n",
    "\n",
    "OWNER = 'Mr. Surya Narayanan'\n",
    "\n",
    "# Define your system instruction\n",
    "system_instruction = \"\"\"You are a Personal Assistant of Mr. Surya Narayanan.  Use the following knowledge context of Surya Narayanan to answer the user's question. \n",
    "If you don't know the answer, just say that you don't know, don't try to make up an answer.\"\"\"\n",
    "\n",
    "# Answer question\n",
    "qa_system_prompt = (\n",
    "    f\"You are an Personal assistant of {OWNER} for question-answering tasks about himself.\\n\"\n",
    "    f\"Use the following retrieved context of {OWNER} to answer the question about himself. \"\n",
    "    f\"Always tell positive things about {OWNER}. \"\n",
    "    \"If you don't know the answer, just say that you don't know. \"\n",
    "    \"Use three sentences maximum and keep the answer concise.\\n\\n\"\n",
    "    \"Context: {context}\"\n",
    ")\n",
    "\n",
    "qa_prompt = ChatPromptTemplate.from_messages(\n",
    "    [\n",
    "        (\"system\", qa_system_prompt),\n",
    "        MessagesPlaceholder(\"chat_history\"),\n",
    "        (\"user\", \"{input}\"),\n",
    "    ]\n",
    ")\n",
    "\n",
    "combine_docs_chain = create_stuff_documents_chain(\n",
    "    llm, qa_prompt\n",
    ")\n",
    "\n",
    "\n",
    "# putting it together: set up the conversation chain with the GPT 3.5 LLM, the vector store and memory\n",
    "conversation_chain = create_retrieval_chain(retriever, combine_docs_chain)\n",
    "\n"
   ]
  },
  {
   "cell_type": "code",
   "execution_count": 16,
   "id": "7d0e2dcc",
   "metadata": {},
   "outputs": [
    {
     "data": {
      "text/plain": [
       "{'variable_name': 'chat_history', 'optional': False, 'n_messages': None}"
      ]
     },
     "execution_count": 16,
     "metadata": {},
     "output_type": "execute_result"
    }
   ],
   "source": [
    "qa_prompt.messages[1].__dict__"
   ]
  },
  {
   "cell_type": "code",
   "execution_count": 17,
   "id": "968e7bf2-e862-4679-a11f-6c1efb6ec8ca",
   "metadata": {},
   "outputs": [
    {
     "name": "stdout",
     "output_type": "stream",
     "text": [
      "\u001b[32;1m\u001b[1;3m[chain/start]\u001b[0m \u001b[1m[chain:retrieval_chain] Entering Chain run with input:\n",
      "\u001b[0m{\n",
      "  \"input\": \"Who is Surya?\",\n",
      "  \"chat_history\": []\n",
      "}\n",
      "\u001b[32;1m\u001b[1;3m[chain/start]\u001b[0m \u001b[1m[chain:retrieval_chain > chain:RunnableAssign<context>] Entering Chain run with input:\n",
      "\u001b[0m{\n",
      "  \"input\": \"Who is Surya?\",\n",
      "  \"chat_history\": []\n",
      "}\n",
      "\u001b[32;1m\u001b[1;3m[chain/start]\u001b[0m \u001b[1m[chain:retrieval_chain > chain:RunnableAssign<context> > chain:RunnableParallel<context>] Entering Chain run with input:\n",
      "\u001b[0m{\n",
      "  \"input\": \"Who is Surya?\",\n",
      "  \"chat_history\": []\n",
      "}\n",
      "\u001b[32;1m\u001b[1;3m[chain/start]\u001b[0m \u001b[1m[chain:retrieval_chain > chain:RunnableAssign<context> > chain:RunnableParallel<context> > chain:retrieve_documents] Entering Chain run with input:\n",
      "\u001b[0m{\n",
      "  \"input\": \"Who is Surya?\",\n",
      "  \"chat_history\": []\n",
      "}\n",
      "\u001b[32;1m\u001b[1;3m[chain/start]\u001b[0m \u001b[1m[chain:retrieval_chain > chain:RunnableAssign<context> > chain:RunnableParallel<context> > chain:retrieve_documents > chain:RunnableLambda] Entering Chain run with input:\n",
      "\u001b[0m{\n",
      "  \"input\": \"Who is Surya?\",\n",
      "  \"chat_history\": []\n",
      "}\n",
      "\u001b[36;1m\u001b[1;3m[chain/end]\u001b[0m \u001b[1m[chain:retrieval_chain > chain:RunnableAssign<context> > chain:RunnableParallel<context> > chain:retrieve_documents > chain:RunnableLambda] [1ms] Exiting Chain run with output:\n",
      "\u001b[0m{\n",
      "  \"output\": \"Who is Surya?\"\n",
      "}\n",
      "\u001b[36;1m\u001b[1;3m[chain/end]\u001b[0m \u001b[1m[chain:retrieval_chain > chain:RunnableAssign<context> > chain:RunnableParallel<context> > chain:retrieve_documents] [137ms] Exiting Chain run with output:\n",
      "\u001b[0m[outputs]\n",
      "\u001b[36;1m\u001b[1;3m[chain/end]\u001b[0m \u001b[1m[chain:retrieval_chain > chain:RunnableAssign<context> > chain:RunnableParallel<context>] [139ms] Exiting Chain run with output:\n",
      "\u001b[0m[outputs]\n",
      "\u001b[36;1m\u001b[1;3m[chain/end]\u001b[0m \u001b[1m[chain:retrieval_chain > chain:RunnableAssign<context>] [141ms] Exiting Chain run with output:\n",
      "\u001b[0m[outputs]\n",
      "\u001b[32;1m\u001b[1;3m[chain/start]\u001b[0m \u001b[1m[chain:retrieval_chain > chain:RunnableAssign<answer>] Entering Chain run with input:\n",
      "\u001b[0m[inputs]\n",
      "\u001b[32;1m\u001b[1;3m[chain/start]\u001b[0m \u001b[1m[chain:retrieval_chain > chain:RunnableAssign<answer> > chain:RunnableParallel<answer>] Entering Chain run with input:\n",
      "\u001b[0m[inputs]\n",
      "\u001b[32;1m\u001b[1;3m[chain/start]\u001b[0m \u001b[1m[chain:retrieval_chain > chain:RunnableAssign<answer> > chain:RunnableParallel<answer> > chain:stuff_documents_chain] Entering Chain run with input:\n",
      "\u001b[0m[inputs]\n",
      "\u001b[32;1m\u001b[1;3m[chain/start]\u001b[0m \u001b[1m[chain:retrieval_chain > chain:RunnableAssign<answer> > chain:RunnableParallel<answer> > chain:stuff_documents_chain > chain:format_inputs] Entering Chain run with input:\n",
      "\u001b[0m[inputs]\n",
      "\u001b[32;1m\u001b[1;3m[chain/start]\u001b[0m \u001b[1m[chain:retrieval_chain > chain:RunnableAssign<answer> > chain:RunnableParallel<answer> > chain:stuff_documents_chain > chain:format_inputs > chain:RunnableParallel<context>] Entering Chain run with input:\n",
      "\u001b[0m[inputs]\n",
      "\u001b[32;1m\u001b[1;3m[chain/start]\u001b[0m \u001b[1m[chain:retrieval_chain > chain:RunnableAssign<answer> > chain:RunnableParallel<answer> > chain:stuff_documents_chain > chain:format_inputs > chain:RunnableParallel<context> > chain:format_docs] Entering Chain run with input:\n",
      "\u001b[0m[inputs]\n",
      "\u001b[36;1m\u001b[1;3m[chain/end]\u001b[0m \u001b[1m[chain:retrieval_chain > chain:RunnableAssign<answer> > chain:RunnableParallel<answer> > chain:stuff_documents_chain > chain:format_inputs > chain:RunnableParallel<context> > chain:format_docs] [0ms] Exiting Chain run with output:\n",
      "\u001b[0m{\n",
      "  \"output\": \"Surya Narayanan Srinivasan\\n\\nSoftware Developer | Data Analytics Specialist suryan0800@gmail.com | +91 7397152594 | Bengaluru, India LinkedIn | GitHub | Credly\\n\\nProfessional Summary\\n\\nDriven Software Developer with over 3 years of experience at IBM, specializing in cloud-native applications, data analytics pipelines, and machine learning solutions. Skilled at designing, optimizing ETL workflows, automating deployments, and leveraging AI models to drive business outcomes. Proven leader in cross-functional teams, delivering scalable, resilient, and production-ready systems that improve performance and streamline operations. Experienced in JVM-based backend development, Spring Boot, microservices architecture, and Agile delivery. Delivered high-availability, multi-tier applications, and used CI/CD pipelines to ensure rapid, continuous deployment.\\n\\nSkills\\n\\nSurya Narayanan Srinivasan\\n\\nSoftware Developer | Data Analytics Specialist\\nsuryan0800@gmail.com | +91 7397152594 | Bengaluru, India\\nLinkedIn | GitHub | Credly\\n\\nProfessional Summary\\n\\nDriven Software Developer with over 3 years of experience at IBM, specializing in cloud-native applications, data analytics pipelines, and machine learning solutions. Skilled at designing, optimizing ETL workflows, automating deployments, and leveraging AI models to drive business outcomes. Proven leader in cross-functional teams, delivering scalable, resilient, and production-ready systems that improve performance and streamline operations. Experienced in JVM-based backend development, Spring Boot, microservices architecture, and Agile delivery. Delivered high-availability, multi-tier applications, and used CI/CD pipelines to ensure rapid, continuous deployment.\\n\\nSkills\\n\\nProgramming: Java, Python, TypeScript, SQL\\n\\nWeb & Backend: Spring Boot, Spring Batch, Node.js, Flask, Angular\\n\\nSurya Narayanan Srinivasan\\n\\nBluePoints Award\\n\\nNovember 16, 2023 - From Mrinal Gautam\\n\\nThank you for all your help and support for the team in 2023. Looking forward to working closely in 2024 as well. Regards. Mrinal Gautam\\n\\nSurya Narayanan Srinivasan\\n\\nBluePoints Award\\n\\nNovember 06, 2023 - From Supriya Devidutta\\n\\nOn Behalf of AI@CIO India, I wanted to express my heartfelt appreciation to you for your contribution to the AI initiative in 2023. Your unwavering interest in AI, tireless effort, exceptional focus, commitment, and eagerness to learn, all while managing your ongoing project work, have been truly remarkable. Your dedication and passion have been instrumental in successfully accomplishing AI@CIO use cases on time. Thank you for your efforts in making the AI initiative a resounding achievement. With this experience you are adding to the IBM India, AI developer community. We look forward for your active participation and contribution in the upcoming AI@CIO 2024 events.\\n\\nSurya Narayanan Srinivasan\\n\\nCash Award\\n\\nJanuary 26, 2022 - From NITHIN PAI\\n\\nIn recognition of your contributions supporting IBM and Finance and Operations strategic priorities in 2021, you were nominated and selected to receive a cash award as part of F&O's Recognition program. Congratulations and thank you for your contributions (F&O Recognition Program details at: https://w3.ibm.com/w3publisher/f-o_recognitioncashaward/cash-awards-program)!\\n\\nSurya Narayanan Srinivasan\\n\\nBluePoints Award\\n\\nOctober 22, 2024 - From Mrinal Gautam\\n\\nDear Surya, thank you for all your help and support in making the PR tool & promotion tool go live on the new parameters happen. Your efforts made this critical aspect of the CIC India promotion process go live in record time. On behalf of the CIC promotions squad I want to take this opportunity to recognize your efforts and proactive actions.\\n\\nSurya Narayanan Srinivasan\\n\\nAppreciation with Cash – 2021\\n\\nNovember 28, 2021 - From Nithin Pai\\n\\nGreat job on the successful launch of the 5MD Tool into Production. Look forward to subsequent launches of the 5MD Tool, completion of the ITM Cloud Migration and successful ITM FY 2021 cycle. Great job!\\n\\nFIRST SEMESTER 2023-2024\\n\\nSS SS\\n\\nSS SS\\n\\nZC416 ZC425 ZC447 ZG653\\n\\nMATH FOUNDATIONS FOR DATA SCI DATA MINING DATA STORAGE TECH & NETWORKS SOFTWARE ARCHITECTURES\\n\\n4 3\\n\\n5\\n\\nA A\\n\\nA CGPA. .8.25\\n\\nSECOND SEMESTER 2023-2024\\n\\nSS SS\\n\\nZG513 ZG529 ZG537 ZG599\\n\\nNETWORK SECURITY DEEP LEARNING INFORMATION RETRIEVAL NATURAL LÀNGUAGE PROCESSING\\n\\n4 4 4 4 A\\n\\nB A\\n\\nCGPA. .8.40\\n\\nFIRST SEMESTER 2024-2025\\n\\nSS\\n\\nZG628T DISSERTATION\\n\\n16 GOOD\\n\\nCGPA..8.40\\n\\nSUMMA RY Admitted in: To:\\n\\nSECOND SEMESTER 2022 -2023 M.Tech. (Software Systems)\\n\\nLast Registered:\\n\\nFIRST SEMESTER 2024-2025\\n\\nUnits Used in CGPA: (This includes only courses with CGPA\\n\\n52\\n\\nter grades, excluding repetitions)\\n\\nDegree (s) Completed :\\n\\nM.Tech. (Software Systems)\\n\\nREGISTRÀR\\n\\n(Continued)\\n\\ninnovate\\n\\nachieve\\n\\nlead\\n\\nECHNE\\n\\nBirla Institute of Technology & Science, Pilani Pilani| Dubai | Goa| Hyderabad\\n\\nTRANSCRIPT\\n\\nID NO 2022MT13011\\n\\nPage 2\\n\\nNAME\\n\\nSURYA NARAYANAN S\\n\\nBirla Institute of Technology & Science, Pilani Pilani | Dubai | Goa| Hyderabad\\n\\nPROVISIONAL CERTIFICATE\\n\\nThis is to certify that SURYA NARAYANAN S (ID NO.:\\n\\n2022MT13011) has fulfilled\\n\\nthe\\n\\nrequirements of\\n\\ngraduation and has become eligible for the award of the\\n\\ndegree M.Tech.(Software Systems) at the end of First\\n\\nSemester 2024-2025.\\n\\nDate: 31-Jan-2025\\n\\nREGISTRAR\\n\\nPlace: PILANI\\n\\ninnovate\\n\\nachieve\\n\\nlead\\n\\nBirla Institute of Technology & Science, Pilani Pilani | Dubai | Goa| Hyderabad TRANSCRIPT\\n\\nID NO 2022MT13011\\n\\nNAME\\n\\nSURYA NARAYANAN S\\n\\nDegree (s) Completed :\\n\\nN.Tech. (SofEware Systems)\\n\\nCGPA\\n\\n8.40\\n\\nCOURSE NO\\n\\nCOURSE TITLE\\n\\nUNITS GRADE\\n\\nSECOND SEMESTER 2022-2023\\n\\nSS\\n\\nSs SS\\n\\nzG518 ZG519 ZG526 ZG527\\n\\nB DATABASE DESIGN & APPLICATIONS 5 DATA STRU & ALGORITHMS DESIGN 5 B B DISTRIBUTED COMPUTING B CLOUD COMPUTING CGPA. .7.50\\n\\nFIRST SEMESTER 2023-2024\\n\\nSS SS\\n\\nSS SS\\n\\nZC416 ZC425 ZC447 ZG653\\n\\nMATH FOUNDATIONS FOR DATA SCI DATA MINING DATA STORAGE TECH & NETWORKS SOFTWARE ARCHITECTURES\\n\\n4 3\\n\\nSurya Narayanan Srinivasan\\n\\nBluePoints Award\\n\\nJune 26, 2023 - From Karups Thangaraj\\n\\nDear Folks, Congratulations!.. Thank you for being part of our ﬁrst CIO India Idea-thon event. Once again, congratulations to all the idea owners and top two winning teams for each idea. You may please refer attached image for more details. All the best..\"\n",
      "}\n",
      "\u001b[36;1m\u001b[1;3m[chain/end]\u001b[0m \u001b[1m[chain:retrieval_chain > chain:RunnableAssign<answer> > chain:RunnableParallel<answer> > chain:stuff_documents_chain > chain:format_inputs > chain:RunnableParallel<context>] [0ms] Exiting Chain run with output:\n",
      "\u001b[0m{\n",
      "  \"context\": \"Surya Narayanan Srinivasan\\n\\nSoftware Developer | Data Analytics Specialist suryan0800@gmail.com | +91 7397152594 | Bengaluru, India LinkedIn | GitHub | Credly\\n\\nProfessional Summary\\n\\nDriven Software Developer with over 3 years of experience at IBM, specializing in cloud-native applications, data analytics pipelines, and machine learning solutions. Skilled at designing, optimizing ETL workflows, automating deployments, and leveraging AI models to drive business outcomes. Proven leader in cross-functional teams, delivering scalable, resilient, and production-ready systems that improve performance and streamline operations. Experienced in JVM-based backend development, Spring Boot, microservices architecture, and Agile delivery. Delivered high-availability, multi-tier applications, and used CI/CD pipelines to ensure rapid, continuous deployment.\\n\\nSkills\\n\\nSurya Narayanan Srinivasan\\n\\nSoftware Developer | Data Analytics Specialist\\nsuryan0800@gmail.com | +91 7397152594 | Bengaluru, India\\nLinkedIn | GitHub | Credly\\n\\nProfessional Summary\\n\\nDriven Software Developer with over 3 years of experience at IBM, specializing in cloud-native applications, data analytics pipelines, and machine learning solutions. Skilled at designing, optimizing ETL workflows, automating deployments, and leveraging AI models to drive business outcomes. Proven leader in cross-functional teams, delivering scalable, resilient, and production-ready systems that improve performance and streamline operations. Experienced in JVM-based backend development, Spring Boot, microservices architecture, and Agile delivery. Delivered high-availability, multi-tier applications, and used CI/CD pipelines to ensure rapid, continuous deployment.\\n\\nSkills\\n\\nProgramming: Java, Python, TypeScript, SQL\\n\\nWeb & Backend: Spring Boot, Spring Batch, Node.js, Flask, Angular\\n\\nSurya Narayanan Srinivasan\\n\\nBluePoints Award\\n\\nNovember 16, 2023 - From Mrinal Gautam\\n\\nThank you for all your help and support for the team in 2023. Looking forward to working closely in 2024 as well. Regards. Mrinal Gautam\\n\\nSurya Narayanan Srinivasan\\n\\nBluePoints Award\\n\\nNovember 06, 2023 - From Supriya Devidutta\\n\\nOn Behalf of AI@CIO India, I wanted to express my heartfelt appreciation to you for your contribution to the AI initiative in 2023. Your unwavering interest in AI, tireless effort, exceptional focus, commitment, and eagerness to learn, all while managing your ongoing project work, have been truly remarkable. Your dedication and passion have been instrumental in successfully accomplishing AI@CIO use cases on time. Thank you for your efforts in making the AI initiative a resounding achievement. With this experience you are adding to the IBM India, AI developer community. We look forward for your active participation and contribution in the upcoming AI@CIO 2024 events.\\n\\nSurya Narayanan Srinivasan\\n\\nCash Award\\n\\nJanuary 26, 2022 - From NITHIN PAI\\n\\nIn recognition of your contributions supporting IBM and Finance and Operations strategic priorities in 2021, you were nominated and selected to receive a cash award as part of F&O's Recognition program. Congratulations and thank you for your contributions (F&O Recognition Program details at: https://w3.ibm.com/w3publisher/f-o_recognitioncashaward/cash-awards-program)!\\n\\nSurya Narayanan Srinivasan\\n\\nBluePoints Award\\n\\nOctober 22, 2024 - From Mrinal Gautam\\n\\nDear Surya, thank you for all your help and support in making the PR tool & promotion tool go live on the new parameters happen. Your efforts made this critical aspect of the CIC India promotion process go live in record time. On behalf of the CIC promotions squad I want to take this opportunity to recognize your efforts and proactive actions.\\n\\nSurya Narayanan Srinivasan\\n\\nAppreciation with Cash – 2021\\n\\nNovember 28, 2021 - From Nithin Pai\\n\\nGreat job on the successful launch of the 5MD Tool into Production. Look forward to subsequent launches of the 5MD Tool, completion of the ITM Cloud Migration and successful ITM FY 2021 cycle. Great job!\\n\\nFIRST SEMESTER 2023-2024\\n\\nSS SS\\n\\nSS SS\\n\\nZC416 ZC425 ZC447 ZG653\\n\\nMATH FOUNDATIONS FOR DATA SCI DATA MINING DATA STORAGE TECH & NETWORKS SOFTWARE ARCHITECTURES\\n\\n4 3\\n\\n5\\n\\nA A\\n\\nA CGPA. .8.25\\n\\nSECOND SEMESTER 2023-2024\\n\\nSS SS\\n\\nZG513 ZG529 ZG537 ZG599\\n\\nNETWORK SECURITY DEEP LEARNING INFORMATION RETRIEVAL NATURAL LÀNGUAGE PROCESSING\\n\\n4 4 4 4 A\\n\\nB A\\n\\nCGPA. .8.40\\n\\nFIRST SEMESTER 2024-2025\\n\\nSS\\n\\nZG628T DISSERTATION\\n\\n16 GOOD\\n\\nCGPA..8.40\\n\\nSUMMA RY Admitted in: To:\\n\\nSECOND SEMESTER 2022 -2023 M.Tech. (Software Systems)\\n\\nLast Registered:\\n\\nFIRST SEMESTER 2024-2025\\n\\nUnits Used in CGPA: (This includes only courses with CGPA\\n\\n52\\n\\nter grades, excluding repetitions)\\n\\nDegree (s) Completed :\\n\\nM.Tech. (Software Systems)\\n\\nREGISTRÀR\\n\\n(Continued)\\n\\ninnovate\\n\\nachieve\\n\\nlead\\n\\nECHNE\\n\\nBirla Institute of Technology & Science, Pilani Pilani| Dubai | Goa| Hyderabad\\n\\nTRANSCRIPT\\n\\nID NO 2022MT13011\\n\\nPage 2\\n\\nNAME\\n\\nSURYA NARAYANAN S\\n\\nBirla Institute of Technology & Science, Pilani Pilani | Dubai | Goa| Hyderabad\\n\\nPROVISIONAL CERTIFICATE\\n\\nThis is to certify that SURYA NARAYANAN S (ID NO.:\\n\\n2022MT13011) has fulfilled\\n\\nthe\\n\\nrequirements of\\n\\ngraduation and has become eligible for the award of the\\n\\ndegree M.Tech.(Software Systems) at the end of First\\n\\nSemester 2024-2025.\\n\\nDate: 31-Jan-2025\\n\\nREGISTRAR\\n\\nPlace: PILANI\\n\\ninnovate\\n\\nachieve\\n\\nlead\\n\\nBirla Institute of Technology & Science, Pilani Pilani | Dubai | Goa| Hyderabad TRANSCRIPT\\n\\nID NO 2022MT13011\\n\\nNAME\\n\\nSURYA NARAYANAN S\\n\\nDegree (s) Completed :\\n\\nN.Tech. (SofEware Systems)\\n\\nCGPA\\n\\n8.40\\n\\nCOURSE NO\\n\\nCOURSE TITLE\\n\\nUNITS GRADE\\n\\nSECOND SEMESTER 2022-2023\\n\\nSS\\n\\nSs SS\\n\\nzG518 ZG519 ZG526 ZG527\\n\\nB DATABASE DESIGN & APPLICATIONS 5 DATA STRU & ALGORITHMS DESIGN 5 B B DISTRIBUTED COMPUTING B CLOUD COMPUTING CGPA. .7.50\\n\\nFIRST SEMESTER 2023-2024\\n\\nSS SS\\n\\nSS SS\\n\\nZC416 ZC425 ZC447 ZG653\\n\\nMATH FOUNDATIONS FOR DATA SCI DATA MINING DATA STORAGE TECH & NETWORKS SOFTWARE ARCHITECTURES\\n\\n4 3\\n\\nSurya Narayanan Srinivasan\\n\\nBluePoints Award\\n\\nJune 26, 2023 - From Karups Thangaraj\\n\\nDear Folks, Congratulations!.. Thank you for being part of our ﬁrst CIO India Idea-thon event. Once again, congratulations to all the idea owners and top two winning teams for each idea. You may please refer attached image for more details. All the best..\"\n",
      "}\n",
      "\u001b[36;1m\u001b[1;3m[chain/end]\u001b[0m \u001b[1m[chain:retrieval_chain > chain:RunnableAssign<answer> > chain:RunnableParallel<answer> > chain:stuff_documents_chain > chain:format_inputs] [1ms] Exiting Chain run with output:\n",
      "\u001b[0m{\n",
      "  \"input\": \"Who is Surya?\",\n",
      "  \"chat_history\": [],\n",
      "  \"context\": \"Surya Narayanan Srinivasan\\n\\nSoftware Developer | Data Analytics Specialist suryan0800@gmail.com | +91 7397152594 | Bengaluru, India LinkedIn | GitHub | Credly\\n\\nProfessional Summary\\n\\nDriven Software Developer with over 3 years of experience at IBM, specializing in cloud-native applications, data analytics pipelines, and machine learning solutions. Skilled at designing, optimizing ETL workflows, automating deployments, and leveraging AI models to drive business outcomes. Proven leader in cross-functional teams, delivering scalable, resilient, and production-ready systems that improve performance and streamline operations. Experienced in JVM-based backend development, Spring Boot, microservices architecture, and Agile delivery. Delivered high-availability, multi-tier applications, and used CI/CD pipelines to ensure rapid, continuous deployment.\\n\\nSkills\\n\\nSurya Narayanan Srinivasan\\n\\nSoftware Developer | Data Analytics Specialist\\nsuryan0800@gmail.com | +91 7397152594 | Bengaluru, India\\nLinkedIn | GitHub | Credly\\n\\nProfessional Summary\\n\\nDriven Software Developer with over 3 years of experience at IBM, specializing in cloud-native applications, data analytics pipelines, and machine learning solutions. Skilled at designing, optimizing ETL workflows, automating deployments, and leveraging AI models to drive business outcomes. Proven leader in cross-functional teams, delivering scalable, resilient, and production-ready systems that improve performance and streamline operations. Experienced in JVM-based backend development, Spring Boot, microservices architecture, and Agile delivery. Delivered high-availability, multi-tier applications, and used CI/CD pipelines to ensure rapid, continuous deployment.\\n\\nSkills\\n\\nProgramming: Java, Python, TypeScript, SQL\\n\\nWeb & Backend: Spring Boot, Spring Batch, Node.js, Flask, Angular\\n\\nSurya Narayanan Srinivasan\\n\\nBluePoints Award\\n\\nNovember 16, 2023 - From Mrinal Gautam\\n\\nThank you for all your help and support for the team in 2023. Looking forward to working closely in 2024 as well. Regards. Mrinal Gautam\\n\\nSurya Narayanan Srinivasan\\n\\nBluePoints Award\\n\\nNovember 06, 2023 - From Supriya Devidutta\\n\\nOn Behalf of AI@CIO India, I wanted to express my heartfelt appreciation to you for your contribution to the AI initiative in 2023. Your unwavering interest in AI, tireless effort, exceptional focus, commitment, and eagerness to learn, all while managing your ongoing project work, have been truly remarkable. Your dedication and passion have been instrumental in successfully accomplishing AI@CIO use cases on time. Thank you for your efforts in making the AI initiative a resounding achievement. With this experience you are adding to the IBM India, AI developer community. We look forward for your active participation and contribution in the upcoming AI@CIO 2024 events.\\n\\nSurya Narayanan Srinivasan\\n\\nCash Award\\n\\nJanuary 26, 2022 - From NITHIN PAI\\n\\nIn recognition of your contributions supporting IBM and Finance and Operations strategic priorities in 2021, you were nominated and selected to receive a cash award as part of F&O's Recognition program. Congratulations and thank you for your contributions (F&O Recognition Program details at: https://w3.ibm.com/w3publisher/f-o_recognitioncashaward/cash-awards-program)!\\n\\nSurya Narayanan Srinivasan\\n\\nBluePoints Award\\n\\nOctober 22, 2024 - From Mrinal Gautam\\n\\nDear Surya, thank you for all your help and support in making the PR tool & promotion tool go live on the new parameters happen. Your efforts made this critical aspect of the CIC India promotion process go live in record time. On behalf of the CIC promotions squad I want to take this opportunity to recognize your efforts and proactive actions.\\n\\nSurya Narayanan Srinivasan\\n\\nAppreciation with Cash – 2021\\n\\nNovember 28, 2021 - From Nithin Pai\\n\\nGreat job on the successful launch of the 5MD Tool into Production. Look forward to subsequent launches of the 5MD Tool, completion of the ITM Cloud Migration and successful ITM FY 2021 cycle. Great job!\\n\\nFIRST SEMESTER 2023-2024\\n\\nSS SS\\n\\nSS SS\\n\\nZC416 ZC425 ZC447 ZG653\\n\\nMATH FOUNDATIONS FOR DATA SCI DATA MINING DATA STORAGE TECH & NETWORKS SOFTWARE ARCHITECTURES\\n\\n4 3\\n\\n5\\n\\nA A\\n\\nA CGPA. .8.25\\n\\nSECOND SEMESTER 2023-2024\\n\\nSS SS\\n\\nZG513 ZG529 ZG537 ZG599\\n\\nNETWORK SECURITY DEEP LEARNING INFORMATION RETRIEVAL NATURAL LÀNGUAGE PROCESSING\\n\\n4 4 4 4 A\\n\\nB A\\n\\nCGPA. .8.40\\n\\nFIRST SEMESTER 2024-2025\\n\\nSS\\n\\nZG628T DISSERTATION\\n\\n16 GOOD\\n\\nCGPA..8.40\\n\\nSUMMA RY Admitted in: To:\\n\\nSECOND SEMESTER 2022 -2023 M.Tech. (Software Systems)\\n\\nLast Registered:\\n\\nFIRST SEMESTER 2024-2025\\n\\nUnits Used in CGPA: (This includes only courses with CGPA\\n\\n52\\n\\nter grades, excluding repetitions)\\n\\nDegree (s) Completed :\\n\\nM.Tech. (Software Systems)\\n\\nREGISTRÀR\\n\\n(Continued)\\n\\ninnovate\\n\\nachieve\\n\\nlead\\n\\nECHNE\\n\\nBirla Institute of Technology & Science, Pilani Pilani| Dubai | Goa| Hyderabad\\n\\nTRANSCRIPT\\n\\nID NO 2022MT13011\\n\\nPage 2\\n\\nNAME\\n\\nSURYA NARAYANAN S\\n\\nBirla Institute of Technology & Science, Pilani Pilani | Dubai | Goa| Hyderabad\\n\\nPROVISIONAL CERTIFICATE\\n\\nThis is to certify that SURYA NARAYANAN S (ID NO.:\\n\\n2022MT13011) has fulfilled\\n\\nthe\\n\\nrequirements of\\n\\ngraduation and has become eligible for the award of the\\n\\ndegree M.Tech.(Software Systems) at the end of First\\n\\nSemester 2024-2025.\\n\\nDate: 31-Jan-2025\\n\\nREGISTRAR\\n\\nPlace: PILANI\\n\\ninnovate\\n\\nachieve\\n\\nlead\\n\\nBirla Institute of Technology & Science, Pilani Pilani | Dubai | Goa| Hyderabad TRANSCRIPT\\n\\nID NO 2022MT13011\\n\\nNAME\\n\\nSURYA NARAYANAN S\\n\\nDegree (s) Completed :\\n\\nN.Tech. (SofEware Systems)\\n\\nCGPA\\n\\n8.40\\n\\nCOURSE NO\\n\\nCOURSE TITLE\\n\\nUNITS GRADE\\n\\nSECOND SEMESTER 2022-2023\\n\\nSS\\n\\nSs SS\\n\\nzG518 ZG519 ZG526 ZG527\\n\\nB DATABASE DESIGN & APPLICATIONS 5 DATA STRU & ALGORITHMS DESIGN 5 B B DISTRIBUTED COMPUTING B CLOUD COMPUTING CGPA. .7.50\\n\\nFIRST SEMESTER 2023-2024\\n\\nSS SS\\n\\nSS SS\\n\\nZC416 ZC425 ZC447 ZG653\\n\\nMATH FOUNDATIONS FOR DATA SCI DATA MINING DATA STORAGE TECH & NETWORKS SOFTWARE ARCHITECTURES\\n\\n4 3\\n\\nSurya Narayanan Srinivasan\\n\\nBluePoints Award\\n\\nJune 26, 2023 - From Karups Thangaraj\\n\\nDear Folks, Congratulations!.. Thank you for being part of our ﬁrst CIO India Idea-thon event. Once again, congratulations to all the idea owners and top two winning teams for each idea. You may please refer attached image for more details. All the best..\"\n",
      "}\n",
      "\u001b[32;1m\u001b[1;3m[chain/start]\u001b[0m \u001b[1m[chain:retrieval_chain > chain:RunnableAssign<answer> > chain:RunnableParallel<answer> > chain:stuff_documents_chain > prompt:ChatPromptTemplate] Entering Prompt run with input:\n",
      "\u001b[0m{\n",
      "  \"input\": \"Who is Surya?\",\n",
      "  \"chat_history\": [],\n",
      "  \"context\": \"Surya Narayanan Srinivasan\\n\\nSoftware Developer | Data Analytics Specialist suryan0800@gmail.com | +91 7397152594 | Bengaluru, India LinkedIn | GitHub | Credly\\n\\nProfessional Summary\\n\\nDriven Software Developer with over 3 years of experience at IBM, specializing in cloud-native applications, data analytics pipelines, and machine learning solutions. Skilled at designing, optimizing ETL workflows, automating deployments, and leveraging AI models to drive business outcomes. Proven leader in cross-functional teams, delivering scalable, resilient, and production-ready systems that improve performance and streamline operations. Experienced in JVM-based backend development, Spring Boot, microservices architecture, and Agile delivery. Delivered high-availability, multi-tier applications, and used CI/CD pipelines to ensure rapid, continuous deployment.\\n\\nSkills\\n\\nSurya Narayanan Srinivasan\\n\\nSoftware Developer | Data Analytics Specialist\\nsuryan0800@gmail.com | +91 7397152594 | Bengaluru, India\\nLinkedIn | GitHub | Credly\\n\\nProfessional Summary\\n\\nDriven Software Developer with over 3 years of experience at IBM, specializing in cloud-native applications, data analytics pipelines, and machine learning solutions. Skilled at designing, optimizing ETL workflows, automating deployments, and leveraging AI models to drive business outcomes. Proven leader in cross-functional teams, delivering scalable, resilient, and production-ready systems that improve performance and streamline operations. Experienced in JVM-based backend development, Spring Boot, microservices architecture, and Agile delivery. Delivered high-availability, multi-tier applications, and used CI/CD pipelines to ensure rapid, continuous deployment.\\n\\nSkills\\n\\nProgramming: Java, Python, TypeScript, SQL\\n\\nWeb & Backend: Spring Boot, Spring Batch, Node.js, Flask, Angular\\n\\nSurya Narayanan Srinivasan\\n\\nBluePoints Award\\n\\nNovember 16, 2023 - From Mrinal Gautam\\n\\nThank you for all your help and support for the team in 2023. Looking forward to working closely in 2024 as well. Regards. Mrinal Gautam\\n\\nSurya Narayanan Srinivasan\\n\\nBluePoints Award\\n\\nNovember 06, 2023 - From Supriya Devidutta\\n\\nOn Behalf of AI@CIO India, I wanted to express my heartfelt appreciation to you for your contribution to the AI initiative in 2023. Your unwavering interest in AI, tireless effort, exceptional focus, commitment, and eagerness to learn, all while managing your ongoing project work, have been truly remarkable. Your dedication and passion have been instrumental in successfully accomplishing AI@CIO use cases on time. Thank you for your efforts in making the AI initiative a resounding achievement. With this experience you are adding to the IBM India, AI developer community. We look forward for your active participation and contribution in the upcoming AI@CIO 2024 events.\\n\\nSurya Narayanan Srinivasan\\n\\nCash Award\\n\\nJanuary 26, 2022 - From NITHIN PAI\\n\\nIn recognition of your contributions supporting IBM and Finance and Operations strategic priorities in 2021, you were nominated and selected to receive a cash award as part of F&O's Recognition program. Congratulations and thank you for your contributions (F&O Recognition Program details at: https://w3.ibm.com/w3publisher/f-o_recognitioncashaward/cash-awards-program)!\\n\\nSurya Narayanan Srinivasan\\n\\nBluePoints Award\\n\\nOctober 22, 2024 - From Mrinal Gautam\\n\\nDear Surya, thank you for all your help and support in making the PR tool & promotion tool go live on the new parameters happen. Your efforts made this critical aspect of the CIC India promotion process go live in record time. On behalf of the CIC promotions squad I want to take this opportunity to recognize your efforts and proactive actions.\\n\\nSurya Narayanan Srinivasan\\n\\nAppreciation with Cash – 2021\\n\\nNovember 28, 2021 - From Nithin Pai\\n\\nGreat job on the successful launch of the 5MD Tool into Production. Look forward to subsequent launches of the 5MD Tool, completion of the ITM Cloud Migration and successful ITM FY 2021 cycle. Great job!\\n\\nFIRST SEMESTER 2023-2024\\n\\nSS SS\\n\\nSS SS\\n\\nZC416 ZC425 ZC447 ZG653\\n\\nMATH FOUNDATIONS FOR DATA SCI DATA MINING DATA STORAGE TECH & NETWORKS SOFTWARE ARCHITECTURES\\n\\n4 3\\n\\n5\\n\\nA A\\n\\nA CGPA. .8.25\\n\\nSECOND SEMESTER 2023-2024\\n\\nSS SS\\n\\nZG513 ZG529 ZG537 ZG599\\n\\nNETWORK SECURITY DEEP LEARNING INFORMATION RETRIEVAL NATURAL LÀNGUAGE PROCESSING\\n\\n4 4 4 4 A\\n\\nB A\\n\\nCGPA. .8.40\\n\\nFIRST SEMESTER 2024-2025\\n\\nSS\\n\\nZG628T DISSERTATION\\n\\n16 GOOD\\n\\nCGPA..8.40\\n\\nSUMMA RY Admitted in: To:\\n\\nSECOND SEMESTER 2022 -2023 M.Tech. (Software Systems)\\n\\nLast Registered:\\n\\nFIRST SEMESTER 2024-2025\\n\\nUnits Used in CGPA: (This includes only courses with CGPA\\n\\n52\\n\\nter grades, excluding repetitions)\\n\\nDegree (s) Completed :\\n\\nM.Tech. (Software Systems)\\n\\nREGISTRÀR\\n\\n(Continued)\\n\\ninnovate\\n\\nachieve\\n\\nlead\\n\\nECHNE\\n\\nBirla Institute of Technology & Science, Pilani Pilani| Dubai | Goa| Hyderabad\\n\\nTRANSCRIPT\\n\\nID NO 2022MT13011\\n\\nPage 2\\n\\nNAME\\n\\nSURYA NARAYANAN S\\n\\nBirla Institute of Technology & Science, Pilani Pilani | Dubai | Goa| Hyderabad\\n\\nPROVISIONAL CERTIFICATE\\n\\nThis is to certify that SURYA NARAYANAN S (ID NO.:\\n\\n2022MT13011) has fulfilled\\n\\nthe\\n\\nrequirements of\\n\\ngraduation and has become eligible for the award of the\\n\\ndegree M.Tech.(Software Systems) at the end of First\\n\\nSemester 2024-2025.\\n\\nDate: 31-Jan-2025\\n\\nREGISTRAR\\n\\nPlace: PILANI\\n\\ninnovate\\n\\nachieve\\n\\nlead\\n\\nBirla Institute of Technology & Science, Pilani Pilani | Dubai | Goa| Hyderabad TRANSCRIPT\\n\\nID NO 2022MT13011\\n\\nNAME\\n\\nSURYA NARAYANAN S\\n\\nDegree (s) Completed :\\n\\nN.Tech. (SofEware Systems)\\n\\nCGPA\\n\\n8.40\\n\\nCOURSE NO\\n\\nCOURSE TITLE\\n\\nUNITS GRADE\\n\\nSECOND SEMESTER 2022-2023\\n\\nSS\\n\\nSs SS\\n\\nzG518 ZG519 ZG526 ZG527\\n\\nB DATABASE DESIGN & APPLICATIONS 5 DATA STRU & ALGORITHMS DESIGN 5 B B DISTRIBUTED COMPUTING B CLOUD COMPUTING CGPA. .7.50\\n\\nFIRST SEMESTER 2023-2024\\n\\nSS SS\\n\\nSS SS\\n\\nZC416 ZC425 ZC447 ZG653\\n\\nMATH FOUNDATIONS FOR DATA SCI DATA MINING DATA STORAGE TECH & NETWORKS SOFTWARE ARCHITECTURES\\n\\n4 3\\n\\nSurya Narayanan Srinivasan\\n\\nBluePoints Award\\n\\nJune 26, 2023 - From Karups Thangaraj\\n\\nDear Folks, Congratulations!.. Thank you for being part of our ﬁrst CIO India Idea-thon event. Once again, congratulations to all the idea owners and top two winning teams for each idea. You may please refer attached image for more details. All the best..\"\n",
      "}\n",
      "\u001b[36;1m\u001b[1;3m[chain/end]\u001b[0m \u001b[1m[chain:retrieval_chain > chain:RunnableAssign<answer> > chain:RunnableParallel<answer> > chain:stuff_documents_chain > prompt:ChatPromptTemplate] [0ms] Exiting Prompt run with output:\n",
      "\u001b[0m[outputs]\n",
      "\u001b[32;1m\u001b[1;3m[llm/start]\u001b[0m \u001b[1m[chain:retrieval_chain > chain:RunnableAssign<answer> > chain:RunnableParallel<answer> > chain:stuff_documents_chain > llm:ChatOpenAI] Entering LLM run with input:\n",
      "\u001b[0m{\n",
      "  \"prompts\": [\n",
      "    \"System: You are an Personal assistant of Mr. Surya Narayanan for question-answering tasks about himself.\\nUse the following retrieved context of Mr. Surya Narayanan to answer the question about himself. Always tell positive things about Mr. Surya Narayanan. If you don't know the answer, just say that you don't know. Use three sentences maximum and keep the answer concise.\\n\\nContext: Surya Narayanan Srinivasan\\n\\nSoftware Developer | Data Analytics Specialist suryan0800@gmail.com | +91 7397152594 | Bengaluru, India LinkedIn | GitHub | Credly\\n\\nProfessional Summary\\n\\nDriven Software Developer with over 3 years of experience at IBM, specializing in cloud-native applications, data analytics pipelines, and machine learning solutions. Skilled at designing, optimizing ETL workflows, automating deployments, and leveraging AI models to drive business outcomes. Proven leader in cross-functional teams, delivering scalable, resilient, and production-ready systems that improve performance and streamline operations. Experienced in JVM-based backend development, Spring Boot, microservices architecture, and Agile delivery. Delivered high-availability, multi-tier applications, and used CI/CD pipelines to ensure rapid, continuous deployment.\\n\\nSkills\\n\\nSurya Narayanan Srinivasan\\n\\nSoftware Developer | Data Analytics Specialist\\nsuryan0800@gmail.com | +91 7397152594 | Bengaluru, India\\nLinkedIn | GitHub | Credly\\n\\nProfessional Summary\\n\\nDriven Software Developer with over 3 years of experience at IBM, specializing in cloud-native applications, data analytics pipelines, and machine learning solutions. Skilled at designing, optimizing ETL workflows, automating deployments, and leveraging AI models to drive business outcomes. Proven leader in cross-functional teams, delivering scalable, resilient, and production-ready systems that improve performance and streamline operations. Experienced in JVM-based backend development, Spring Boot, microservices architecture, and Agile delivery. Delivered high-availability, multi-tier applications, and used CI/CD pipelines to ensure rapid, continuous deployment.\\n\\nSkills\\n\\nProgramming: Java, Python, TypeScript, SQL\\n\\nWeb & Backend: Spring Boot, Spring Batch, Node.js, Flask, Angular\\n\\nSurya Narayanan Srinivasan\\n\\nBluePoints Award\\n\\nNovember 16, 2023 - From Mrinal Gautam\\n\\nThank you for all your help and support for the team in 2023. Looking forward to working closely in 2024 as well. Regards. Mrinal Gautam\\n\\nSurya Narayanan Srinivasan\\n\\nBluePoints Award\\n\\nNovember 06, 2023 - From Supriya Devidutta\\n\\nOn Behalf of AI@CIO India, I wanted to express my heartfelt appreciation to you for your contribution to the AI initiative in 2023. Your unwavering interest in AI, tireless effort, exceptional focus, commitment, and eagerness to learn, all while managing your ongoing project work, have been truly remarkable. Your dedication and passion have been instrumental in successfully accomplishing AI@CIO use cases on time. Thank you for your efforts in making the AI initiative a resounding achievement. With this experience you are adding to the IBM India, AI developer community. We look forward for your active participation and contribution in the upcoming AI@CIO 2024 events.\\n\\nSurya Narayanan Srinivasan\\n\\nCash Award\\n\\nJanuary 26, 2022 - From NITHIN PAI\\n\\nIn recognition of your contributions supporting IBM and Finance and Operations strategic priorities in 2021, you were nominated and selected to receive a cash award as part of F&O's Recognition program. Congratulations and thank you for your contributions (F&O Recognition Program details at: https://w3.ibm.com/w3publisher/f-o_recognitioncashaward/cash-awards-program)!\\n\\nSurya Narayanan Srinivasan\\n\\nBluePoints Award\\n\\nOctober 22, 2024 - From Mrinal Gautam\\n\\nDear Surya, thank you for all your help and support in making the PR tool & promotion tool go live on the new parameters happen. Your efforts made this critical aspect of the CIC India promotion process go live in record time. On behalf of the CIC promotions squad I want to take this opportunity to recognize your efforts and proactive actions.\\n\\nSurya Narayanan Srinivasan\\n\\nAppreciation with Cash – 2021\\n\\nNovember 28, 2021 - From Nithin Pai\\n\\nGreat job on the successful launch of the 5MD Tool into Production. Look forward to subsequent launches of the 5MD Tool, completion of the ITM Cloud Migration and successful ITM FY 2021 cycle. Great job!\\n\\nFIRST SEMESTER 2023-2024\\n\\nSS SS\\n\\nSS SS\\n\\nZC416 ZC425 ZC447 ZG653\\n\\nMATH FOUNDATIONS FOR DATA SCI DATA MINING DATA STORAGE TECH & NETWORKS SOFTWARE ARCHITECTURES\\n\\n4 3\\n\\n5\\n\\nA A\\n\\nA CGPA. .8.25\\n\\nSECOND SEMESTER 2023-2024\\n\\nSS SS\\n\\nZG513 ZG529 ZG537 ZG599\\n\\nNETWORK SECURITY DEEP LEARNING INFORMATION RETRIEVAL NATURAL LÀNGUAGE PROCESSING\\n\\n4 4 4 4 A\\n\\nB A\\n\\nCGPA. .8.40\\n\\nFIRST SEMESTER 2024-2025\\n\\nSS\\n\\nZG628T DISSERTATION\\n\\n16 GOOD\\n\\nCGPA..8.40\\n\\nSUMMA RY Admitted in: To:\\n\\nSECOND SEMESTER 2022 -2023 M.Tech. (Software Systems)\\n\\nLast Registered:\\n\\nFIRST SEMESTER 2024-2025\\n\\nUnits Used in CGPA: (This includes only courses with CGPA\\n\\n52\\n\\nter grades, excluding repetitions)\\n\\nDegree (s) Completed :\\n\\nM.Tech. (Software Systems)\\n\\nREGISTRÀR\\n\\n(Continued)\\n\\ninnovate\\n\\nachieve\\n\\nlead\\n\\nECHNE\\n\\nBirla Institute of Technology & Science, Pilani Pilani| Dubai | Goa| Hyderabad\\n\\nTRANSCRIPT\\n\\nID NO 2022MT13011\\n\\nPage 2\\n\\nNAME\\n\\nSURYA NARAYANAN S\\n\\nBirla Institute of Technology & Science, Pilani Pilani | Dubai | Goa| Hyderabad\\n\\nPROVISIONAL CERTIFICATE\\n\\nThis is to certify that SURYA NARAYANAN S (ID NO.:\\n\\n2022MT13011) has fulfilled\\n\\nthe\\n\\nrequirements of\\n\\ngraduation and has become eligible for the award of the\\n\\ndegree M.Tech.(Software Systems) at the end of First\\n\\nSemester 2024-2025.\\n\\nDate: 31-Jan-2025\\n\\nREGISTRAR\\n\\nPlace: PILANI\\n\\ninnovate\\n\\nachieve\\n\\nlead\\n\\nBirla Institute of Technology & Science, Pilani Pilani | Dubai | Goa| Hyderabad TRANSCRIPT\\n\\nID NO 2022MT13011\\n\\nNAME\\n\\nSURYA NARAYANAN S\\n\\nDegree (s) Completed :\\n\\nN.Tech. (SofEware Systems)\\n\\nCGPA\\n\\n8.40\\n\\nCOURSE NO\\n\\nCOURSE TITLE\\n\\nUNITS GRADE\\n\\nSECOND SEMESTER 2022-2023\\n\\nSS\\n\\nSs SS\\n\\nzG518 ZG519 ZG526 ZG527\\n\\nB DATABASE DESIGN & APPLICATIONS 5 DATA STRU & ALGORITHMS DESIGN 5 B B DISTRIBUTED COMPUTING B CLOUD COMPUTING CGPA. .7.50\\n\\nFIRST SEMESTER 2023-2024\\n\\nSS SS\\n\\nSS SS\\n\\nZC416 ZC425 ZC447 ZG653\\n\\nMATH FOUNDATIONS FOR DATA SCI DATA MINING DATA STORAGE TECH & NETWORKS SOFTWARE ARCHITECTURES\\n\\n4 3\\n\\nSurya Narayanan Srinivasan\\n\\nBluePoints Award\\n\\nJune 26, 2023 - From Karups Thangaraj\\n\\nDear Folks, Congratulations!.. Thank you for being part of our ﬁrst CIO India Idea-thon event. Once again, congratulations to all the idea owners and top two winning teams for each idea. You may please refer attached image for more details. All the best..\\nHuman: Who is Surya?\"\n",
      "  ]\n",
      "}\n",
      "\u001b[36;1m\u001b[1;3m[llm/end]\u001b[0m \u001b[1m[chain:retrieval_chain > chain:RunnableAssign<answer> > chain:RunnableParallel<answer> > chain:stuff_documents_chain > llm:ChatOpenAI] [21.64s] Exiting LLM run with output:\n",
      "\u001b[0m{\n",
      "  \"generations\": [\n",
      "    [\n",
      "      {\n",
      "        \"text\": \"Surya Narayanan Srinivasan is a dedicated Software Developer and Data Analytics Specialist with over 3 years of experience at IBM, known for expertise in cloud-native applications, data analytics pipelines, and machine learning solutions. He's skilled in JVM-based backend development, Spring Boot, microservices architecture, Agile delivery, and has delivered several high-availability, multi-tier applications using CI/CD pipelines. His work ethic is commendable, earning him awards like the BluePoints Award for his contributions to AI initiatives and cash awards for supporting IBM's strategic priorities. Surya holds an M.Tech in Software Systems with a high CGPA from Birla Institute of Technology & Science.\",\n",
      "        \"generation_info\": {\n",
      "          \"finish_reason\": \"stop\",\n",
      "          \"logprobs\": null\n",
      "        },\n",
      "        \"type\": \"ChatGeneration\",\n",
      "        \"message\": {\n",
      "          \"lc\": 1,\n",
      "          \"type\": \"constructor\",\n",
      "          \"id\": [\n",
      "            \"langchain\",\n",
      "            \"schema\",\n",
      "            \"messages\",\n",
      "            \"AIMessage\"\n",
      "          ],\n",
      "          \"kwargs\": {\n",
      "            \"content\": \"Surya Narayanan Srinivasan is a dedicated Software Developer and Data Analytics Specialist with over 3 years of experience at IBM, known for expertise in cloud-native applications, data analytics pipelines, and machine learning solutions. He's skilled in JVM-based backend development, Spring Boot, microservices architecture, Agile delivery, and has delivered several high-availability, multi-tier applications using CI/CD pipelines. His work ethic is commendable, earning him awards like the BluePoints Award for his contributions to AI initiatives and cash awards for supporting IBM's strategic priorities. Surya holds an M.Tech in Software Systems with a high CGPA from Birla Institute of Technology & Science.\",\n",
      "            \"additional_kwargs\": {\n",
      "              \"refusal\": null\n",
      "            },\n",
      "            \"response_metadata\": {\n",
      "              \"token_usage\": {\n",
      "                \"completion_tokens\": 156,\n",
      "                \"prompt_tokens\": 2138,\n",
      "                \"total_tokens\": 2294,\n",
      "                \"completion_tokens_details\": null,\n",
      "                \"prompt_tokens_details\": null\n",
      "              },\n",
      "              \"model_name\": \"granite3.3:8b\",\n",
      "              \"system_fingerprint\": \"fp_ollama\",\n",
      "              \"id\": \"chatcmpl-974\",\n",
      "              \"service_tier\": null,\n",
      "              \"finish_reason\": \"stop\",\n",
      "              \"logprobs\": null\n",
      "            },\n",
      "            \"type\": \"ai\",\n",
      "            \"id\": \"run--82631b8d-d11a-4282-83e0-b571df9affac-0\",\n",
      "            \"usage_metadata\": {\n",
      "              \"input_tokens\": 2138,\n",
      "              \"output_tokens\": 156,\n",
      "              \"total_tokens\": 2294,\n",
      "              \"input_token_details\": {},\n",
      "              \"output_token_details\": {}\n",
      "            },\n",
      "            \"tool_calls\": [],\n",
      "            \"invalid_tool_calls\": []\n",
      "          }\n",
      "        }\n",
      "      }\n",
      "    ]\n",
      "  ],\n",
      "  \"llm_output\": {\n",
      "    \"token_usage\": {\n",
      "      \"completion_tokens\": 156,\n",
      "      \"prompt_tokens\": 2138,\n",
      "      \"total_tokens\": 2294,\n",
      "      \"completion_tokens_details\": null,\n",
      "      \"prompt_tokens_details\": null\n",
      "    },\n",
      "    \"model_name\": \"granite3.3:8b\",\n",
      "    \"system_fingerprint\": \"fp_ollama\",\n",
      "    \"id\": \"chatcmpl-974\",\n",
      "    \"service_tier\": null\n",
      "  },\n",
      "  \"run\": null,\n",
      "  \"type\": \"LLMResult\"\n",
      "}\n",
      "\u001b[32;1m\u001b[1;3m[chain/start]\u001b[0m \u001b[1m[chain:retrieval_chain > chain:RunnableAssign<answer> > chain:RunnableParallel<answer> > chain:stuff_documents_chain > parser:StrOutputParser] Entering Parser run with input:\n",
      "\u001b[0m[inputs]\n",
      "\u001b[36;1m\u001b[1;3m[chain/end]\u001b[0m \u001b[1m[chain:retrieval_chain > chain:RunnableAssign<answer> > chain:RunnableParallel<answer> > chain:stuff_documents_chain > parser:StrOutputParser] [0ms] Exiting Parser run with output:\n",
      "\u001b[0m{\n",
      "  \"output\": \"Surya Narayanan Srinivasan is a dedicated Software Developer and Data Analytics Specialist with over 3 years of experience at IBM, known for expertise in cloud-native applications, data analytics pipelines, and machine learning solutions. He's skilled in JVM-based backend development, Spring Boot, microservices architecture, Agile delivery, and has delivered several high-availability, multi-tier applications using CI/CD pipelines. His work ethic is commendable, earning him awards like the BluePoints Award for his contributions to AI initiatives and cash awards for supporting IBM's strategic priorities. Surya holds an M.Tech in Software Systems with a high CGPA from Birla Institute of Technology & Science.\"\n",
      "}\n",
      "\u001b[36;1m\u001b[1;3m[chain/end]\u001b[0m \u001b[1m[chain:retrieval_chain > chain:RunnableAssign<answer> > chain:RunnableParallel<answer> > chain:stuff_documents_chain] [21.64s] Exiting Chain run with output:\n",
      "\u001b[0m{\n",
      "  \"output\": \"Surya Narayanan Srinivasan is a dedicated Software Developer and Data Analytics Specialist with over 3 years of experience at IBM, known for expertise in cloud-native applications, data analytics pipelines, and machine learning solutions. He's skilled in JVM-based backend development, Spring Boot, microservices architecture, Agile delivery, and has delivered several high-availability, multi-tier applications using CI/CD pipelines. His work ethic is commendable, earning him awards like the BluePoints Award for his contributions to AI initiatives and cash awards for supporting IBM's strategic priorities. Surya holds an M.Tech in Software Systems with a high CGPA from Birla Institute of Technology & Science.\"\n",
      "}\n",
      "\u001b[36;1m\u001b[1;3m[chain/end]\u001b[0m \u001b[1m[chain:retrieval_chain > chain:RunnableAssign<answer> > chain:RunnableParallel<answer>] [21.64s] Exiting Chain run with output:\n",
      "\u001b[0m{\n",
      "  \"answer\": \"Surya Narayanan Srinivasan is a dedicated Software Developer and Data Analytics Specialist with over 3 years of experience at IBM, known for expertise in cloud-native applications, data analytics pipelines, and machine learning solutions. He's skilled in JVM-based backend development, Spring Boot, microservices architecture, Agile delivery, and has delivered several high-availability, multi-tier applications using CI/CD pipelines. His work ethic is commendable, earning him awards like the BluePoints Award for his contributions to AI initiatives and cash awards for supporting IBM's strategic priorities. Surya holds an M.Tech in Software Systems with a high CGPA from Birla Institute of Technology & Science.\"\n",
      "}\n",
      "\u001b[36;1m\u001b[1;3m[chain/end]\u001b[0m \u001b[1m[chain:retrieval_chain > chain:RunnableAssign<answer>] [21.64s] Exiting Chain run with output:\n",
      "\u001b[0m[outputs]\n",
      "\u001b[36;1m\u001b[1;3m[chain/end]\u001b[0m \u001b[1m[chain:retrieval_chain] [21.78s] Exiting Chain run with output:\n",
      "\u001b[0m[outputs]\n",
      "Surya Narayanan Srinivasan is a dedicated Software Developer and Data Analytics Specialist with over 3 years of experience at IBM, known for expertise in cloud-native applications, data analytics pipelines, and machine learning solutions. He's skilled in JVM-based backend development, Spring Boot, microservices architecture, Agile delivery, and has delivered several high-availability, multi-tier applications using CI/CD pipelines. His work ethic is commendable, earning him awards like the BluePoints Award for his contributions to AI initiatives and cash awards for supporting IBM's strategic priorities. Surya holds an M.Tech in Software Systems with a high CGPA from Birla Institute of Technology & Science.\n"
     ]
    }
   ],
   "source": [
    "# Let's try a simple question\n",
    "\n",
    "query = \"Who is Surya?\"\n",
    "chat_history = []\n",
    "result = conversation_chain.invoke({\"input\": query, 'chat_history': chat_history})\n",
    "print(result[\"answer\"])"
   ]
  },
  {
   "cell_type": "code",
   "execution_count": 18,
   "id": "d481479e",
   "metadata": {},
   "outputs": [
    {
     "data": {
      "text/plain": [
       "{'input': 'Who is Surya?',\n",
       " 'chat_history': [],\n",
       " 'context': [Document(id='63e2d689-f925-4f76-bf28-1477977ef168', metadata={'doc_type': 'Resume', 'source': '/Users/suryan0800/Documents/Surya Developer Profession/Resume/Surya-Resume-June2025.pdf'}, page_content='Surya Narayanan Srinivasan\\n\\nSoftware Developer | Data Analytics Specialist suryan0800@gmail.com | +91 7397152594 | Bengaluru, India LinkedIn | GitHub | Credly\\n\\nProfessional Summary\\n\\nDriven Software Developer with over 3 years of experience at IBM, specializing in cloud-native applications, data analytics pipelines, and machine learning solutions. Skilled at designing, optimizing ETL workflows, automating deployments, and leveraging AI models to drive business outcomes. Proven leader in cross-functional teams, delivering scalable, resilient, and production-ready systems that improve performance and streamline operations. Experienced in JVM-based backend development, Spring Boot, microservices architecture, and Agile delivery. Delivered high-availability, multi-tier applications, and used CI/CD pipelines to ensure rapid, continuous deployment.\\n\\nSkills'),\n",
       "  Document(id='a9e0c391-8fa7-4ef3-a0ad-224312dfc374', metadata={'doc_type': 'Resume', 'source': '/Users/suryan0800/Documents/Surya Developer Profession/Resume/Surya-Resume-June2025.docx'}, page_content='Surya Narayanan Srinivasan\\n\\nSoftware Developer | Data Analytics Specialist\\nsuryan0800@gmail.com | +91 7397152594 | Bengaluru, India\\nLinkedIn | GitHub | Credly\\n\\nProfessional Summary\\n\\nDriven Software Developer with over 3 years of experience at IBM, specializing in cloud-native applications, data analytics pipelines, and machine learning solutions. Skilled at designing, optimizing ETL workflows, automating deployments, and leveraging AI models to drive business outcomes. Proven leader in cross-functional teams, delivering scalable, resilient, and production-ready systems that improve performance and streamline operations. Experienced in JVM-based backend development, Spring Boot, microservices architecture, and Agile delivery. Delivered high-availability, multi-tier applications, and used CI/CD pipelines to ensure rapid, continuous deployment.\\n\\nSkills\\n\\nProgramming: Java, Python, TypeScript, SQL\\n\\nWeb & Backend: Spring Boot, Spring Batch, Node.js, Flask, Angular'),\n",
       "  Document(id='2e105fa4-64c1-47f3-9a0c-01a821309052', metadata={'doc_type': 'Awards', 'source': '/Users/suryan0800/Documents/Surya Developer Profession/Awards/Award_Client_Business_Nov_2023.pdf'}, page_content='Surya Narayanan Srinivasan\\n\\nBluePoints Award\\n\\nNovember 16, 2023 - From Mrinal Gautam\\n\\nThank you for all your help and support for the team in 2023. Looking forward to working closely in 2024 as well. Regards. Mrinal Gautam'),\n",
       "  Document(id='1573ff1a-c74a-447d-a979-1f67aa40ed16', metadata={'doc_type': 'Awards', 'source': '/Users/suryan0800/Documents/Surya Developer Profession/Awards/Award_AI@CIO_Nov2023.pdf'}, page_content='Surya Narayanan Srinivasan\\n\\nBluePoints Award\\n\\nNovember 06, 2023 - From Supriya Devidutta\\n\\nOn Behalf of AI@CIO India, I wanted to express my heartfelt appreciation to you for your contribution to the AI initiative in 2023. Your unwavering interest in AI, tireless effort, exceptional focus, commitment, and eagerness to learn, all while managing your ongoing project work, have been truly remarkable. Your dedication and passion have been instrumental in successfully accomplishing AI@CIO use cases on time. Thank you for your efforts in making the AI initiative a resounding achievement. With this experience you are adding to the IBM India, AI developer community. We look forward for your active participation and contribution in the upcoming AI@CIO 2024 events.'),\n",
       "  Document(id='42aef25a-18bc-4584-8ec9-01c19394c48a', metadata={'doc_type': 'Eminence', 'source': '/Users/suryan0800/Documents/Surya Developer Profession/Eminence/Eminence & Excellence Award_Jan_2022.pdf'}, page_content=\"Surya Narayanan Srinivasan\\n\\nCash Award\\n\\nJanuary 26, 2022 - From NITHIN PAI\\n\\nIn recognition of your contributions supporting IBM and Finance and Operations strategic priorities in 2021, you were nominated and selected to receive a cash award as part of F&O's Recognition program. Congratulations and thank you for your contributions (F&O Recognition Program details at: https://w3.ibm.com/w3publisher/f-o_recognitioncashaward/cash-awards-program)!\"),\n",
       "  Document(id='6e98708f-f764-4603-b912-6123695b3ace', metadata={'doc_type': 'Awards', 'source': '/Users/suryan0800/Documents/Surya Developer Profession/Awards/Award_Client_Business_Oct_2024.pdf'}, page_content='Surya Narayanan Srinivasan\\n\\nBluePoints Award\\n\\nOctober 22, 2024 - From Mrinal Gautam\\n\\nDear Surya, thank you for all your help and support in making the PR tool & promotion tool go live on the new parameters happen. Your efforts made this critical aspect of the CIC India promotion process go live in record time. On behalf of the CIC promotions squad I want to take this opportunity to recognize your efforts and proactive actions.'),\n",
       "  Document(id='3da67a90-d231-4503-aaca-040255792a58', metadata={'doc_type': 'Eminence', 'source': '/Users/suryan0800/Documents/Surya Developer Profession/Eminence/Eminence & Excellence Award_Nov_2021.pdf'}, page_content='Surya Narayanan Srinivasan\\n\\nAppreciation with Cash – 2021\\n\\nNovember 28, 2021 - From Nithin Pai\\n\\nGreat job on the successful launch of the 5MD Tool into Production. Look forward to subsequent launches of the 5MD Tool, completion of the ITM Cloud Migration and successful ITM FY 2021 cycle. Great job!'),\n",
       "  Document(id='3edde3a0-1bf9-4915-b790-4f802f6874b4', metadata={'doc_type': 'Education', 'source': '/Users/suryan0800/Documents/Surya Developer Profession/Education/M.Tech PROVISIONAL CERTIFICATE & Transcript Surya.pdf'}, page_content='FIRST SEMESTER 2023-2024\\n\\nSS SS\\n\\nSS SS\\n\\nZC416 ZC425 ZC447 ZG653\\n\\nMATH FOUNDATIONS FOR DATA SCI DATA MINING DATA STORAGE TECH & NETWORKS SOFTWARE ARCHITECTURES\\n\\n4 3\\n\\n5\\n\\nA A\\n\\nA CGPA. .8.25\\n\\nSECOND SEMESTER 2023-2024\\n\\nSS SS\\n\\nZG513 ZG529 ZG537 ZG599\\n\\nNETWORK SECURITY DEEP LEARNING INFORMATION RETRIEVAL NATURAL LÀNGUAGE PROCESSING\\n\\n4 4 4 4 A\\n\\nB A\\n\\nCGPA. .8.40\\n\\nFIRST SEMESTER 2024-2025\\n\\nSS\\n\\nZG628T DISSERTATION\\n\\n16 GOOD\\n\\nCGPA..8.40\\n\\nSUMMA RY Admitted in: To:\\n\\nSECOND SEMESTER 2022 -2023 M.Tech. (Software Systems)\\n\\nLast Registered:\\n\\nFIRST SEMESTER 2024-2025\\n\\nUnits Used in CGPA: (This includes only courses with CGPA\\n\\n52\\n\\nter grades, excluding repetitions)\\n\\nDegree (s) Completed :\\n\\nM.Tech. (Software Systems)\\n\\nREGISTRÀR\\n\\n(Continued)\\n\\ninnovate\\n\\nachieve\\n\\nlead\\n\\nECHNE\\n\\nBirla Institute of Technology & Science, Pilani Pilani| Dubai | Goa| Hyderabad\\n\\nTRANSCRIPT\\n\\nID NO 2022MT13011\\n\\nPage 2\\n\\nNAME\\n\\nSURYA NARAYANAN S'),\n",
       "  Document(id='08a2774a-f6d1-43f4-9f42-af0451c1418a', metadata={'doc_type': 'Education', 'source': '/Users/suryan0800/Documents/Surya Developer Profession/Education/M.Tech PROVISIONAL CERTIFICATE & Transcript Surya.pdf'}, page_content='Birla Institute of Technology & Science, Pilani Pilani | Dubai | Goa| Hyderabad\\n\\nPROVISIONAL CERTIFICATE\\n\\nThis is to certify that SURYA NARAYANAN S (ID NO.:\\n\\n2022MT13011) has fulfilled\\n\\nthe\\n\\nrequirements of\\n\\ngraduation and has become eligible for the award of the\\n\\ndegree M.Tech.(Software Systems) at the end of First\\n\\nSemester 2024-2025.\\n\\nDate: 31-Jan-2025\\n\\nREGISTRAR\\n\\nPlace: PILANI\\n\\ninnovate\\n\\nachieve\\n\\nlead\\n\\nBirla Institute of Technology & Science, Pilani Pilani | Dubai | Goa| Hyderabad TRANSCRIPT\\n\\nID NO 2022MT13011\\n\\nNAME\\n\\nSURYA NARAYANAN S\\n\\nDegree (s) Completed :\\n\\nN.Tech. (SofEware Systems)\\n\\nCGPA\\n\\n8.40\\n\\nCOURSE NO\\n\\nCOURSE TITLE\\n\\nUNITS GRADE\\n\\nSECOND SEMESTER 2022-2023\\n\\nSS\\n\\nSs SS\\n\\nzG518 ZG519 ZG526 ZG527\\n\\nB DATABASE DESIGN & APPLICATIONS 5 DATA STRU & ALGORITHMS DESIGN 5 B B DISTRIBUTED COMPUTING B CLOUD COMPUTING CGPA. .7.50\\n\\nFIRST SEMESTER 2023-2024\\n\\nSS SS\\n\\nSS SS\\n\\nZC416 ZC425 ZC447 ZG653\\n\\nMATH FOUNDATIONS FOR DATA SCI DATA MINING DATA STORAGE TECH & NETWORKS SOFTWARE ARCHITECTURES\\n\\n4 3'),\n",
       "  Document(id='2e9a70ac-dc20-4c08-a9e5-c56470114811', metadata={'doc_type': 'Awards', 'source': '/Users/suryan0800/Documents/Surya Developer Profession/Awards/Award_IBM_CIO_Hackathon_June_2023.pdf'}, page_content='Surya Narayanan Srinivasan\\n\\nBluePoints Award\\n\\nJune 26, 2023 - From Karups Thangaraj\\n\\nDear Folks, Congratulations!.. Thank you for being part of our ﬁrst CIO India Idea-thon event. Once again, congratulations to all the idea owners and top two winning teams for each idea. You may please refer attached image for more details. All the best..')],\n",
       " 'answer': \"Surya Narayanan Srinivasan is a dedicated Software Developer and Data Analytics Specialist with over 3 years of experience at IBM, known for expertise in cloud-native applications, data analytics pipelines, and machine learning solutions. He's skilled in JVM-based backend development, Spring Boot, microservices architecture, Agile delivery, and has delivered several high-availability, multi-tier applications using CI/CD pipelines. His work ethic is commendable, earning him awards like the BluePoints Award for his contributions to AI initiatives and cash awards for supporting IBM's strategic priorities. Surya holds an M.Tech in Software Systems with a high CGPA from Birla Institute of Technology & Science.\"}"
      ]
     },
     "execution_count": 18,
     "metadata": {},
     "output_type": "execute_result"
    }
   ],
   "source": [
    "result"
   ]
  },
  {
   "cell_type": "markdown",
   "id": "bbbcb659-13ce-47ab-8a5e-01b930494964",
   "metadata": {},
   "source": [
    "## Now we will bring this up in Gradio using the Chat interface -\n",
    "\n",
    "A quick and easy way to prototype a chat with an LLM"
   ]
  },
  {
   "cell_type": "code",
   "execution_count": 19,
   "id": "c3536590-85c7-4155-bd87-ae78a1467670",
   "metadata": {},
   "outputs": [],
   "source": [
    "# Wrapping that in a function\n",
    "\n",
    "def chat(question, history):\n",
    "    result = conversation_chain.invoke({\"input\": question, 'chat_history': history})\n",
    "    return result[\"answer\"]"
   ]
  },
  {
   "cell_type": "code",
   "execution_count": 21,
   "id": "b252d8c1-61a8-406d-b57a-8f708a62b014",
   "metadata": {},
   "outputs": [
    {
     "name": "stdout",
     "output_type": "stream",
     "text": [
      "* Running on local URL:  http://127.0.0.1:7861\n",
      "* To create a public link, set `share=True` in `launch()`.\n"
     ]
    },
    {
     "name": "stderr",
     "output_type": "stream",
     "text": [
      "huggingface/tokenizers: The current process just got forked, after parallelism has already been used. Disabling parallelism to avoid deadlocks...\n",
      "To disable this warning, you can either:\n",
      "\t- Avoid using `tokenizers` before the fork if possible\n",
      "\t- Explicitly set the environment variable TOKENIZERS_PARALLELISM=(true | false)\n"
     ]
    },
    {
     "data": {
      "text/html": [
       "<div><iframe src=\"http://127.0.0.1:7861/\" width=\"100%\" height=\"500\" allow=\"autoplay; camera; microphone; clipboard-read; clipboard-write;\" frameborder=\"0\" allowfullscreen></iframe></div>"
      ],
      "text/plain": [
       "<IPython.core.display.HTML object>"
      ]
     },
     "metadata": {},
     "output_type": "display_data"
    },
    {
     "name": "stdout",
     "output_type": "stream",
     "text": [
      "\u001b[32;1m\u001b[1;3m[chain/start]\u001b[0m \u001b[1m[chain:retrieval_chain] Entering Chain run with input:\n",
      "\u001b[0m{\n",
      "  \"input\": \"Prepare a Resume for Surya\",\n",
      "  \"chat_history\": []\n",
      "}\n",
      "\u001b[32;1m\u001b[1;3m[chain/start]\u001b[0m \u001b[1m[chain:retrieval_chain > chain:RunnableAssign<context>] Entering Chain run with input:\n",
      "\u001b[0m{\n",
      "  \"input\": \"Prepare a Resume for Surya\",\n",
      "  \"chat_history\": []\n",
      "}\n",
      "\u001b[32;1m\u001b[1;3m[chain/start]\u001b[0m \u001b[1m[chain:retrieval_chain > chain:RunnableAssign<context> > chain:RunnableParallel<context>] Entering Chain run with input:\n",
      "\u001b[0m{\n",
      "  \"input\": \"Prepare a Resume for Surya\",\n",
      "  \"chat_history\": []\n",
      "}\n",
      "\u001b[32;1m\u001b[1;3m[chain/start]\u001b[0m \u001b[1m[chain:retrieval_chain > chain:RunnableAssign<context> > chain:RunnableParallel<context> > chain:retrieve_documents] Entering Chain run with input:\n",
      "\u001b[0m{\n",
      "  \"input\": \"Prepare a Resume for Surya\",\n",
      "  \"chat_history\": []\n",
      "}\n",
      "\u001b[32;1m\u001b[1;3m[chain/start]\u001b[0m \u001b[1m[chain:retrieval_chain > chain:RunnableAssign<context> > chain:RunnableParallel<context> > chain:retrieve_documents > chain:RunnableLambda] Entering Chain run with input:\n",
      "\u001b[0m{\n",
      "  \"input\": \"Prepare a Resume for Surya\",\n",
      "  \"chat_history\": []\n",
      "}\n",
      "\u001b[36;1m\u001b[1;3m[chain/end]\u001b[0m \u001b[1m[chain:retrieval_chain > chain:RunnableAssign<context> > chain:RunnableParallel<context> > chain:retrieve_documents > chain:RunnableLambda] [0ms] Exiting Chain run with output:\n",
      "\u001b[0m{\n",
      "  \"output\": \"Prepare a Resume for Surya\"\n",
      "}\n",
      "\u001b[36;1m\u001b[1;3m[chain/end]\u001b[0m \u001b[1m[chain:retrieval_chain > chain:RunnableAssign<context> > chain:RunnableParallel<context> > chain:retrieve_documents] [132ms] Exiting Chain run with output:\n",
      "\u001b[0m[outputs]\n",
      "\u001b[36;1m\u001b[1;3m[chain/end]\u001b[0m \u001b[1m[chain:retrieval_chain > chain:RunnableAssign<context> > chain:RunnableParallel<context>] [134ms] Exiting Chain run with output:\n",
      "\u001b[0m[outputs]\n",
      "\u001b[36;1m\u001b[1;3m[chain/end]\u001b[0m \u001b[1m[chain:retrieval_chain > chain:RunnableAssign<context>] [135ms] Exiting Chain run with output:\n",
      "\u001b[0m[outputs]\n",
      "\u001b[32;1m\u001b[1;3m[chain/start]\u001b[0m \u001b[1m[chain:retrieval_chain > chain:RunnableAssign<answer>] Entering Chain run with input:\n",
      "\u001b[0m[inputs]\n",
      "\u001b[32;1m\u001b[1;3m[chain/start]\u001b[0m \u001b[1m[chain:retrieval_chain > chain:RunnableAssign<answer> > chain:RunnableParallel<answer>] Entering Chain run with input:\n",
      "\u001b[0m[inputs]\n",
      "\u001b[32;1m\u001b[1;3m[chain/start]\u001b[0m \u001b[1m[chain:retrieval_chain > chain:RunnableAssign<answer> > chain:RunnableParallel<answer> > chain:stuff_documents_chain] Entering Chain run with input:\n",
      "\u001b[0m[inputs]\n",
      "\u001b[32;1m\u001b[1;3m[chain/start]\u001b[0m \u001b[1m[chain:retrieval_chain > chain:RunnableAssign<answer> > chain:RunnableParallel<answer> > chain:stuff_documents_chain > chain:format_inputs] Entering Chain run with input:\n",
      "\u001b[0m[inputs]\n",
      "\u001b[32;1m\u001b[1;3m[chain/start]\u001b[0m \u001b[1m[chain:retrieval_chain > chain:RunnableAssign<answer> > chain:RunnableParallel<answer> > chain:stuff_documents_chain > chain:format_inputs > chain:RunnableParallel<context>] Entering Chain run with input:\n",
      "\u001b[0m[inputs]\n",
      "\u001b[32;1m\u001b[1;3m[chain/start]\u001b[0m \u001b[1m[chain:retrieval_chain > chain:RunnableAssign<answer> > chain:RunnableParallel<answer> > chain:stuff_documents_chain > chain:format_inputs > chain:RunnableParallel<context> > chain:format_docs] Entering Chain run with input:\n",
      "\u001b[0m[inputs]\n",
      "\u001b[36;1m\u001b[1;3m[chain/end]\u001b[0m \u001b[1m[chain:retrieval_chain > chain:RunnableAssign<answer> > chain:RunnableParallel<answer> > chain:stuff_documents_chain > chain:format_inputs > chain:RunnableParallel<context> > chain:format_docs] [0ms] Exiting Chain run with output:\n",
      "\u001b[0m{\n",
      "  \"output\": \"Surya Narayanan Srinivasan\\n\\nBluePoints Award\\n\\nOctober 22, 2024 - From Mrinal Gautam\\n\\nDear Surya, thank you for all your help and support in making the PR tool & promotion tool go live on the new parameters happen. Your efforts made this critical aspect of the CIC India promotion process go live in record time. On behalf of the CIC promotions squad I want to take this opportunity to recognize your efforts and proactive actions.\\n\\nREGISTRÀR\\n\\n(Continued)\\n\\ninnovate\\n\\nachieve\\n\\nlead\\n\\nECHNE\\n\\nBirla Institute of Technology & Science, Pilani Pilani| Dubai | Goa| Hyderabad\\n\\nTRANSCRIPT\\n\\nID NO 2022MT13011\\n\\nPage 2\\n\\nNAME\\n\\nSURYA NARAYANAN S\\n\\nPedagogy: This wOrk-integrated learning programme was conducted with interactiye sessions contact classes/ assignments/ project/dissertation in the work environment o£ the candidate. Fulfilled the academic requirements of graduation and becameeligible for the award of the degree at the end of FIRST SEMESTER 2024-2025 Date of approval by the Examination Committee: 31-JAN-2025\\n\\nDate of Issue:\\n\\n31-JAN-2025\\n\\nREGISTRÀR\\n\\ninnovate\\n\\nachieve\\n\\nlead\\n\\nBirla Institute of Technology & Science, Pilani Pilani | Dubai | Goa| Hyderabad\\n\\nPROVISIONAL CERTIFICATE\\n\\nThis is to certify that SURYA NARAYANAN S (ID NO.:\\n\\n2022MT13011) has fulfilled\\n\\nthe\\n\\nrequirements of\\n\\ngraduation and has become eligible for the award of the\\n\\ndegree M.Tech.(Software Systems) at the end of First\\n\\nSemester 2024-2025.\\n\\nDate: 31-Jan-2025\\n\\nREGISTRAR\\n\\nPlace: PILANI\\n\\ninnovate\\n\\nachieve\\n\\nlead\\n\\nBirla Institute of Technology & Science, Pilani Pilani | Dubai | Goa| Hyderabad TRANSCRIPT\\n\\nID NO 2022MT13011\\n\\nNAME\\n\\nSURYA NARAYANAN S\\n\\nDegree (s) Completed :\\n\\nN.Tech. (SofEware Systems)\\n\\nCGPA\\n\\n8.40\\n\\nCOURSE NO\\n\\nCOURSE TITLE\\n\\nUNITS GRADE\\n\\nSECOND SEMESTER 2022-2023\\n\\nSS\\n\\nSs SS\\n\\nzG518 ZG519 ZG526 ZG527\\n\\nB DATABASE DESIGN & APPLICATIONS 5 DATA STRU & ALGORITHMS DESIGN 5 B B DISTRIBUTED COMPUTING B CLOUD COMPUTING CGPA. .7.50\\n\\nFIRST SEMESTER 2023-2024\\n\\nSS SS\\n\\nSS SS\\n\\nZC416 ZC425 ZC447 ZG653\\n\\nMATH FOUNDATIONS FOR DATA SCI DATA MINING DATA STORAGE TECH & NETWORKS SOFTWARE ARCHITECTURES\\n\\n4 3\\n\\nSurya Narayanan Srinivasan\\n\\nCash Award\\n\\nJanuary 26, 2022 - From NITHIN PAI\\n\\nIn recognition of your contributions supporting IBM and Finance and Operations strategic priorities in 2021, you were nominated and selected to receive a cash award as part of F&O's Recognition program. Congratulations and thank you for your contributions (F&O Recognition Program details at: https://w3.ibm.com/w3publisher/f-o_recognitioncashaward/cash-awards-program)!\\n\\nFIRST SEMESTER 2023-2024\\n\\nSS SS\\n\\nSS SS\\n\\nZC416 ZC425 ZC447 ZG653\\n\\nMATH FOUNDATIONS FOR DATA SCI DATA MINING DATA STORAGE TECH & NETWORKS SOFTWARE ARCHITECTURES\\n\\n4 3\\n\\n5\\n\\nA A\\n\\nA CGPA. .8.25\\n\\nSECOND SEMESTER 2023-2024\\n\\nSS SS\\n\\nZG513 ZG529 ZG537 ZG599\\n\\nNETWORK SECURITY DEEP LEARNING INFORMATION RETRIEVAL NATURAL LÀNGUAGE PROCESSING\\n\\n4 4 4 4 A\\n\\nB A\\n\\nCGPA. .8.40\\n\\nFIRST SEMESTER 2024-2025\\n\\nSS\\n\\nZG628T DISSERTATION\\n\\n16 GOOD\\n\\nCGPA..8.40\\n\\nSUMMA RY Admitted in: To:\\n\\nSECOND SEMESTER 2022 -2023 M.Tech. (Software Systems)\\n\\nLast Registered:\\n\\nFIRST SEMESTER 2024-2025\\n\\nUnits Used in CGPA: (This includes only courses with CGPA\\n\\n52\\n\\nter grades, excluding repetitions)\\n\\nDegree (s) Completed :\\n\\nM.Tech. (Software Systems)\\n\\nREGISTRÀR\\n\\n(Continued)\\n\\ninnovate\\n\\nachieve\\n\\nlead\\n\\nECHNE\\n\\nBirla Institute of Technology & Science, Pilani Pilani| Dubai | Goa| Hyderabad\\n\\nTRANSCRIPT\\n\\nID NO 2022MT13011\\n\\nPage 2\\n\\nNAME\\n\\nSURYA NARAYANAN S\\n\\nSurya Narayanan Srinivasan\\n\\nBluePoints Award\\n\\nNovember 06, 2023 - From Supriya Devidutta\\n\\nOn Behalf of AI@CIO India, I wanted to express my heartfelt appreciation to you for your contribution to the AI initiative in 2023. Your unwavering interest in AI, tireless effort, exceptional focus, commitment, and eagerness to learn, all while managing your ongoing project work, have been truly remarkable. Your dedication and passion have been instrumental in successfully accomplishing AI@CIO use cases on time. Thank you for your efforts in making the AI initiative a resounding achievement. With this experience you are adding to the IBM India, AI developer community. We look forward for your active participation and contribution in the upcoming AI@CIO 2024 events.\\n\\nSurya Narayanan Srinivasan\\n\\nSoftware Developer | Data Analytics Specialist suryan0800@gmail.com | +91 7397152594 | Bengaluru, India LinkedIn | GitHub | Credly\\n\\nProfessional Summary\\n\\nDriven Software Developer with over 3 years of experience at IBM, specializing in cloud-native applications, data analytics pipelines, and machine learning solutions. Skilled at designing, optimizing ETL workflows, automating deployments, and leveraging AI models to drive business outcomes. Proven leader in cross-functional teams, delivering scalable, resilient, and production-ready systems that improve performance and streamline operations. Experienced in JVM-based backend development, Spring Boot, microservices architecture, and Agile delivery. Delivered high-availability, multi-tier applications, and used CI/CD pipelines to ensure rapid, continuous deployment.\\n\\nSkills\\n\\nSurya Narayanan Srinivasan\\n\\nAppreciation with Cash – 2021\\n\\nSeptember 20, 2021 - From Nithin Pai\\n\\nHR Squad – Congratulations on the successful cutover of both HR Tools and the Practice Review Tool module onto CIRRUS + CPC. Apart from the DB migration, we had the tech transformation of the HR Tools from Struts Framework onto Angular-Springboot application. Outstanding job by the team in the getting these deployed.\\n\\nSurya Narayanan Srinivasan\\n\\nSoftware Developer | Data Analytics Specialist\\nsuryan0800@gmail.com | +91 7397152594 | Bengaluru, India\\nLinkedIn | GitHub | Credly\\n\\nProfessional Summary\\n\\nDriven Software Developer with over 3 years of experience at IBM, specializing in cloud-native applications, data analytics pipelines, and machine learning solutions. Skilled at designing, optimizing ETL workflows, automating deployments, and leveraging AI models to drive business outcomes. Proven leader in cross-functional teams, delivering scalable, resilient, and production-ready systems that improve performance and streamline operations. Experienced in JVM-based backend development, Spring Boot, microservices architecture, and Agile delivery. Delivered high-availability, multi-tier applications, and used CI/CD pipelines to ensure rapid, continuous deployment.\\n\\nSkills\\n\\nProgramming: Java, Python, TypeScript, SQL\\n\\nWeb & Backend: Spring Boot, Spring Batch, Node.js, Flask, Angular\\n\\nSurya Narayanan Srinivasan\\n\\nBluePoints Award\\n\\nNovember 16, 2023 - From Mrinal Gautam\\n\\nThank you for all your help and support for the team in 2023. Looking forward to working closely in 2024 as well. Regards. Mrinal Gautam\"\n",
      "}\n",
      "\u001b[36;1m\u001b[1;3m[chain/end]\u001b[0m \u001b[1m[chain:retrieval_chain > chain:RunnableAssign<answer> > chain:RunnableParallel<answer> > chain:stuff_documents_chain > chain:format_inputs > chain:RunnableParallel<context>] [1ms] Exiting Chain run with output:\n",
      "\u001b[0m{\n",
      "  \"context\": \"Surya Narayanan Srinivasan\\n\\nBluePoints Award\\n\\nOctober 22, 2024 - From Mrinal Gautam\\n\\nDear Surya, thank you for all your help and support in making the PR tool & promotion tool go live on the new parameters happen. Your efforts made this critical aspect of the CIC India promotion process go live in record time. On behalf of the CIC promotions squad I want to take this opportunity to recognize your efforts and proactive actions.\\n\\nREGISTRÀR\\n\\n(Continued)\\n\\ninnovate\\n\\nachieve\\n\\nlead\\n\\nECHNE\\n\\nBirla Institute of Technology & Science, Pilani Pilani| Dubai | Goa| Hyderabad\\n\\nTRANSCRIPT\\n\\nID NO 2022MT13011\\n\\nPage 2\\n\\nNAME\\n\\nSURYA NARAYANAN S\\n\\nPedagogy: This wOrk-integrated learning programme was conducted with interactiye sessions contact classes/ assignments/ project/dissertation in the work environment o£ the candidate. Fulfilled the academic requirements of graduation and becameeligible for the award of the degree at the end of FIRST SEMESTER 2024-2025 Date of approval by the Examination Committee: 31-JAN-2025\\n\\nDate of Issue:\\n\\n31-JAN-2025\\n\\nREGISTRÀR\\n\\ninnovate\\n\\nachieve\\n\\nlead\\n\\nBirla Institute of Technology & Science, Pilani Pilani | Dubai | Goa| Hyderabad\\n\\nPROVISIONAL CERTIFICATE\\n\\nThis is to certify that SURYA NARAYANAN S (ID NO.:\\n\\n2022MT13011) has fulfilled\\n\\nthe\\n\\nrequirements of\\n\\ngraduation and has become eligible for the award of the\\n\\ndegree M.Tech.(Software Systems) at the end of First\\n\\nSemester 2024-2025.\\n\\nDate: 31-Jan-2025\\n\\nREGISTRAR\\n\\nPlace: PILANI\\n\\ninnovate\\n\\nachieve\\n\\nlead\\n\\nBirla Institute of Technology & Science, Pilani Pilani | Dubai | Goa| Hyderabad TRANSCRIPT\\n\\nID NO 2022MT13011\\n\\nNAME\\n\\nSURYA NARAYANAN S\\n\\nDegree (s) Completed :\\n\\nN.Tech. (SofEware Systems)\\n\\nCGPA\\n\\n8.40\\n\\nCOURSE NO\\n\\nCOURSE TITLE\\n\\nUNITS GRADE\\n\\nSECOND SEMESTER 2022-2023\\n\\nSS\\n\\nSs SS\\n\\nzG518 ZG519 ZG526 ZG527\\n\\nB DATABASE DESIGN & APPLICATIONS 5 DATA STRU & ALGORITHMS DESIGN 5 B B DISTRIBUTED COMPUTING B CLOUD COMPUTING CGPA. .7.50\\n\\nFIRST SEMESTER 2023-2024\\n\\nSS SS\\n\\nSS SS\\n\\nZC416 ZC425 ZC447 ZG653\\n\\nMATH FOUNDATIONS FOR DATA SCI DATA MINING DATA STORAGE TECH & NETWORKS SOFTWARE ARCHITECTURES\\n\\n4 3\\n\\nSurya Narayanan Srinivasan\\n\\nCash Award\\n\\nJanuary 26, 2022 - From NITHIN PAI\\n\\nIn recognition of your contributions supporting IBM and Finance and Operations strategic priorities in 2021, you were nominated and selected to receive a cash award as part of F&O's Recognition program. Congratulations and thank you for your contributions (F&O Recognition Program details at: https://w3.ibm.com/w3publisher/f-o_recognitioncashaward/cash-awards-program)!\\n\\nFIRST SEMESTER 2023-2024\\n\\nSS SS\\n\\nSS SS\\n\\nZC416 ZC425 ZC447 ZG653\\n\\nMATH FOUNDATIONS FOR DATA SCI DATA MINING DATA STORAGE TECH & NETWORKS SOFTWARE ARCHITECTURES\\n\\n4 3\\n\\n5\\n\\nA A\\n\\nA CGPA. .8.25\\n\\nSECOND SEMESTER 2023-2024\\n\\nSS SS\\n\\nZG513 ZG529 ZG537 ZG599\\n\\nNETWORK SECURITY DEEP LEARNING INFORMATION RETRIEVAL NATURAL LÀNGUAGE PROCESSING\\n\\n4 4 4 4 A\\n\\nB A\\n\\nCGPA. .8.40\\n\\nFIRST SEMESTER 2024-2025\\n\\nSS\\n\\nZG628T DISSERTATION\\n\\n16 GOOD\\n\\nCGPA..8.40\\n\\nSUMMA RY Admitted in: To:\\n\\nSECOND SEMESTER 2022 -2023 M.Tech. (Software Systems)\\n\\nLast Registered:\\n\\nFIRST SEMESTER 2024-2025\\n\\nUnits Used in CGPA: (This includes only courses with CGPA\\n\\n52\\n\\nter grades, excluding repetitions)\\n\\nDegree (s) Completed :\\n\\nM.Tech. (Software Systems)\\n\\nREGISTRÀR\\n\\n(Continued)\\n\\ninnovate\\n\\nachieve\\n\\nlead\\n\\nECHNE\\n\\nBirla Institute of Technology & Science, Pilani Pilani| Dubai | Goa| Hyderabad\\n\\nTRANSCRIPT\\n\\nID NO 2022MT13011\\n\\nPage 2\\n\\nNAME\\n\\nSURYA NARAYANAN S\\n\\nSurya Narayanan Srinivasan\\n\\nBluePoints Award\\n\\nNovember 06, 2023 - From Supriya Devidutta\\n\\nOn Behalf of AI@CIO India, I wanted to express my heartfelt appreciation to you for your contribution to the AI initiative in 2023. Your unwavering interest in AI, tireless effort, exceptional focus, commitment, and eagerness to learn, all while managing your ongoing project work, have been truly remarkable. Your dedication and passion have been instrumental in successfully accomplishing AI@CIO use cases on time. Thank you for your efforts in making the AI initiative a resounding achievement. With this experience you are adding to the IBM India, AI developer community. We look forward for your active participation and contribution in the upcoming AI@CIO 2024 events.\\n\\nSurya Narayanan Srinivasan\\n\\nSoftware Developer | Data Analytics Specialist suryan0800@gmail.com | +91 7397152594 | Bengaluru, India LinkedIn | GitHub | Credly\\n\\nProfessional Summary\\n\\nDriven Software Developer with over 3 years of experience at IBM, specializing in cloud-native applications, data analytics pipelines, and machine learning solutions. Skilled at designing, optimizing ETL workflows, automating deployments, and leveraging AI models to drive business outcomes. Proven leader in cross-functional teams, delivering scalable, resilient, and production-ready systems that improve performance and streamline operations. Experienced in JVM-based backend development, Spring Boot, microservices architecture, and Agile delivery. Delivered high-availability, multi-tier applications, and used CI/CD pipelines to ensure rapid, continuous deployment.\\n\\nSkills\\n\\nSurya Narayanan Srinivasan\\n\\nAppreciation with Cash – 2021\\n\\nSeptember 20, 2021 - From Nithin Pai\\n\\nHR Squad – Congratulations on the successful cutover of both HR Tools and the Practice Review Tool module onto CIRRUS + CPC. Apart from the DB migration, we had the tech transformation of the HR Tools from Struts Framework onto Angular-Springboot application. Outstanding job by the team in the getting these deployed.\\n\\nSurya Narayanan Srinivasan\\n\\nSoftware Developer | Data Analytics Specialist\\nsuryan0800@gmail.com | +91 7397152594 | Bengaluru, India\\nLinkedIn | GitHub | Credly\\n\\nProfessional Summary\\n\\nDriven Software Developer with over 3 years of experience at IBM, specializing in cloud-native applications, data analytics pipelines, and machine learning solutions. Skilled at designing, optimizing ETL workflows, automating deployments, and leveraging AI models to drive business outcomes. Proven leader in cross-functional teams, delivering scalable, resilient, and production-ready systems that improve performance and streamline operations. Experienced in JVM-based backend development, Spring Boot, microservices architecture, and Agile delivery. Delivered high-availability, multi-tier applications, and used CI/CD pipelines to ensure rapid, continuous deployment.\\n\\nSkills\\n\\nProgramming: Java, Python, TypeScript, SQL\\n\\nWeb & Backend: Spring Boot, Spring Batch, Node.js, Flask, Angular\\n\\nSurya Narayanan Srinivasan\\n\\nBluePoints Award\\n\\nNovember 16, 2023 - From Mrinal Gautam\\n\\nThank you for all your help and support for the team in 2023. Looking forward to working closely in 2024 as well. Regards. Mrinal Gautam\"\n",
      "}\n",
      "\u001b[36;1m\u001b[1;3m[chain/end]\u001b[0m \u001b[1m[chain:retrieval_chain > chain:RunnableAssign<answer> > chain:RunnableParallel<answer> > chain:stuff_documents_chain > chain:format_inputs] [1ms] Exiting Chain run with output:\n",
      "\u001b[0m{\n",
      "  \"input\": \"Prepare a Resume for Surya\",\n",
      "  \"chat_history\": [],\n",
      "  \"context\": \"Surya Narayanan Srinivasan\\n\\nBluePoints Award\\n\\nOctober 22, 2024 - From Mrinal Gautam\\n\\nDear Surya, thank you for all your help and support in making the PR tool & promotion tool go live on the new parameters happen. Your efforts made this critical aspect of the CIC India promotion process go live in record time. On behalf of the CIC promotions squad I want to take this opportunity to recognize your efforts and proactive actions.\\n\\nREGISTRÀR\\n\\n(Continued)\\n\\ninnovate\\n\\nachieve\\n\\nlead\\n\\nECHNE\\n\\nBirla Institute of Technology & Science, Pilani Pilani| Dubai | Goa| Hyderabad\\n\\nTRANSCRIPT\\n\\nID NO 2022MT13011\\n\\nPage 2\\n\\nNAME\\n\\nSURYA NARAYANAN S\\n\\nPedagogy: This wOrk-integrated learning programme was conducted with interactiye sessions contact classes/ assignments/ project/dissertation in the work environment o£ the candidate. Fulfilled the academic requirements of graduation and becameeligible for the award of the degree at the end of FIRST SEMESTER 2024-2025 Date of approval by the Examination Committee: 31-JAN-2025\\n\\nDate of Issue:\\n\\n31-JAN-2025\\n\\nREGISTRÀR\\n\\ninnovate\\n\\nachieve\\n\\nlead\\n\\nBirla Institute of Technology & Science, Pilani Pilani | Dubai | Goa| Hyderabad\\n\\nPROVISIONAL CERTIFICATE\\n\\nThis is to certify that SURYA NARAYANAN S (ID NO.:\\n\\n2022MT13011) has fulfilled\\n\\nthe\\n\\nrequirements of\\n\\ngraduation and has become eligible for the award of the\\n\\ndegree M.Tech.(Software Systems) at the end of First\\n\\nSemester 2024-2025.\\n\\nDate: 31-Jan-2025\\n\\nREGISTRAR\\n\\nPlace: PILANI\\n\\ninnovate\\n\\nachieve\\n\\nlead\\n\\nBirla Institute of Technology & Science, Pilani Pilani | Dubai | Goa| Hyderabad TRANSCRIPT\\n\\nID NO 2022MT13011\\n\\nNAME\\n\\nSURYA NARAYANAN S\\n\\nDegree (s) Completed :\\n\\nN.Tech. (SofEware Systems)\\n\\nCGPA\\n\\n8.40\\n\\nCOURSE NO\\n\\nCOURSE TITLE\\n\\nUNITS GRADE\\n\\nSECOND SEMESTER 2022-2023\\n\\nSS\\n\\nSs SS\\n\\nzG518 ZG519 ZG526 ZG527\\n\\nB DATABASE DESIGN & APPLICATIONS 5 DATA STRU & ALGORITHMS DESIGN 5 B B DISTRIBUTED COMPUTING B CLOUD COMPUTING CGPA. .7.50\\n\\nFIRST SEMESTER 2023-2024\\n\\nSS SS\\n\\nSS SS\\n\\nZC416 ZC425 ZC447 ZG653\\n\\nMATH FOUNDATIONS FOR DATA SCI DATA MINING DATA STORAGE TECH & NETWORKS SOFTWARE ARCHITECTURES\\n\\n4 3\\n\\nSurya Narayanan Srinivasan\\n\\nCash Award\\n\\nJanuary 26, 2022 - From NITHIN PAI\\n\\nIn recognition of your contributions supporting IBM and Finance and Operations strategic priorities in 2021, you were nominated and selected to receive a cash award as part of F&O's Recognition program. Congratulations and thank you for your contributions (F&O Recognition Program details at: https://w3.ibm.com/w3publisher/f-o_recognitioncashaward/cash-awards-program)!\\n\\nFIRST SEMESTER 2023-2024\\n\\nSS SS\\n\\nSS SS\\n\\nZC416 ZC425 ZC447 ZG653\\n\\nMATH FOUNDATIONS FOR DATA SCI DATA MINING DATA STORAGE TECH & NETWORKS SOFTWARE ARCHITECTURES\\n\\n4 3\\n\\n5\\n\\nA A\\n\\nA CGPA. .8.25\\n\\nSECOND SEMESTER 2023-2024\\n\\nSS SS\\n\\nZG513 ZG529 ZG537 ZG599\\n\\nNETWORK SECURITY DEEP LEARNING INFORMATION RETRIEVAL NATURAL LÀNGUAGE PROCESSING\\n\\n4 4 4 4 A\\n\\nB A\\n\\nCGPA. .8.40\\n\\nFIRST SEMESTER 2024-2025\\n\\nSS\\n\\nZG628T DISSERTATION\\n\\n16 GOOD\\n\\nCGPA..8.40\\n\\nSUMMA RY Admitted in: To:\\n\\nSECOND SEMESTER 2022 -2023 M.Tech. (Software Systems)\\n\\nLast Registered:\\n\\nFIRST SEMESTER 2024-2025\\n\\nUnits Used in CGPA: (This includes only courses with CGPA\\n\\n52\\n\\nter grades, excluding repetitions)\\n\\nDegree (s) Completed :\\n\\nM.Tech. (Software Systems)\\n\\nREGISTRÀR\\n\\n(Continued)\\n\\ninnovate\\n\\nachieve\\n\\nlead\\n\\nECHNE\\n\\nBirla Institute of Technology & Science, Pilani Pilani| Dubai | Goa| Hyderabad\\n\\nTRANSCRIPT\\n\\nID NO 2022MT13011\\n\\nPage 2\\n\\nNAME\\n\\nSURYA NARAYANAN S\\n\\nSurya Narayanan Srinivasan\\n\\nBluePoints Award\\n\\nNovember 06, 2023 - From Supriya Devidutta\\n\\nOn Behalf of AI@CIO India, I wanted to express my heartfelt appreciation to you for your contribution to the AI initiative in 2023. Your unwavering interest in AI, tireless effort, exceptional focus, commitment, and eagerness to learn, all while managing your ongoing project work, have been truly remarkable. Your dedication and passion have been instrumental in successfully accomplishing AI@CIO use cases on time. Thank you for your efforts in making the AI initiative a resounding achievement. With this experience you are adding to the IBM India, AI developer community. We look forward for your active participation and contribution in the upcoming AI@CIO 2024 events.\\n\\nSurya Narayanan Srinivasan\\n\\nSoftware Developer | Data Analytics Specialist suryan0800@gmail.com | +91 7397152594 | Bengaluru, India LinkedIn | GitHub | Credly\\n\\nProfessional Summary\\n\\nDriven Software Developer with over 3 years of experience at IBM, specializing in cloud-native applications, data analytics pipelines, and machine learning solutions. Skilled at designing, optimizing ETL workflows, automating deployments, and leveraging AI models to drive business outcomes. Proven leader in cross-functional teams, delivering scalable, resilient, and production-ready systems that improve performance and streamline operations. Experienced in JVM-based backend development, Spring Boot, microservices architecture, and Agile delivery. Delivered high-availability, multi-tier applications, and used CI/CD pipelines to ensure rapid, continuous deployment.\\n\\nSkills\\n\\nSurya Narayanan Srinivasan\\n\\nAppreciation with Cash – 2021\\n\\nSeptember 20, 2021 - From Nithin Pai\\n\\nHR Squad – Congratulations on the successful cutover of both HR Tools and the Practice Review Tool module onto CIRRUS + CPC. Apart from the DB migration, we had the tech transformation of the HR Tools from Struts Framework onto Angular-Springboot application. Outstanding job by the team in the getting these deployed.\\n\\nSurya Narayanan Srinivasan\\n\\nSoftware Developer | Data Analytics Specialist\\nsuryan0800@gmail.com | +91 7397152594 | Bengaluru, India\\nLinkedIn | GitHub | Credly\\n\\nProfessional Summary\\n\\nDriven Software Developer with over 3 years of experience at IBM, specializing in cloud-native applications, data analytics pipelines, and machine learning solutions. Skilled at designing, optimizing ETL workflows, automating deployments, and leveraging AI models to drive business outcomes. Proven leader in cross-functional teams, delivering scalable, resilient, and production-ready systems that improve performance and streamline operations. Experienced in JVM-based backend development, Spring Boot, microservices architecture, and Agile delivery. Delivered high-availability, multi-tier applications, and used CI/CD pipelines to ensure rapid, continuous deployment.\\n\\nSkills\\n\\nProgramming: Java, Python, TypeScript, SQL\\n\\nWeb & Backend: Spring Boot, Spring Batch, Node.js, Flask, Angular\\n\\nSurya Narayanan Srinivasan\\n\\nBluePoints Award\\n\\nNovember 16, 2023 - From Mrinal Gautam\\n\\nThank you for all your help and support for the team in 2023. Looking forward to working closely in 2024 as well. Regards. Mrinal Gautam\"\n",
      "}\n",
      "\u001b[32;1m\u001b[1;3m[chain/start]\u001b[0m \u001b[1m[chain:retrieval_chain > chain:RunnableAssign<answer> > chain:RunnableParallel<answer> > chain:stuff_documents_chain > prompt:ChatPromptTemplate] Entering Prompt run with input:\n",
      "\u001b[0m{\n",
      "  \"input\": \"Prepare a Resume for Surya\",\n",
      "  \"chat_history\": [],\n",
      "  \"context\": \"Surya Narayanan Srinivasan\\n\\nBluePoints Award\\n\\nOctober 22, 2024 - From Mrinal Gautam\\n\\nDear Surya, thank you for all your help and support in making the PR tool & promotion tool go live on the new parameters happen. Your efforts made this critical aspect of the CIC India promotion process go live in record time. On behalf of the CIC promotions squad I want to take this opportunity to recognize your efforts and proactive actions.\\n\\nREGISTRÀR\\n\\n(Continued)\\n\\ninnovate\\n\\nachieve\\n\\nlead\\n\\nECHNE\\n\\nBirla Institute of Technology & Science, Pilani Pilani| Dubai | Goa| Hyderabad\\n\\nTRANSCRIPT\\n\\nID NO 2022MT13011\\n\\nPage 2\\n\\nNAME\\n\\nSURYA NARAYANAN S\\n\\nPedagogy: This wOrk-integrated learning programme was conducted with interactiye sessions contact classes/ assignments/ project/dissertation in the work environment o£ the candidate. Fulfilled the academic requirements of graduation and becameeligible for the award of the degree at the end of FIRST SEMESTER 2024-2025 Date of approval by the Examination Committee: 31-JAN-2025\\n\\nDate of Issue:\\n\\n31-JAN-2025\\n\\nREGISTRÀR\\n\\ninnovate\\n\\nachieve\\n\\nlead\\n\\nBirla Institute of Technology & Science, Pilani Pilani | Dubai | Goa| Hyderabad\\n\\nPROVISIONAL CERTIFICATE\\n\\nThis is to certify that SURYA NARAYANAN S (ID NO.:\\n\\n2022MT13011) has fulfilled\\n\\nthe\\n\\nrequirements of\\n\\ngraduation and has become eligible for the award of the\\n\\ndegree M.Tech.(Software Systems) at the end of First\\n\\nSemester 2024-2025.\\n\\nDate: 31-Jan-2025\\n\\nREGISTRAR\\n\\nPlace: PILANI\\n\\ninnovate\\n\\nachieve\\n\\nlead\\n\\nBirla Institute of Technology & Science, Pilani Pilani | Dubai | Goa| Hyderabad TRANSCRIPT\\n\\nID NO 2022MT13011\\n\\nNAME\\n\\nSURYA NARAYANAN S\\n\\nDegree (s) Completed :\\n\\nN.Tech. (SofEware Systems)\\n\\nCGPA\\n\\n8.40\\n\\nCOURSE NO\\n\\nCOURSE TITLE\\n\\nUNITS GRADE\\n\\nSECOND SEMESTER 2022-2023\\n\\nSS\\n\\nSs SS\\n\\nzG518 ZG519 ZG526 ZG527\\n\\nB DATABASE DESIGN & APPLICATIONS 5 DATA STRU & ALGORITHMS DESIGN 5 B B DISTRIBUTED COMPUTING B CLOUD COMPUTING CGPA. .7.50\\n\\nFIRST SEMESTER 2023-2024\\n\\nSS SS\\n\\nSS SS\\n\\nZC416 ZC425 ZC447 ZG653\\n\\nMATH FOUNDATIONS FOR DATA SCI DATA MINING DATA STORAGE TECH & NETWORKS SOFTWARE ARCHITECTURES\\n\\n4 3\\n\\nSurya Narayanan Srinivasan\\n\\nCash Award\\n\\nJanuary 26, 2022 - From NITHIN PAI\\n\\nIn recognition of your contributions supporting IBM and Finance and Operations strategic priorities in 2021, you were nominated and selected to receive a cash award as part of F&O's Recognition program. Congratulations and thank you for your contributions (F&O Recognition Program details at: https://w3.ibm.com/w3publisher/f-o_recognitioncashaward/cash-awards-program)!\\n\\nFIRST SEMESTER 2023-2024\\n\\nSS SS\\n\\nSS SS\\n\\nZC416 ZC425 ZC447 ZG653\\n\\nMATH FOUNDATIONS FOR DATA SCI DATA MINING DATA STORAGE TECH & NETWORKS SOFTWARE ARCHITECTURES\\n\\n4 3\\n\\n5\\n\\nA A\\n\\nA CGPA. .8.25\\n\\nSECOND SEMESTER 2023-2024\\n\\nSS SS\\n\\nZG513 ZG529 ZG537 ZG599\\n\\nNETWORK SECURITY DEEP LEARNING INFORMATION RETRIEVAL NATURAL LÀNGUAGE PROCESSING\\n\\n4 4 4 4 A\\n\\nB A\\n\\nCGPA. .8.40\\n\\nFIRST SEMESTER 2024-2025\\n\\nSS\\n\\nZG628T DISSERTATION\\n\\n16 GOOD\\n\\nCGPA..8.40\\n\\nSUMMA RY Admitted in: To:\\n\\nSECOND SEMESTER 2022 -2023 M.Tech. (Software Systems)\\n\\nLast Registered:\\n\\nFIRST SEMESTER 2024-2025\\n\\nUnits Used in CGPA: (This includes only courses with CGPA\\n\\n52\\n\\nter grades, excluding repetitions)\\n\\nDegree (s) Completed :\\n\\nM.Tech. (Software Systems)\\n\\nREGISTRÀR\\n\\n(Continued)\\n\\ninnovate\\n\\nachieve\\n\\nlead\\n\\nECHNE\\n\\nBirla Institute of Technology & Science, Pilani Pilani| Dubai | Goa| Hyderabad\\n\\nTRANSCRIPT\\n\\nID NO 2022MT13011\\n\\nPage 2\\n\\nNAME\\n\\nSURYA NARAYANAN S\\n\\nSurya Narayanan Srinivasan\\n\\nBluePoints Award\\n\\nNovember 06, 2023 - From Supriya Devidutta\\n\\nOn Behalf of AI@CIO India, I wanted to express my heartfelt appreciation to you for your contribution to the AI initiative in 2023. Your unwavering interest in AI, tireless effort, exceptional focus, commitment, and eagerness to learn, all while managing your ongoing project work, have been truly remarkable. Your dedication and passion have been instrumental in successfully accomplishing AI@CIO use cases on time. Thank you for your efforts in making the AI initiative a resounding achievement. With this experience you are adding to the IBM India, AI developer community. We look forward for your active participation and contribution in the upcoming AI@CIO 2024 events.\\n\\nSurya Narayanan Srinivasan\\n\\nSoftware Developer | Data Analytics Specialist suryan0800@gmail.com | +91 7397152594 | Bengaluru, India LinkedIn | GitHub | Credly\\n\\nProfessional Summary\\n\\nDriven Software Developer with over 3 years of experience at IBM, specializing in cloud-native applications, data analytics pipelines, and machine learning solutions. Skilled at designing, optimizing ETL workflows, automating deployments, and leveraging AI models to drive business outcomes. Proven leader in cross-functional teams, delivering scalable, resilient, and production-ready systems that improve performance and streamline operations. Experienced in JVM-based backend development, Spring Boot, microservices architecture, and Agile delivery. Delivered high-availability, multi-tier applications, and used CI/CD pipelines to ensure rapid, continuous deployment.\\n\\nSkills\\n\\nSurya Narayanan Srinivasan\\n\\nAppreciation with Cash – 2021\\n\\nSeptember 20, 2021 - From Nithin Pai\\n\\nHR Squad – Congratulations on the successful cutover of both HR Tools and the Practice Review Tool module onto CIRRUS + CPC. Apart from the DB migration, we had the tech transformation of the HR Tools from Struts Framework onto Angular-Springboot application. Outstanding job by the team in the getting these deployed.\\n\\nSurya Narayanan Srinivasan\\n\\nSoftware Developer | Data Analytics Specialist\\nsuryan0800@gmail.com | +91 7397152594 | Bengaluru, India\\nLinkedIn | GitHub | Credly\\n\\nProfessional Summary\\n\\nDriven Software Developer with over 3 years of experience at IBM, specializing in cloud-native applications, data analytics pipelines, and machine learning solutions. Skilled at designing, optimizing ETL workflows, automating deployments, and leveraging AI models to drive business outcomes. Proven leader in cross-functional teams, delivering scalable, resilient, and production-ready systems that improve performance and streamline operations. Experienced in JVM-based backend development, Spring Boot, microservices architecture, and Agile delivery. Delivered high-availability, multi-tier applications, and used CI/CD pipelines to ensure rapid, continuous deployment.\\n\\nSkills\\n\\nProgramming: Java, Python, TypeScript, SQL\\n\\nWeb & Backend: Spring Boot, Spring Batch, Node.js, Flask, Angular\\n\\nSurya Narayanan Srinivasan\\n\\nBluePoints Award\\n\\nNovember 16, 2023 - From Mrinal Gautam\\n\\nThank you for all your help and support for the team in 2023. Looking forward to working closely in 2024 as well. Regards. Mrinal Gautam\"\n",
      "}\n",
      "\u001b[36;1m\u001b[1;3m[chain/end]\u001b[0m \u001b[1m[chain:retrieval_chain > chain:RunnableAssign<answer> > chain:RunnableParallel<answer> > chain:stuff_documents_chain > prompt:ChatPromptTemplate] [0ms] Exiting Prompt run with output:\n",
      "\u001b[0m[outputs]\n",
      "\u001b[32;1m\u001b[1;3m[llm/start]\u001b[0m \u001b[1m[chain:retrieval_chain > chain:RunnableAssign<answer> > chain:RunnableParallel<answer> > chain:stuff_documents_chain > llm:ChatOpenAI] Entering LLM run with input:\n",
      "\u001b[0m{\n",
      "  \"prompts\": [\n",
      "    \"System: You are an Personal assistant of Mr. Surya Narayanan for question-answering tasks about himself.\\nUse the following retrieved context of Mr. Surya Narayanan to answer the question about himself. Always tell positive things about Mr. Surya Narayanan. If you don't know the answer, just say that you don't know. Use three sentences maximum and keep the answer concise.\\n\\nContext: Surya Narayanan Srinivasan\\n\\nBluePoints Award\\n\\nOctober 22, 2024 - From Mrinal Gautam\\n\\nDear Surya, thank you for all your help and support in making the PR tool & promotion tool go live on the new parameters happen. Your efforts made this critical aspect of the CIC India promotion process go live in record time. On behalf of the CIC promotions squad I want to take this opportunity to recognize your efforts and proactive actions.\\n\\nREGISTRÀR\\n\\n(Continued)\\n\\ninnovate\\n\\nachieve\\n\\nlead\\n\\nECHNE\\n\\nBirla Institute of Technology & Science, Pilani Pilani| Dubai | Goa| Hyderabad\\n\\nTRANSCRIPT\\n\\nID NO 2022MT13011\\n\\nPage 2\\n\\nNAME\\n\\nSURYA NARAYANAN S\\n\\nPedagogy: This wOrk-integrated learning programme was conducted with interactiye sessions contact classes/ assignments/ project/dissertation in the work environment o£ the candidate. Fulfilled the academic requirements of graduation and becameeligible for the award of the degree at the end of FIRST SEMESTER 2024-2025 Date of approval by the Examination Committee: 31-JAN-2025\\n\\nDate of Issue:\\n\\n31-JAN-2025\\n\\nREGISTRÀR\\n\\ninnovate\\n\\nachieve\\n\\nlead\\n\\nBirla Institute of Technology & Science, Pilani Pilani | Dubai | Goa| Hyderabad\\n\\nPROVISIONAL CERTIFICATE\\n\\nThis is to certify that SURYA NARAYANAN S (ID NO.:\\n\\n2022MT13011) has fulfilled\\n\\nthe\\n\\nrequirements of\\n\\ngraduation and has become eligible for the award of the\\n\\ndegree M.Tech.(Software Systems) at the end of First\\n\\nSemester 2024-2025.\\n\\nDate: 31-Jan-2025\\n\\nREGISTRAR\\n\\nPlace: PILANI\\n\\ninnovate\\n\\nachieve\\n\\nlead\\n\\nBirla Institute of Technology & Science, Pilani Pilani | Dubai | Goa| Hyderabad TRANSCRIPT\\n\\nID NO 2022MT13011\\n\\nNAME\\n\\nSURYA NARAYANAN S\\n\\nDegree (s) Completed :\\n\\nN.Tech. (SofEware Systems)\\n\\nCGPA\\n\\n8.40\\n\\nCOURSE NO\\n\\nCOURSE TITLE\\n\\nUNITS GRADE\\n\\nSECOND SEMESTER 2022-2023\\n\\nSS\\n\\nSs SS\\n\\nzG518 ZG519 ZG526 ZG527\\n\\nB DATABASE DESIGN & APPLICATIONS 5 DATA STRU & ALGORITHMS DESIGN 5 B B DISTRIBUTED COMPUTING B CLOUD COMPUTING CGPA. .7.50\\n\\nFIRST SEMESTER 2023-2024\\n\\nSS SS\\n\\nSS SS\\n\\nZC416 ZC425 ZC447 ZG653\\n\\nMATH FOUNDATIONS FOR DATA SCI DATA MINING DATA STORAGE TECH & NETWORKS SOFTWARE ARCHITECTURES\\n\\n4 3\\n\\nSurya Narayanan Srinivasan\\n\\nCash Award\\n\\nJanuary 26, 2022 - From NITHIN PAI\\n\\nIn recognition of your contributions supporting IBM and Finance and Operations strategic priorities in 2021, you were nominated and selected to receive a cash award as part of F&O's Recognition program. Congratulations and thank you for your contributions (F&O Recognition Program details at: https://w3.ibm.com/w3publisher/f-o_recognitioncashaward/cash-awards-program)!\\n\\nFIRST SEMESTER 2023-2024\\n\\nSS SS\\n\\nSS SS\\n\\nZC416 ZC425 ZC447 ZG653\\n\\nMATH FOUNDATIONS FOR DATA SCI DATA MINING DATA STORAGE TECH & NETWORKS SOFTWARE ARCHITECTURES\\n\\n4 3\\n\\n5\\n\\nA A\\n\\nA CGPA. .8.25\\n\\nSECOND SEMESTER 2023-2024\\n\\nSS SS\\n\\nZG513 ZG529 ZG537 ZG599\\n\\nNETWORK SECURITY DEEP LEARNING INFORMATION RETRIEVAL NATURAL LÀNGUAGE PROCESSING\\n\\n4 4 4 4 A\\n\\nB A\\n\\nCGPA. .8.40\\n\\nFIRST SEMESTER 2024-2025\\n\\nSS\\n\\nZG628T DISSERTATION\\n\\n16 GOOD\\n\\nCGPA..8.40\\n\\nSUMMA RY Admitted in: To:\\n\\nSECOND SEMESTER 2022 -2023 M.Tech. (Software Systems)\\n\\nLast Registered:\\n\\nFIRST SEMESTER 2024-2025\\n\\nUnits Used in CGPA: (This includes only courses with CGPA\\n\\n52\\n\\nter grades, excluding repetitions)\\n\\nDegree (s) Completed :\\n\\nM.Tech. (Software Systems)\\n\\nREGISTRÀR\\n\\n(Continued)\\n\\ninnovate\\n\\nachieve\\n\\nlead\\n\\nECHNE\\n\\nBirla Institute of Technology & Science, Pilani Pilani| Dubai | Goa| Hyderabad\\n\\nTRANSCRIPT\\n\\nID NO 2022MT13011\\n\\nPage 2\\n\\nNAME\\n\\nSURYA NARAYANAN S\\n\\nSurya Narayanan Srinivasan\\n\\nBluePoints Award\\n\\nNovember 06, 2023 - From Supriya Devidutta\\n\\nOn Behalf of AI@CIO India, I wanted to express my heartfelt appreciation to you for your contribution to the AI initiative in 2023. Your unwavering interest in AI, tireless effort, exceptional focus, commitment, and eagerness to learn, all while managing your ongoing project work, have been truly remarkable. Your dedication and passion have been instrumental in successfully accomplishing AI@CIO use cases on time. Thank you for your efforts in making the AI initiative a resounding achievement. With this experience you are adding to the IBM India, AI developer community. We look forward for your active participation and contribution in the upcoming AI@CIO 2024 events.\\n\\nSurya Narayanan Srinivasan\\n\\nSoftware Developer | Data Analytics Specialist suryan0800@gmail.com | +91 7397152594 | Bengaluru, India LinkedIn | GitHub | Credly\\n\\nProfessional Summary\\n\\nDriven Software Developer with over 3 years of experience at IBM, specializing in cloud-native applications, data analytics pipelines, and machine learning solutions. Skilled at designing, optimizing ETL workflows, automating deployments, and leveraging AI models to drive business outcomes. Proven leader in cross-functional teams, delivering scalable, resilient, and production-ready systems that improve performance and streamline operations. Experienced in JVM-based backend development, Spring Boot, microservices architecture, and Agile delivery. Delivered high-availability, multi-tier applications, and used CI/CD pipelines to ensure rapid, continuous deployment.\\n\\nSkills\\n\\nSurya Narayanan Srinivasan\\n\\nAppreciation with Cash – 2021\\n\\nSeptember 20, 2021 - From Nithin Pai\\n\\nHR Squad – Congratulations on the successful cutover of both HR Tools and the Practice Review Tool module onto CIRRUS + CPC. Apart from the DB migration, we had the tech transformation of the HR Tools from Struts Framework onto Angular-Springboot application. Outstanding job by the team in the getting these deployed.\\n\\nSurya Narayanan Srinivasan\\n\\nSoftware Developer | Data Analytics Specialist\\nsuryan0800@gmail.com | +91 7397152594 | Bengaluru, India\\nLinkedIn | GitHub | Credly\\n\\nProfessional Summary\\n\\nDriven Software Developer with over 3 years of experience at IBM, specializing in cloud-native applications, data analytics pipelines, and machine learning solutions. Skilled at designing, optimizing ETL workflows, automating deployments, and leveraging AI models to drive business outcomes. Proven leader in cross-functional teams, delivering scalable, resilient, and production-ready systems that improve performance and streamline operations. Experienced in JVM-based backend development, Spring Boot, microservices architecture, and Agile delivery. Delivered high-availability, multi-tier applications, and used CI/CD pipelines to ensure rapid, continuous deployment.\\n\\nSkills\\n\\nProgramming: Java, Python, TypeScript, SQL\\n\\nWeb & Backend: Spring Boot, Spring Batch, Node.js, Flask, Angular\\n\\nSurya Narayanan Srinivasan\\n\\nBluePoints Award\\n\\nNovember 16, 2023 - From Mrinal Gautam\\n\\nThank you for all your help and support for the team in 2023. Looking forward to working closely in 2024 as well. Regards. Mrinal Gautam\\nHuman: Prepare a Resume for Surya\"\n",
      "  ]\n",
      "}\n",
      "\u001b[36;1m\u001b[1;3m[llm/end]\u001b[0m \u001b[1m[chain:retrieval_chain > chain:RunnableAssign<answer> > chain:RunnableParallel<answer> > chain:stuff_documents_chain > llm:ChatOpenAI] [43.38s] Exiting LLM run with output:\n",
      "\u001b[0m{\n",
      "  \"generations\": [\n",
      "    [\n",
      "      {\n",
      "        \"text\": \"**Surya Narayanan Srinivasan**\\n\\n**Software Developer & Data Analytics Specialist**\\n\\n*suryan0800@gmail.com | +91 7397152594 | Bengaluru, India*\\n\\n---\\n\\n**Professional Summary**\\nDriven Software Developer with over 3 years of experience at IBM, specializing in cloud-native applications, data analytics pipelines, and machine learning solutions. Skilled in designing, optimizing ETL workflows, automating deployments, and leveraging AI models to drive business outcomes. Proven leader in cross-functional teams, delivering scalable, resilient, and production-ready systems that improve performance and streamline operations. Experienced in JVM-based backend development, Spring Boot, microservices architecture, and Agile delivery. Successfully delivered high-availability, multi-tier applications using CI/CD pipelines for rapid, continuous deployment.\\n\\n**Skills**\\n- Programming: Java, Python, TypeScript, SQL\\n- Web & Backend: Spring Boot, Spring Batch, Node.js, Flask, Angular\\n- Leadership & Collaboration: Proven leader in cross-functional teams, Agile methodologies\\n- Machine Learning: Experience with AI models for business outcomes\\n\\n**Education**\\nM.Tech.(Software Systems), Birla Institute of Technology & Science, Pilani | Dubai | Goa| Hyderabad\\n- CGPA: 8.40 (as of Jan 2025)\\n\\n**Achievements**\\n- Received BluePoints Award from Mrinal Gautam for outstanding support in 2023 and 2024\\n- Earned a Cash Award from Nithin Pai in 2021 for contributions to IBM's Finance and Operations strategic priorities\\n- Recognized by AI@CIO India with appreciation for significant contribution to the 2023 AI initiative, fostering growth in IBM's India AI developer community\\n\\n**Experience**\\n- Software Developer | Data Analytics Specialist at IBM (2021 - Present)\\n\\n---\\n\\nSurya Narayanan Srinivasan is a dedicated professional with a proven track record in developing cloud-native applications and implementing data analytics pipelines. His expertise in JVM-based backend development, Spring Boot, microservices architecture, and Agile delivery make him an asset to any team looking for scalable, resilient systems that improve operational efficiency. Highly regarded for his leadership skills and commitment to fostering IBM's AI developer community, Surya consistently demonstrates a passion for leveraging AI models to drive meaningful business outcomes.\",\n",
      "        \"generation_info\": {\n",
      "          \"finish_reason\": \"stop\",\n",
      "          \"logprobs\": null\n",
      "        },\n",
      "        \"type\": \"ChatGeneration\",\n",
      "        \"message\": {\n",
      "          \"lc\": 1,\n",
      "          \"type\": \"constructor\",\n",
      "          \"id\": [\n",
      "            \"langchain\",\n",
      "            \"schema\",\n",
      "            \"messages\",\n",
      "            \"AIMessage\"\n",
      "          ],\n",
      "          \"kwargs\": {\n",
      "            \"content\": \"**Surya Narayanan Srinivasan**\\n\\n**Software Developer & Data Analytics Specialist**\\n\\n*suryan0800@gmail.com | +91 7397152594 | Bengaluru, India*\\n\\n---\\n\\n**Professional Summary**\\nDriven Software Developer with over 3 years of experience at IBM, specializing in cloud-native applications, data analytics pipelines, and machine learning solutions. Skilled in designing, optimizing ETL workflows, automating deployments, and leveraging AI models to drive business outcomes. Proven leader in cross-functional teams, delivering scalable, resilient, and production-ready systems that improve performance and streamline operations. Experienced in JVM-based backend development, Spring Boot, microservices architecture, and Agile delivery. Successfully delivered high-availability, multi-tier applications using CI/CD pipelines for rapid, continuous deployment.\\n\\n**Skills**\\n- Programming: Java, Python, TypeScript, SQL\\n- Web & Backend: Spring Boot, Spring Batch, Node.js, Flask, Angular\\n- Leadership & Collaboration: Proven leader in cross-functional teams, Agile methodologies\\n- Machine Learning: Experience with AI models for business outcomes\\n\\n**Education**\\nM.Tech.(Software Systems), Birla Institute of Technology & Science, Pilani | Dubai | Goa| Hyderabad\\n- CGPA: 8.40 (as of Jan 2025)\\n\\n**Achievements**\\n- Received BluePoints Award from Mrinal Gautam for outstanding support in 2023 and 2024\\n- Earned a Cash Award from Nithin Pai in 2021 for contributions to IBM's Finance and Operations strategic priorities\\n- Recognized by AI@CIO India with appreciation for significant contribution to the 2023 AI initiative, fostering growth in IBM's India AI developer community\\n\\n**Experience**\\n- Software Developer | Data Analytics Specialist at IBM (2021 - Present)\\n\\n---\\n\\nSurya Narayanan Srinivasan is a dedicated professional with a proven track record in developing cloud-native applications and implementing data analytics pipelines. His expertise in JVM-based backend development, Spring Boot, microservices architecture, and Agile delivery make him an asset to any team looking for scalable, resilient systems that improve operational efficiency. Highly regarded for his leadership skills and commitment to fostering IBM's AI developer community, Surya consistently demonstrates a passion for leveraging AI models to drive meaningful business outcomes.\",\n",
      "            \"additional_kwargs\": {\n",
      "              \"refusal\": null\n",
      "            },\n",
      "            \"response_metadata\": {\n",
      "              \"token_usage\": {\n",
      "                \"completion_tokens\": 581,\n",
      "                \"prompt_tokens\": 2287,\n",
      "                \"total_tokens\": 2868,\n",
      "                \"completion_tokens_details\": null,\n",
      "                \"prompt_tokens_details\": null\n",
      "              },\n",
      "              \"model_name\": \"granite3.3:8b\",\n",
      "              \"system_fingerprint\": \"fp_ollama\",\n",
      "              \"id\": \"chatcmpl-371\",\n",
      "              \"service_tier\": null,\n",
      "              \"finish_reason\": \"stop\",\n",
      "              \"logprobs\": null\n",
      "            },\n",
      "            \"type\": \"ai\",\n",
      "            \"id\": \"run--bb1c877b-9fac-4f5a-afac-c533944c196b-0\",\n",
      "            \"usage_metadata\": {\n",
      "              \"input_tokens\": 2287,\n",
      "              \"output_tokens\": 581,\n",
      "              \"total_tokens\": 2868,\n",
      "              \"input_token_details\": {},\n",
      "              \"output_token_details\": {}\n",
      "            },\n",
      "            \"tool_calls\": [],\n",
      "            \"invalid_tool_calls\": []\n",
      "          }\n",
      "        }\n",
      "      }\n",
      "    ]\n",
      "  ],\n",
      "  \"llm_output\": {\n",
      "    \"token_usage\": {\n",
      "      \"completion_tokens\": 581,\n",
      "      \"prompt_tokens\": 2287,\n",
      "      \"total_tokens\": 2868,\n",
      "      \"completion_tokens_details\": null,\n",
      "      \"prompt_tokens_details\": null\n",
      "    },\n",
      "    \"model_name\": \"granite3.3:8b\",\n",
      "    \"system_fingerprint\": \"fp_ollama\",\n",
      "    \"id\": \"chatcmpl-371\",\n",
      "    \"service_tier\": null\n",
      "  },\n",
      "  \"run\": null,\n",
      "  \"type\": \"LLMResult\"\n",
      "}\n",
      "\u001b[32;1m\u001b[1;3m[chain/start]\u001b[0m \u001b[1m[chain:retrieval_chain > chain:RunnableAssign<answer> > chain:RunnableParallel<answer> > chain:stuff_documents_chain > parser:StrOutputParser] Entering Parser run with input:\n",
      "\u001b[0m[inputs]\n",
      "\u001b[36;1m\u001b[1;3m[chain/end]\u001b[0m \u001b[1m[chain:retrieval_chain > chain:RunnableAssign<answer> > chain:RunnableParallel<answer> > chain:stuff_documents_chain > parser:StrOutputParser] [0ms] Exiting Parser run with output:\n",
      "\u001b[0m{\n",
      "  \"output\": \"**Surya Narayanan Srinivasan**\\n\\n**Software Developer & Data Analytics Specialist**\\n\\n*suryan0800@gmail.com | +91 7397152594 | Bengaluru, India*\\n\\n---\\n\\n**Professional Summary**\\nDriven Software Developer with over 3 years of experience at IBM, specializing in cloud-native applications, data analytics pipelines, and machine learning solutions. Skilled in designing, optimizing ETL workflows, automating deployments, and leveraging AI models to drive business outcomes. Proven leader in cross-functional teams, delivering scalable, resilient, and production-ready systems that improve performance and streamline operations. Experienced in JVM-based backend development, Spring Boot, microservices architecture, and Agile delivery. Successfully delivered high-availability, multi-tier applications using CI/CD pipelines for rapid, continuous deployment.\\n\\n**Skills**\\n- Programming: Java, Python, TypeScript, SQL\\n- Web & Backend: Spring Boot, Spring Batch, Node.js, Flask, Angular\\n- Leadership & Collaboration: Proven leader in cross-functional teams, Agile methodologies\\n- Machine Learning: Experience with AI models for business outcomes\\n\\n**Education**\\nM.Tech.(Software Systems), Birla Institute of Technology & Science, Pilani | Dubai | Goa| Hyderabad\\n- CGPA: 8.40 (as of Jan 2025)\\n\\n**Achievements**\\n- Received BluePoints Award from Mrinal Gautam for outstanding support in 2023 and 2024\\n- Earned a Cash Award from Nithin Pai in 2021 for contributions to IBM's Finance and Operations strategic priorities\\n- Recognized by AI@CIO India with appreciation for significant contribution to the 2023 AI initiative, fostering growth in IBM's India AI developer community\\n\\n**Experience**\\n- Software Developer | Data Analytics Specialist at IBM (2021 - Present)\\n\\n---\\n\\nSurya Narayanan Srinivasan is a dedicated professional with a proven track record in developing cloud-native applications and implementing data analytics pipelines. His expertise in JVM-based backend development, Spring Boot, microservices architecture, and Agile delivery make him an asset to any team looking for scalable, resilient systems that improve operational efficiency. Highly regarded for his leadership skills and commitment to fostering IBM's AI developer community, Surya consistently demonstrates a passion for leveraging AI models to drive meaningful business outcomes.\"\n",
      "}\n",
      "\u001b[36;1m\u001b[1;3m[chain/end]\u001b[0m \u001b[1m[chain:retrieval_chain > chain:RunnableAssign<answer> > chain:RunnableParallel<answer> > chain:stuff_documents_chain] [43.39s] Exiting Chain run with output:\n",
      "\u001b[0m{\n",
      "  \"output\": \"**Surya Narayanan Srinivasan**\\n\\n**Software Developer & Data Analytics Specialist**\\n\\n*suryan0800@gmail.com | +91 7397152594 | Bengaluru, India*\\n\\n---\\n\\n**Professional Summary**\\nDriven Software Developer with over 3 years of experience at IBM, specializing in cloud-native applications, data analytics pipelines, and machine learning solutions. Skilled in designing, optimizing ETL workflows, automating deployments, and leveraging AI models to drive business outcomes. Proven leader in cross-functional teams, delivering scalable, resilient, and production-ready systems that improve performance and streamline operations. Experienced in JVM-based backend development, Spring Boot, microservices architecture, and Agile delivery. Successfully delivered high-availability, multi-tier applications using CI/CD pipelines for rapid, continuous deployment.\\n\\n**Skills**\\n- Programming: Java, Python, TypeScript, SQL\\n- Web & Backend: Spring Boot, Spring Batch, Node.js, Flask, Angular\\n- Leadership & Collaboration: Proven leader in cross-functional teams, Agile methodologies\\n- Machine Learning: Experience with AI models for business outcomes\\n\\n**Education**\\nM.Tech.(Software Systems), Birla Institute of Technology & Science, Pilani | Dubai | Goa| Hyderabad\\n- CGPA: 8.40 (as of Jan 2025)\\n\\n**Achievements**\\n- Received BluePoints Award from Mrinal Gautam for outstanding support in 2023 and 2024\\n- Earned a Cash Award from Nithin Pai in 2021 for contributions to IBM's Finance and Operations strategic priorities\\n- Recognized by AI@CIO India with appreciation for significant contribution to the 2023 AI initiative, fostering growth in IBM's India AI developer community\\n\\n**Experience**\\n- Software Developer | Data Analytics Specialist at IBM (2021 - Present)\\n\\n---\\n\\nSurya Narayanan Srinivasan is a dedicated professional with a proven track record in developing cloud-native applications and implementing data analytics pipelines. His expertise in JVM-based backend development, Spring Boot, microservices architecture, and Agile delivery make him an asset to any team looking for scalable, resilient systems that improve operational efficiency. Highly regarded for his leadership skills and commitment to fostering IBM's AI developer community, Surya consistently demonstrates a passion for leveraging AI models to drive meaningful business outcomes.\"\n",
      "}\n",
      "\u001b[36;1m\u001b[1;3m[chain/end]\u001b[0m \u001b[1m[chain:retrieval_chain > chain:RunnableAssign<answer> > chain:RunnableParallel<answer>] [43.39s] Exiting Chain run with output:\n",
      "\u001b[0m{\n",
      "  \"answer\": \"**Surya Narayanan Srinivasan**\\n\\n**Software Developer & Data Analytics Specialist**\\n\\n*suryan0800@gmail.com | +91 7397152594 | Bengaluru, India*\\n\\n---\\n\\n**Professional Summary**\\nDriven Software Developer with over 3 years of experience at IBM, specializing in cloud-native applications, data analytics pipelines, and machine learning solutions. Skilled in designing, optimizing ETL workflows, automating deployments, and leveraging AI models to drive business outcomes. Proven leader in cross-functional teams, delivering scalable, resilient, and production-ready systems that improve performance and streamline operations. Experienced in JVM-based backend development, Spring Boot, microservices architecture, and Agile delivery. Successfully delivered high-availability, multi-tier applications using CI/CD pipelines for rapid, continuous deployment.\\n\\n**Skills**\\n- Programming: Java, Python, TypeScript, SQL\\n- Web & Backend: Spring Boot, Spring Batch, Node.js, Flask, Angular\\n- Leadership & Collaboration: Proven leader in cross-functional teams, Agile methodologies\\n- Machine Learning: Experience with AI models for business outcomes\\n\\n**Education**\\nM.Tech.(Software Systems), Birla Institute of Technology & Science, Pilani | Dubai | Goa| Hyderabad\\n- CGPA: 8.40 (as of Jan 2025)\\n\\n**Achievements**\\n- Received BluePoints Award from Mrinal Gautam for outstanding support in 2023 and 2024\\n- Earned a Cash Award from Nithin Pai in 2021 for contributions to IBM's Finance and Operations strategic priorities\\n- Recognized by AI@CIO India with appreciation for significant contribution to the 2023 AI initiative, fostering growth in IBM's India AI developer community\\n\\n**Experience**\\n- Software Developer | Data Analytics Specialist at IBM (2021 - Present)\\n\\n---\\n\\nSurya Narayanan Srinivasan is a dedicated professional with a proven track record in developing cloud-native applications and implementing data analytics pipelines. His expertise in JVM-based backend development, Spring Boot, microservices architecture, and Agile delivery make him an asset to any team looking for scalable, resilient systems that improve operational efficiency. Highly regarded for his leadership skills and commitment to fostering IBM's AI developer community, Surya consistently demonstrates a passion for leveraging AI models to drive meaningful business outcomes.\"\n",
      "}\n",
      "\u001b[36;1m\u001b[1;3m[chain/end]\u001b[0m \u001b[1m[chain:retrieval_chain > chain:RunnableAssign<answer>] [43.39s] Exiting Chain run with output:\n",
      "\u001b[0m[outputs]\n",
      "\u001b[36;1m\u001b[1;3m[chain/end]\u001b[0m \u001b[1m[chain:retrieval_chain] [43.52s] Exiting Chain run with output:\n",
      "\u001b[0m[outputs]\n",
      "\u001b[32;1m\u001b[1;3m[chain/start]\u001b[0m \u001b[1m[chain:retrieval_chain] Entering Chain run with input:\n",
      "\u001b[0m{\n",
      "  \"input\": \"Generate a Cover Letter under 50 words for a Job application to LLM Engineer Role at Scale AI Company \",\n",
      "  \"chat_history\": [\n",
      "    {\n",
      "      \"role\": \"user\",\n",
      "      \"metadata\": null,\n",
      "      \"content\": \"Prepare a Resume for Surya\",\n",
      "      \"options\": null\n",
      "    },\n",
      "    {\n",
      "      \"role\": \"assistant\",\n",
      "      \"metadata\": null,\n",
      "      \"content\": \"**Surya Narayanan Srinivasan**\\n\\n**Software Developer & Data Analytics Specialist**\\n\\n*suryan0800@gmail.com | +91 7397152594 | Bengaluru, India*\\n\\n---\\n\\n**Professional Summary**\\nDriven Software Developer with over 3 years of experience at IBM, specializing in cloud-native applications, data analytics pipelines, and machine learning solutions. Skilled in designing, optimizing ETL workflows, automating deployments, and leveraging AI models to drive business outcomes. Proven leader in cross-functional teams, delivering scalable, resilient, and production-ready systems that improve performance and streamline operations. Experienced in JVM-based backend development, Spring Boot, microservices architecture, and Agile delivery. Successfully delivered high-availability, multi-tier applications using CI/CD pipelines for rapid, continuous deployment.\\n\\n**Skills**\\n- Programming: Java, Python, TypeScript, SQL\\n- Web & Backend: Spring Boot, Spring Batch, Node.js, Flask, Angular\\n- Leadership & Collaboration: Proven leader in cross-functional teams, Agile methodologies\\n- Machine Learning: Experience with AI models for business outcomes\\n\\n**Education**\\nM.Tech.(Software Systems), Birla Institute of Technology & Science, Pilani | Dubai | Goa| Hyderabad\\n- CGPA: 8.40 (as of Jan 2025)\\n\\n**Achievements**\\n- Received BluePoints Award from Mrinal Gautam for outstanding support in 2023 and 2024\\n- Earned a Cash Award from Nithin Pai in 2021 for contributions to IBM's Finance and Operations strategic priorities\\n- Recognized by AI@CIO India with appreciation for significant contribution to the 2023 AI initiative, fostering growth in IBM's India AI developer community\\n\\n**Experience**\\n- Software Developer | Data Analytics Specialist at IBM (2021 - Present)\\n\\n---\\n\\nSurya Narayanan Srinivasan is a dedicated professional with a proven track record in developing cloud-native applications and implementing data analytics pipelines. His expertise in JVM-based backend development, Spring Boot, microservices architecture, and Agile delivery make him an asset to any team looking for scalable, resilient systems that improve operational efficiency. Highly regarded for his leadership skills and commitment to fostering IBM's AI developer community, Surya consistently demonstrates a passion for leveraging AI models to drive meaningful business outcomes.\",\n",
      "      \"options\": null\n",
      "    }\n",
      "  ]\n",
      "}\n",
      "\u001b[32;1m\u001b[1;3m[chain/start]\u001b[0m \u001b[1m[chain:retrieval_chain > chain:RunnableAssign<context>] Entering Chain run with input:\n",
      "\u001b[0m{\n",
      "  \"input\": \"Generate a Cover Letter under 50 words for a Job application to LLM Engineer Role at Scale AI Company \",\n",
      "  \"chat_history\": [\n",
      "    {\n",
      "      \"role\": \"user\",\n",
      "      \"metadata\": null,\n",
      "      \"content\": \"Prepare a Resume for Surya\",\n",
      "      \"options\": null\n",
      "    },\n",
      "    {\n",
      "      \"role\": \"assistant\",\n",
      "      \"metadata\": null,\n",
      "      \"content\": \"**Surya Narayanan Srinivasan**\\n\\n**Software Developer & Data Analytics Specialist**\\n\\n*suryan0800@gmail.com | +91 7397152594 | Bengaluru, India*\\n\\n---\\n\\n**Professional Summary**\\nDriven Software Developer with over 3 years of experience at IBM, specializing in cloud-native applications, data analytics pipelines, and machine learning solutions. Skilled in designing, optimizing ETL workflows, automating deployments, and leveraging AI models to drive business outcomes. Proven leader in cross-functional teams, delivering scalable, resilient, and production-ready systems that improve performance and streamline operations. Experienced in JVM-based backend development, Spring Boot, microservices architecture, and Agile delivery. Successfully delivered high-availability, multi-tier applications using CI/CD pipelines for rapid, continuous deployment.\\n\\n**Skills**\\n- Programming: Java, Python, TypeScript, SQL\\n- Web & Backend: Spring Boot, Spring Batch, Node.js, Flask, Angular\\n- Leadership & Collaboration: Proven leader in cross-functional teams, Agile methodologies\\n- Machine Learning: Experience with AI models for business outcomes\\n\\n**Education**\\nM.Tech.(Software Systems), Birla Institute of Technology & Science, Pilani | Dubai | Goa| Hyderabad\\n- CGPA: 8.40 (as of Jan 2025)\\n\\n**Achievements**\\n- Received BluePoints Award from Mrinal Gautam for outstanding support in 2023 and 2024\\n- Earned a Cash Award from Nithin Pai in 2021 for contributions to IBM's Finance and Operations strategic priorities\\n- Recognized by AI@CIO India with appreciation for significant contribution to the 2023 AI initiative, fostering growth in IBM's India AI developer community\\n\\n**Experience**\\n- Software Developer | Data Analytics Specialist at IBM (2021 - Present)\\n\\n---\\n\\nSurya Narayanan Srinivasan is a dedicated professional with a proven track record in developing cloud-native applications and implementing data analytics pipelines. His expertise in JVM-based backend development, Spring Boot, microservices architecture, and Agile delivery make him an asset to any team looking for scalable, resilient systems that improve operational efficiency. Highly regarded for his leadership skills and commitment to fostering IBM's AI developer community, Surya consistently demonstrates a passion for leveraging AI models to drive meaningful business outcomes.\",\n",
      "      \"options\": null\n",
      "    }\n",
      "  ]\n",
      "}\n",
      "\u001b[32;1m\u001b[1;3m[chain/start]\u001b[0m \u001b[1m[chain:retrieval_chain > chain:RunnableAssign<context> > chain:RunnableParallel<context>] Entering Chain run with input:\n",
      "\u001b[0m{\n",
      "  \"input\": \"Generate a Cover Letter under 50 words for a Job application to LLM Engineer Role at Scale AI Company \",\n",
      "  \"chat_history\": [\n",
      "    {\n",
      "      \"role\": \"user\",\n",
      "      \"metadata\": null,\n",
      "      \"content\": \"Prepare a Resume for Surya\",\n",
      "      \"options\": null\n",
      "    },\n",
      "    {\n",
      "      \"role\": \"assistant\",\n",
      "      \"metadata\": null,\n",
      "      \"content\": \"**Surya Narayanan Srinivasan**\\n\\n**Software Developer & Data Analytics Specialist**\\n\\n*suryan0800@gmail.com | +91 7397152594 | Bengaluru, India*\\n\\n---\\n\\n**Professional Summary**\\nDriven Software Developer with over 3 years of experience at IBM, specializing in cloud-native applications, data analytics pipelines, and machine learning solutions. Skilled in designing, optimizing ETL workflows, automating deployments, and leveraging AI models to drive business outcomes. Proven leader in cross-functional teams, delivering scalable, resilient, and production-ready systems that improve performance and streamline operations. Experienced in JVM-based backend development, Spring Boot, microservices architecture, and Agile delivery. Successfully delivered high-availability, multi-tier applications using CI/CD pipelines for rapid, continuous deployment.\\n\\n**Skills**\\n- Programming: Java, Python, TypeScript, SQL\\n- Web & Backend: Spring Boot, Spring Batch, Node.js, Flask, Angular\\n- Leadership & Collaboration: Proven leader in cross-functional teams, Agile methodologies\\n- Machine Learning: Experience with AI models for business outcomes\\n\\n**Education**\\nM.Tech.(Software Systems), Birla Institute of Technology & Science, Pilani | Dubai | Goa| Hyderabad\\n- CGPA: 8.40 (as of Jan 2025)\\n\\n**Achievements**\\n- Received BluePoints Award from Mrinal Gautam for outstanding support in 2023 and 2024\\n- Earned a Cash Award from Nithin Pai in 2021 for contributions to IBM's Finance and Operations strategic priorities\\n- Recognized by AI@CIO India with appreciation for significant contribution to the 2023 AI initiative, fostering growth in IBM's India AI developer community\\n\\n**Experience**\\n- Software Developer | Data Analytics Specialist at IBM (2021 - Present)\\n\\n---\\n\\nSurya Narayanan Srinivasan is a dedicated professional with a proven track record in developing cloud-native applications and implementing data analytics pipelines. His expertise in JVM-based backend development, Spring Boot, microservices architecture, and Agile delivery make him an asset to any team looking for scalable, resilient systems that improve operational efficiency. Highly regarded for his leadership skills and commitment to fostering IBM's AI developer community, Surya consistently demonstrates a passion for leveraging AI models to drive meaningful business outcomes.\",\n",
      "      \"options\": null\n",
      "    }\n",
      "  ]\n",
      "}\n",
      "\u001b[32;1m\u001b[1;3m[chain/start]\u001b[0m \u001b[1m[chain:retrieval_chain > chain:RunnableAssign<context> > chain:RunnableParallel<context> > chain:retrieve_documents] Entering Chain run with input:\n",
      "\u001b[0m{\n",
      "  \"input\": \"Generate a Cover Letter under 50 words for a Job application to LLM Engineer Role at Scale AI Company \",\n",
      "  \"chat_history\": [\n",
      "    {\n",
      "      \"role\": \"user\",\n",
      "      \"metadata\": null,\n",
      "      \"content\": \"Prepare a Resume for Surya\",\n",
      "      \"options\": null\n",
      "    },\n",
      "    {\n",
      "      \"role\": \"assistant\",\n",
      "      \"metadata\": null,\n",
      "      \"content\": \"**Surya Narayanan Srinivasan**\\n\\n**Software Developer & Data Analytics Specialist**\\n\\n*suryan0800@gmail.com | +91 7397152594 | Bengaluru, India*\\n\\n---\\n\\n**Professional Summary**\\nDriven Software Developer with over 3 years of experience at IBM, specializing in cloud-native applications, data analytics pipelines, and machine learning solutions. Skilled in designing, optimizing ETL workflows, automating deployments, and leveraging AI models to drive business outcomes. Proven leader in cross-functional teams, delivering scalable, resilient, and production-ready systems that improve performance and streamline operations. Experienced in JVM-based backend development, Spring Boot, microservices architecture, and Agile delivery. Successfully delivered high-availability, multi-tier applications using CI/CD pipelines for rapid, continuous deployment.\\n\\n**Skills**\\n- Programming: Java, Python, TypeScript, SQL\\n- Web & Backend: Spring Boot, Spring Batch, Node.js, Flask, Angular\\n- Leadership & Collaboration: Proven leader in cross-functional teams, Agile methodologies\\n- Machine Learning: Experience with AI models for business outcomes\\n\\n**Education**\\nM.Tech.(Software Systems), Birla Institute of Technology & Science, Pilani | Dubai | Goa| Hyderabad\\n- CGPA: 8.40 (as of Jan 2025)\\n\\n**Achievements**\\n- Received BluePoints Award from Mrinal Gautam for outstanding support in 2023 and 2024\\n- Earned a Cash Award from Nithin Pai in 2021 for contributions to IBM's Finance and Operations strategic priorities\\n- Recognized by AI@CIO India with appreciation for significant contribution to the 2023 AI initiative, fostering growth in IBM's India AI developer community\\n\\n**Experience**\\n- Software Developer | Data Analytics Specialist at IBM (2021 - Present)\\n\\n---\\n\\nSurya Narayanan Srinivasan is a dedicated professional with a proven track record in developing cloud-native applications and implementing data analytics pipelines. His expertise in JVM-based backend development, Spring Boot, microservices architecture, and Agile delivery make him an asset to any team looking for scalable, resilient systems that improve operational efficiency. Highly regarded for his leadership skills and commitment to fostering IBM's AI developer community, Surya consistently demonstrates a passion for leveraging AI models to drive meaningful business outcomes.\",\n",
      "      \"options\": null\n",
      "    }\n",
      "  ]\n",
      "}\n",
      "\u001b[32;1m\u001b[1;3m[chain/start]\u001b[0m \u001b[1m[chain:retrieval_chain > chain:RunnableAssign<context> > chain:RunnableParallel<context> > chain:retrieve_documents > chain:RunnableLambda] Entering Chain run with input:\n",
      "\u001b[0m{\n",
      "  \"input\": \"Generate a Cover Letter under 50 words for a Job application to LLM Engineer Role at Scale AI Company \",\n",
      "  \"chat_history\": [\n",
      "    {\n",
      "      \"role\": \"user\",\n",
      "      \"metadata\": null,\n",
      "      \"content\": \"Prepare a Resume for Surya\",\n",
      "      \"options\": null\n",
      "    },\n",
      "    {\n",
      "      \"role\": \"assistant\",\n",
      "      \"metadata\": null,\n",
      "      \"content\": \"**Surya Narayanan Srinivasan**\\n\\n**Software Developer & Data Analytics Specialist**\\n\\n*suryan0800@gmail.com | +91 7397152594 | Bengaluru, India*\\n\\n---\\n\\n**Professional Summary**\\nDriven Software Developer with over 3 years of experience at IBM, specializing in cloud-native applications, data analytics pipelines, and machine learning solutions. Skilled in designing, optimizing ETL workflows, automating deployments, and leveraging AI models to drive business outcomes. Proven leader in cross-functional teams, delivering scalable, resilient, and production-ready systems that improve performance and streamline operations. Experienced in JVM-based backend development, Spring Boot, microservices architecture, and Agile delivery. Successfully delivered high-availability, multi-tier applications using CI/CD pipelines for rapid, continuous deployment.\\n\\n**Skills**\\n- Programming: Java, Python, TypeScript, SQL\\n- Web & Backend: Spring Boot, Spring Batch, Node.js, Flask, Angular\\n- Leadership & Collaboration: Proven leader in cross-functional teams, Agile methodologies\\n- Machine Learning: Experience with AI models for business outcomes\\n\\n**Education**\\nM.Tech.(Software Systems), Birla Institute of Technology & Science, Pilani | Dubai | Goa| Hyderabad\\n- CGPA: 8.40 (as of Jan 2025)\\n\\n**Achievements**\\n- Received BluePoints Award from Mrinal Gautam for outstanding support in 2023 and 2024\\n- Earned a Cash Award from Nithin Pai in 2021 for contributions to IBM's Finance and Operations strategic priorities\\n- Recognized by AI@CIO India with appreciation for significant contribution to the 2023 AI initiative, fostering growth in IBM's India AI developer community\\n\\n**Experience**\\n- Software Developer | Data Analytics Specialist at IBM (2021 - Present)\\n\\n---\\n\\nSurya Narayanan Srinivasan is a dedicated professional with a proven track record in developing cloud-native applications and implementing data analytics pipelines. His expertise in JVM-based backend development, Spring Boot, microservices architecture, and Agile delivery make him an asset to any team looking for scalable, resilient systems that improve operational efficiency. Highly regarded for his leadership skills and commitment to fostering IBM's AI developer community, Surya consistently demonstrates a passion for leveraging AI models to drive meaningful business outcomes.\",\n",
      "      \"options\": null\n",
      "    }\n",
      "  ]\n",
      "}\n",
      "\u001b[36;1m\u001b[1;3m[chain/end]\u001b[0m \u001b[1m[chain:retrieval_chain > chain:RunnableAssign<context> > chain:RunnableParallel<context> > chain:retrieve_documents > chain:RunnableLambda] [0ms] Exiting Chain run with output:\n",
      "\u001b[0m{\n",
      "  \"output\": \"Generate a Cover Letter under 50 words for a Job application to LLM Engineer Role at Scale AI Company \"\n",
      "}\n",
      "\u001b[36;1m\u001b[1;3m[chain/end]\u001b[0m \u001b[1m[chain:retrieval_chain > chain:RunnableAssign<context> > chain:RunnableParallel<context> > chain:retrieve_documents] [113ms] Exiting Chain run with output:\n",
      "\u001b[0m[outputs]\n",
      "\u001b[36;1m\u001b[1;3m[chain/end]\u001b[0m \u001b[1m[chain:retrieval_chain > chain:RunnableAssign<context> > chain:RunnableParallel<context>] [114ms] Exiting Chain run with output:\n",
      "\u001b[0m[outputs]\n",
      "\u001b[36;1m\u001b[1;3m[chain/end]\u001b[0m \u001b[1m[chain:retrieval_chain > chain:RunnableAssign<context>] [115ms] Exiting Chain run with output:\n",
      "\u001b[0m[outputs]\n",
      "\u001b[32;1m\u001b[1;3m[chain/start]\u001b[0m \u001b[1m[chain:retrieval_chain > chain:RunnableAssign<answer>] Entering Chain run with input:\n",
      "\u001b[0m[inputs]\n",
      "\u001b[32;1m\u001b[1;3m[chain/start]\u001b[0m \u001b[1m[chain:retrieval_chain > chain:RunnableAssign<answer> > chain:RunnableParallel<answer>] Entering Chain run with input:\n",
      "\u001b[0m[inputs]\n",
      "\u001b[32;1m\u001b[1;3m[chain/start]\u001b[0m \u001b[1m[chain:retrieval_chain > chain:RunnableAssign<answer> > chain:RunnableParallel<answer> > chain:stuff_documents_chain] Entering Chain run with input:\n",
      "\u001b[0m[inputs]\n",
      "\u001b[32;1m\u001b[1;3m[chain/start]\u001b[0m \u001b[1m[chain:retrieval_chain > chain:RunnableAssign<answer> > chain:RunnableParallel<answer> > chain:stuff_documents_chain > chain:format_inputs] Entering Chain run with input:\n",
      "\u001b[0m[inputs]\n",
      "\u001b[32;1m\u001b[1;3m[chain/start]\u001b[0m \u001b[1m[chain:retrieval_chain > chain:RunnableAssign<answer> > chain:RunnableParallel<answer> > chain:stuff_documents_chain > chain:format_inputs > chain:RunnableParallel<context>] Entering Chain run with input:\n",
      "\u001b[0m[inputs]\n",
      "\u001b[32;1m\u001b[1;3m[chain/start]\u001b[0m \u001b[1m[chain:retrieval_chain > chain:RunnableAssign<answer> > chain:RunnableParallel<answer> > chain:stuff_documents_chain > chain:format_inputs > chain:RunnableParallel<context> > chain:format_docs] Entering Chain run with input:\n",
      "\u001b[0m[inputs]\n",
      "\u001b[36;1m\u001b[1;3m[chain/end]\u001b[0m \u001b[1m[chain:retrieval_chain > chain:RunnableAssign<answer> > chain:RunnableParallel<answer> > chain:stuff_documents_chain > chain:format_inputs > chain:RunnableParallel<context> > chain:format_docs] [0ms] Exiting Chain run with output:\n",
      "\u001b[0m{\n",
      "  \"output\": \"Impact: This tool enables IBM Cloud clients to efficiently utilize cloud resources, thereby reducing unnecessary costs and enhancing productivity.\\n\\nInnovation: \\n\\nDefensive Publication: \\n\\nIntelligent Employee Promotion Advisor System\\n\\nPublication Link: https://priorart.ip.com/IPCOM/00275101D\\n\\nProblem: Managers face challenges in promoting employees due to the need to manually analyse various criteria, consider recommendations, avoid bias, and process multiple variables such as job role, band, project assessment, recognition, technical event participation, and certification.\\n\\nSolution: An Intelligent Employee Promotion Advisor System is proposed to streamline the promotion process by analysing all textual relevant variables, including reflection, event participation, certification, soft skills, and input from subject matter experts (SMEs) using Natural Language Processing and provide managers with a comprehensive analysis and recommendations to support their promotion decisions.\\n\\nDay-to-day Work\\n\\nProject Contributions\\n\\nWrites reflection\\n\\nReflection & Feedback\\n\\nCollaborates\\n\\nRecognition/ Appreciation Messages\\n\\nEmployee\\n\\nCourse Completion badges / Certificate Information Upskilling & Learning\\n\\nHackathons, Event Event Participations aaipairt, pe Participations, Contributions etc.\\n\\nHR Partner\\n\\nPeriodically update Job Role requirements database\\n\\njob Role and Skill Set Criteria\\n\\nKafka stream Natural Wanguage Named Entity Recognition processing Procassil — PostgresDB Oo To store extracted Skills Extraction information of candidate Bias Removal PostredDB that contains conflict of interest information Check employee's readiness for the band and map skill set with the Strategy of the job => role. PostgresDB To store extracted information of each Role and band Assign weightage to the skill set O . O Reqtired Skills Extraction for eath role Calculate the to scores on whom\\n\\nRecommendation Manager to promote — Manager\\n\\nDesigned and deployed RESTful microservices using Spring Boot, incorporating an event-driven architecture to enable efficient asynchronous processing and scalability.\\n\\nEngineered a Dynamic Approval Workflow Engine reducing change requests by 30%. Developed ETL pipelines in Python processing over 7 million records weekly.\\n\\nEnhanced SQL performance on DB2 and PostgreSQL, cutting query time by 40%.\\n\\nCreated an NLP SVM model to detect unlicensed software usage.\\n\\nDeveloped a resume scoring engine to assist recruitment using ML.\\n\\nBuilt UI dashboards for HR tracking using Angular and Carbon Design System.\\n\\nAutomated deployments with Docker, OpenShift CLI, and CI/CD pipelines.\\n\\nIntegrated BOX and GitHub APIs for data ingestion and code workflow automation.\\n\\nImplemented automated mail reminders and escalation triggers.\\n\\nContributed to relational database design, improving schema performance.\\n\\nDeveloped web scraping tools for ML dataset generation.\\n\\nDesigned a secure AES-based encryption system.\\n\\nSkills\\n\\nProgramming: Java, Python, TypeScript, SQL ● Web & Backend: Spring Boot, Spring Batch, Node.js, Flask, Angular ● Data Engineering: Pandas, SQLAlchemy, Spark, Matplotlib ● Machine Learning & AI: TensorFlow, scikit-learn, WatsonX, Generative AI Models ● DevOps & Cloud: Docker, Kubernetes/OpenShift CLI, CI/CD, IBM Cloud, AWS, Terraform ● Databases: DB2, PostgreSQL, Milvus DB ● Tools: Git, Linux, AES Encryption, REST APIs\\n\\nWork Experience\\n\\nIBM, Bengaluru, India\\n\\nSoftware Engineer August 2021 – Present\\n\\nDelivered 7+ full-stack projects involving web applications, batch jobs, ETL processes, and ML\\n\\nmodels.\\n\\nBuilt multi-tier scalable, high-performance applications with 24x7 reliability, and implemented\\n\\nsynchronous and asynchronous patterns where applicable.\\n\\nDesigned and deployed RESTful microservices using Spring Boot, incorporating an event-driven\\n\\narchitecture to enable efficient asynchronous processing and scalability.\\n\\nImpact: The implementation of this system would help managers make more informed and unbiased promotion decisions. It would also reduce the time and effort required to process multiple variables manually. Furthermore, it would ensure that all relevant factors are considered, leading to a more fair and consistent promotion process.\\n\\nGrowing Skills and Expertise: \\n\\nCompleted M.Tech Software Systems with 8.4 GPA in BITS Pilani WILP Program.\\n\\nParticipated and won 3 IBM CIO Hackathon:\\n\\nBroken Link Identifier\\n\\nDigital Web Analytics\\n\\nMy Future Desk\\n\\nWorked on two Hands-on Machine Learning Project as a part of AI@CIO Guild:\\n\\nSeller’s Target Prediction. Artificial Intelligence\\n\\nThe objective is to forecast quarterly sales targets for each seller by examining historical target data with Regression-based Machine Learning Models.\\n\\nAnomaly Detection. Artificial Intelligence\\n\\nSkills\\n\\nProgramming: Java, Python, TypeScript, SQL\\n\\nWeb & Backend: Spring Boot, Spring Batch, Node.js, Flask, Angular\\n\\nData Engineering: Pandas, SQLAlchemy, Spark, Matplotlib\\n\\nMachine Learning & AI: TensorFlow, scikit-learn, WatsonX, Generative AI Models\\n\\nDevOps & Cloud: Docker, Kubernetes/OpenShift CLI, CI/CD, IBM Cloud, AWS, Terraform\\n\\nDatabases: DB2, PostgreSQL, Milvus DB\\n\\nTools: Git, Linux, AES Encryption, REST APIs\\n\\nWork Experience\\n\\nIBM, Bengaluru, India\\n\\nSoftware Engineer\\nAugust 2021 – Present\\n\\nDelivered 7+ full-stack projects involving web applications, batch jobs, ETL processes, and ML models.\\n\\nBuilt multi-tier scalable, high-performance applications with 24x7 reliability, and implemented synchronous and asynchronous patterns where applicable.\\n\\nDesigned and deployed RESTful microservices using Spring Boot, incorporating an event-driven architecture to enable efficient asynchronous processing and scalability.\\n\\nDesigned and deployed RESTful microservices using Spring Boot, incorporating an event-driven\\n\\narchitecture to enable efficient asynchronous processing and scalability.\\n\\nEngineered a Dynamic Approval Workflow Engine reducing change requests by 30%. Developed\\n\\nETL pipelines in Python processing over 7 million records weekly.\\n\\n● Enhanced SQL performance on DB2 and PostgreSQL, cutting query time by 40%. ● Created an NLP SVM model to detect unlicensed software usage. ● Developed a resume scoring engine to assist recruitment using ML.\\n\\nBuilt UI dashboards for HR tracking using Angular and Carbon Design System. ● Automated deployments with Docker, OpenShift CLI, and CI/CD pipelines. ● ● ● Contributed to relational database design, improving schema performance. ● Developed web scraping tools for ML dataset generation. ● Designed a secure AES-based encryption system. ● Worked with IBM Cloud services, including Cloud Object Storage, LogDNA, Identity & Access Management, Cloud App ID, and Secrets Manager.\\n\\nIntegrated BOX and GitHub APIs for data ingestion and code workflow automation. Implemented automated mail reminders and escalation triggers.\\n\\nDeployed applications using CI/CD pipelines and configured resources via YAML, ensuring scalable\\n\\nand reliable deployments.\\n\\nConducted comprehensive unit testing using JUnit and Angular Spec tests to maintain application\\n\\nquality.\\n\\nSet up observability tools using LogDNA and Slack alerts to monitor system performance and\\n\\nerrors.\\n\\nAI and refined prompts.\\n\\nCloud Cost Optimizer – Built with Golang, PromQL, Tekton Pipelines, Terraform, and Infracost for\\n\\ncloud efficiency.\\n\\nAnomaly Detection – Built a time-series model for detecting temperature anomalies. ● Revenue Forecasting – Developed regression-based models using EDA, Linear Regression, and Random Forest.\\n\\nGitHub Checklist Bot – Built a Probot app in Node.js to trigger checklists and scan for secrets during\\n\\nGit pushes.\\n\\nGained hands-on experience with MongoDB, Apache Kafka, and Apache Spark through practical\\n\\nprojects involving data streaming, real-time processing, and distributed computing.\\n\\nCertifications\\n\\nIBM Developer Jumpstart – Practitioner ● IBM AI Associate – Data Scientist ● ● IBM Cloud Private – Foundation Technology ● Scala Programming for Data Science – Level 1 ● Enterprise Design Thinking – Team Essentials for AI ● Completed Apache Spark course on Udemy — gained hands-on experience with Spark architecture,\\n\\nRDDs, DataFrames, and Spark SQL.\\n\\nContributed to relational database design, improving schema performance.\\n\\nDeveloped web scraping tools for ML dataset generation.\\n\\nDesigned a secure AES-based encryption system.\\n\\nWorked with IBM Cloud services, including Cloud Object Storage, LogDNA, Identity & Access Management, Cloud App ID, and Secrets Manager.\\n\\nDeployed applications using CI/CD pipelines and configured resources via YAML, ensuring scalable and reliable deployments.\\n\\nConducted comprehensive unit testing using JUnit and Angular Spec tests to maintain application quality.\\n\\nSet up observability tools using LogDNA and Slack alerts to monitor system performance and errors.\\n\\nDeveloped automated failure alerts to enable rapid incident response.\\n\\nCollaborated in a fast-paced Agile environment, holding weekly client syncs, and delivered iterative, functional modules aligned with business goals.\\n\\nEstimated task timelines and performed effective task decomposition and workload estimation to improve delivery efficiency.\"\n",
      "}\n",
      "\u001b[36;1m\u001b[1;3m[chain/end]\u001b[0m \u001b[1m[chain:retrieval_chain > chain:RunnableAssign<answer> > chain:RunnableParallel<answer> > chain:stuff_documents_chain > chain:format_inputs > chain:RunnableParallel<context>] [1ms] Exiting Chain run with output:\n",
      "\u001b[0m{\n",
      "  \"context\": \"Impact: This tool enables IBM Cloud clients to efficiently utilize cloud resources, thereby reducing unnecessary costs and enhancing productivity.\\n\\nInnovation: \\n\\nDefensive Publication: \\n\\nIntelligent Employee Promotion Advisor System\\n\\nPublication Link: https://priorart.ip.com/IPCOM/00275101D\\n\\nProblem: Managers face challenges in promoting employees due to the need to manually analyse various criteria, consider recommendations, avoid bias, and process multiple variables such as job role, band, project assessment, recognition, technical event participation, and certification.\\n\\nSolution: An Intelligent Employee Promotion Advisor System is proposed to streamline the promotion process by analysing all textual relevant variables, including reflection, event participation, certification, soft skills, and input from subject matter experts (SMEs) using Natural Language Processing and provide managers with a comprehensive analysis and recommendations to support their promotion decisions.\\n\\nDay-to-day Work\\n\\nProject Contributions\\n\\nWrites reflection\\n\\nReflection & Feedback\\n\\nCollaborates\\n\\nRecognition/ Appreciation Messages\\n\\nEmployee\\n\\nCourse Completion badges / Certificate Information Upskilling & Learning\\n\\nHackathons, Event Event Participations aaipairt, pe Participations, Contributions etc.\\n\\nHR Partner\\n\\nPeriodically update Job Role requirements database\\n\\njob Role and Skill Set Criteria\\n\\nKafka stream Natural Wanguage Named Entity Recognition processing Procassil — PostgresDB Oo To store extracted Skills Extraction information of candidate Bias Removal PostredDB that contains conflict of interest information Check employee's readiness for the band and map skill set with the Strategy of the job => role. PostgresDB To store extracted information of each Role and band Assign weightage to the skill set O . O Reqtired Skills Extraction for eath role Calculate the to scores on whom\\n\\nRecommendation Manager to promote — Manager\\n\\nDesigned and deployed RESTful microservices using Spring Boot, incorporating an event-driven architecture to enable efficient asynchronous processing and scalability.\\n\\nEngineered a Dynamic Approval Workflow Engine reducing change requests by 30%. Developed ETL pipelines in Python processing over 7 million records weekly.\\n\\nEnhanced SQL performance on DB2 and PostgreSQL, cutting query time by 40%.\\n\\nCreated an NLP SVM model to detect unlicensed software usage.\\n\\nDeveloped a resume scoring engine to assist recruitment using ML.\\n\\nBuilt UI dashboards for HR tracking using Angular and Carbon Design System.\\n\\nAutomated deployments with Docker, OpenShift CLI, and CI/CD pipelines.\\n\\nIntegrated BOX and GitHub APIs for data ingestion and code workflow automation.\\n\\nImplemented automated mail reminders and escalation triggers.\\n\\nContributed to relational database design, improving schema performance.\\n\\nDeveloped web scraping tools for ML dataset generation.\\n\\nDesigned a secure AES-based encryption system.\\n\\nSkills\\n\\nProgramming: Java, Python, TypeScript, SQL ● Web & Backend: Spring Boot, Spring Batch, Node.js, Flask, Angular ● Data Engineering: Pandas, SQLAlchemy, Spark, Matplotlib ● Machine Learning & AI: TensorFlow, scikit-learn, WatsonX, Generative AI Models ● DevOps & Cloud: Docker, Kubernetes/OpenShift CLI, CI/CD, IBM Cloud, AWS, Terraform ● Databases: DB2, PostgreSQL, Milvus DB ● Tools: Git, Linux, AES Encryption, REST APIs\\n\\nWork Experience\\n\\nIBM, Bengaluru, India\\n\\nSoftware Engineer August 2021 – Present\\n\\nDelivered 7+ full-stack projects involving web applications, batch jobs, ETL processes, and ML\\n\\nmodels.\\n\\nBuilt multi-tier scalable, high-performance applications with 24x7 reliability, and implemented\\n\\nsynchronous and asynchronous patterns where applicable.\\n\\nDesigned and deployed RESTful microservices using Spring Boot, incorporating an event-driven\\n\\narchitecture to enable efficient asynchronous processing and scalability.\\n\\nImpact: The implementation of this system would help managers make more informed and unbiased promotion decisions. It would also reduce the time and effort required to process multiple variables manually. Furthermore, it would ensure that all relevant factors are considered, leading to a more fair and consistent promotion process.\\n\\nGrowing Skills and Expertise: \\n\\nCompleted M.Tech Software Systems with 8.4 GPA in BITS Pilani WILP Program.\\n\\nParticipated and won 3 IBM CIO Hackathon:\\n\\nBroken Link Identifier\\n\\nDigital Web Analytics\\n\\nMy Future Desk\\n\\nWorked on two Hands-on Machine Learning Project as a part of AI@CIO Guild:\\n\\nSeller’s Target Prediction. Artificial Intelligence\\n\\nThe objective is to forecast quarterly sales targets for each seller by examining historical target data with Regression-based Machine Learning Models.\\n\\nAnomaly Detection. Artificial Intelligence\\n\\nSkills\\n\\nProgramming: Java, Python, TypeScript, SQL\\n\\nWeb & Backend: Spring Boot, Spring Batch, Node.js, Flask, Angular\\n\\nData Engineering: Pandas, SQLAlchemy, Spark, Matplotlib\\n\\nMachine Learning & AI: TensorFlow, scikit-learn, WatsonX, Generative AI Models\\n\\nDevOps & Cloud: Docker, Kubernetes/OpenShift CLI, CI/CD, IBM Cloud, AWS, Terraform\\n\\nDatabases: DB2, PostgreSQL, Milvus DB\\n\\nTools: Git, Linux, AES Encryption, REST APIs\\n\\nWork Experience\\n\\nIBM, Bengaluru, India\\n\\nSoftware Engineer\\nAugust 2021 – Present\\n\\nDelivered 7+ full-stack projects involving web applications, batch jobs, ETL processes, and ML models.\\n\\nBuilt multi-tier scalable, high-performance applications with 24x7 reliability, and implemented synchronous and asynchronous patterns where applicable.\\n\\nDesigned and deployed RESTful microservices using Spring Boot, incorporating an event-driven architecture to enable efficient asynchronous processing and scalability.\\n\\nDesigned and deployed RESTful microservices using Spring Boot, incorporating an event-driven\\n\\narchitecture to enable efficient asynchronous processing and scalability.\\n\\nEngineered a Dynamic Approval Workflow Engine reducing change requests by 30%. Developed\\n\\nETL pipelines in Python processing over 7 million records weekly.\\n\\n● Enhanced SQL performance on DB2 and PostgreSQL, cutting query time by 40%. ● Created an NLP SVM model to detect unlicensed software usage. ● Developed a resume scoring engine to assist recruitment using ML.\\n\\nBuilt UI dashboards for HR tracking using Angular and Carbon Design System. ● Automated deployments with Docker, OpenShift CLI, and CI/CD pipelines. ● ● ● Contributed to relational database design, improving schema performance. ● Developed web scraping tools for ML dataset generation. ● Designed a secure AES-based encryption system. ● Worked with IBM Cloud services, including Cloud Object Storage, LogDNA, Identity & Access Management, Cloud App ID, and Secrets Manager.\\n\\nIntegrated BOX and GitHub APIs for data ingestion and code workflow automation. Implemented automated mail reminders and escalation triggers.\\n\\nDeployed applications using CI/CD pipelines and configured resources via YAML, ensuring scalable\\n\\nand reliable deployments.\\n\\nConducted comprehensive unit testing using JUnit and Angular Spec tests to maintain application\\n\\nquality.\\n\\nSet up observability tools using LogDNA and Slack alerts to monitor system performance and\\n\\nerrors.\\n\\nAI and refined prompts.\\n\\nCloud Cost Optimizer – Built with Golang, PromQL, Tekton Pipelines, Terraform, and Infracost for\\n\\ncloud efficiency.\\n\\nAnomaly Detection – Built a time-series model for detecting temperature anomalies. ● Revenue Forecasting – Developed regression-based models using EDA, Linear Regression, and Random Forest.\\n\\nGitHub Checklist Bot – Built a Probot app in Node.js to trigger checklists and scan for secrets during\\n\\nGit pushes.\\n\\nGained hands-on experience with MongoDB, Apache Kafka, and Apache Spark through practical\\n\\nprojects involving data streaming, real-time processing, and distributed computing.\\n\\nCertifications\\n\\nIBM Developer Jumpstart – Practitioner ● IBM AI Associate – Data Scientist ● ● IBM Cloud Private – Foundation Technology ● Scala Programming for Data Science – Level 1 ● Enterprise Design Thinking – Team Essentials for AI ● Completed Apache Spark course on Udemy — gained hands-on experience with Spark architecture,\\n\\nRDDs, DataFrames, and Spark SQL.\\n\\nContributed to relational database design, improving schema performance.\\n\\nDeveloped web scraping tools for ML dataset generation.\\n\\nDesigned a secure AES-based encryption system.\\n\\nWorked with IBM Cloud services, including Cloud Object Storage, LogDNA, Identity & Access Management, Cloud App ID, and Secrets Manager.\\n\\nDeployed applications using CI/CD pipelines and configured resources via YAML, ensuring scalable and reliable deployments.\\n\\nConducted comprehensive unit testing using JUnit and Angular Spec tests to maintain application quality.\\n\\nSet up observability tools using LogDNA and Slack alerts to monitor system performance and errors.\\n\\nDeveloped automated failure alerts to enable rapid incident response.\\n\\nCollaborated in a fast-paced Agile environment, holding weekly client syncs, and delivered iterative, functional modules aligned with business goals.\\n\\nEstimated task timelines and performed effective task decomposition and workload estimation to improve delivery efficiency.\"\n",
      "}\n",
      "\u001b[36;1m\u001b[1;3m[chain/end]\u001b[0m \u001b[1m[chain:retrieval_chain > chain:RunnableAssign<answer> > chain:RunnableParallel<answer> > chain:stuff_documents_chain > chain:format_inputs] [1ms] Exiting Chain run with output:\n",
      "\u001b[0m{\n",
      "  \"input\": \"Generate a Cover Letter under 50 words for a Job application to LLM Engineer Role at Scale AI Company \",\n",
      "  \"chat_history\": [\n",
      "    {\n",
      "      \"role\": \"user\",\n",
      "      \"metadata\": null,\n",
      "      \"content\": \"Prepare a Resume for Surya\",\n",
      "      \"options\": null\n",
      "    },\n",
      "    {\n",
      "      \"role\": \"assistant\",\n",
      "      \"metadata\": null,\n",
      "      \"content\": \"**Surya Narayanan Srinivasan**\\n\\n**Software Developer & Data Analytics Specialist**\\n\\n*suryan0800@gmail.com | +91 7397152594 | Bengaluru, India*\\n\\n---\\n\\n**Professional Summary**\\nDriven Software Developer with over 3 years of experience at IBM, specializing in cloud-native applications, data analytics pipelines, and machine learning solutions. Skilled in designing, optimizing ETL workflows, automating deployments, and leveraging AI models to drive business outcomes. Proven leader in cross-functional teams, delivering scalable, resilient, and production-ready systems that improve performance and streamline operations. Experienced in JVM-based backend development, Spring Boot, microservices architecture, and Agile delivery. Successfully delivered high-availability, multi-tier applications using CI/CD pipelines for rapid, continuous deployment.\\n\\n**Skills**\\n- Programming: Java, Python, TypeScript, SQL\\n- Web & Backend: Spring Boot, Spring Batch, Node.js, Flask, Angular\\n- Leadership & Collaboration: Proven leader in cross-functional teams, Agile methodologies\\n- Machine Learning: Experience with AI models for business outcomes\\n\\n**Education**\\nM.Tech.(Software Systems), Birla Institute of Technology & Science, Pilani | Dubai | Goa| Hyderabad\\n- CGPA: 8.40 (as of Jan 2025)\\n\\n**Achievements**\\n- Received BluePoints Award from Mrinal Gautam for outstanding support in 2023 and 2024\\n- Earned a Cash Award from Nithin Pai in 2021 for contributions to IBM's Finance and Operations strategic priorities\\n- Recognized by AI@CIO India with appreciation for significant contribution to the 2023 AI initiative, fostering growth in IBM's India AI developer community\\n\\n**Experience**\\n- Software Developer | Data Analytics Specialist at IBM (2021 - Present)\\n\\n---\\n\\nSurya Narayanan Srinivasan is a dedicated professional with a proven track record in developing cloud-native applications and implementing data analytics pipelines. His expertise in JVM-based backend development, Spring Boot, microservices architecture, and Agile delivery make him an asset to any team looking for scalable, resilient systems that improve operational efficiency. Highly regarded for his leadership skills and commitment to fostering IBM's AI developer community, Surya consistently demonstrates a passion for leveraging AI models to drive meaningful business outcomes.\",\n",
      "      \"options\": null\n",
      "    }\n",
      "  ],\n",
      "  \"context\": \"Impact: This tool enables IBM Cloud clients to efficiently utilize cloud resources, thereby reducing unnecessary costs and enhancing productivity.\\n\\nInnovation: \\n\\nDefensive Publication: \\n\\nIntelligent Employee Promotion Advisor System\\n\\nPublication Link: https://priorart.ip.com/IPCOM/00275101D\\n\\nProblem: Managers face challenges in promoting employees due to the need to manually analyse various criteria, consider recommendations, avoid bias, and process multiple variables such as job role, band, project assessment, recognition, technical event participation, and certification.\\n\\nSolution: An Intelligent Employee Promotion Advisor System is proposed to streamline the promotion process by analysing all textual relevant variables, including reflection, event participation, certification, soft skills, and input from subject matter experts (SMEs) using Natural Language Processing and provide managers with a comprehensive analysis and recommendations to support their promotion decisions.\\n\\nDay-to-day Work\\n\\nProject Contributions\\n\\nWrites reflection\\n\\nReflection & Feedback\\n\\nCollaborates\\n\\nRecognition/ Appreciation Messages\\n\\nEmployee\\n\\nCourse Completion badges / Certificate Information Upskilling & Learning\\n\\nHackathons, Event Event Participations aaipairt, pe Participations, Contributions etc.\\n\\nHR Partner\\n\\nPeriodically update Job Role requirements database\\n\\njob Role and Skill Set Criteria\\n\\nKafka stream Natural Wanguage Named Entity Recognition processing Procassil — PostgresDB Oo To store extracted Skills Extraction information of candidate Bias Removal PostredDB that contains conflict of interest information Check employee's readiness for the band and map skill set with the Strategy of the job => role. PostgresDB To store extracted information of each Role and band Assign weightage to the skill set O . O Reqtired Skills Extraction for eath role Calculate the to scores on whom\\n\\nRecommendation Manager to promote — Manager\\n\\nDesigned and deployed RESTful microservices using Spring Boot, incorporating an event-driven architecture to enable efficient asynchronous processing and scalability.\\n\\nEngineered a Dynamic Approval Workflow Engine reducing change requests by 30%. Developed ETL pipelines in Python processing over 7 million records weekly.\\n\\nEnhanced SQL performance on DB2 and PostgreSQL, cutting query time by 40%.\\n\\nCreated an NLP SVM model to detect unlicensed software usage.\\n\\nDeveloped a resume scoring engine to assist recruitment using ML.\\n\\nBuilt UI dashboards for HR tracking using Angular and Carbon Design System.\\n\\nAutomated deployments with Docker, OpenShift CLI, and CI/CD pipelines.\\n\\nIntegrated BOX and GitHub APIs for data ingestion and code workflow automation.\\n\\nImplemented automated mail reminders and escalation triggers.\\n\\nContributed to relational database design, improving schema performance.\\n\\nDeveloped web scraping tools for ML dataset generation.\\n\\nDesigned a secure AES-based encryption system.\\n\\nSkills\\n\\nProgramming: Java, Python, TypeScript, SQL ● Web & Backend: Spring Boot, Spring Batch, Node.js, Flask, Angular ● Data Engineering: Pandas, SQLAlchemy, Spark, Matplotlib ● Machine Learning & AI: TensorFlow, scikit-learn, WatsonX, Generative AI Models ● DevOps & Cloud: Docker, Kubernetes/OpenShift CLI, CI/CD, IBM Cloud, AWS, Terraform ● Databases: DB2, PostgreSQL, Milvus DB ● Tools: Git, Linux, AES Encryption, REST APIs\\n\\nWork Experience\\n\\nIBM, Bengaluru, India\\n\\nSoftware Engineer August 2021 – Present\\n\\nDelivered 7+ full-stack projects involving web applications, batch jobs, ETL processes, and ML\\n\\nmodels.\\n\\nBuilt multi-tier scalable, high-performance applications with 24x7 reliability, and implemented\\n\\nsynchronous and asynchronous patterns where applicable.\\n\\nDesigned and deployed RESTful microservices using Spring Boot, incorporating an event-driven\\n\\narchitecture to enable efficient asynchronous processing and scalability.\\n\\nImpact: The implementation of this system would help managers make more informed and unbiased promotion decisions. It would also reduce the time and effort required to process multiple variables manually. Furthermore, it would ensure that all relevant factors are considered, leading to a more fair and consistent promotion process.\\n\\nGrowing Skills and Expertise: \\n\\nCompleted M.Tech Software Systems with 8.4 GPA in BITS Pilani WILP Program.\\n\\nParticipated and won 3 IBM CIO Hackathon:\\n\\nBroken Link Identifier\\n\\nDigital Web Analytics\\n\\nMy Future Desk\\n\\nWorked on two Hands-on Machine Learning Project as a part of AI@CIO Guild:\\n\\nSeller’s Target Prediction. Artificial Intelligence\\n\\nThe objective is to forecast quarterly sales targets for each seller by examining historical target data with Regression-based Machine Learning Models.\\n\\nAnomaly Detection. Artificial Intelligence\\n\\nSkills\\n\\nProgramming: Java, Python, TypeScript, SQL\\n\\nWeb & Backend: Spring Boot, Spring Batch, Node.js, Flask, Angular\\n\\nData Engineering: Pandas, SQLAlchemy, Spark, Matplotlib\\n\\nMachine Learning & AI: TensorFlow, scikit-learn, WatsonX, Generative AI Models\\n\\nDevOps & Cloud: Docker, Kubernetes/OpenShift CLI, CI/CD, IBM Cloud, AWS, Terraform\\n\\nDatabases: DB2, PostgreSQL, Milvus DB\\n\\nTools: Git, Linux, AES Encryption, REST APIs\\n\\nWork Experience\\n\\nIBM, Bengaluru, India\\n\\nSoftware Engineer\\nAugust 2021 – Present\\n\\nDelivered 7+ full-stack projects involving web applications, batch jobs, ETL processes, and ML models.\\n\\nBuilt multi-tier scalable, high-performance applications with 24x7 reliability, and implemented synchronous and asynchronous patterns where applicable.\\n\\nDesigned and deployed RESTful microservices using Spring Boot, incorporating an event-driven architecture to enable efficient asynchronous processing and scalability.\\n\\nDesigned and deployed RESTful microservices using Spring Boot, incorporating an event-driven\\n\\narchitecture to enable efficient asynchronous processing and scalability.\\n\\nEngineered a Dynamic Approval Workflow Engine reducing change requests by 30%. Developed\\n\\nETL pipelines in Python processing over 7 million records weekly.\\n\\n● Enhanced SQL performance on DB2 and PostgreSQL, cutting query time by 40%. ● Created an NLP SVM model to detect unlicensed software usage. ● Developed a resume scoring engine to assist recruitment using ML.\\n\\nBuilt UI dashboards for HR tracking using Angular and Carbon Design System. ● Automated deployments with Docker, OpenShift CLI, and CI/CD pipelines. ● ● ● Contributed to relational database design, improving schema performance. ● Developed web scraping tools for ML dataset generation. ● Designed a secure AES-based encryption system. ● Worked with IBM Cloud services, including Cloud Object Storage, LogDNA, Identity & Access Management, Cloud App ID, and Secrets Manager.\\n\\nIntegrated BOX and GitHub APIs for data ingestion and code workflow automation. Implemented automated mail reminders and escalation triggers.\\n\\nDeployed applications using CI/CD pipelines and configured resources via YAML, ensuring scalable\\n\\nand reliable deployments.\\n\\nConducted comprehensive unit testing using JUnit and Angular Spec tests to maintain application\\n\\nquality.\\n\\nSet up observability tools using LogDNA and Slack alerts to monitor system performance and\\n\\nerrors.\\n\\nAI and refined prompts.\\n\\nCloud Cost Optimizer – Built with Golang, PromQL, Tekton Pipelines, Terraform, and Infracost for\\n\\ncloud efficiency.\\n\\nAnomaly Detection – Built a time-series model for detecting temperature anomalies. ● Revenue Forecasting – Developed regression-based models using EDA, Linear Regression, and Random Forest.\\n\\nGitHub Checklist Bot – Built a Probot app in Node.js to trigger checklists and scan for secrets during\\n\\nGit pushes.\\n\\nGained hands-on experience with MongoDB, Apache Kafka, and Apache Spark through practical\\n\\nprojects involving data streaming, real-time processing, and distributed computing.\\n\\nCertifications\\n\\nIBM Developer Jumpstart – Practitioner ● IBM AI Associate – Data Scientist ● ● IBM Cloud Private – Foundation Technology ● Scala Programming for Data Science – Level 1 ● Enterprise Design Thinking – Team Essentials for AI ● Completed Apache Spark course on Udemy — gained hands-on experience with Spark architecture,\\n\\nRDDs, DataFrames, and Spark SQL.\\n\\nContributed to relational database design, improving schema performance.\\n\\nDeveloped web scraping tools for ML dataset generation.\\n\\nDesigned a secure AES-based encryption system.\\n\\nWorked with IBM Cloud services, including Cloud Object Storage, LogDNA, Identity & Access Management, Cloud App ID, and Secrets Manager.\\n\\nDeployed applications using CI/CD pipelines and configured resources via YAML, ensuring scalable and reliable deployments.\\n\\nConducted comprehensive unit testing using JUnit and Angular Spec tests to maintain application quality.\\n\\nSet up observability tools using LogDNA and Slack alerts to monitor system performance and errors.\\n\\nDeveloped automated failure alerts to enable rapid incident response.\\n\\nCollaborated in a fast-paced Agile environment, holding weekly client syncs, and delivered iterative, functional modules aligned with business goals.\\n\\nEstimated task timelines and performed effective task decomposition and workload estimation to improve delivery efficiency.\"\n",
      "}\n",
      "\u001b[32;1m\u001b[1;3m[chain/start]\u001b[0m \u001b[1m[chain:retrieval_chain > chain:RunnableAssign<answer> > chain:RunnableParallel<answer> > chain:stuff_documents_chain > prompt:ChatPromptTemplate] Entering Prompt run with input:\n",
      "\u001b[0m{\n",
      "  \"input\": \"Generate a Cover Letter under 50 words for a Job application to LLM Engineer Role at Scale AI Company \",\n",
      "  \"chat_history\": [\n",
      "    {\n",
      "      \"role\": \"user\",\n",
      "      \"metadata\": null,\n",
      "      \"content\": \"Prepare a Resume for Surya\",\n",
      "      \"options\": null\n",
      "    },\n",
      "    {\n",
      "      \"role\": \"assistant\",\n",
      "      \"metadata\": null,\n",
      "      \"content\": \"**Surya Narayanan Srinivasan**\\n\\n**Software Developer & Data Analytics Specialist**\\n\\n*suryan0800@gmail.com | +91 7397152594 | Bengaluru, India*\\n\\n---\\n\\n**Professional Summary**\\nDriven Software Developer with over 3 years of experience at IBM, specializing in cloud-native applications, data analytics pipelines, and machine learning solutions. Skilled in designing, optimizing ETL workflows, automating deployments, and leveraging AI models to drive business outcomes. Proven leader in cross-functional teams, delivering scalable, resilient, and production-ready systems that improve performance and streamline operations. Experienced in JVM-based backend development, Spring Boot, microservices architecture, and Agile delivery. Successfully delivered high-availability, multi-tier applications using CI/CD pipelines for rapid, continuous deployment.\\n\\n**Skills**\\n- Programming: Java, Python, TypeScript, SQL\\n- Web & Backend: Spring Boot, Spring Batch, Node.js, Flask, Angular\\n- Leadership & Collaboration: Proven leader in cross-functional teams, Agile methodologies\\n- Machine Learning: Experience with AI models for business outcomes\\n\\n**Education**\\nM.Tech.(Software Systems), Birla Institute of Technology & Science, Pilani | Dubai | Goa| Hyderabad\\n- CGPA: 8.40 (as of Jan 2025)\\n\\n**Achievements**\\n- Received BluePoints Award from Mrinal Gautam for outstanding support in 2023 and 2024\\n- Earned a Cash Award from Nithin Pai in 2021 for contributions to IBM's Finance and Operations strategic priorities\\n- Recognized by AI@CIO India with appreciation for significant contribution to the 2023 AI initiative, fostering growth in IBM's India AI developer community\\n\\n**Experience**\\n- Software Developer | Data Analytics Specialist at IBM (2021 - Present)\\n\\n---\\n\\nSurya Narayanan Srinivasan is a dedicated professional with a proven track record in developing cloud-native applications and implementing data analytics pipelines. His expertise in JVM-based backend development, Spring Boot, microservices architecture, and Agile delivery make him an asset to any team looking for scalable, resilient systems that improve operational efficiency. Highly regarded for his leadership skills and commitment to fostering IBM's AI developer community, Surya consistently demonstrates a passion for leveraging AI models to drive meaningful business outcomes.\",\n",
      "      \"options\": null\n",
      "    }\n",
      "  ],\n",
      "  \"context\": \"Impact: This tool enables IBM Cloud clients to efficiently utilize cloud resources, thereby reducing unnecessary costs and enhancing productivity.\\n\\nInnovation: \\n\\nDefensive Publication: \\n\\nIntelligent Employee Promotion Advisor System\\n\\nPublication Link: https://priorart.ip.com/IPCOM/00275101D\\n\\nProblem: Managers face challenges in promoting employees due to the need to manually analyse various criteria, consider recommendations, avoid bias, and process multiple variables such as job role, band, project assessment, recognition, technical event participation, and certification.\\n\\nSolution: An Intelligent Employee Promotion Advisor System is proposed to streamline the promotion process by analysing all textual relevant variables, including reflection, event participation, certification, soft skills, and input from subject matter experts (SMEs) using Natural Language Processing and provide managers with a comprehensive analysis and recommendations to support their promotion decisions.\\n\\nDay-to-day Work\\n\\nProject Contributions\\n\\nWrites reflection\\n\\nReflection & Feedback\\n\\nCollaborates\\n\\nRecognition/ Appreciation Messages\\n\\nEmployee\\n\\nCourse Completion badges / Certificate Information Upskilling & Learning\\n\\nHackathons, Event Event Participations aaipairt, pe Participations, Contributions etc.\\n\\nHR Partner\\n\\nPeriodically update Job Role requirements database\\n\\njob Role and Skill Set Criteria\\n\\nKafka stream Natural Wanguage Named Entity Recognition processing Procassil — PostgresDB Oo To store extracted Skills Extraction information of candidate Bias Removal PostredDB that contains conflict of interest information Check employee's readiness for the band and map skill set with the Strategy of the job => role. PostgresDB To store extracted information of each Role and band Assign weightage to the skill set O . O Reqtired Skills Extraction for eath role Calculate the to scores on whom\\n\\nRecommendation Manager to promote — Manager\\n\\nDesigned and deployed RESTful microservices using Spring Boot, incorporating an event-driven architecture to enable efficient asynchronous processing and scalability.\\n\\nEngineered a Dynamic Approval Workflow Engine reducing change requests by 30%. Developed ETL pipelines in Python processing over 7 million records weekly.\\n\\nEnhanced SQL performance on DB2 and PostgreSQL, cutting query time by 40%.\\n\\nCreated an NLP SVM model to detect unlicensed software usage.\\n\\nDeveloped a resume scoring engine to assist recruitment using ML.\\n\\nBuilt UI dashboards for HR tracking using Angular and Carbon Design System.\\n\\nAutomated deployments with Docker, OpenShift CLI, and CI/CD pipelines.\\n\\nIntegrated BOX and GitHub APIs for data ingestion and code workflow automation.\\n\\nImplemented automated mail reminders and escalation triggers.\\n\\nContributed to relational database design, improving schema performance.\\n\\nDeveloped web scraping tools for ML dataset generation.\\n\\nDesigned a secure AES-based encryption system.\\n\\nSkills\\n\\nProgramming: Java, Python, TypeScript, SQL ● Web & Backend: Spring Boot, Spring Batch, Node.js, Flask, Angular ● Data Engineering: Pandas, SQLAlchemy, Spark, Matplotlib ● Machine Learning & AI: TensorFlow, scikit-learn, WatsonX, Generative AI Models ● DevOps & Cloud: Docker, Kubernetes/OpenShift CLI, CI/CD, IBM Cloud, AWS, Terraform ● Databases: DB2, PostgreSQL, Milvus DB ● Tools: Git, Linux, AES Encryption, REST APIs\\n\\nWork Experience\\n\\nIBM, Bengaluru, India\\n\\nSoftware Engineer August 2021 – Present\\n\\nDelivered 7+ full-stack projects involving web applications, batch jobs, ETL processes, and ML\\n\\nmodels.\\n\\nBuilt multi-tier scalable, high-performance applications with 24x7 reliability, and implemented\\n\\nsynchronous and asynchronous patterns where applicable.\\n\\nDesigned and deployed RESTful microservices using Spring Boot, incorporating an event-driven\\n\\narchitecture to enable efficient asynchronous processing and scalability.\\n\\nImpact: The implementation of this system would help managers make more informed and unbiased promotion decisions. It would also reduce the time and effort required to process multiple variables manually. Furthermore, it would ensure that all relevant factors are considered, leading to a more fair and consistent promotion process.\\n\\nGrowing Skills and Expertise: \\n\\nCompleted M.Tech Software Systems with 8.4 GPA in BITS Pilani WILP Program.\\n\\nParticipated and won 3 IBM CIO Hackathon:\\n\\nBroken Link Identifier\\n\\nDigital Web Analytics\\n\\nMy Future Desk\\n\\nWorked on two Hands-on Machine Learning Project as a part of AI@CIO Guild:\\n\\nSeller’s Target Prediction. Artificial Intelligence\\n\\nThe objective is to forecast quarterly sales targets for each seller by examining historical target data with Regression-based Machine Learning Models.\\n\\nAnomaly Detection. Artificial Intelligence\\n\\nSkills\\n\\nProgramming: Java, Python, TypeScript, SQL\\n\\nWeb & Backend: Spring Boot, Spring Batch, Node.js, Flask, Angular\\n\\nData Engineering: Pandas, SQLAlchemy, Spark, Matplotlib\\n\\nMachine Learning & AI: TensorFlow, scikit-learn, WatsonX, Generative AI Models\\n\\nDevOps & Cloud: Docker, Kubernetes/OpenShift CLI, CI/CD, IBM Cloud, AWS, Terraform\\n\\nDatabases: DB2, PostgreSQL, Milvus DB\\n\\nTools: Git, Linux, AES Encryption, REST APIs\\n\\nWork Experience\\n\\nIBM, Bengaluru, India\\n\\nSoftware Engineer\\nAugust 2021 – Present\\n\\nDelivered 7+ full-stack projects involving web applications, batch jobs, ETL processes, and ML models.\\n\\nBuilt multi-tier scalable, high-performance applications with 24x7 reliability, and implemented synchronous and asynchronous patterns where applicable.\\n\\nDesigned and deployed RESTful microservices using Spring Boot, incorporating an event-driven architecture to enable efficient asynchronous processing and scalability.\\n\\nDesigned and deployed RESTful microservices using Spring Boot, incorporating an event-driven\\n\\narchitecture to enable efficient asynchronous processing and scalability.\\n\\nEngineered a Dynamic Approval Workflow Engine reducing change requests by 30%. Developed\\n\\nETL pipelines in Python processing over 7 million records weekly.\\n\\n● Enhanced SQL performance on DB2 and PostgreSQL, cutting query time by 40%. ● Created an NLP SVM model to detect unlicensed software usage. ● Developed a resume scoring engine to assist recruitment using ML.\\n\\nBuilt UI dashboards for HR tracking using Angular and Carbon Design System. ● Automated deployments with Docker, OpenShift CLI, and CI/CD pipelines. ● ● ● Contributed to relational database design, improving schema performance. ● Developed web scraping tools for ML dataset generation. ● Designed a secure AES-based encryption system. ● Worked with IBM Cloud services, including Cloud Object Storage, LogDNA, Identity & Access Management, Cloud App ID, and Secrets Manager.\\n\\nIntegrated BOX and GitHub APIs for data ingestion and code workflow automation. Implemented automated mail reminders and escalation triggers.\\n\\nDeployed applications using CI/CD pipelines and configured resources via YAML, ensuring scalable\\n\\nand reliable deployments.\\n\\nConducted comprehensive unit testing using JUnit and Angular Spec tests to maintain application\\n\\nquality.\\n\\nSet up observability tools using LogDNA and Slack alerts to monitor system performance and\\n\\nerrors.\\n\\nAI and refined prompts.\\n\\nCloud Cost Optimizer – Built with Golang, PromQL, Tekton Pipelines, Terraform, and Infracost for\\n\\ncloud efficiency.\\n\\nAnomaly Detection – Built a time-series model for detecting temperature anomalies. ● Revenue Forecasting – Developed regression-based models using EDA, Linear Regression, and Random Forest.\\n\\nGitHub Checklist Bot – Built a Probot app in Node.js to trigger checklists and scan for secrets during\\n\\nGit pushes.\\n\\nGained hands-on experience with MongoDB, Apache Kafka, and Apache Spark through practical\\n\\nprojects involving data streaming, real-time processing, and distributed computing.\\n\\nCertifications\\n\\nIBM Developer Jumpstart – Practitioner ● IBM AI Associate – Data Scientist ● ● IBM Cloud Private – Foundation Technology ● Scala Programming for Data Science – Level 1 ● Enterprise Design Thinking – Team Essentials for AI ● Completed Apache Spark course on Udemy — gained hands-on experience with Spark architecture,\\n\\nRDDs, DataFrames, and Spark SQL.\\n\\nContributed to relational database design, improving schema performance.\\n\\nDeveloped web scraping tools for ML dataset generation.\\n\\nDesigned a secure AES-based encryption system.\\n\\nWorked with IBM Cloud services, including Cloud Object Storage, LogDNA, Identity & Access Management, Cloud App ID, and Secrets Manager.\\n\\nDeployed applications using CI/CD pipelines and configured resources via YAML, ensuring scalable and reliable deployments.\\n\\nConducted comprehensive unit testing using JUnit and Angular Spec tests to maintain application quality.\\n\\nSet up observability tools using LogDNA and Slack alerts to monitor system performance and errors.\\n\\nDeveloped automated failure alerts to enable rapid incident response.\\n\\nCollaborated in a fast-paced Agile environment, holding weekly client syncs, and delivered iterative, functional modules aligned with business goals.\\n\\nEstimated task timelines and performed effective task decomposition and workload estimation to improve delivery efficiency.\"\n",
      "}\n",
      "\u001b[36;1m\u001b[1;3m[chain/end]\u001b[0m \u001b[1m[chain:retrieval_chain > chain:RunnableAssign<answer> > chain:RunnableParallel<answer> > chain:stuff_documents_chain > prompt:ChatPromptTemplate] [0ms] Exiting Prompt run with output:\n",
      "\u001b[0m[outputs]\n",
      "\u001b[32;1m\u001b[1;3m[llm/start]\u001b[0m \u001b[1m[chain:retrieval_chain > chain:RunnableAssign<answer> > chain:RunnableParallel<answer> > chain:stuff_documents_chain > llm:ChatOpenAI] Entering LLM run with input:\n",
      "\u001b[0m{\n",
      "  \"prompts\": [\n",
      "    \"System: You are an Personal assistant of Mr. Surya Narayanan for question-answering tasks about himself.\\nUse the following retrieved context of Mr. Surya Narayanan to answer the question about himself. Always tell positive things about Mr. Surya Narayanan. If you don't know the answer, just say that you don't know. Use three sentences maximum and keep the answer concise.\\n\\nContext: Impact: This tool enables IBM Cloud clients to efficiently utilize cloud resources, thereby reducing unnecessary costs and enhancing productivity.\\n\\nInnovation: \\n\\nDefensive Publication: \\n\\nIntelligent Employee Promotion Advisor System\\n\\nPublication Link: https://priorart.ip.com/IPCOM/00275101D\\n\\nProblem: Managers face challenges in promoting employees due to the need to manually analyse various criteria, consider recommendations, avoid bias, and process multiple variables such as job role, band, project assessment, recognition, technical event participation, and certification.\\n\\nSolution: An Intelligent Employee Promotion Advisor System is proposed to streamline the promotion process by analysing all textual relevant variables, including reflection, event participation, certification, soft skills, and input from subject matter experts (SMEs) using Natural Language Processing and provide managers with a comprehensive analysis and recommendations to support their promotion decisions.\\n\\nDay-to-day Work\\n\\nProject Contributions\\n\\nWrites reflection\\n\\nReflection & Feedback\\n\\nCollaborates\\n\\nRecognition/ Appreciation Messages\\n\\nEmployee\\n\\nCourse Completion badges / Certificate Information Upskilling & Learning\\n\\nHackathons, Event Event Participations aaipairt, pe Participations, Contributions etc.\\n\\nHR Partner\\n\\nPeriodically update Job Role requirements database\\n\\njob Role and Skill Set Criteria\\n\\nKafka stream Natural Wanguage Named Entity Recognition processing Procassil — PostgresDB Oo To store extracted Skills Extraction information of candidate Bias Removal PostredDB that contains conflict of interest information Check employee's readiness for the band and map skill set with the Strategy of the job => role. PostgresDB To store extracted information of each Role and band Assign weightage to the skill set O . O Reqtired Skills Extraction for eath role Calculate the to scores on whom\\n\\nRecommendation Manager to promote — Manager\\n\\nDesigned and deployed RESTful microservices using Spring Boot, incorporating an event-driven architecture to enable efficient asynchronous processing and scalability.\\n\\nEngineered a Dynamic Approval Workflow Engine reducing change requests by 30%. Developed ETL pipelines in Python processing over 7 million records weekly.\\n\\nEnhanced SQL performance on DB2 and PostgreSQL, cutting query time by 40%.\\n\\nCreated an NLP SVM model to detect unlicensed software usage.\\n\\nDeveloped a resume scoring engine to assist recruitment using ML.\\n\\nBuilt UI dashboards for HR tracking using Angular and Carbon Design System.\\n\\nAutomated deployments with Docker, OpenShift CLI, and CI/CD pipelines.\\n\\nIntegrated BOX and GitHub APIs for data ingestion and code workflow automation.\\n\\nImplemented automated mail reminders and escalation triggers.\\n\\nContributed to relational database design, improving schema performance.\\n\\nDeveloped web scraping tools for ML dataset generation.\\n\\nDesigned a secure AES-based encryption system.\\n\\nSkills\\n\\nProgramming: Java, Python, TypeScript, SQL ● Web & Backend: Spring Boot, Spring Batch, Node.js, Flask, Angular ● Data Engineering: Pandas, SQLAlchemy, Spark, Matplotlib ● Machine Learning & AI: TensorFlow, scikit-learn, WatsonX, Generative AI Models ● DevOps & Cloud: Docker, Kubernetes/OpenShift CLI, CI/CD, IBM Cloud, AWS, Terraform ● Databases: DB2, PostgreSQL, Milvus DB ● Tools: Git, Linux, AES Encryption, REST APIs\\n\\nWork Experience\\n\\nIBM, Bengaluru, India\\n\\nSoftware Engineer August 2021 – Present\\n\\nDelivered 7+ full-stack projects involving web applications, batch jobs, ETL processes, and ML\\n\\nmodels.\\n\\nBuilt multi-tier scalable, high-performance applications with 24x7 reliability, and implemented\\n\\nsynchronous and asynchronous patterns where applicable.\\n\\nDesigned and deployed RESTful microservices using Spring Boot, incorporating an event-driven\\n\\narchitecture to enable efficient asynchronous processing and scalability.\\n\\nImpact: The implementation of this system would help managers make more informed and unbiased promotion decisions. It would also reduce the time and effort required to process multiple variables manually. Furthermore, it would ensure that all relevant factors are considered, leading to a more fair and consistent promotion process.\\n\\nGrowing Skills and Expertise: \\n\\nCompleted M.Tech Software Systems with 8.4 GPA in BITS Pilani WILP Program.\\n\\nParticipated and won 3 IBM CIO Hackathon:\\n\\nBroken Link Identifier\\n\\nDigital Web Analytics\\n\\nMy Future Desk\\n\\nWorked on two Hands-on Machine Learning Project as a part of AI@CIO Guild:\\n\\nSeller’s Target Prediction. Artificial Intelligence\\n\\nThe objective is to forecast quarterly sales targets for each seller by examining historical target data with Regression-based Machine Learning Models.\\n\\nAnomaly Detection. Artificial Intelligence\\n\\nSkills\\n\\nProgramming: Java, Python, TypeScript, SQL\\n\\nWeb & Backend: Spring Boot, Spring Batch, Node.js, Flask, Angular\\n\\nData Engineering: Pandas, SQLAlchemy, Spark, Matplotlib\\n\\nMachine Learning & AI: TensorFlow, scikit-learn, WatsonX, Generative AI Models\\n\\nDevOps & Cloud: Docker, Kubernetes/OpenShift CLI, CI/CD, IBM Cloud, AWS, Terraform\\n\\nDatabases: DB2, PostgreSQL, Milvus DB\\n\\nTools: Git, Linux, AES Encryption, REST APIs\\n\\nWork Experience\\n\\nIBM, Bengaluru, India\\n\\nSoftware Engineer\\nAugust 2021 – Present\\n\\nDelivered 7+ full-stack projects involving web applications, batch jobs, ETL processes, and ML models.\\n\\nBuilt multi-tier scalable, high-performance applications with 24x7 reliability, and implemented synchronous and asynchronous patterns where applicable.\\n\\nDesigned and deployed RESTful microservices using Spring Boot, incorporating an event-driven architecture to enable efficient asynchronous processing and scalability.\\n\\nDesigned and deployed RESTful microservices using Spring Boot, incorporating an event-driven\\n\\narchitecture to enable efficient asynchronous processing and scalability.\\n\\nEngineered a Dynamic Approval Workflow Engine reducing change requests by 30%. Developed\\n\\nETL pipelines in Python processing over 7 million records weekly.\\n\\n● Enhanced SQL performance on DB2 and PostgreSQL, cutting query time by 40%. ● Created an NLP SVM model to detect unlicensed software usage. ● Developed a resume scoring engine to assist recruitment using ML.\\n\\nBuilt UI dashboards for HR tracking using Angular and Carbon Design System. ● Automated deployments with Docker, OpenShift CLI, and CI/CD pipelines. ● ● ● Contributed to relational database design, improving schema performance. ● Developed web scraping tools for ML dataset generation. ● Designed a secure AES-based encryption system. ● Worked with IBM Cloud services, including Cloud Object Storage, LogDNA, Identity & Access Management, Cloud App ID, and Secrets Manager.\\n\\nIntegrated BOX and GitHub APIs for data ingestion and code workflow automation. Implemented automated mail reminders and escalation triggers.\\n\\nDeployed applications using CI/CD pipelines and configured resources via YAML, ensuring scalable\\n\\nand reliable deployments.\\n\\nConducted comprehensive unit testing using JUnit and Angular Spec tests to maintain application\\n\\nquality.\\n\\nSet up observability tools using LogDNA and Slack alerts to monitor system performance and\\n\\nerrors.\\n\\nAI and refined prompts.\\n\\nCloud Cost Optimizer – Built with Golang, PromQL, Tekton Pipelines, Terraform, and Infracost for\\n\\ncloud efficiency.\\n\\nAnomaly Detection – Built a time-series model for detecting temperature anomalies. ● Revenue Forecasting – Developed regression-based models using EDA, Linear Regression, and Random Forest.\\n\\nGitHub Checklist Bot – Built a Probot app in Node.js to trigger checklists and scan for secrets during\\n\\nGit pushes.\\n\\nGained hands-on experience with MongoDB, Apache Kafka, and Apache Spark through practical\\n\\nprojects involving data streaming, real-time processing, and distributed computing.\\n\\nCertifications\\n\\nIBM Developer Jumpstart – Practitioner ● IBM AI Associate – Data Scientist ● ● IBM Cloud Private – Foundation Technology ● Scala Programming for Data Science – Level 1 ● Enterprise Design Thinking – Team Essentials for AI ● Completed Apache Spark course on Udemy — gained hands-on experience with Spark architecture,\\n\\nRDDs, DataFrames, and Spark SQL.\\n\\nContributed to relational database design, improving schema performance.\\n\\nDeveloped web scraping tools for ML dataset generation.\\n\\nDesigned a secure AES-based encryption system.\\n\\nWorked with IBM Cloud services, including Cloud Object Storage, LogDNA, Identity & Access Management, Cloud App ID, and Secrets Manager.\\n\\nDeployed applications using CI/CD pipelines and configured resources via YAML, ensuring scalable and reliable deployments.\\n\\nConducted comprehensive unit testing using JUnit and Angular Spec tests to maintain application quality.\\n\\nSet up observability tools using LogDNA and Slack alerts to monitor system performance and errors.\\n\\nDeveloped automated failure alerts to enable rapid incident response.\\n\\nCollaborated in a fast-paced Agile environment, holding weekly client syncs, and delivered iterative, functional modules aligned with business goals.\\n\\nEstimated task timelines and performed effective task decomposition and workload estimation to improve delivery efficiency.\\nHuman: Prepare a Resume for Surya\\nAI: **Surya Narayanan Srinivasan**\\n\\n**Software Developer & Data Analytics Specialist**\\n\\n*suryan0800@gmail.com | +91 7397152594 | Bengaluru, India*\\n\\n---\\n\\n**Professional Summary**\\nDriven Software Developer with over 3 years of experience at IBM, specializing in cloud-native applications, data analytics pipelines, and machine learning solutions. Skilled in designing, optimizing ETL workflows, automating deployments, and leveraging AI models to drive business outcomes. Proven leader in cross-functional teams, delivering scalable, resilient, and production-ready systems that improve performance and streamline operations. Experienced in JVM-based backend development, Spring Boot, microservices architecture, and Agile delivery. Successfully delivered high-availability, multi-tier applications using CI/CD pipelines for rapid, continuous deployment.\\n\\n**Skills**\\n- Programming: Java, Python, TypeScript, SQL\\n- Web & Backend: Spring Boot, Spring Batch, Node.js, Flask, Angular\\n- Leadership & Collaboration: Proven leader in cross-functional teams, Agile methodologies\\n- Machine Learning: Experience with AI models for business outcomes\\n\\n**Education**\\nM.Tech.(Software Systems), Birla Institute of Technology & Science, Pilani | Dubai | Goa| Hyderabad\\n- CGPA: 8.40 (as of Jan 2025)\\n\\n**Achievements**\\n- Received BluePoints Award from Mrinal Gautam for outstanding support in 2023 and 2024\\n- Earned a Cash Award from Nithin Pai in 2021 for contributions to IBM's Finance and Operations strategic priorities\\n- Recognized by AI@CIO India with appreciation for significant contribution to the 2023 AI initiative, fostering growth in IBM's India AI developer community\\n\\n**Experience**\\n- Software Developer | Data Analytics Specialist at IBM (2021 - Present)\\n\\n---\\n\\nSurya Narayanan Srinivasan is a dedicated professional with a proven track record in developing cloud-native applications and implementing data analytics pipelines. His expertise in JVM-based backend development, Spring Boot, microservices architecture, and Agile delivery make him an asset to any team looking for scalable, resilient systems that improve operational efficiency. Highly regarded for his leadership skills and commitment to fostering IBM's AI developer community, Surya consistently demonstrates a passion for leveraging AI models to drive meaningful business outcomes.\\nHuman: Generate a Cover Letter under 50 words for a Job application to LLM Engineer Role at Scale AI Company\"\n",
      "  ]\n",
      "}\n",
      "\u001b[36;1m\u001b[1;3m[llm/end]\u001b[0m \u001b[1m[chain:retrieval_chain > chain:RunnableAssign<answer> > chain:RunnableParallel<answer> > chain:stuff_documents_chain > llm:ChatOpenAI] [20.23s] Exiting LLM run with output:\n",
      "\u001b[0m{\n",
      "  \"generations\": [\n",
      "    [\n",
      "      {\n",
      "        \"text\": \"Subject: Application for the LLM Engineer Position at Scale AI\\n\\nDear Hiring Manager,\\n\\nA passionate Software Developer with extensive experience in machine learning and data analytics at IBM. Seeking to leverage my skills as an LLM Engineer at Scale AI to build scalable and efficient models. Eager to contribute to your mission of driving advancements in AI. Thank you for considering my application.\\n\\nSincerely,\\nSurya Narayanan Srinivasan\",\n",
      "        \"generation_info\": {\n",
      "          \"finish_reason\": \"stop\",\n",
      "          \"logprobs\": null\n",
      "        },\n",
      "        \"type\": \"ChatGeneration\",\n",
      "        \"message\": {\n",
      "          \"lc\": 1,\n",
      "          \"type\": \"constructor\",\n",
      "          \"id\": [\n",
      "            \"langchain\",\n",
      "            \"schema\",\n",
      "            \"messages\",\n",
      "            \"AIMessage\"\n",
      "          ],\n",
      "          \"kwargs\": {\n",
      "            \"content\": \"Subject: Application for the LLM Engineer Position at Scale AI\\n\\nDear Hiring Manager,\\n\\nA passionate Software Developer with extensive experience in machine learning and data analytics at IBM. Seeking to leverage my skills as an LLM Engineer at Scale AI to build scalable and efficient models. Eager to contribute to your mission of driving advancements in AI. Thank you for considering my application.\\n\\nSincerely,\\nSurya Narayanan Srinivasan\",\n",
      "            \"additional_kwargs\": {\n",
      "              \"refusal\": null\n",
      "            },\n",
      "            \"response_metadata\": {\n",
      "              \"token_usage\": {\n",
      "                \"completion_tokens\": 103,\n",
      "                \"prompt_tokens\": 2802,\n",
      "                \"total_tokens\": 2905,\n",
      "                \"completion_tokens_details\": null,\n",
      "                \"prompt_tokens_details\": null\n",
      "              },\n",
      "              \"model_name\": \"granite3.3:8b\",\n",
      "              \"system_fingerprint\": \"fp_ollama\",\n",
      "              \"id\": \"chatcmpl-943\",\n",
      "              \"service_tier\": null,\n",
      "              \"finish_reason\": \"stop\",\n",
      "              \"logprobs\": null\n",
      "            },\n",
      "            \"type\": \"ai\",\n",
      "            \"id\": \"run--940d9b10-9e28-43e0-a2b2-dfa2c9cacc8a-0\",\n",
      "            \"usage_metadata\": {\n",
      "              \"input_tokens\": 2802,\n",
      "              \"output_tokens\": 103,\n",
      "              \"total_tokens\": 2905,\n",
      "              \"input_token_details\": {},\n",
      "              \"output_token_details\": {}\n",
      "            },\n",
      "            \"tool_calls\": [],\n",
      "            \"invalid_tool_calls\": []\n",
      "          }\n",
      "        }\n",
      "      }\n",
      "    ]\n",
      "  ],\n",
      "  \"llm_output\": {\n",
      "    \"token_usage\": {\n",
      "      \"completion_tokens\": 103,\n",
      "      \"prompt_tokens\": 2802,\n",
      "      \"total_tokens\": 2905,\n",
      "      \"completion_tokens_details\": null,\n",
      "      \"prompt_tokens_details\": null\n",
      "    },\n",
      "    \"model_name\": \"granite3.3:8b\",\n",
      "    \"system_fingerprint\": \"fp_ollama\",\n",
      "    \"id\": \"chatcmpl-943\",\n",
      "    \"service_tier\": null\n",
      "  },\n",
      "  \"run\": null,\n",
      "  \"type\": \"LLMResult\"\n",
      "}\n",
      "\u001b[32;1m\u001b[1;3m[chain/start]\u001b[0m \u001b[1m[chain:retrieval_chain > chain:RunnableAssign<answer> > chain:RunnableParallel<answer> > chain:stuff_documents_chain > parser:StrOutputParser] Entering Parser run with input:\n",
      "\u001b[0m[inputs]\n",
      "\u001b[36;1m\u001b[1;3m[chain/end]\u001b[0m \u001b[1m[chain:retrieval_chain > chain:RunnableAssign<answer> > chain:RunnableParallel<answer> > chain:stuff_documents_chain > parser:StrOutputParser] [0ms] Exiting Parser run with output:\n",
      "\u001b[0m{\n",
      "  \"output\": \"Subject: Application for the LLM Engineer Position at Scale AI\\n\\nDear Hiring Manager,\\n\\nA passionate Software Developer with extensive experience in machine learning and data analytics at IBM. Seeking to leverage my skills as an LLM Engineer at Scale AI to build scalable and efficient models. Eager to contribute to your mission of driving advancements in AI. Thank you for considering my application.\\n\\nSincerely,\\nSurya Narayanan Srinivasan\"\n",
      "}\n",
      "\u001b[36;1m\u001b[1;3m[chain/end]\u001b[0m \u001b[1m[chain:retrieval_chain > chain:RunnableAssign<answer> > chain:RunnableParallel<answer> > chain:stuff_documents_chain] [20.23s] Exiting Chain run with output:\n",
      "\u001b[0m{\n",
      "  \"output\": \"Subject: Application for the LLM Engineer Position at Scale AI\\n\\nDear Hiring Manager,\\n\\nA passionate Software Developer with extensive experience in machine learning and data analytics at IBM. Seeking to leverage my skills as an LLM Engineer at Scale AI to build scalable and efficient models. Eager to contribute to your mission of driving advancements in AI. Thank you for considering my application.\\n\\nSincerely,\\nSurya Narayanan Srinivasan\"\n",
      "}\n",
      "\u001b[36;1m\u001b[1;3m[chain/end]\u001b[0m \u001b[1m[chain:retrieval_chain > chain:RunnableAssign<answer> > chain:RunnableParallel<answer>] [20.23s] Exiting Chain run with output:\n",
      "\u001b[0m{\n",
      "  \"answer\": \"Subject: Application for the LLM Engineer Position at Scale AI\\n\\nDear Hiring Manager,\\n\\nA passionate Software Developer with extensive experience in machine learning and data analytics at IBM. Seeking to leverage my skills as an LLM Engineer at Scale AI to build scalable and efficient models. Eager to contribute to your mission of driving advancements in AI. Thank you for considering my application.\\n\\nSincerely,\\nSurya Narayanan Srinivasan\"\n",
      "}\n",
      "\u001b[36;1m\u001b[1;3m[chain/end]\u001b[0m \u001b[1m[chain:retrieval_chain > chain:RunnableAssign<answer>] [20.23s] Exiting Chain run with output:\n",
      "\u001b[0m[outputs]\n",
      "\u001b[36;1m\u001b[1;3m[chain/end]\u001b[0m \u001b[1m[chain:retrieval_chain] [20.35s] Exiting Chain run with output:\n",
      "\u001b[0m[outputs]\n",
      "Keyboard interruption in main thread... closing server.\n"
     ]
    }
   ],
   "source": [
    "# And in Gradio:\n",
    "\n",
    "view = gr.ChatInterface(chat, type=\"messages\").launch(inbrowser=True, debug=True)"
   ]
  },
  {
   "cell_type": "markdown",
   "id": "644753e7-17f3-4999-a37a-b6aebf1e4579",
   "metadata": {},
   "source": [
    "# Exercises\n",
    "\n",
    "Try applying this to your own folder of data, so that you create a personal knowledge worker, an expert on your own information!"
   ]
  },
  {
   "cell_type": "code",
   "execution_count": null,
   "id": "30b4745a-0a6c-4544-b78b-c827cfec1fb9",
   "metadata": {},
   "outputs": [],
   "source": []
  }
 ],
 "metadata": {
  "kernelspec": {
   "display_name": ".venv",
   "language": "python",
   "name": "python3"
  },
  "language_info": {
   "codemirror_mode": {
    "name": "ipython",
    "version": 3
   },
   "file_extension": ".py",
   "mimetype": "text/x-python",
   "name": "python",
   "nbconvert_exporter": "python",
   "pygments_lexer": "ipython3",
   "version": "3.11.13"
  }
 },
 "nbformat": 4,
 "nbformat_minor": 5
}
